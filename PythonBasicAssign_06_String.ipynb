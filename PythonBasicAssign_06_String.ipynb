{
  "nbformat": 4,
  "nbformat_minor": 0,
  "metadata": {
    "colab": {
      "name": "PythonBasicAssign_06_String.ipynb",
      "provenance": []
    },
    "kernelspec": {
      "name": "python3",
      "display_name": "Python 3"
    },
    "language_info": {
      "name": "python"
    }
  },
  "cells": [
    {
      "cell_type": "markdown",
      "source": [
        "###Python Basic Assignment 06\n"
      ],
      "metadata": {
        "id": "U4iVSjDOw3CC"
      }
    },
    {
      "cell_type": "markdown",
      "source": [
        "**1. What are escape characters, and how do you use them?**"
      ],
      "metadata": {
        "id": "NeMbJzgpw7u8"
      }
    },
    {
      "cell_type": "markdown",
      "source": [
        "Escape sequences allow us to include special characters in strings. To do this, simply add a backslash \\ before the character we want to escape."
      ],
      "metadata": {
        "id": "lvXZB3aNxIWG"
      }
    },
    {
      "cell_type": "code",
      "source": [
        "s = \"Hi, This is \\\"FSDS\\\" course \"  #escape character \\\" is used here to avoid error\n",
        "s"
      ],
      "metadata": {
        "colab": {
          "base_uri": "https://localhost:8080/",
          "height": 35
        },
        "id": "nc4DVBRcw-Jt",
        "outputId": "b567c03f-7a6d-4ea2-9cb9-2fe999dce833"
      },
      "execution_count": 2,
      "outputs": [
        {
          "output_type": "execute_result",
          "data": {
            "application/vnd.google.colaboratory.intrinsic+json": {
              "type": "string"
            },
            "text/plain": [
              "'Hi, This is \"FSDS\" course '"
            ]
          },
          "metadata": {},
          "execution_count": 2
        }
      ]
    },
    {
      "cell_type": "markdown",
      "source": [
        "Also, we use for other purpose like newline, tab, carriage return and many more."
      ],
      "metadata": {
        "id": "F2-I4WrVx4_L"
      }
    },
    {
      "cell_type": "code",
      "execution_count": 4,
      "metadata": {
        "colab": {
          "base_uri": "https://localhost:8080/"
        },
        "id": "gVKi6uhSwxvM",
        "outputId": "eec7b670-6c92-46ae-85d3-2c3bd1dd32e4"
      },
      "outputs": [
        {
          "output_type": "stream",
          "name": "stdout",
          "text": [
            "This is line1\n",
            "This is line2\n",
            "This is line3\n"
          ]
        }
      ],
      "source": [
        "s =\"This is line1\\nThis is line2\\nThis is line3\"\n",
        "print(s)"
      ]
    },
    {
      "cell_type": "markdown",
      "source": [
        "For directory path:"
      ],
      "metadata": {
        "id": "0dUf8zzuyXQs"
      }
    },
    {
      "cell_type": "code",
      "source": [
        "print(\"C:\\\\Users\\\\Pat\\\\Desktop\")"
      ],
      "metadata": {
        "colab": {
          "base_uri": "https://localhost:8080/"
        },
        "id": "tYEGDwTSyZMM",
        "outputId": "bfbb51dd-2c45-4412-9b8f-24cce644cc50"
      },
      "execution_count": 5,
      "outputs": [
        {
          "output_type": "stream",
          "name": "stdout",
          "text": [
            "C:\\Users\\Pat\\Desktop\n"
          ]
        }
      ]
    },
    {
      "cell_type": "markdown",
      "source": [
        "**2. What do the escape characters n and t stand for?**"
      ],
      "metadata": {
        "id": "sW4rfZ4qyiE5"
      }
    },
    {
      "cell_type": "code",
      "source": [
        "s =\"This is line1\\nThis is line2\\nThis is line3\" #\\n for new line\n",
        "s1 = \"This is line1\\t-this is how tab work\" #\\t for adding tab indent\n",
        "print(s)\n",
        "print(s1)"
      ],
      "metadata": {
        "colab": {
          "base_uri": "https://localhost:8080/"
        },
        "id": "dANGIFh0yjNl",
        "outputId": "274c53e0-aae4-4fbb-ffcc-6a4b0a19379a"
      },
      "execution_count": 7,
      "outputs": [
        {
          "output_type": "stream",
          "name": "stdout",
          "text": [
            "This is line1\n",
            "This is line2\n",
            "This is line3\n",
            "This is line1\t-this is how tab work\n"
          ]
        }
      ]
    },
    {
      "cell_type": "markdown",
      "source": [
        "**3. What is the way to include backslash characters in a string?**"
      ],
      "metadata": {
        "id": "B6uLObJXzIDQ"
      }
    },
    {
      "cell_type": "code",
      "source": [
        "print(\"C:\\\\Users\\\\Pat\\\\Desktop\")  #By adding \\ with the escape character \\"
      ],
      "metadata": {
        "colab": {
          "base_uri": "https://localhost:8080/"
        },
        "id": "6lWCBfpmzJVC",
        "outputId": "2b529c92-a8d4-49d4-e704-ddf28a35558f"
      },
      "execution_count": 8,
      "outputs": [
        {
          "output_type": "stream",
          "name": "stdout",
          "text": [
            "C:\\Users\\Pat\\Desktop\n"
          ]
        }
      ]
    },
    {
      "cell_type": "markdown",
      "source": [
        "**4. The string \"Howl's Moving Castle\" is a correct value. Why isn't the single quote character in the word Howl's not escaped a problem?**\n"
      ],
      "metadata": {
        "id": "WmLJ3icJzSA3"
      }
    },
    {
      "cell_type": "markdown",
      "source": [
        "In Python we can either use '' or \"\" for string. Hence, if we declare string in double quotes \"\" then we can add single quotes'' in between and vice versa."
      ],
      "metadata": {
        "id": "BHkZGb-wzYle"
      }
    },
    {
      "cell_type": "code",
      "source": [
        "s1=\"Howl's Moving Castle\"\n",
        "print(s1)\n",
        "s2='Howl\"s Moving Castle'\n",
        "print(s2)"
      ],
      "metadata": {
        "colab": {
          "base_uri": "https://localhost:8080/"
        },
        "id": "3PqIhzcpzT6G",
        "outputId": "d04885f0-affe-4ade-b29d-fda1d6a6833d"
      },
      "execution_count": 9,
      "outputs": [
        {
          "output_type": "stream",
          "name": "stdout",
          "text": [
            "Howl's Moving Castle\n",
            "Howl\"s Moving Castle\n"
          ]
        }
      ]
    },
    {
      "cell_type": "markdown",
      "source": [
        "**5. How do you write a string of newlines if you don't want to use the n character?**"
      ],
      "metadata": {
        "id": "j0_I4koez0Mu"
      }
    },
    {
      "cell_type": "code",
      "source": [
        "#1.\n",
        "s1=\"\"\"This is line1\n",
        "This is line2\n",
        "This is line3\"\"\"\n",
        "\n",
        "print(s1)"
      ],
      "metadata": {
        "colab": {
          "base_uri": "https://localhost:8080/"
        },
        "id": "BeFpOw3G0gb8",
        "outputId": "f2fd368f-9bcb-4e37-8ad3-2d265bf07974"
      },
      "execution_count": 11,
      "outputs": [
        {
          "output_type": "stream",
          "name": "stdout",
          "text": [
            "This is line1\n",
            "This is line2\n",
            "This is line3\n"
          ]
        }
      ]
    },
    {
      "cell_type": "code",
      "source": [
        "#2.\n",
        "print(\"This is line1\")\n",
        "print(\"This is line2\")\n",
        "print(\"This is line3\")"
      ],
      "metadata": {
        "colab": {
          "base_uri": "https://localhost:8080/"
        },
        "id": "5AzuAFMt06zx",
        "outputId": "d61a1330-3aa7-41e9-921c-79416d4ae8fa"
      },
      "execution_count": 12,
      "outputs": [
        {
          "output_type": "stream",
          "name": "stdout",
          "text": [
            "This is line1\n",
            "This is line2\n",
            "This is line3\n"
          ]
        }
      ]
    },
    {
      "cell_type": "markdown",
      "source": [
        "**6. What are the values of the given expressions?**\n",
        "\n",
        "\n",
        "\n",
        "```\n",
        "# This is formatted as \n",
        "'Hello, world!'[1]\n",
        "'Hello, world!'[0:5]\n",
        "'Hello, world!'[:5]\n",
        "'Hello, world!'[3:]\n",
        "\n",
        "```\n",
        "\n"
      ],
      "metadata": {
        "id": "YGWWJvLK1Bky"
      }
    },
    {
      "cell_type": "code",
      "source": [
        "'Hello, world!'[1] #e will get print at index 1"
      ],
      "metadata": {
        "colab": {
          "base_uri": "https://localhost:8080/",
          "height": 35
        },
        "id": "dx00dj0F1Nfu",
        "outputId": "a39161f2-22ef-4289-db5f-e8e4130fb16e"
      },
      "execution_count": 13,
      "outputs": [
        {
          "output_type": "execute_result",
          "data": {
            "application/vnd.google.colaboratory.intrinsic+json": {
              "type": "string"
            },
            "text/plain": [
              "'e'"
            ]
          },
          "metadata": {},
          "execution_count": 13
        }
      ]
    },
    {
      "cell_type": "code",
      "source": [
        "'Hello, world!'[0:5] #Hello will get print start from index 0 to 4"
      ],
      "metadata": {
        "colab": {
          "base_uri": "https://localhost:8080/",
          "height": 35
        },
        "id": "ZRhOR_AM1NcO",
        "outputId": "e43099af-8902-4009-95df-a610d2545620"
      },
      "execution_count": 14,
      "outputs": [
        {
          "output_type": "execute_result",
          "data": {
            "application/vnd.google.colaboratory.intrinsic+json": {
              "type": "string"
            },
            "text/plain": [
              "'Hello'"
            ]
          },
          "metadata": {},
          "execution_count": 14
        }
      ]
    },
    {
      "cell_type": "code",
      "source": [
        "'Hello, world!'[:5] #same as above start from 0 to 4"
      ],
      "metadata": {
        "colab": {
          "base_uri": "https://localhost:8080/",
          "height": 35
        },
        "id": "-jjb6Qgt1imB",
        "outputId": "cb101fa5-9a89-41fc-9bc2-b60db8db616b"
      },
      "execution_count": 15,
      "outputs": [
        {
          "output_type": "execute_result",
          "data": {
            "application/vnd.google.colaboratory.intrinsic+json": {
              "type": "string"
            },
            "text/plain": [
              "'Hello'"
            ]
          },
          "metadata": {},
          "execution_count": 15
        }
      ]
    },
    {
      "cell_type": "code",
      "source": [
        "'Hello, world!'[3:] #lo, world! starting from index 3 to the last one"
      ],
      "metadata": {
        "colab": {
          "base_uri": "https://localhost:8080/",
          "height": 35
        },
        "id": "t2xUjo7Z1nkf",
        "outputId": "a61f26a3-d785-4409-e1be-1f34326872f2"
      },
      "execution_count": 16,
      "outputs": [
        {
          "output_type": "execute_result",
          "data": {
            "application/vnd.google.colaboratory.intrinsic+json": {
              "type": "string"
            },
            "text/plain": [
              "'lo, world!'"
            ]
          },
          "metadata": {},
          "execution_count": 16
        }
      ]
    },
    {
      "cell_type": "markdown",
      "source": [
        "**7. What are the values of the following expressions?**\n",
        "\n",
        "\n",
        "\n",
        "```\n",
        "# This is formatted as code\n",
        "'Hello'.upper()\n",
        "'Hello'.upper().isupper()\n",
        "'Hello'.upper().lower()\n",
        "\n",
        "```\n",
        "\n"
      ],
      "metadata": {
        "id": "6v5YODha1Lot"
      }
    },
    {
      "cell_type": "code",
      "source": [
        "'Hello'.upper() #a new string will return having all characters in upper case"
      ],
      "metadata": {
        "colab": {
          "base_uri": "https://localhost:8080/",
          "height": 35
        },
        "id": "bA5cGmpQ15XD",
        "outputId": "f46c8cfc-d9a8-4839-b63c-60c3e5c4dada"
      },
      "execution_count": 17,
      "outputs": [
        {
          "output_type": "execute_result",
          "data": {
            "application/vnd.google.colaboratory.intrinsic+json": {
              "type": "string"
            },
            "text/plain": [
              "'HELLO'"
            ]
          },
          "metadata": {},
          "execution_count": 17
        }
      ]
    },
    {
      "cell_type": "code",
      "source": [
        "'Hello'.upper().isupper() #return True as all characters are in upper case\n"
      ],
      "metadata": {
        "colab": {
          "base_uri": "https://localhost:8080/"
        },
        "id": "1_OTVrNI2BeJ",
        "outputId": "429202e2-6ce1-40e3-894f-2006252cff58"
      },
      "execution_count": 18,
      "outputs": [
        {
          "output_type": "execute_result",
          "data": {
            "text/plain": [
              "True"
            ]
          },
          "metadata": {},
          "execution_count": 18
        }
      ]
    },
    {
      "cell_type": "code",
      "source": [
        "'Hello'.upper().lower() #a new string will return having all characters in lower case"
      ],
      "metadata": {
        "colab": {
          "base_uri": "https://localhost:8080/",
          "height": 35
        },
        "id": "Ua7A33W22IUJ",
        "outputId": "a2f523c2-2cba-42e2-d519-cd573ff2906a"
      },
      "execution_count": 19,
      "outputs": [
        {
          "output_type": "execute_result",
          "data": {
            "application/vnd.google.colaboratory.intrinsic+json": {
              "type": "string"
            },
            "text/plain": [
              "'hello'"
            ]
          },
          "metadata": {},
          "execution_count": 19
        }
      ]
    },
    {
      "cell_type": "markdown",
      "source": [
        "**8. What are the values of the following expressions?**\n",
        "\n",
        "\n",
        "\n",
        "```\n",
        "# This is formatted as code\n",
        "'Remember, remember, the fifth of July.'.split()\n",
        "'-'.join('There can only one.'.split())\n",
        "\n",
        "```\n",
        "\n"
      ],
      "metadata": {
        "id": "G9ORbPpS2PhB"
      }
    },
    {
      "cell_type": "code",
      "source": [
        "'Remember, remember, the fifth of July.'.split() #split the string based on \" \" in between by default\n"
      ],
      "metadata": {
        "colab": {
          "base_uri": "https://localhost:8080/"
        },
        "id": "4-nshmBW2Tkr",
        "outputId": "0adc6300-78ef-487c-b5af-288793092a4d"
      },
      "execution_count": 20,
      "outputs": [
        {
          "output_type": "execute_result",
          "data": {
            "text/plain": [
              "['Remember,', 'remember,', 'the', 'fifth', 'of', 'July.']"
            ]
          },
          "metadata": {},
          "execution_count": 20
        }
      ]
    },
    {
      "cell_type": "code",
      "source": [
        "'-'.join('There can only one.'.split()) # first it split the string based on \" \" and result store in list; now one by one \"-\" will get added to each element because of join"
      ],
      "metadata": {
        "colab": {
          "base_uri": "https://localhost:8080/",
          "height": 35
        },
        "id": "_-L8UlAA2kfH",
        "outputId": "7a5ae01d-963b-4033-dcb2-f5ec2f386127"
      },
      "execution_count": 21,
      "outputs": [
        {
          "output_type": "execute_result",
          "data": {
            "application/vnd.google.colaboratory.intrinsic+json": {
              "type": "string"
            },
            "text/plain": [
              "'There-can-only-one.'"
            ]
          },
          "metadata": {},
          "execution_count": 21
        }
      ]
    },
    {
      "cell_type": "markdown",
      "source": [
        "**9. What are the methods for right-justifying, left-justifying, and centering a string?**\n",
        "\n",
        "1) Center() - This function aligns the string according to the width specified and fills remaining space of line with blank space if ‘ fillchr ‘ argument is not passed.\n",
        "\n",
        "Syntax :\n",
        "center( len, fillchr )\n",
        "\n",
        "Parameters :\n",
        "len : The width of string to expand it.\n",
        "fillchr (optional): The character to fill in remaining space.\n",
        "\n",
        "Return Value :\n",
        "The resultant center aligned string expanding the given width.\n",
        "\n",
        "\n",
        "2) ljust() -This function aligns the string according to the width specified and fills remaining space of line with blank space if ‘ fillchr ‘ argument is not passed.\n",
        "\n",
        "Syntax :\n",
        "ljust( len, fillchr )\n",
        "\n",
        "Parameters :\n",
        "len : The width of string to expand it.\n",
        "fillchr (optional): The character to fill in remaining space.\n",
        "\n",
        "Return Value :\n",
        "The resultant left aligned string expanding the given width.\n",
        "\n",
        "\n",
        "3) rlust() - This function aligns the string according to the width specified and fills remaining space of line with blank space if ‘ fillchr ‘ argument is not passed.\n",
        "\n",
        "Syntax :\n",
        "rjust( len, fillchr )\n",
        "\n",
        "Parameters :\n",
        "len : The width of string to expand it.\n",
        "fillchr (optional) : The character to fill in remaining space.\n",
        "\n",
        "Return Value :\n",
        "The resultant right aligned string expanding the given width.\n"
      ],
      "metadata": {
        "id": "lHcsqxR43A4L"
      }
    },
    {
      "cell_type": "code",
      "source": [
        "cstr = \"This is sample string\"\n",
        "  \n",
        "print (\"The original string is : \\n\", cstr, \"\\n\")\n",
        "print (\"The center aligned string is : \")\n",
        "print (cstr.center(100), \"\\n\")\n",
        "  \n",
        "print (\"Center aligned string with fillchr: \")\n",
        "print (cstr.center(100, '#'))"
      ],
      "metadata": {
        "colab": {
          "base_uri": "https://localhost:8080/"
        },
        "id": "RLPTbgJP3vkA",
        "outputId": "7c724189-9822-4e20-89f1-e879e26b6bf7"
      },
      "execution_count": 26,
      "outputs": [
        {
          "output_type": "stream",
          "name": "stdout",
          "text": [
            "The original string is : \n",
            " This is sample string \n",
            "\n",
            "The center aligned string is : \n",
            "                                       This is sample string                                         \n",
            "\n",
            "Center aligned string with fillchr: \n",
            "#######################################This is sample string########################################\n"
          ]
        }
      ]
    },
    {
      "cell_type": "code",
      "source": [
        "lstr = \"This is sample string\"\n",
        "  \n",
        "print (\"The original string is : \\n\", lstr, \"\\n\")\n",
        "print (\"The left justified aligned string is : \")\n",
        "print (lstr.ljust(100), \"\\n\")\n",
        "  \n",
        "print (\"left justified aligned string with fillchr: \")\n",
        "print (lstr.ljust(100, '#'))"
      ],
      "metadata": {
        "colab": {
          "base_uri": "https://localhost:8080/"
        },
        "id": "yvgtC-lW4Q22",
        "outputId": "7d35c226-7d9f-4b08-c920-67a9a4c10e83"
      },
      "execution_count": 27,
      "outputs": [
        {
          "output_type": "stream",
          "name": "stdout",
          "text": [
            "The original string is : \n",
            " This is sample string \n",
            "\n",
            "The left justified aligned string is : \n",
            "This is sample string                                                                                \n",
            "\n",
            "left justified aligned string with fillchr: \n",
            "This is sample string###############################################################################\n"
          ]
        }
      ]
    },
    {
      "cell_type": "code",
      "source": [
        "rstr = \"This is sample string\"\n",
        "  \n",
        "print (\"The original string is : \\n\", rstr, \"\\n\")\n",
        "print (\"The right justified aligned string is : \")\n",
        "print (rstr.rjust(100), \"\\n\")\n",
        "  \n",
        "print (\"right justified aligned string with fillchr: \")\n",
        "print (rstr.rjust(100, '#'))"
      ],
      "metadata": {
        "colab": {
          "base_uri": "https://localhost:8080/"
        },
        "id": "DI_xIhxM4Z9i",
        "outputId": "d9a48141-0b34-4786-bc56-5331a7d8fae0"
      },
      "execution_count": 28,
      "outputs": [
        {
          "output_type": "stream",
          "name": "stdout",
          "text": [
            "The original string is : \n",
            " This is sample string \n",
            "\n",
            "The right justified aligned string is : \n",
            "                                                                               This is sample string \n",
            "\n",
            "right justified aligned string with fillchr: \n",
            "###############################################################################This is sample string\n"
          ]
        }
      ]
    }
  ]
}