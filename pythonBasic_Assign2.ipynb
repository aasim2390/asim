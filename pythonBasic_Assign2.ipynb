{
  "nbformat": 4,
  "nbformat_minor": 0,
  "metadata": {
    "colab": {
      "name": "pythonBasic_Assign2.ipynb",
      "provenance": []
    },
    "kernelspec": {
      "name": "python3",
      "display_name": "Python 3"
    },
    "language_info": {
      "name": "python"
    }
  },
  "cells": [
    {
      "cell_type": "markdown",
      "source": [
        "###Python Basic Assignment2 "
      ],
      "metadata": {
        "id": "1Io9jTFIeJds"
      }
    },
    {
      "cell_type": "markdown",
      "source": [
        "**1.What are the two values of the Boolean data type? How do you write them?**"
      ],
      "metadata": {
        "id": "JEYkdhJseQKN"
      }
    },
    {
      "cell_type": "markdown",
      "source": [
        "True and False are the two values"
      ],
      "metadata": {
        "id": "ojTTSjjeejm3"
      }
    },
    {
      "cell_type": "code",
      "execution_count": 6,
      "metadata": {
        "colab": {
          "base_uri": "https://localhost:8080/"
        },
        "id": "N1Fzf0KGeG5G",
        "outputId": "7367869d-b22a-4e0c-ae38-976582a6d06b"
      },
      "outputs": [
        {
          "output_type": "execute_result",
          "data": {
            "text/plain": [
              "True"
            ]
          },
          "metadata": {},
          "execution_count": 6
        }
      ],
      "source": [
        "a = True #assign the true value to variable\n",
        "a"
      ]
    },
    {
      "cell_type": "code",
      "source": [
        "b = False #assign the false value to variable\n",
        "b"
      ],
      "metadata": {
        "colab": {
          "base_uri": "https://localhost:8080/"
        },
        "id": "Jfd7EYQOeqb_",
        "outputId": "b302e122-0ae0-4496-a051-4e23be0319b9"
      },
      "execution_count": 7,
      "outputs": [
        {
          "output_type": "execute_result",
          "data": {
            "text/plain": [
              "False"
            ]
          },
          "metadata": {},
          "execution_count": 7
        }
      ]
    },
    {
      "cell_type": "code",
      "source": [
        "1>0 #when use among comparison operator evaluates boolean result"
      ],
      "metadata": {
        "colab": {
          "base_uri": "https://localhost:8080/"
        },
        "id": "DDI4ESM_euh7",
        "outputId": "7d8ef74a-da94-469e-b906-1a2d23d45695"
      },
      "execution_count": 8,
      "outputs": [
        {
          "output_type": "execute_result",
          "data": {
            "text/plain": [
              "True"
            ]
          },
          "metadata": {},
          "execution_count": 8
        }
      ]
    },
    {
      "cell_type": "code",
      "source": [
        "bool(1) #convert integer to boolean value"
      ],
      "metadata": {
        "colab": {
          "base_uri": "https://localhost:8080/"
        },
        "id": "JB7BBuRjfDsc",
        "outputId": "074d7d02-debf-490e-fdd5-faa51241d07a"
      },
      "execution_count": 9,
      "outputs": [
        {
          "output_type": "execute_result",
          "data": {
            "text/plain": [
              "True"
            ]
          },
          "metadata": {},
          "execution_count": 9
        }
      ]
    },
    {
      "cell_type": "markdown",
      "source": [
        "**2. What are the three different types of Boolean operators?**"
      ],
      "metadata": {
        "id": "aW_cPQSeeyoG"
      }
    },
    {
      "cell_type": "markdown",
      "source": [
        "There are three logical operators that are used to compare values. They evaluate expressions down to Boolean values, returning either True or False. These operators are and, or, and not and are defined in the table below.\n",
        "\n",
        "\n",
        "![image.png](data:image/png;base64,iVBORw0KGgoAAAANSUhEUgAAAksAAABlCAYAAABdhKdtAAAa4ElEQVR4nO3dPW8a2dvH8S+38iq8uzgUFkXKjPyPtALJKVzRGMUpoEBK4wpbYkORaqdL4QjJpkoTLYUp1ivcULlwtKBICZoyzciFw2Tjt8FdzADD8IwBY/L7SJGSYR7OnDnDuXLONUPo69evLURERERkoEcAT548ue9yyAKFQiFaLcXEIutA97PIcoVCIf7vvgshIiIissoULImIiIiMoGBJREREZAQFSyIiIiIjKFgSGaZmYhgGhmFSu8diOKW0V440JeceCyIiK6fz/ZAuoa+HxVlSsORQShveF37vn/QD+/avmQ+z3D+T9jUaGOR0AiADM/jhqM8WUL67tiG1RZEJOCXSA/qeh9oHyf14tPAj1EyMXNX9e6KAZcbbH2AaOarFJEYxQcEyiQ/dyapwuLm+7zLIOPHnCahWgSpXNZO4r2HVrqqdv1evapi+D53OxU3wPA6LGU6avg2FM2dYmbvvR+TnFiVbOSMTvu9yyEO02JElp0TaC5Si2YovUAKIY1oVslGAKjkNIcq8xJ+T8P56feNvVTV8sRJc3/janMPHS9v9a+L5AwjcRURkWRY6slT7UMQGiGZ5OzCcD5N5m+UyWcS2i3yoZTDj7hxssmhDNErUtrF7thk0CuVQSicp2iPW849w+USzFc4yDNg+sI/A9nYxiVEkMFo2qBzBdcaVRf/tubs47cEl+/IjTiZDGMC5oWcwxr7ko5Nx/6fpfKQbKwVDpSo5I3i9gu1wyLWfug31694PWSpnGcJ33c8A0WyFt7zp+zxRsOjd5QT32iR1AUPvA69A7rmO2Wd/+USm5783/N/D/uVuW5usbd/1Xpu+Dxx4VhPcqzKpBY4sdf8XH93dYWgIEN5hN+r+tXoVmPewbWwSFCwLy7IoJMDtuPy5KDVMw2sQiQKWZVHJRr31hiXEdvd5lglD7QNuX1TBCh6rPeIVN7E6I2G+dbutm3SgHJ31q7kRyXeBsshcxJ97Y0v2JR+9inc+XnrBexT3Mtpctj/8duN9IUWJPB60x/Z1GjIaOo82NPHJzWE/0SwVy8JyC4ldTLpfzj33EFRz/ntownttkrro067fgjsqaBdJdtb1fem3761K1ruGIncXzpx5bRTs4ge3f3FKvPEFUGac2dr2TPeaZ6I+cJBZ+kUZZSkJ3luRWYOAKNlKNwqOm94XKVXee1e7Zuaogtsgvc4inHnrdSS+ztAnUQhE1nGzL1iJv/K+jH2d7Sj+UbRKp9MKkznrfvm/GdBC+8oi89GZimu3ge40W3T3LQftL8abb4Avlym6y05fc/W3wzCZg/5AbB5taHmiZN96ozbxV52gCxIUOvfQQaf+vCqa/F6bui789RvHLATqd9CoXzjDmaVRJZmGTTEZTPDuBg6dNkqVnFmi9GbAzMgsbXuGe61n+zF94CCz9Isy2uKm4YJTHrPo67h80ys334BvQ0avwkS2ALu9nn8nXvLuoCKPGDodrTuKljjIBEbRgmWerCxyV4+JROm2AefG63Cj7O6EiUe8i1K9omYyZhR0i554/3EEb9d9Zm9DS9RzX3Xvld5crW79Xd84EJ/+Xpu8LsbUb3iH3WgR24ZqzuS5phFkJmMSvMMZ3mYv3TZbLVL0Fvd/p0/Rtme618JDtofR/UnbsFmdUf2ijLO4YCkcod0u+hrAENHB8x8T6eRtBF3f4BAf2Sx6Gn4778MpkU4WB3aIM5ugLDIvYXZ2oxRtG6pXlCLX3v8S218+7Q7Zn4/kBlKzWFobWgHj7jXmXhdhMmcVSCcp2t3rpRw/mbdw5i3ZS1+eT6LQM3r50O7zu/SL0muBCd5DkmyDfEPs46frhj8uPXuiZ40PAxL7FmIrosa5ROGdXaJFG5sqxfYXRvsa+EYrugIjHBNbYhtaAaPvtRrmQuoiTObMIgOdxHC7mCTN+te3LI9TetObEF19T+lV3BuNWoX7fLpXhugBiPlZaM5Sdy53cL4OOD3zwq+CFzU4B9yXu+ANXzIgOXxSvulCf7DWSQaeiBsYDi6Hb4pOc27L5Xt4oK17DdyRp8CHs03vzKUNrboJ77Vl1EXc7CbjXn7UK0dkPnwJ3SQSnTyi4hsvcfs+7vOxfeAgc+gXpc9iE7zDGc58TwAYPa9F9mXrk6BwNmjkyaaYbGf91zCTwcDKffWA+3BSrudNrO4r4CfI+vc/jffeuylq5pD5aG/Ol/4v6U5gWM35ztOhlO4m2vUFg7JgwYCoN0csvLPb80TVzMHsnNrQlAed034mP95E99pUdTGh9huYffdV+3/XI5+0FZmY7z/uJCiYpu9BA+8/+4to22ON6wMHmUO/KH0W/wbvuIllvXIf/a3mCL6uZvwwYeAdN8F3yYQzuOkMxf752URhgre1uk+s3Rg5qnaR5MAJXt/pvMoSrbrvhUoaxW55whnOrIj7VvLAef4MUzOrqjsVR//IUc9U3F2S7efUhqY0r/1MbKJ7bbq6mIruK7kT92m4vhYZzZLdKtJNRfIeIIibFBJVclWwi28o7Zwtrm2PNKYPHOTO/aIEhb5+/dp68uTJfZejR99L+O67QA9cKBSi1WrddzFEZA50P68/9YGrJRQKLeuHdEVEREQeJgVLIiIiIiMoWBIREREZYSVzlmS+lOMgsj50P4ssl3KWRERERMZ4BG7UJOtN11hkfeh+FlmuR4CGdNechu1F1ofuZ5Hl0jSciIiIyBgKlkRERERGULAkIiIiMoKCJREREZERFCyJTM2hlDYw0t4vj3cWl0gbBoZh9PzSt1/NNDDM2uJLWEr3l09ERGaiYGmExuk++6eN+y7GT6lmukHH0D9LCDimU8NMFiFbwbIszpb2s941TMNg5apjautyHiJ3p75n9Ty67wKIDBI3LSzT+4dTIp28ZLdyxtJikJHCZM4sMv5Fzg3XRNndWXIBnRuuga3lHnX+1uU8RGQtaWRJREREZAQFS/Kg1Uwvd6hmelN0JjWG5Qa5uUZ9+US+XKNJp/j8+6+ZBkayiI1NMWlgGGmGpCwNPebgHCd3aso//egvmlNKe8eFaq7/88mP01c4NydrRJ0Mq/dBxxxXn6PO476ur4iI31pMw91evOao3OwuiOU5P9xuf8rF6yM+/X5CjkJ3vc0UJ+/22PDvqHHK/nG9d+exBRZc5sMukrwqYHXm7WDi7tApkU4W2SpYnMXdLU0jh0EBy4xPtIu4aWG9mmKq8Po96Te7vLUswp0yJElT6eY61UyMXJVotoLVs8yAgoUZh3DmDGunW/6+4tpFkm+yVNrHqZkYuSRmZMC6frUP3BxYWO11nBLpZI50pNKbizWg3mepz4nO4x6vr6yR2wteH5VpEiN/fkinl/D6kM3UCe/2Nkbuond3q9H3uOWA1Mk7eorvnW84f06nWDKThz+y1DilQI7z83PvT55Y/ZjXF7c9qzXLRxx9f9ldp1mm4F+nccr+sUPq5Lyzr7wCpQciQWGmjs+h9KaInSj4Oug4ZiEB1avJO+Rp2VscnGXohB3hDG+zUeziB++YDqX3VUgUeoOTuEklG6WaMycsW5TsW99x4q/IRqF6NWbruNkbsIQzHCTAvvkWWDFY74uqzwd2fWV1bezx7iTFJnX+bn//315QmCFQWqW+Z2PvJTGafPrSe+zGP2WamyleKFC6s4cfLG0fBhr4Ns9i0Pz+X+96mylOOqF1cJ1bLv6us5nKMc29IisiGuHxLNs5H7m0IfE80BE/jhDlmptFPXc/oLzhnd3uMYeVK7je2OPs0ptvHiYycQZ171Rcrgpc3/S+iiB4Houqz4d2fWW1bezxLh+jWS5wcdvg9KhMM5afLlCCFet7vP1++kI3XGrwuQ6xl4FRLJnJWkzDNU73CY5g9g1hhn8Z3mBuv/CpCeGXalI/o2rOoDpg+dY3YBEPt21FJthtlMhMEcLd1Uw3OIpmK1hn4e6y68m2X3p9jrFq5ZEVsH1IPrbP8dExECM/4xzVKvU92y9SbB6V+aex5065NT5TJ0Zeo0pz8eCDJbex9s4/N073Ob7XUslDkhiUJ7Ns326wgd3OApub++jMnRLuDODsdbIS9emzauWRVXDLjzuOLK5c37PxP37fLFP+3OBwe5vG5zqbqRMUK83HA5+Gc4cZiT27W4PY+IUw4Pzwz/d6+5aHKzht5E3LdIR32I3C9bLnYwbky9Suqt1pM69cg3KLnI+X2H3Ta/MWHNVyuJlkVGnZ9bmq11dW3u1FgXIzRv48T4w6x68vuB2/mc8q9j0b7L2MQf0zDRp8rsd4qbySuXngwdKv/LYJOD86DX3gsOhYwfneBqf7xyhWerjizxNgF/nQfZ7dTfbtWStM5iCBXUwGHrmvYS708fIqOf/+aya5KiQO2snYbrmo5nofg6+ZJIu2bz0gHGGLOQYE4Qhb2BS7FUfNTFK0R2zT3Xj2+pzyPFb7+spKa5xyVG4Syx+yzTaH+RgEk67HWtG+Z/uZG/ztH1O/ayAnPR74NNwGe7kUn47KHO2XAdhMnXCSKnD0fbo9bR+ekHp91NlPLH/OyY/XU+9HVkTcpJK9JunLV0kUKmTfJ7kMrGcVwOjJa4mSrZwtrmyJApXIewwj51sUmCqKm1iVCOlkEqPoL5cVeDWB+3SXkXPXu/uUUxyzkuU6mcPwKiSarVBIJCfLWZq5Pqc8j1W+vrK62o/ox/LdR+m3D8nH6hyXjzj9ZdJH7Fe179nmRWqTehlSegRurkJfv35tPXny5L7LIQsUCoVotVr3XQwRmQPdzzLK7cVrjj793v8uJ5lZKBR66CNLIiIiAnhTjJA6UaA0bwqWREREHrBuvtRm/1u8ZS40DfcT0LC9yPrQ/SyyXKFQ6KE/DSciIiKyWAqWREREREZ4BO4Qk6w3XWOR9aH7WWS5HgGa/15zynEQWR+6n0WWSzlLIiIiImMoWBIREREZQcGSiIiIyAgKlkRERERGULAkPwGHUtrASJfo+U17p0TaMDAMg3Rpsl+7v6uaaWDoF+/HGHK9RETuiX7uROaiZhrkqiNWSBSwRv6M/LLVMJNFyFawMuG778vIQcFipU6xY9XLtwg/4zmLyKIoWJK5iJsWlun9wymRTl6yWznjznHIXITJnFlk/IucG66JsrszhwI6N1wDW3ff02Ksevn6DLhe03pw5ywiq0zTcCIiIiIjKFiSpaqZXi5KzcQwDAzDpMawXB43d6Uvn8iXa2QYk+UA+fdfMw2MZBEbm2LSwDDSDE9Z8vJnhhzPKaW9fUE1534+dUrS2PMZXQbvDDH9n3v1Olv5gvvq38Yppd3rGCj7wNyvO16vUec3yKhzvq/2JyIP3NevX1vr6Eflj9aLFy+6f06+9K7w5aT14o9K60frS+vEt15wtXUALPeAzb9aqaep1l/N/o/+/fNp6+nTp62nf/7bvzywrNVqtv5KPW2l/Dtq/tVKPX3a6q76b+vPAfsbeFz/OiPKGNiw1bNr7/ijyzRtOcacz9gyuPXk36b511+tfwPrT1K+1r9/tp4Gz89b1lvslHsdU3+1miPWm8/1GnN+gww55/tqf/O09Pt53f2otP548aL14sVJ60vPYrcP+aPyY8rdLb7vcY/xR6uvaN65rGM/dp+A1lqOLN1evOaoHCZ/fs75+Tnn53li9WP2Txu9KzbLHO0fQ95d7yS1Sf34lMbg3crcJCjMlHXrUHpTxE4UfEm7ccxCAqpXQ0ca7iRu9iYIhzMcJMC++TaHnU94PuPK4Hzk0obE87hvlQzT17BD6X0VEgXO/MlmcZNKNko1FxzNSVA4y9BZM/6KbBSqV7Xu/uZxveZ2fr5yP5T2J4u3sce7kxSb1Pn74tZddntBodxkM3XCu72NiXe1rL5nY+8lMZp8+nLbs7zxT5nmZooX2xMXWSa0hsFSg3/KTWL5Q7rtZZvDfAzqf3PR27aI5c859Fbc+N/vbOLwI7COzFk0wuNZthvQaQLwOEKUa24W9px57zRYrgpc39z9sfapzmdEGcIRtmBAMDOn8gDhnd3+MvVdxzARf0b1vK7XvM6v7cG1P1m4jT3e5WM0ywUubhucHpVpxvJTBUrL7Xu2eRaD5qcvdDdp8LkOsZd7TFNqmcz6PQ3X+EydTVK/Bpb/+hub1Pn+H3RbUoxn/gh8Y49353tLKabMrpozGPSWgq1vwJyfvmu/EiGarWCdhbvLrud3jHHnM74McUyrQiSdJGdUgSjZmZ9EjBKZKZIY7u7Xa57nd3fLbH+yRNuH5GP7HB8dAzHyh1MOzyy579l+kWLzqMw/jT036Gp8pk6MvEaVFmL9giVZe4llvTvHKeHOSi32eCP3P3EZuo/b10yDXDINMwUUNjdz7vTnU3/zOr+7W1r7kyW75cdDGh3c+B+/b5Ypf25wuL1N43OdzdQJipUWY/2m4X79jU2abhTv9993msFoXlZLcGrLm/boCO+wG4Xrpc53BEdaHG7mNao08flMV4a4WSDRDnpmKE8358h3xI+X2NFdpnot1YKu18znN85Ktj9ZltuLAuVmjPx5nhh1jl9fMFVGxtL7ng32Xsag/pkGDT7XY7ycatpQprF+wdLGHi9jBJLlGpwe19lMvVDUvaLizxNgF/nQ6ae9ZNqetcJkDhLYxWTgUfYa5iIe3w5H2MKm2C0UNTNJ0R603iyd6ATnM0kZnBKm//H22hVVf4A1cfnc8lDN9T4uXzNJFm0SB5kpB5zmdL3Gnd/AQ093TVay/cnyNE456uQbeXlGzTKFYKLRKPfR92w/cwO7/WPqsWfq3xZoLafhtg/PybPP8X69s2zapxpkyeImlew1SV8+SKJQIfs+yWVgPasARk/eiJvDsoBCYVayXCdzGN7BotkKhUQykLPkPhFl5JIYxSmnacaez2RluC66x/Zv352imqJ8cROrEiGdDO7Pmm3Ka07Xa/T5DTzwdNdkJdufLEXjlP3jOsTynYRrN3+pznH5iNNfuonY4yy/79nmRWqTehlSegRuoUJfv35tPXny5L7LIQsUCoVwXxUhIg+d7mfxu714zdGn3zl5p6fgFiUUCq3nyJKIiMjaa5xyVIbUiQKlRVOwJCIi8oA0Tvc5rgNskjp5hzJMFk/TcD8BDduLrA/dzyLLFQqF1vBpOBEREZE5UrAkIiIiMsIjcIeYZL3pGousD93PIsv1CND895pTjoPI+tD9LLJcylkSERERGUPBkoiIiMgICpZERERERlCwJCIiIjKCgiWRB65mGhh3+tV7h1LawEiXcHoWl0gbBoZhkC45wzaefL25lllEZHn0cyeydmqmQa46YoVEAWvkT9AL1DCTRchWsDLhOawnIvJwKVjyu73g9VGZcP6cw+37LozMKm5aWKb3D6dEOnnJbuUM9eXDhMmcWWT8i5wbromyuzOm0iZdT+RnpX5lLWgaTkRERGQEBUvy06qZXp5OzcQwDAzDpMawfBo3r6cvJ8eXr2MY0+Th1DD92xkGwU2dUtotX+AYo/KCOuc04fKez70C1EwDI1nExqaYNDCMNIMOOXw9LwdqqnoJ1od7LXyVMWM9i4jc3QOfhrvl4vURn34/IUeBo3LTXbyZ4uTdHhv+NS9edz8HiOU598ZEg581j/epd1ckf36IRk/XlF0keVXA6szbwcTdsFMinSyyVbA4i7tbmkYOgzE5UTUTI1cl6s/zqZkYOQMKFj2b2kWSb7JULItwZ70kZiSwnif+PAHVSz46Gd+0Y42rKkSzO0wyWRY3LaxX46cvh65X+8DNgYXVLp9TIp3MkY5UOBu4M4dSOkfVl0vmlEp8w7/9DPUsMpMV61e8abxmYJv2/jdTJ7zb2xi5C7m7tRhZapaPOPr+kvPzc87P88SaZQoXt53P3UYVJn9+3l2nfsz+aQOAjb137vKTFJtALN9e75xzBUprLkFhpg7XofSmiJ0o+IKWOGYhAdWrEQGXQ+l9FRKF3sAhblLJRqnmAiMqJCicZbpBTvwV2ShUr4YcIf6cBDaXH31DQbUrqiQ4WFbSVtzsDeTCGQ4SYN98G7y+85FLGxLP475NMnhh04z1LHI3K9OvbOzx7iTFJnX+bh//9oKCAqWlWotgic0UJ53MuW2exaD5/T/v3w3+KTeJ5f2Nc5vDfAzqf+Nr+/IzikZ4PMt2Azp4AB5HiHLNzbD5rmHbAeGd3f5t+8oXJrI1qmBxngcCk9pVFRLPWe4YTO9UXK4KXN8MngYMR9iCAYEis9ezyF2tUr+ysce7fIxmucDFbYPTozLNWF6B0hI98Gk4T/gXhjaZxmfqbJL6NbD819/YpM73/2D4xiKjVXMGg95SsPUNhs95RYnMFKFNJv48AbkramacuDcFlygsL1Rqv7ohmq1gnYW7y66HlhjTqhBJJ8kZVSBKNjD9N1s9i9zBqvUr24fkY/scHx0DMfJ6tG6p1iNYErkniWCO0URsbhbZycdfkY0muaqZxHGn4JYWKzkl3FnGaeul+/qCmmmQS6ahctZ5ncFs9SyyTm75oZHUe7Me03Cj/PobmzTpjJ62/fedJjGeKTiXQYJTRt50UEd4h90oXE87D+RtNyjnyPl4iR3d5e6vLAqzsxulelWjdlUlmn215Cm44MiZw83QUaV+cbNAohNQzljPIot0D/3K7UWBcjNG/jxPjDrHry9QFsnyrH+wtLHHyxjUj09pdBY2OD2us5l60Ztkt/ELYaD+uRHci/xE4s8TYBf50IlnvCTjnrXCZA4S2MVk4JH/GubIx9rd7ajmel8BUDNJFm0SB5m5DDiFd3aJVt/z/nrJL4wMR9jCptitPGpmkqI9YhunhFkKJqS3A65Z61lkgZbdrzROOerkSHm5UYGEc1msn2IabvvwnDz7HO93H9wc/BTBNocnKZyjY7qr6tUBP524SSV7TdKXJ5MoVMi+T3IZWM8qgNGTT+Pm24zbv1WJkE4mMYr+7az5vWU8vMNutEiRLG+XmtMTx6xkuU7mMLxKiWYrFBLJETlLcF0M1oUvZ2nWehZZoKX1K41T9o/rEMt33wC+fUg+Vue4fMTpL3oz+DKEvn792nry5Ml9l0MWKBQK0Wq17rsYslQOpXSSy91h7zaSh0r3s8hyhUKhn2AaTuRn5Hzk0tZvtomIzIOCJZE1VPtQxE4c6MeDRUTmQMGSyBpxSmn3JZD6KRARkblRztJPQDkOIutD97PIcilnSURERGSMR+BGTbLedI1F1ofuZ5Hl+n8tUPG3w8OB3AAAAABJRU5ErkJggg==)"
      ],
      "metadata": {
        "id": "Vzovedx8frOk"
      }
    },
    {
      "cell_type": "code",
      "source": [
        "(2==2) and (3>2)  #True and True"
      ],
      "metadata": {
        "colab": {
          "base_uri": "https://localhost:8080/"
        },
        "id": "tXt9UTauf-FH",
        "outputId": "afceaaf5-77ef-4032-d046-acea560f1bee"
      },
      "execution_count": 10,
      "outputs": [
        {
          "output_type": "execute_result",
          "data": {
            "text/plain": [
              "True"
            ]
          },
          "metadata": {},
          "execution_count": 10
        }
      ]
    },
    {
      "cell_type": "code",
      "source": [
        "True and False"
      ],
      "metadata": {
        "colab": {
          "base_uri": "https://localhost:8080/"
        },
        "id": "I4RVLlLHgFSU",
        "outputId": "90636543-cceb-4f0d-e0bd-a521492334e5"
      },
      "execution_count": 11,
      "outputs": [
        {
          "output_type": "execute_result",
          "data": {
            "text/plain": [
              "False"
            ]
          },
          "metadata": {},
          "execution_count": 11
        }
      ]
    },
    {
      "cell_type": "markdown",
      "source": [
        "3. Make a list of each Boolean operator's truth tables\n",
        "(i.e. every possible combination of Boolean values for the operator and what it evaluate )."
      ],
      "metadata": {
        "id": "SjD5xwl2f6bI"
      }
    },
    {
      "cell_type": "markdown",
      "source": [
        "![image.png](data:image/png;base64,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)"
      ],
      "metadata": {
        "id": "zMDrrLeUgPnd"
      }
    },
    {
      "cell_type": "markdown",
      "source": [
        "4. What are the values of the following expressions?\n",
        "*   (5 > 4) and (3 == 5)\n",
        "*   not (5 > 4)\n",
        "*   (5 > 4) or (3 == 5)\n",
        "*   not ((5 > 4) or (3 == 5))\n",
        "*   (True and True) and (True == False)\n",
        "*   (not False) or (not True)\n"
      ],
      "metadata": {
        "id": "rwdT11GphUfD"
      }
    },
    {
      "cell_type": "code",
      "source": [
        "(5 > 4) and (3 == 5)"
      ],
      "metadata": {
        "colab": {
          "base_uri": "https://localhost:8080/"
        },
        "id": "XystMCiJhenJ",
        "outputId": "71c3b115-18b7-4c9f-9f8a-be3205125b9b"
      },
      "execution_count": 12,
      "outputs": [
        {
          "output_type": "execute_result",
          "data": {
            "text/plain": [
              "False"
            ]
          },
          "metadata": {},
          "execution_count": 12
        }
      ]
    },
    {
      "cell_type": "code",
      "source": [
        "not (5 > 4)"
      ],
      "metadata": {
        "colab": {
          "base_uri": "https://localhost:8080/"
        },
        "id": "eVNhvkS6hpwM",
        "outputId": "2d1270bc-a487-4055-a154-8258844497cf"
      },
      "execution_count": 13,
      "outputs": [
        {
          "output_type": "execute_result",
          "data": {
            "text/plain": [
              "False"
            ]
          },
          "metadata": {},
          "execution_count": 13
        }
      ]
    },
    {
      "cell_type": "code",
      "source": [
        "(5 > 4) or (3 == 5)"
      ],
      "metadata": {
        "colab": {
          "base_uri": "https://localhost:8080/"
        },
        "id": "H9cD_h3ehs0g",
        "outputId": "7eec7301-37f2-4bf6-feb9-1696d6b7b1e3"
      },
      "execution_count": 14,
      "outputs": [
        {
          "output_type": "execute_result",
          "data": {
            "text/plain": [
              "True"
            ]
          },
          "metadata": {},
          "execution_count": 14
        }
      ]
    },
    {
      "cell_type": "code",
      "source": [
        "not ((5 > 4) or (3 == 5))"
      ],
      "metadata": {
        "colab": {
          "base_uri": "https://localhost:8080/"
        },
        "id": "7179yzVMhwB3",
        "outputId": "d8a541c8-8eed-4708-f4b8-1e19cf50fe73"
      },
      "execution_count": 15,
      "outputs": [
        {
          "output_type": "execute_result",
          "data": {
            "text/plain": [
              "False"
            ]
          },
          "metadata": {},
          "execution_count": 15
        }
      ]
    },
    {
      "cell_type": "code",
      "source": [
        "(True and True) and (True == False)"
      ],
      "metadata": {
        "colab": {
          "base_uri": "https://localhost:8080/"
        },
        "id": "HO1rJp62hzYz",
        "outputId": "f114b79f-b689-4a03-febf-271f468197a8"
      },
      "execution_count": 16,
      "outputs": [
        {
          "output_type": "execute_result",
          "data": {
            "text/plain": [
              "False"
            ]
          },
          "metadata": {},
          "execution_count": 16
        }
      ]
    },
    {
      "cell_type": "code",
      "source": [
        "(not False) or (not True)"
      ],
      "metadata": {
        "colab": {
          "base_uri": "https://localhost:8080/"
        },
        "id": "Vr9Nyeyah3D1",
        "outputId": "6f30056e-ef42-4aa8-e86b-e6888fbfaa7d"
      },
      "execution_count": 17,
      "outputs": [
        {
          "output_type": "execute_result",
          "data": {
            "text/plain": [
              "True"
            ]
          },
          "metadata": {},
          "execution_count": 17
        }
      ]
    },
    {
      "cell_type": "markdown",
      "source": [
        "**5. What are the six comparison operators?**"
      ],
      "metadata": {
        "id": "4r0QBWf6h-TP"
      }
    },
    {
      "cell_type": "markdown",
      "source": [
        "1. Equal =="
      ],
      "metadata": {
        "id": "KA82Qt__iTlI"
      }
    },
    {
      "cell_type": "code",
      "source": [
        "2 == 2"
      ],
      "metadata": {
        "colab": {
          "base_uri": "https://localhost:8080/"
        },
        "id": "TQcSasq-h6aD",
        "outputId": "86f1a607-9472-492e-b3bc-fef958c330bb"
      },
      "execution_count": 18,
      "outputs": [
        {
          "output_type": "execute_result",
          "data": {
            "text/plain": [
              "True"
            ]
          },
          "metadata": {},
          "execution_count": 18
        }
      ]
    },
    {
      "cell_type": "code",
      "source": [
        "\"hi\" == \"hi\""
      ],
      "metadata": {
        "colab": {
          "base_uri": "https://localhost:8080/"
        },
        "id": "eTy5jdoBiXfP",
        "outputId": "f3bcb22b-1778-4c8a-fe74-e894717be548"
      },
      "execution_count": 19,
      "outputs": [
        {
          "output_type": "execute_result",
          "data": {
            "text/plain": [
              "True"
            ]
          },
          "metadata": {},
          "execution_count": 19
        }
      ]
    },
    {
      "cell_type": "markdown",
      "source": [
        "2. Greater than >"
      ],
      "metadata": {
        "id": "op2tkoaYibFq"
      }
    },
    {
      "cell_type": "code",
      "source": [
        "3 > 4"
      ],
      "metadata": {
        "colab": {
          "base_uri": "https://localhost:8080/"
        },
        "id": "sZR6uymzidHU",
        "outputId": "6ca4a8c1-ca81-4041-d5a7-9df03a9b809e"
      },
      "execution_count": 20,
      "outputs": [
        {
          "output_type": "execute_result",
          "data": {
            "text/plain": [
              "False"
            ]
          },
          "metadata": {},
          "execution_count": 20
        }
      ]
    },
    {
      "cell_type": "markdown",
      "source": [
        "3. Less than <"
      ],
      "metadata": {
        "id": "sJweuRHiifmS"
      }
    },
    {
      "cell_type": "code",
      "source": [
        "3<4"
      ],
      "metadata": {
        "colab": {
          "base_uri": "https://localhost:8080/"
        },
        "id": "tvqVU0PGihht",
        "outputId": "bd0737f0-02d9-4bf1-d115-6ca0894f2e43"
      },
      "execution_count": 21,
      "outputs": [
        {
          "output_type": "execute_result",
          "data": {
            "text/plain": [
              "True"
            ]
          },
          "metadata": {},
          "execution_count": 21
        }
      ]
    },
    {
      "cell_type": "code",
      "source": [
        "\"aa\"<\"ab\""
      ],
      "metadata": {
        "colab": {
          "base_uri": "https://localhost:8080/"
        },
        "id": "zHB0YHTwijQq",
        "outputId": "081ac3c7-d1ef-4698-e986-06be86748e2f"
      },
      "execution_count": 23,
      "outputs": [
        {
          "output_type": "execute_result",
          "data": {
            "text/plain": [
              "True"
            ]
          },
          "metadata": {},
          "execution_count": 23
        }
      ]
    },
    {
      "cell_type": "markdown",
      "source": [
        "4. Not Equal"
      ],
      "metadata": {
        "id": "MtOX8yoWir0b"
      }
    },
    {
      "cell_type": "code",
      "source": [
        "3 != 4"
      ],
      "metadata": {
        "colab": {
          "base_uri": "https://localhost:8080/"
        },
        "id": "jWszX_Z0itqH",
        "outputId": "d45c4c0f-a790-4cf3-8330-1f039aaf8fe0"
      },
      "execution_count": 24,
      "outputs": [
        {
          "output_type": "execute_result",
          "data": {
            "text/plain": [
              "True"
            ]
          },
          "metadata": {},
          "execution_count": 24
        }
      ]
    },
    {
      "cell_type": "markdown",
      "source": [
        "5. Greater than equal to >="
      ],
      "metadata": {
        "id": "CcWPQBJ6ixD0"
      }
    },
    {
      "cell_type": "code",
      "source": [
        "5 >= 5"
      ],
      "metadata": {
        "colab": {
          "base_uri": "https://localhost:8080/"
        },
        "id": "duY-JFCRiz9a",
        "outputId": "e74b0943-ee57-4a3d-d2e3-2bef22b7a843"
      },
      "execution_count": 25,
      "outputs": [
        {
          "output_type": "execute_result",
          "data": {
            "text/plain": [
              "True"
            ]
          },
          "metadata": {},
          "execution_count": 25
        }
      ]
    },
    {
      "cell_type": "code",
      "source": [
        "6>=5"
      ],
      "metadata": {
        "colab": {
          "base_uri": "https://localhost:8080/"
        },
        "id": "4tbegIroi2-b",
        "outputId": "f27bdd8b-99e7-49b5-e287-3194e7de60a2"
      },
      "execution_count": 26,
      "outputs": [
        {
          "output_type": "execute_result",
          "data": {
            "text/plain": [
              "True"
            ]
          },
          "metadata": {},
          "execution_count": 26
        }
      ]
    },
    {
      "cell_type": "markdown",
      "source": [
        "6. Less than equal to <="
      ],
      "metadata": {
        "id": "QxhIYVV2i43C"
      }
    },
    {
      "cell_type": "code",
      "source": [
        "3<=5"
      ],
      "metadata": {
        "colab": {
          "base_uri": "https://localhost:8080/"
        },
        "id": "4tckUNHni7g5",
        "outputId": "a9b9930b-4e93-4c5b-a2ae-38b54e6e482e"
      },
      "execution_count": 27,
      "outputs": [
        {
          "output_type": "execute_result",
          "data": {
            "text/plain": [
              "True"
            ]
          },
          "metadata": {},
          "execution_count": 27
        }
      ]
    },
    {
      "cell_type": "markdown",
      "source": [
        "**6. How do you tell the difference between the equal to and assignment operators?Describe a condition and when you would use one.**"
      ],
      "metadata": {
        "id": "q2btXtmyi9t_"
      }
    },
    {
      "cell_type": "markdown",
      "source": [
        "= is a assignment operator and == is a comparison operator. = operator is used to assign value to a variable and == operator is used to compare two variable or constants. The left side of = operator can not be a constant, while for == operator both sides can be operator."
      ],
      "metadata": {
        "id": "TMv-sLlgjvHA"
      }
    },
    {
      "cell_type": "code",
      "source": [
        "a = 5             #assigning value 5 to variable a\n",
        "b = 5           #assigning value 5 to variable b   \n",
        "c = a+b           #assigning the addition of a and b to variable c\n",
        "print(\"a=\",a,\"b=\",b,\"c=\",c)"
      ],
      "metadata": {
        "colab": {
          "base_uri": "https://localhost:8080/"
        },
        "id": "hB2JS9mpjBwj",
        "outputId": "d50f13ea-779a-4891-9032-d378fd1d33ea"
      },
      "execution_count": 29,
      "outputs": [
        {
          "output_type": "stream",
          "name": "stdout",
          "text": [
            "a= 5 b= 5 c= 10\n"
          ]
        }
      ]
    },
    {
      "cell_type": "code",
      "source": [
        "a == b        #comparing the values of a and b "
      ],
      "metadata": {
        "colab": {
          "base_uri": "https://localhost:8080/"
        },
        "id": "g07lCQv6jcWn",
        "outputId": "21d591ac-1036-4f9b-8019-e442656e87a2"
      },
      "execution_count": 30,
      "outputs": [
        {
          "output_type": "execute_result",
          "data": {
            "text/plain": [
              "True"
            ]
          },
          "metadata": {},
          "execution_count": 30
        }
      ]
    },
    {
      "cell_type": "code",
      "source": [
        "a= 5\n",
        "b= 10"
      ],
      "metadata": {
        "id": "1hFU8HG9j4K0"
      },
      "execution_count": 31,
      "outputs": []
    },
    {
      "cell_type": "code",
      "source": [
        "a == b  #compares the values"
      ],
      "metadata": {
        "colab": {
          "base_uri": "https://localhost:8080/"
        },
        "id": "0vKdsSiHj7Cu",
        "outputId": "fb6d6cf9-9cdd-4a01-c22e-ec01aec07686"
      },
      "execution_count": 32,
      "outputs": [
        {
          "output_type": "execute_result",
          "data": {
            "text/plain": [
              "False"
            ]
          },
          "metadata": {},
          "execution_count": 32
        }
      ]
    },
    {
      "cell_type": "code",
      "source": [
        "a = b # assign the value of b to a"
      ],
      "metadata": {
        "id": "14M0-1w3j-6y"
      },
      "execution_count": 33,
      "outputs": []
    },
    {
      "cell_type": "code",
      "source": [
        "a == b"
      ],
      "metadata": {
        "colab": {
          "base_uri": "https://localhost:8080/"
        },
        "id": "nRX22_22kDNx",
        "outputId": "b14dfb16-5d90-49e7-9441-55fcdf7dd589"
      },
      "execution_count": 34,
      "outputs": [
        {
          "output_type": "execute_result",
          "data": {
            "text/plain": [
              "True"
            ]
          },
          "metadata": {},
          "execution_count": 34
        }
      ]
    },
    {
      "cell_type": "markdown",
      "source": [
        "Now the equal operator return True as the value of a and b becomes equal after the assignment"
      ],
      "metadata": {
        "id": "p1AlaO8YkHCT"
      }
    },
    {
      "cell_type": "markdown",
      "source": [
        "7. Identify the three blocks in this code:\n",
        "\n",
        "spam = 0\n",
        "if spam == 10:\n",
        "print('eggs')\n",
        "if spam > 5:\n",
        "print('bacon')\n",
        "else:\n",
        "print('ham')\n",
        "print('spam')\n",
        "print('spam')\n"
      ],
      "metadata": {
        "id": "pX5oto-3kQlZ"
      }
    },
    {
      "cell_type": "code",
      "source": [
        "#block1-------------------------------------------\n",
        "spam = 0\n",
        "\n",
        "#block2-------------------------------------------\n",
        "if spam == 10:\n",
        "  print('eggs')\n",
        "if spam > 5:\n",
        "  print('bacon')\n",
        "else:\n",
        "  print('ham')\n",
        "\n",
        "#block3-------------------------------------------  \n",
        "print('spam')\n",
        "print('spam')"
      ],
      "metadata": {
        "colab": {
          "base_uri": "https://localhost:8080/"
        },
        "id": "vwjgB45EkX7Z",
        "outputId": "4a180233-e621-4754-9c7f-91abd5f0681a"
      },
      "execution_count": 37,
      "outputs": [
        {
          "output_type": "stream",
          "name": "stdout",
          "text": [
            "ham\n",
            "spam\n",
            "spam\n"
          ]
        }
      ]
    },
    {
      "cell_type": "markdown",
      "source": [
        "**8. Write code that prints Hello if 1 is stored in spam, prints Howdy if 2 is stored in spam, and prints Greetings! if anything else is stored in spam.**"
      ],
      "metadata": {
        "id": "glKdI0RkkyzV"
      }
    },
    {
      "cell_type": "code",
      "source": [
        "spam = int(input(\"Enter your numer : (integer please!!)\"))\n",
        "\n",
        "if spam ==1:\n",
        "  print(\"Hello\")\n",
        "elif spam ==2:\n",
        "  print(\"Howdy\")\n",
        "else:\n",
        "  print(\"Greetings!\")"
      ],
      "metadata": {
        "colab": {
          "base_uri": "https://localhost:8080/"
        },
        "id": "5KT9Z1Ekk5L4",
        "outputId": "aa048927-b4d3-43dc-8609-29c2dad7fb43"
      },
      "execution_count": 39,
      "outputs": [
        {
          "output_type": "stream",
          "name": "stdout",
          "text": [
            "Enter your numer : (integer please!!)1\n",
            "Hello\n"
          ]
        }
      ]
    },
    {
      "cell_type": "markdown",
      "source": [
        "**9.If your programme is stuck in an endless loop, what keys you’ll press?**"
      ],
      "metadata": {
        "id": "3orP9CvnlZav"
      }
    },
    {
      "cell_type": "markdown",
      "source": [
        "press Ctrl+C "
      ],
      "metadata": {
        "id": "S3nTp96yle9a"
      }
    },
    {
      "cell_type": "markdown",
      "source": [
        "**10. How can you tell the difference between break and continue?**"
      ],
      "metadata": {
        "id": "BhoQUGQXl07z"
      }
    },
    {
      "cell_type": "markdown",
      "source": [
        "The Python break statement stops the loop in which the statement is placed. A Python continue statement skips a single iteration in a loop."
      ],
      "metadata": {
        "id": "T1FFmbwjl7uo"
      }
    },
    {
      "cell_type": "code",
      "source": [
        "for i in range(10):\n",
        "  if i ==5:  #exit the loop when i==5\n",
        "    break\n",
        "  print(\"i =\",i)\n"
      ],
      "metadata": {
        "colab": {
          "base_uri": "https://localhost:8080/"
        },
        "id": "A5lDCmzXlx7E",
        "outputId": "f4209451-1a86-4001-dda8-7e83c4d75cba"
      },
      "execution_count": 40,
      "outputs": [
        {
          "output_type": "stream",
          "name": "stdout",
          "text": [
            "i = 0\n",
            "i = 1\n",
            "i = 2\n",
            "i = 3\n",
            "i = 4\n"
          ]
        }
      ]
    },
    {
      "cell_type": "code",
      "source": [
        "for i in range(10):\n",
        "  if i ==5:  #skip the loop when i==5\n",
        "    continue\n",
        "  print(\"i =\",i)\n"
      ],
      "metadata": {
        "colab": {
          "base_uri": "https://localhost:8080/"
        },
        "id": "p_El2GzFmTN9",
        "outputId": "484bee03-2880-425d-b30d-884f9fc134ac"
      },
      "execution_count": 41,
      "outputs": [
        {
          "output_type": "stream",
          "name": "stdout",
          "text": [
            "i = 0\n",
            "i = 1\n",
            "i = 2\n",
            "i = 3\n",
            "i = 4\n",
            "i = 6\n",
            "i = 7\n",
            "i = 8\n",
            "i = 9\n"
          ]
        }
      ]
    },
    {
      "cell_type": "markdown",
      "source": [
        "**11. In a for loop, what is the difference between range(10), range(0, 10), and range(0, 10, 1)?**"
      ],
      "metadata": {
        "id": "RCxzuwdMmeN-"
      }
    },
    {
      "cell_type": "markdown",
      "source": [
        "all are same"
      ],
      "metadata": {
        "id": "IKunPdeumg_m"
      }
    },
    {
      "cell_type": "code",
      "source": [
        "help(range)"
      ],
      "metadata": {
        "colab": {
          "base_uri": "https://localhost:8080/"
        },
        "id": "AwrCrldYmv8i",
        "outputId": "bcf8104b-8329-49d9-d3dd-394c528cbfea"
      },
      "execution_count": 45,
      "outputs": [
        {
          "output_type": "stream",
          "name": "stdout",
          "text": [
            "Help on class range in module builtins:\n",
            "\n",
            "class range(object)\n",
            " |  range(stop) -> range object\n",
            " |  range(start, stop[, step]) -> range object\n",
            " |  \n",
            " |  Return an object that produces a sequence of integers from start (inclusive)\n",
            " |  to stop (exclusive) by step.  range(i, j) produces i, i+1, i+2, ..., j-1.\n",
            " |  start defaults to 0, and stop is omitted!  range(4) produces 0, 1, 2, 3.\n",
            " |  These are exactly the valid indices for a list of 4 elements.\n",
            " |  When step is given, it specifies the increment (or decrement).\n",
            " |  \n",
            " |  Methods defined here:\n",
            " |  \n",
            " |  __bool__(self, /)\n",
            " |      self != 0\n",
            " |  \n",
            " |  __contains__(self, key, /)\n",
            " |      Return key in self.\n",
            " |  \n",
            " |  __eq__(self, value, /)\n",
            " |      Return self==value.\n",
            " |  \n",
            " |  __ge__(self, value, /)\n",
            " |      Return self>=value.\n",
            " |  \n",
            " |  __getattribute__(self, name, /)\n",
            " |      Return getattr(self, name).\n",
            " |  \n",
            " |  __getitem__(self, key, /)\n",
            " |      Return self[key].\n",
            " |  \n",
            " |  __gt__(self, value, /)\n",
            " |      Return self>value.\n",
            " |  \n",
            " |  __hash__(self, /)\n",
            " |      Return hash(self).\n",
            " |  \n",
            " |  __iter__(self, /)\n",
            " |      Implement iter(self).\n",
            " |  \n",
            " |  __le__(self, value, /)\n",
            " |      Return self<=value.\n",
            " |  \n",
            " |  __len__(self, /)\n",
            " |      Return len(self).\n",
            " |  \n",
            " |  __lt__(self, value, /)\n",
            " |      Return self<value.\n",
            " |  \n",
            " |  __ne__(self, value, /)\n",
            " |      Return self!=value.\n",
            " |  \n",
            " |  __reduce__(...)\n",
            " |      Helper for pickle.\n",
            " |  \n",
            " |  __repr__(self, /)\n",
            " |      Return repr(self).\n",
            " |  \n",
            " |  __reversed__(...)\n",
            " |      Return a reverse iterator.\n",
            " |  \n",
            " |  count(...)\n",
            " |      rangeobject.count(value) -> integer -- return number of occurrences of value\n",
            " |  \n",
            " |  index(...)\n",
            " |      rangeobject.index(value) -> integer -- return index of value.\n",
            " |      Raise ValueError if the value is not present.\n",
            " |  \n",
            " |  ----------------------------------------------------------------------\n",
            " |  Static methods defined here:\n",
            " |  \n",
            " |  __new__(*args, **kwargs) from builtins.type\n",
            " |      Create and return a new object.  See help(type) for accurate signature.\n",
            " |  \n",
            " |  ----------------------------------------------------------------------\n",
            " |  Data descriptors defined here:\n",
            " |  \n",
            " |  start\n",
            " |  \n",
            " |  step\n",
            " |  \n",
            " |  stop\n",
            "\n"
          ]
        }
      ]
    },
    {
      "cell_type": "code",
      "source": [
        "for i in range(10):\n",
        "  print(i)"
      ],
      "metadata": {
        "colab": {
          "base_uri": "https://localhost:8080/"
        },
        "id": "4zLgcx_smj9T",
        "outputId": "ee9da88d-33f1-46b7-e3a4-cccc91c3c7e4"
      },
      "execution_count": 42,
      "outputs": [
        {
          "output_type": "stream",
          "name": "stdout",
          "text": [
            "0\n",
            "1\n",
            "2\n",
            "3\n",
            "4\n",
            "5\n",
            "6\n",
            "7\n",
            "8\n",
            "9\n"
          ]
        }
      ]
    },
    {
      "cell_type": "code",
      "source": [
        "for i in range(0,10):\n",
        "  print(i)"
      ],
      "metadata": {
        "colab": {
          "base_uri": "https://localhost:8080/"
        },
        "id": "8tytFCq4mpqz",
        "outputId": "07df1b2c-ff6b-4d3a-def8-770c21f36596"
      },
      "execution_count": 43,
      "outputs": [
        {
          "output_type": "stream",
          "name": "stdout",
          "text": [
            "0\n",
            "1\n",
            "2\n",
            "3\n",
            "4\n",
            "5\n",
            "6\n",
            "7\n",
            "8\n",
            "9\n"
          ]
        }
      ]
    },
    {
      "cell_type": "code",
      "source": [
        "for i in range(0,10,1):\n",
        "  print(i)"
      ],
      "metadata": {
        "colab": {
          "base_uri": "https://localhost:8080/"
        },
        "id": "82rhU5Tzmr7u",
        "outputId": "2ee0d58d-aa9b-4f96-c843-8c847c0aacf7"
      },
      "execution_count": 44,
      "outputs": [
        {
          "output_type": "stream",
          "name": "stdout",
          "text": [
            "0\n",
            "1\n",
            "2\n",
            "3\n",
            "4\n",
            "5\n",
            "6\n",
            "7\n",
            "8\n",
            "9\n"
          ]
        }
      ]
    },
    {
      "cell_type": "markdown",
      "source": [
        "**12. Write a short program that prints the numbers 1 to 10 using a for loop. Then write an equivalent program that prints the numbers 1 to 10 using a while loop.**"
      ],
      "metadata": {
        "id": "1vWsZOoom4dI"
      }
    },
    {
      "cell_type": "code",
      "source": [
        "for i in range(10):\n",
        "  print(i+1)"
      ],
      "metadata": {
        "colab": {
          "base_uri": "https://localhost:8080/"
        },
        "id": "fs8mnPQhm-NR",
        "outputId": "53b4797d-1b04-421b-fd85-1f461c1021cd"
      },
      "execution_count": 46,
      "outputs": [
        {
          "output_type": "stream",
          "name": "stdout",
          "text": [
            "1\n",
            "2\n",
            "3\n",
            "4\n",
            "5\n",
            "6\n",
            "7\n",
            "8\n",
            "9\n",
            "10\n"
          ]
        }
      ]
    },
    {
      "cell_type": "code",
      "source": [
        "i=1\n",
        "while(i<=10):\n",
        "  print(i)\n",
        "  i+=1"
      ],
      "metadata": {
        "colab": {
          "base_uri": "https://localhost:8080/"
        },
        "id": "XO284bB6nD6T",
        "outputId": "02dc4b4c-8ff1-4acf-f44a-6e3c509ec4a1"
      },
      "execution_count": 47,
      "outputs": [
        {
          "output_type": "stream",
          "name": "stdout",
          "text": [
            "1\n",
            "2\n",
            "3\n",
            "4\n",
            "5\n",
            "6\n",
            "7\n",
            "8\n",
            "9\n",
            "10\n"
          ]
        }
      ]
    },
    {
      "cell_type": "markdown",
      "source": [
        "**13. If you had a function named bacon() inside a module named spam, how would you call it after importing spam?**"
      ],
      "metadata": {
        "id": "E7SfC2EqnK19"
      }
    },
    {
      "cell_type": "markdown",
      "source": [
        "import spam\n"
      ],
      "metadata": {
        "id": "5cUzsga-nRD3"
      }
    },
    {
      "cell_type": "markdown",
      "source": [
        "spam.bacon()"
      ],
      "metadata": {
        "id": "WblVgX7RninP"
      }
    }
  ]
}