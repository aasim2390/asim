{
  "nbformat": 4,
  "nbformat_minor": 0,
  "metadata": {
    "colab": {
      "name": "pythonBasicAssignment09-Files.ipynb",
      "provenance": []
    },
    "kernelspec": {
      "name": "python3",
      "display_name": "Python 3"
    },
    "language_info": {
      "name": "python"
    }
  },
  "cells": [
    {
      "cell_type": "markdown",
      "source": [
        "###Python Basic Assignment 09\n"
      ],
      "metadata": {
        "id": "BBSJ3RVSnWjN"
      }
    },
    {
      "cell_type": "markdown",
      "source": [
        "**1. To what does a relative path refer?**"
      ],
      "metadata": {
        "id": "OYx9MY72Ycta"
      }
    },
    {
      "cell_type": "markdown",
      "source": [
        "A relative path refers to a location that is relative to a current directory. Relative paths make use of two special symbols, a dot (.) and a double-dot (..), which translate into the current directory and the parent directory. Double dots are used for moving up in the hierarchy."
      ],
      "metadata": {
        "id": "342DBRBJYfNQ"
      }
    },
    {
      "cell_type": "code",
      "source": [
        "# importing os module\n",
        "import os\n",
        "\n",
        "# Path\n",
        "path = \"/home / User / Desktop / file.txt\"\n",
        "# Path of Start directory\n",
        "start = \"/home / User\"\n",
        "relative_path = os.path.relpath(path, start)\n",
        "\n",
        "# Print the relative file path\n",
        "print(relative_path)"
      ],
      "metadata": {
        "colab": {
          "base_uri": "https://localhost:8080/"
        },
        "id": "pynUmsy5Yozj",
        "outputId": "ae8bd567-97e9-44a5-ca15-95b232746b91"
      },
      "execution_count": 17,
      "outputs": [
        {
          "output_type": "stream",
          "name": "stdout",
          "text": [
            "../ User / Desktop / file.txt\n"
          ]
        }
      ]
    },
    {
      "cell_type": "markdown",
      "source": [
        "**2. What does an absolute path start with your operating system?**"
      ],
      "metadata": {
        "id": "ZDPk0g0DaQg4"
      }
    },
    {
      "cell_type": "markdown",
      "source": [
        "Absolute path names always begin with the slash (/) symbol. Traces the path from the current directory through its parent or its subdirectories and files. An absolute path name represents the complete name of a directory or file from the /(root) directory downward."
      ],
      "metadata": {
        "id": "PZHrxY-DaX_L"
      }
    },
    {
      "cell_type": "code",
      "source": [
        "from pathlib import Path\n",
        "\n",
        "relative =Path(relative_path)\n",
        "absolute = relative.absolute() \n",
        "print(absolute)"
      ],
      "metadata": {
        "colab": {
          "base_uri": "https://localhost:8080/"
        },
        "id": "7WgMWAjRasNL",
        "outputId": "5c4db124-7b5e-40e8-b522-69012f7d8a37"
      },
      "execution_count": 18,
      "outputs": [
        {
          "output_type": "stream",
          "name": "stdout",
          "text": [
            "/content/../ User / Desktop / file.txt\n"
          ]
        }
      ]
    },
    {
      "cell_type": "markdown",
      "source": [
        "**3. What do the functions os.getcwd() and os.chdir() do?**"
      ],
      "metadata": {
        "id": "mpRWNMw4b7iD"
      }
    },
    {
      "cell_type": "code",
      "source": [
        "print(os.getcwd()) #returns the current working directory of the process. "
      ],
      "metadata": {
        "colab": {
          "base_uri": "https://localhost:8080/"
        },
        "id": "YOYtCtL0b_E0",
        "outputId": "4c014616-b320-4afe-c7b6-75f300b3ae78"
      },
      "execution_count": 19,
      "outputs": [
        {
          "output_type": "stream",
          "name": "stdout",
          "text": [
            "/content\n"
          ]
        }
      ]
    },
    {
      "cell_type": "code",
      "source": [
        "help(os.getcwd)"
      ],
      "metadata": {
        "colab": {
          "base_uri": "https://localhost:8080/"
        },
        "id": "OTKqqGmCcPIo",
        "outputId": "abe85ffc-8603-43f2-ecdf-4f8f71461601"
      },
      "execution_count": 21,
      "outputs": [
        {
          "output_type": "stream",
          "name": "stdout",
          "text": [
            "Help on built-in function getcwd in module posix:\n",
            "\n",
            "getcwd()\n",
            "    Return a unicode string representing the current working directory.\n",
            "\n"
          ]
        }
      ]
    },
    {
      "cell_type": "code",
      "source": [
        "help(os.chdir)"
      ],
      "metadata": {
        "colab": {
          "base_uri": "https://localhost:8080/"
        },
        "id": "0lkNoNrecVWw",
        "outputId": "3779dd86-d0d3-474d-adac-182824dadec5"
      },
      "execution_count": 22,
      "outputs": [
        {
          "output_type": "stream",
          "name": "stdout",
          "text": [
            "Help on built-in function chdir in module posix:\n",
            "\n",
            "chdir(path)\n",
            "    Change the current working directory to the specified path.\n",
            "    \n",
            "    path may always be specified as a string.\n",
            "    On some platforms, path may also be specified as an open file descriptor.\n",
            "      If this functionality is unavailable, using it raises an exception.\n",
            "\n"
          ]
        }
      ]
    },
    {
      "cell_type": "code",
      "source": [
        "os.chdir(\"/content/sample_data\") #change the working directory to the new one\n",
        "print(os.getcwd())"
      ],
      "metadata": {
        "colab": {
          "base_uri": "https://localhost:8080/"
        },
        "id": "RUQuI9LBccm_",
        "outputId": "69cf0dda-02d5-47a2-c258-093dcf257a8e"
      },
      "execution_count": 23,
      "outputs": [
        {
          "output_type": "stream",
          "name": "stdout",
          "text": [
            "/content/sample_data\n"
          ]
        }
      ]
    },
    {
      "cell_type": "markdown",
      "source": [
        "**4. What are the . and .. folders?**"
      ],
      "metadata": {
        "id": "Bc9LRySjcuIM"
      }
    },
    {
      "cell_type": "markdown",
      "source": [
        "a dot (.) translate into the current directory and the parent directory. \n",
        "Double dots are used for moving up in the hierarchy."
      ],
      "metadata": {
        "id": "ri_tT4kneLkI"
      }
    },
    {
      "cell_type": "code",
      "source": [
        "os.getcwd()"
      ],
      "metadata": {
        "colab": {
          "base_uri": "https://localhost:8080/",
          "height": 35
        },
        "id": "_JUOC3j2e8Yp",
        "outputId": "1a7cb51e-d999-4e0e-ba2f-68bdfb8c54eb"
      },
      "execution_count": 33,
      "outputs": [
        {
          "output_type": "execute_result",
          "data": {
            "application/vnd.google.colaboratory.intrinsic+json": {
              "type": "string"
            },
            "text/plain": [
              "'/content/sample_data'"
            ]
          },
          "metadata": {},
          "execution_count": 33
        }
      ]
    },
    {
      "cell_type": "code",
      "source": [
        "os.chdir(\".\") #current directory\n",
        "os.getcwd()"
      ],
      "metadata": {
        "colab": {
          "base_uri": "https://localhost:8080/",
          "height": 35
        },
        "id": "z1HU9URPezzx",
        "outputId": "3c6a5e66-7872-49bc-a846-b78417042161"
      },
      "execution_count": 35,
      "outputs": [
        {
          "output_type": "execute_result",
          "data": {
            "application/vnd.google.colaboratory.intrinsic+json": {
              "type": "string"
            },
            "text/plain": [
              "'/content/sample_data'"
            ]
          },
          "metadata": {},
          "execution_count": 35
        }
      ]
    },
    {
      "cell_type": "code",
      "source": [
        "os.chdir(\"..\") #move to upper hierarchy\n",
        "os.getcwd()"
      ],
      "metadata": {
        "colab": {
          "base_uri": "https://localhost:8080/",
          "height": 35
        },
        "id": "WJerA6XTe_9N",
        "outputId": "aba9cdd5-7e63-4248-cd7c-10d801f2171b"
      },
      "execution_count": 36,
      "outputs": [
        {
          "output_type": "execute_result",
          "data": {
            "application/vnd.google.colaboratory.intrinsic+json": {
              "type": "string"
            },
            "text/plain": [
              "'/content'"
            ]
          },
          "metadata": {},
          "execution_count": 36
        }
      ]
    },
    {
      "cell_type": "markdown",
      "source": [
        "**5. In C:\\bacon\\eggs\\spam.txt, which part is the dir name, and which part is the base name?**"
      ],
      "metadata": {
        "id": "0Chv6vLSfRFc"
      }
    },
    {
      "cell_type": "code",
      "source": [
        "path ='C:/bacon/eggs/spam.txt'"
      ],
      "metadata": {
        "id": "VsaSZQE0fS88"
      },
      "execution_count": 41,
      "outputs": []
    },
    {
      "cell_type": "code",
      "source": [
        "os.path.basename(path)"
      ],
      "metadata": {
        "colab": {
          "base_uri": "https://localhost:8080/",
          "height": 35
        },
        "id": "07amHKaIfvX9",
        "outputId": "08c48ae0-bd1b-4a69-a8dd-c7fca03fed1f"
      },
      "execution_count": 42,
      "outputs": [
        {
          "output_type": "execute_result",
          "data": {
            "application/vnd.google.colaboratory.intrinsic+json": {
              "type": "string"
            },
            "text/plain": [
              "'spam.txt'"
            ]
          },
          "metadata": {},
          "execution_count": 42
        }
      ]
    },
    {
      "cell_type": "code",
      "source": [
        "help(os.path.basename)"
      ],
      "metadata": {
        "colab": {
          "base_uri": "https://localhost:8080/"
        },
        "id": "oYtWQ8GIfwmD",
        "outputId": "877531c2-59ce-4ed1-e1d1-ca28d7019c2d"
      },
      "execution_count": 43,
      "outputs": [
        {
          "output_type": "stream",
          "name": "stdout",
          "text": [
            "Help on function basename in module posixpath:\n",
            "\n",
            "basename(p)\n",
            "    Returns the final component of a pathname\n",
            "\n"
          ]
        }
      ]
    },
    {
      "cell_type": "code",
      "source": [
        "os.path.dirname(path)"
      ],
      "metadata": {
        "colab": {
          "base_uri": "https://localhost:8080/",
          "height": 35
        },
        "id": "nmzPiADxf8EG",
        "outputId": "b956590f-0b3f-42ce-c00f-c12d4b216207"
      },
      "execution_count": 44,
      "outputs": [
        {
          "output_type": "execute_result",
          "data": {
            "application/vnd.google.colaboratory.intrinsic+json": {
              "type": "string"
            },
            "text/plain": [
              "'C:/bacon/eggs'"
            ]
          },
          "metadata": {},
          "execution_count": 44
        }
      ]
    },
    {
      "cell_type": "code",
      "source": [
        "help(os.path.dirname)"
      ],
      "metadata": {
        "colab": {
          "base_uri": "https://localhost:8080/"
        },
        "id": "cIP0XGLdgAzM",
        "outputId": "d3fa4347-f21b-41d4-ee38-6362dc6cf3a1"
      },
      "execution_count": 45,
      "outputs": [
        {
          "output_type": "stream",
          "name": "stdout",
          "text": [
            "Help on function dirname in module posixpath:\n",
            "\n",
            "dirname(p)\n",
            "    Returns the directory component of a pathname\n",
            "\n"
          ]
        }
      ]
    },
    {
      "cell_type": "markdown",
      "source": [
        "**6. What are the three “mode” arguments that can be passed to the open() function?**"
      ],
      "metadata": {
        "id": "_cqApXMIf__p"
      }
    },
    {
      "cell_type": "markdown",
      "source": [
        "r :  Opens the file in read-only mode.\n",
        "\n",
        "rb : Opens the file as read-only in binary format and starts reading from the beginning of the file.\n",
        "\n",
        "r+ : Opens a file for reading and writing, placing the pointer at the beginning of the file."
      ],
      "metadata": {
        "id": "l58IvPypggcy"
      }
    },
    {
      "cell_type": "markdown",
      "source": [
        "**7. What happens if an existing file is opened in write mode?**"
      ],
      "metadata": {
        "id": "mgAGTZBMg79L"
      }
    },
    {
      "cell_type": "markdown",
      "source": [
        "The existing file will get override."
      ],
      "metadata": {
        "id": "Z3ab_pmbilAE"
      }
    },
    {
      "cell_type": "code",
      "source": [
        "path=\"/content/test.txt\"\n",
        "\n",
        "\n",
        "#initial file state\n",
        "print(\"initial\",\"-\"*25)\n",
        "f=open(path,\"r\")\n",
        "print(f.read())\n",
        "f.close()\n",
        "\n",
        "#write operation\n",
        "f = open(path,\"w\")\n",
        "f.write(\"test\")\n",
        "f.close()\n",
        "\n",
        "print(\"final\",\"-\"*25)\n",
        "#Final stae\n",
        "f=open(path,\"r\")\n",
        "print(f.read())\n",
        "f.close()"
      ],
      "metadata": {
        "colab": {
          "base_uri": "https://localhost:8080/"
        },
        "id": "kwZFbsNmhdIH",
        "outputId": "c9290079-4e52-4d66-c092-95c84875e9a7"
      },
      "execution_count": 57,
      "outputs": [
        {
          "output_type": "stream",
          "name": "stdout",
          "text": [
            "initial -------------------------\n",
            "123\n",
            "456\n",
            "asd\n",
            "fgtghhhh\n",
            "\n",
            "final -------------------------\n",
            "test\n"
          ]
        }
      ]
    },
    {
      "cell_type": "markdown",
      "source": [
        "**8. How do you tell the difference between read() and readlines()?**"
      ],
      "metadata": {
        "id": "IkHktxhzjAL7"
      }
    },
    {
      "cell_type": "markdown",
      "source": [
        "The read() would treat each character in the file separately, meaning that the iteration would happen for every character.\n",
        "\n",
        "The readline() function, on the other hand, only reads a single line of the file"
      ],
      "metadata": {
        "id": "jVYd6uEmjPYR"
      }
    },
    {
      "cell_type": "code",
      "source": [
        "path=\"/content/test.txt\"\n",
        "\n",
        "\n",
        "\n",
        "print(\"read----------------------\")\n",
        "f=open(path,\"r\")\n",
        "for ch in f.read():\n",
        "  print(ch)\n",
        "f.close()\n",
        "\n",
        "\n",
        "print(\"readlines----------------------\")\n",
        "f=open(path,\"r\")\n",
        "for line in f.readlines():\n",
        "  print(line)\n",
        "f.close()\n",
        "\n"
      ],
      "metadata": {
        "colab": {
          "base_uri": "https://localhost:8080/"
        },
        "id": "5UHLJsLkjEK5",
        "outputId": "d337cbcf-f273-49cd-eeb8-01f288efaf76"
      },
      "execution_count": 61,
      "outputs": [
        {
          "output_type": "stream",
          "name": "stdout",
          "text": [
            "read----------------------\n",
            "T\n",
            "h\n",
            "i\n",
            "s\n",
            " \n",
            "i\n",
            "s\n",
            " \n",
            "l\n",
            "i\n",
            "n\n",
            "e\n",
            "1\n",
            "\n",
            "\n",
            "T\n",
            "h\n",
            "i\n",
            "s\n",
            " \n",
            "i\n",
            "s\n",
            " \n",
            "l\n",
            "i\n",
            "n\n",
            "e\n",
            "2\n",
            "\n",
            "\n",
            "1\n",
            "2\n",
            "3\n",
            " \n",
            "4\n",
            "5\n",
            "6\n",
            " \n",
            "7\n",
            "8\n",
            "9\n",
            "readlines----------------------\n",
            "This is line1\n",
            "\n",
            "This is line2\n",
            "\n",
            "123 456 789\n"
          ]
        }
      ]
    },
    {
      "cell_type": "markdown",
      "source": [
        "**9. What data structure does a shelf value resemble?**"
      ],
      "metadata": {
        "id": "txDso-yGj_yD"
      }
    },
    {
      "cell_type": "markdown",
      "source": [
        "A shelf value resembles a dictionary value; it has keys and values, along with keys() and values() methods that work similarly to the dictionary methods of the same names."
      ],
      "metadata": {
        "id": "Pni38pAHkLmw"
      }
    }
  ]
}