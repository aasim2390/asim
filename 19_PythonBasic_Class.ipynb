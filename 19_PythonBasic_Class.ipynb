{
  "nbformat": 4,
  "nbformat_minor": 0,
  "metadata": {
    "colab": {
      "name": "19_PythonBasic_Class.ipynb",
      "provenance": [],
      "collapsed_sections": []
    },
    "kernelspec": {
      "name": "python3",
      "display_name": "Python 3"
    },
    "language_info": {
      "name": "python"
    }
  },
  "cells": [
    {
      "cell_type": "markdown",
      "source": [
        "###Python Basic Programming Assignment 19"
      ],
      "metadata": {
        "id": "1Io9jTFIeJds"
      }
    },
    {
      "cell_type": "markdown",
      "source": [
        "**1. Make a class called Thing with no contents and print it. Then, create an object called example from this class and also print it. Are the printed values the same or different?**"
      ],
      "metadata": {
        "id": "JUuFIlGZsSGF"
      }
    },
    {
      "cell_type": "code",
      "source": [
        "class Thing:\n",
        "  pass"
      ],
      "metadata": {
        "id": "hDbMG55lsVhI"
      },
      "execution_count": 1,
      "outputs": []
    },
    {
      "cell_type": "code",
      "source": [
        "print(Thing)"
      ],
      "metadata": {
        "colab": {
          "base_uri": "https://localhost:8080/"
        },
        "id": "-fxmDLpRscVY",
        "outputId": "8536711b-ab6c-4e8b-b5a6-ee6d56c65501"
      },
      "execution_count": 2,
      "outputs": [
        {
          "output_type": "stream",
          "name": "stdout",
          "text": [
            "<class '__main__.Thing'>\n"
          ]
        }
      ]
    },
    {
      "cell_type": "code",
      "source": [
        "example= Thing()\n",
        "print(example)"
      ],
      "metadata": {
        "colab": {
          "base_uri": "https://localhost:8080/"
        },
        "id": "KhGXFmlPsgb5",
        "outputId": "3017c110-8592-4bb4-adcc-e3b08a6d34da"
      },
      "execution_count": 3,
      "outputs": [
        {
          "output_type": "stream",
          "name": "stdout",
          "text": [
            "<__main__.Thing object at 0x7fd2257b6ad0>\n"
          ]
        }
      ]
    },
    {
      "cell_type": "markdown",
      "source": [
        "The values are different : first one is class and second one is object of that class"
      ],
      "metadata": {
        "id": "YnUFvgpatDyL"
      }
    },
    {
      "cell_type": "markdown",
      "source": [
        "**2. Create a new class called Thing2 and add the value 'abc' to the letters class attribute. Letters should be printed.**"
      ],
      "metadata": {
        "id": "Kf48IyREtNZ-"
      }
    },
    {
      "cell_type": "code",
      "source": [
        "class Thing2:\n",
        "  letters=\"abc\""
      ],
      "metadata": {
        "id": "S5WvwgNBtQyu"
      },
      "execution_count": 4,
      "outputs": []
    },
    {
      "cell_type": "code",
      "source": [
        "print(Thing2.letters)"
      ],
      "metadata": {
        "colab": {
          "base_uri": "https://localhost:8080/"
        },
        "id": "fqgBD2jate61",
        "outputId": "05db2ee0-275f-4139-8255-5d0d9167b43d"
      },
      "execution_count": 6,
      "outputs": [
        {
          "output_type": "stream",
          "name": "stdout",
          "text": [
            "abc\n"
          ]
        }
      ]
    },
    {
      "cell_type": "markdown",
      "source": [
        "**3. Make yet another class called, of course, Thing3. This time, assign the value 'xyz' to an instance (object) attribute called letters. Print letters. Do you need to make an object from the class to do this?**"
      ],
      "metadata": {
        "id": "xncj1xP5tlRj"
      }
    },
    {
      "cell_type": "code",
      "source": [
        "class Thing3:\n",
        "  def __init__(self):\n",
        "    self.letters = \"xyz\"\n",
        "\n"
      ],
      "metadata": {
        "id": "58SPJAC0uKZS"
      },
      "execution_count": 9,
      "outputs": []
    },
    {
      "cell_type": "code",
      "source": [
        "Thing3.letters"
      ],
      "metadata": {
        "colab": {
          "base_uri": "https://localhost:8080/",
          "height": 165
        },
        "id": "h4y7JZaaucQ-",
        "outputId": "dc94967e-e5a1-46f2-e320-45c4bdd28cae"
      },
      "execution_count": 10,
      "outputs": [
        {
          "output_type": "error",
          "ename": "AttributeError",
          "evalue": "ignored",
          "traceback": [
            "\u001b[0;31m---------------------------------------------------------------------------\u001b[0m",
            "\u001b[0;31mAttributeError\u001b[0m                            Traceback (most recent call last)",
            "\u001b[0;32m<ipython-input-10-e5d00e0e35a9>\u001b[0m in \u001b[0;36m<module>\u001b[0;34m()\u001b[0m\n\u001b[0;32m----> 1\u001b[0;31m \u001b[0mThing3\u001b[0m\u001b[0;34m.\u001b[0m\u001b[0mletters\u001b[0m\u001b[0;34m\u001b[0m\u001b[0;34m\u001b[0m\u001b[0m\n\u001b[0m",
            "\u001b[0;31mAttributeError\u001b[0m: type object 'Thing3' has no attribute 'letters'"
          ]
        }
      ]
    },
    {
      "cell_type": "code",
      "source": [
        "ob =Thing3()\n",
        "ob.letters"
      ],
      "metadata": {
        "colab": {
          "base_uri": "https://localhost:8080/",
          "height": 35
        },
        "id": "C6RlmpHkvMds",
        "outputId": "ffa9296a-d611-40ae-e97e-257158324ce0"
      },
      "execution_count": 11,
      "outputs": [
        {
          "output_type": "execute_result",
          "data": {
            "application/vnd.google.colaboratory.intrinsic+json": {
              "type": "string"
            },
            "text/plain": [
              "'xyz'"
            ]
          },
          "metadata": {},
          "execution_count": 11
        }
      ]
    },
    {
      "cell_type": "markdown",
      "source": [
        "In order to access object attribute we need to first create an object (class instance)"
      ],
      "metadata": {
        "id": "1LjjiIPQue3p"
      }
    },
    {
      "cell_type": "markdown",
      "source": [
        "**4. Create an Element class with the instance attributes name, symbol, and number. Create a class object with the values 'Hydrogen,' 'H,' and 1.**"
      ],
      "metadata": {
        "id": "VN5JrMT0u19F"
      }
    },
    {
      "cell_type": "code",
      "source": [
        "class Element:\n",
        "  def __init__(self,name,symbol,number):\n",
        "    self.name = name\n",
        "    self.symbol = symbol\n",
        "    self.number = number\n"
      ],
      "metadata": {
        "id": "YGJHKatXu6wu"
      },
      "execution_count": 23,
      "outputs": []
    },
    {
      "cell_type": "code",
      "source": [
        "ob1 = Element(\"Hydrogen\",\"H\",1)"
      ],
      "metadata": {
        "id": "uUCMnQXSvjqB"
      },
      "execution_count": 16,
      "outputs": []
    },
    {
      "cell_type": "code",
      "source": [
        "ob1.name,ob1.symbol,ob1.number"
      ],
      "metadata": {
        "colab": {
          "base_uri": "https://localhost:8080/"
        },
        "id": "H8PejxLwvm3_",
        "outputId": "4d2a5170-75d2-4050-efee-2c518962e05b"
      },
      "execution_count": 17,
      "outputs": [
        {
          "output_type": "execute_result",
          "data": {
            "text/plain": [
              "('Hydrogen', 'H', 1)"
            ]
          },
          "metadata": {},
          "execution_count": 17
        }
      ]
    },
    {
      "cell_type": "markdown",
      "source": [
        "**5. Make a dictionary with these keys and values: 'name': 'Hydrogen', 'symbol': 'H', 'number': 1. Then, create an object called hydrogen from class Element using this dictionary.**"
      ],
      "metadata": {
        "id": "v-o1i-xBu4xt"
      }
    },
    {
      "cell_type": "code",
      "source": [
        "d1 = {'name' : 'Hydrogen', 'symbol':'H','number' :1}"
      ],
      "metadata": {
        "id": "cY918WepwV5U"
      },
      "execution_count": 25,
      "outputs": []
    },
    {
      "cell_type": "code",
      "source": [
        "ob2=Element(d1['name'],d1['symbol'],d1['number'])"
      ],
      "metadata": {
        "id": "i5NcHRd_wuD7"
      },
      "execution_count": 26,
      "outputs": []
    },
    {
      "cell_type": "code",
      "source": [
        "ob2.name,ob2.symbol,ob2.number"
      ],
      "metadata": {
        "colab": {
          "base_uri": "https://localhost:8080/"
        },
        "id": "Mn5qHo2mw3em",
        "outputId": "48ebe1dc-83f1-4877-82fe-aa1fcc84dc38"
      },
      "execution_count": 27,
      "outputs": [
        {
          "output_type": "execute_result",
          "data": {
            "text/plain": [
              "('Hydrogen', 1, 'H')"
            ]
          },
          "metadata": {},
          "execution_count": 27
        }
      ]
    },
    {
      "cell_type": "code",
      "source": [
        "##Another way\n",
        "\n",
        "hydrogen = Element(**d1)\n",
        "print(hydrogen.name,hydrogen.symbol,hydrogen.number)"
      ],
      "metadata": {
        "colab": {
          "base_uri": "https://localhost:8080/"
        },
        "id": "9mOMigZ_xBGY",
        "outputId": "021ae983-3121-4a81-c84d-3a77b76c618e"
      },
      "execution_count": 28,
      "outputs": [
        {
          "output_type": "stream",
          "name": "stdout",
          "text": [
            "Hydrogen H 1\n"
          ]
        }
      ]
    },
    {
      "cell_type": "markdown",
      "source": [
        "**6. For the Element class, define a method called dump() that prints the values of the object’s attributes (name, symbol, and number). Create the hydrogen object from this new definition and use dump() to print its attributes.**"
      ],
      "metadata": {
        "id": "1H78cmI8xp07"
      }
    },
    {
      "cell_type": "code",
      "source": [
        "class Element:\n",
        "\n",
        "  def __init__(self,name,symbol,number):\n",
        "    self.name=name\n",
        "    self.number=number\n",
        "    self.symbol=symbol\n",
        "\n",
        "  def dump(self):\n",
        "    print(self.name,self.symbol,self.number)"
      ],
      "metadata": {
        "id": "RpcDcLHjxs22"
      },
      "execution_count": 29,
      "outputs": []
    },
    {
      "cell_type": "code",
      "source": [
        "hydrogen=Element(**d1)  #dictionary created in Q5\n",
        "hydrogen.dump()"
      ],
      "metadata": {
        "colab": {
          "base_uri": "https://localhost:8080/"
        },
        "id": "ri8PmVQSyJ05",
        "outputId": "825c3828-6586-40de-f978-b4d8223be155"
      },
      "execution_count": 31,
      "outputs": [
        {
          "output_type": "stream",
          "name": "stdout",
          "text": [
            "Hydrogen H 1\n"
          ]
        }
      ]
    },
    {
      "cell_type": "markdown",
      "source": [
        "**7. Call print(hydrogen). In the definition of Element, change the name of method dump to __str__, create a new hydrogen object, and call print(hydrogen) again.**"
      ],
      "metadata": {
        "id": "3kqWbxRZyaGK"
      }
    },
    {
      "cell_type": "code",
      "source": [
        "print(hydrogen)"
      ],
      "metadata": {
        "colab": {
          "base_uri": "https://localhost:8080/"
        },
        "id": "fJ_FEHQVyeQv",
        "outputId": "c61bd5f5-00bc-4798-c5ea-824d3824740b"
      },
      "execution_count": 32,
      "outputs": [
        {
          "output_type": "stream",
          "name": "stdout",
          "text": [
            "<__main__.Element object at 0x7fd2215a0650>\n"
          ]
        }
      ]
    },
    {
      "cell_type": "code",
      "source": [
        "class Element:\n",
        "\n",
        "  def __init__(self,name,symbol,number):\n",
        "    self.name=name\n",
        "    self.number=number\n",
        "    self.symbol=symbol\n",
        "\n",
        "  def dump(self):\n",
        "    print(self.name,self.symbol,self.number)\n",
        "\n",
        "  def __str__(self):\n",
        "    return \"Values are -\"+self.name +\" : \"+self.symbol + \" : \"+str(self.number)"
      ],
      "metadata": {
        "id": "jzqevkMMymPq"
      },
      "execution_count": 43,
      "outputs": []
    },
    {
      "cell_type": "code",
      "source": [
        "hydrogen =Element(\"Hydrogen\",\"H\",1)"
      ],
      "metadata": {
        "id": "maDfBsQFy3cJ"
      },
      "execution_count": 44,
      "outputs": []
    },
    {
      "cell_type": "code",
      "source": [
        "print(hydrogen)"
      ],
      "metadata": {
        "colab": {
          "base_uri": "https://localhost:8080/"
        },
        "id": "6MIDnbnsy8aa",
        "outputId": "81f3fd0a-b7d3-4c3b-8466-51dbba828852"
      },
      "execution_count": 45,
      "outputs": [
        {
          "output_type": "stream",
          "name": "stdout",
          "text": [
            "Values are -Hydrogen : H : 1\n"
          ]
        }
      ]
    },
    {
      "cell_type": "code",
      "source": [
        "hydrogen.dump()"
      ],
      "metadata": {
        "colab": {
          "base_uri": "https://localhost:8080/"
        },
        "id": "Zkzes9vXzPs2",
        "outputId": "b0fbcc29-669a-4745-9120-0cf7b73f635b"
      },
      "execution_count": 46,
      "outputs": [
        {
          "output_type": "stream",
          "name": "stdout",
          "text": [
            "Hydrogen H 1\n"
          ]
        }
      ]
    },
    {
      "cell_type": "markdown",
      "source": [
        "**8. Modify Element to make the attributes name, symbol, and number private. Define a getter property for each to return its value.**"
      ],
      "metadata": {
        "id": "MIDuxNGLzc7R"
      }
    },
    {
      "cell_type": "code",
      "source": [
        "class Element:\n",
        "  def __init__(self,name,symbol,number):\n",
        "    self._name=name\n",
        "    self._symbol=symbol\n",
        "    self._number=number\n",
        "\n",
        "  @property\n",
        "  def name(self):\n",
        "    return self._name\n",
        "\n",
        "  @property\n",
        "  def symbol(self):\n",
        "    return self._symbol\n",
        "\n",
        "  @property\n",
        "  def number(self):\n",
        "    return self._number\n",
        "\n",
        "  "
      ],
      "metadata": {
        "id": "KxxE_-_BzfRC"
      },
      "execution_count": 49,
      "outputs": []
    },
    {
      "cell_type": "code",
      "source": [
        "ob4 = Element(\"Hydrogen\",\"H\",1)\n",
        "ob4.name,ob4.number,ob4.symbol"
      ],
      "metadata": {
        "colab": {
          "base_uri": "https://localhost:8080/"
        },
        "id": "xXsm66uv0Shd",
        "outputId": "6b8897da-67c9-4c9e-c34f-a12e9de6f6b7"
      },
      "execution_count": 50,
      "outputs": [
        {
          "output_type": "execute_result",
          "data": {
            "text/plain": [
              "('Hydrogen', 1, 'H')"
            ]
          },
          "metadata": {},
          "execution_count": 50
        }
      ]
    },
    {
      "cell_type": "markdown",
      "source": [
        "**9. Define three classes: Bear, Rabbit, and Octothorpe. For each, define only one method: eats(). This should return 'berries' (Bear), 'clover' (Rabbit), or 'campers' (Octothorpe). Create one object from each and print what it eats.**"
      ],
      "metadata": {
        "id": "EjdLl6Cf0ovu"
      }
    },
    {
      "cell_type": "code",
      "source": [
        "class Bear:\n",
        "  def eats(self):\n",
        "    return 'berries'\n",
        "\n",
        "class Rabbit:\n",
        "  def eats(self):\n",
        "    return 'clover'\n",
        "\n",
        "class Octothorpe:\n",
        "  def eats(self):\n",
        "    return 'campers'"
      ],
      "metadata": {
        "id": "40xJ318K0r4g"
      },
      "execution_count": 54,
      "outputs": []
    },
    {
      "cell_type": "code",
      "source": [
        "b=Bear()\n",
        "r=Rabbit()\n",
        "o=Octothorpe()"
      ],
      "metadata": {
        "id": "xBcBMPWt1DC6"
      },
      "execution_count": 55,
      "outputs": []
    },
    {
      "cell_type": "code",
      "source": [
        "print(b.eats())\n",
        "print(r.eats())\n",
        "print(o.eats())"
      ],
      "metadata": {
        "colab": {
          "base_uri": "https://localhost:8080/"
        },
        "id": "RF8KfWDE1Jen",
        "outputId": "dd5be5e9-0614-4fb4-9fb2-fcc2eea8f4d8"
      },
      "execution_count": 56,
      "outputs": [
        {
          "output_type": "stream",
          "name": "stdout",
          "text": [
            "berries\n",
            "clover\n",
            "campers\n"
          ]
        }
      ]
    },
    {
      "cell_type": "markdown",
      "source": [
        "**10. Define these classes: Laser, Claw, and SmartPhone. Each has only one method: does(). This returns 'disintegrate' (Laser), 'crush' (Claw), or 'ring' (SmartPhone). Then, define the class Robot that has one instance (object) of each of these. Define a does() method for the Robot that prints what its component objects do.**"
      ],
      "metadata": {
        "id": "a581Rj5_1cPl"
      }
    },
    {
      "cell_type": "code",
      "source": [
        "class Laser:\n",
        "  def does(self):\n",
        "    return 'disintegrate'\n",
        "\n",
        "class Claw:\n",
        "  def does(self):\n",
        "    return 'crush'\n",
        "\n",
        "class SmartPhone:\n",
        "  def does(self):\n",
        "    return 'ring'\n",
        "\n"
      ],
      "metadata": {
        "id": "r-349lBS1fNC"
      },
      "execution_count": 65,
      "outputs": []
    },
    {
      "cell_type": "code",
      "source": [
        "class Robot:\n",
        "  def __init__(self,ob1,ob2,ob3):\n",
        "    self.ob1=ob1\n",
        "    self.ob2=ob2\n",
        "    self.ob3=ob3\n",
        "\n",
        "  def does(self):\n",
        "    print(self.ob1.does(),self.ob2.does(),self.ob3.does())"
      ],
      "metadata": {
        "id": "GFNjHE-qArqE"
      },
      "execution_count": 67,
      "outputs": []
    },
    {
      "cell_type": "code",
      "source": [
        "l=Laser()\n",
        "c=Claw()\n",
        "s=SmartPhone()\n"
      ],
      "metadata": {
        "id": "Z794WEkvBReK"
      },
      "execution_count": 68,
      "outputs": []
    },
    {
      "cell_type": "code",
      "source": [
        "ob = Robot(l,c,s)"
      ],
      "metadata": {
        "id": "OFZ34mVKBa6e"
      },
      "execution_count": 69,
      "outputs": []
    },
    {
      "cell_type": "code",
      "source": [
        "ob.does()"
      ],
      "metadata": {
        "colab": {
          "base_uri": "https://localhost:8080/"
        },
        "id": "3Z4Zt_W-BgDz",
        "outputId": "4d15a18d-dd44-45eb-979a-60ceb7bdd29f"
      },
      "execution_count": 70,
      "outputs": [
        {
          "output_type": "stream",
          "name": "stdout",
          "text": [
            "disintegrate crush ring\n"
          ]
        }
      ]
    }
  ]
}