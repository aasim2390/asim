{
  "nbformat": 4,
  "nbformat_minor": 0,
  "metadata": {
    "colab": {
      "name": "18_Modules_Dict_PythonBasic.ipynb",
      "provenance": [],
      "collapsed_sections": []
    },
    "kernelspec": {
      "name": "python3",
      "display_name": "Python 3"
    },
    "language_info": {
      "name": "python"
    }
  },
  "cells": [
    {
      "cell_type": "markdown",
      "source": [
        "###Python Basic Assignment 18"
      ],
      "metadata": {
        "id": "1Io9jTFIeJds"
      }
    },
    {
      "cell_type": "markdown",
      "source": [
        "**1. Create a zoo.py file first. Define the hours() function, which prints the string 'Open 9-5 daily'. Then, use the interactive interpreter to import the zoo module and call its hours() function.**"
      ],
      "metadata": {
        "id": "Lkbg8oBT37fG"
      }
    },
    {
      "cell_type": "markdown",
      "source": [
        "Program:\n",
        "\n",
        "![image.png](data:image/png;base64,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)"
      ],
      "metadata": {
        "id": "6-05wbgc3-fv"
      }
    },
    {
      "cell_type": "markdown",
      "source": [
        "output:\n",
        "\n",
        "![image.png](data:image/png;base64,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)\n"
      ],
      "metadata": {
        "id": "B6yFmp8O4vU4"
      }
    },
    {
      "cell_type": "markdown",
      "source": [
        "**2. In the interactive interpreter, import the zoo module as menagerie and call its hours() function.**"
      ],
      "metadata": {
        "id": "Rq2-c-CI415W"
      }
    },
    {
      "cell_type": "markdown",
      "source": [
        "![image.png](data:image/png;base64,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)"
      ],
      "metadata": {
        "id": "ENwrM9RM4-RC"
      }
    },
    {
      "cell_type": "markdown",
      "source": [
        "**3. Using the interpreter, explicitly import and call the hours() function from zoo.**"
      ],
      "metadata": {
        "id": "NBMO5MSk5VnT"
      }
    },
    {
      "cell_type": "markdown",
      "source": [
        "![image.png](data:image/png;base64,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)"
      ],
      "metadata": {
        "id": "UY_oJAIE5iU6"
      }
    },
    {
      "cell_type": "markdown",
      "source": [
        "**4. Import the hours() function as info and call it.**"
      ],
      "metadata": {
        "id": "EAIhbvlD55IY"
      }
    },
    {
      "cell_type": "markdown",
      "source": [
        "![image.png](data:image/png;base64,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)"
      ],
      "metadata": {
        "id": "AJddeDKu6QW0"
      }
    },
    {
      "cell_type": "markdown",
      "source": [
        "**5. Create a plain dictionary with the key-value pairs 'a': 1, 'b': 2, and 'c': 3, and print it out.**"
      ],
      "metadata": {
        "id": "jYa2PIgh6SDU"
      }
    },
    {
      "cell_type": "code",
      "source": [
        "d = {'a':1,'b':2,'c':3}"
      ],
      "metadata": {
        "id": "v-pFANV16bvO"
      },
      "execution_count": 19,
      "outputs": []
    },
    {
      "cell_type": "code",
      "source": [
        "print(d)"
      ],
      "metadata": {
        "colab": {
          "base_uri": "https://localhost:8080/"
        },
        "id": "7fRuP-hu6sun",
        "outputId": "04b40ff1-feb2-42ee-e57e-655ef210a5ad"
      },
      "execution_count": 20,
      "outputs": [
        {
          "output_type": "stream",
          "name": "stdout",
          "text": [
            "{'a': 1, 'b': 2, 'c': 3}\n"
          ]
        }
      ]
    },
    {
      "cell_type": "markdown",
      "source": [
        "**6.Make an OrderedDict called fancy from the same pairs listed in 5 and print it. Did it print in the same order as plain?**"
      ],
      "metadata": {
        "id": "tPw9eP6x6bDy"
      }
    },
    {
      "cell_type": "code",
      "source": [
        "from collections import OrderedDict\n",
        "\n",
        "ord_d = OrderedDict()"
      ],
      "metadata": {
        "id": "WeaXfdlz6yk-"
      },
      "execution_count": 21,
      "outputs": []
    },
    {
      "cell_type": "code",
      "source": [
        "ord_d={'a':1,'b':2,'c':3}\n",
        "print(ord_d)"
      ],
      "metadata": {
        "colab": {
          "base_uri": "https://localhost:8080/"
        },
        "id": "tLc0xaUG665q",
        "outputId": "a437f19a-6add-473d-beed-e1d9cb9dd828"
      },
      "execution_count": 22,
      "outputs": [
        {
          "output_type": "stream",
          "name": "stdout",
          "text": [
            "{'a': 1, 'b': 2, 'c': 3}\n"
          ]
        }
      ]
    },
    {
      "cell_type": "markdown",
      "source": [
        "For this example, orde is same for both the dictionaries"
      ],
      "metadata": {
        "id": "zmBNdnIk7DoT"
      }
    },
    {
      "cell_type": "markdown",
      "source": [
        "**7. Make a default dictionary called dict_of_lists and pass it the argument list. Make the list dict_of_lists['a'] and append the value 'something for a' to it in one assignment. Print dict_of_lists['a'].**"
      ],
      "metadata": {
        "id": "VA9hjNv-7IS6"
      }
    },
    {
      "cell_type": "code",
      "source": [
        "dict_of_lists=dict()"
      ],
      "metadata": {
        "id": "lfKhpdVSGBC0"
      },
      "execution_count": 23,
      "outputs": []
    },
    {
      "cell_type": "code",
      "source": [
        "dict_of_lists.setdefault('a',\"something for a\")"
      ],
      "metadata": {
        "colab": {
          "base_uri": "https://localhost:8080/",
          "height": 35
        },
        "id": "u_zFIu0PGG87",
        "outputId": "33b4c3be-bfae-4608-f6aa-46776a34d1a7"
      },
      "execution_count": 24,
      "outputs": [
        {
          "output_type": "execute_result",
          "data": {
            "application/vnd.google.colaboratory.intrinsic+json": {
              "type": "string"
            },
            "text/plain": [
              "'something for a'"
            ]
          },
          "metadata": {},
          "execution_count": 24
        }
      ]
    },
    {
      "cell_type": "code",
      "source": [
        "dict_of_lists['a']"
      ],
      "metadata": {
        "colab": {
          "base_uri": "https://localhost:8080/",
          "height": 35
        },
        "id": "ADarkBd5GmBw",
        "outputId": "67f1529d-8870-4e37-a269-67589cdfc7bf"
      },
      "execution_count": 25,
      "outputs": [
        {
          "output_type": "execute_result",
          "data": {
            "application/vnd.google.colaboratory.intrinsic+json": {
              "type": "string"
            },
            "text/plain": [
              "'something for a'"
            ]
          },
          "metadata": {},
          "execution_count": 25
        }
      ]
    },
    {
      "cell_type": "markdown",
      "source": [
        "Note:"
      ],
      "metadata": {
        "id": "4PreYVLFGq-O"
      }
    },
    {
      "cell_type": "code",
      "source": [
        "l1=['a', 1, 'b', 2, 'c', 3]"
      ],
      "metadata": {
        "id": "CBy8OKJxDQl4"
      },
      "execution_count": 26,
      "outputs": []
    },
    {
      "cell_type": "code",
      "source": [
        "it = iter(l1)"
      ],
      "metadata": {
        "id": "6VbSoAMlEF89"
      },
      "execution_count": 27,
      "outputs": []
    },
    {
      "cell_type": "code",
      "source": [
        "dict_of_lists = dict(zip(it, it))"
      ],
      "metadata": {
        "id": "1sFGbK9dEfbB"
      },
      "execution_count": 28,
      "outputs": []
    },
    {
      "cell_type": "code",
      "source": [
        "dict_of_lists"
      ],
      "metadata": {
        "colab": {
          "base_uri": "https://localhost:8080/"
        },
        "id": "QsktWbeqEU6X",
        "outputId": "886e2f0b-e053-469d-c31f-aad23f8b5d5c"
      },
      "execution_count": 29,
      "outputs": [
        {
          "output_type": "execute_result",
          "data": {
            "text/plain": [
              "{'a': 1, 'b': 2, 'c': 3}"
            ]
          },
          "metadata": {},
          "execution_count": 29
        }
      ]
    }
  ]
}