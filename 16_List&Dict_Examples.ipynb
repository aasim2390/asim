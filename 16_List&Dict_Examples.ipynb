{
  "nbformat": 4,
  "nbformat_minor": 0,
  "metadata": {
    "colab": {
      "name": "16_List&Dict_Examples.ipynb",
      "provenance": [],
      "collapsed_sections": []
    },
    "kernelspec": {
      "name": "python3",
      "display_name": "Python 3"
    },
    "language_info": {
      "name": "python"
    }
  },
  "cells": [
    {
      "cell_type": "markdown",
      "source": [
        "###Python Basic Assignment 16"
      ],
      "metadata": {
        "id": "1Io9jTFIeJds"
      }
    },
    {
      "cell_type": "markdown",
      "source": [
        "**1. Create a list called years_list, starting with the year of your birth, and each year thereafter until the year of your fifth birthday. For example, if you were born in 1980. the list would be years_list = [1980, 1981, 1982, 1983, 1984, 1985].**"
      ],
      "metadata": {
        "id": "HfrBsXj2SvQc"
      }
    },
    {
      "cell_type": "code",
      "source": [
        "year_of_birth =1990\n",
        "n=5\n",
        "years_list=[]\n",
        "\n",
        "for i in range(n):\n",
        "  years_list.append(year_of_birth)\n",
        "  year_of_birth+=1\n",
        "  "
      ],
      "metadata": {
        "id": "em74qoCGTZmG"
      },
      "execution_count": 4,
      "outputs": []
    },
    {
      "cell_type": "code",
      "source": [
        "years_list"
      ],
      "metadata": {
        "colab": {
          "base_uri": "https://localhost:8080/"
        },
        "id": "GdJdQhAyT4eJ",
        "outputId": "9a742c1c-e3f8-4458-fc7b-c0c8a6dc37c6"
      },
      "execution_count": 5,
      "outputs": [
        {
          "output_type": "execute_result",
          "data": {
            "text/plain": [
              "[1990, 1991, 1992, 1993, 1994]"
            ]
          },
          "metadata": {},
          "execution_count": 5
        }
      ]
    },
    {
      "cell_type": "markdown",
      "source": [
        "**2. In which year in years_list was your third birthday? Remember, you were 0 years of age for your first year.**"
      ],
      "metadata": {
        "id": "vNiST4y9S3rC"
      }
    },
    {
      "cell_type": "code",
      "source": [
        "years_list[2]"
      ],
      "metadata": {
        "colab": {
          "base_uri": "https://localhost:8080/"
        },
        "id": "Zoi5Uq4sUGDO",
        "outputId": "3d407ed8-2e54-41b5-ae60-3e5c8ccd1c89"
      },
      "execution_count": 6,
      "outputs": [
        {
          "output_type": "execute_result",
          "data": {
            "text/plain": [
              "1992"
            ]
          },
          "metadata": {},
          "execution_count": 6
        }
      ]
    },
    {
      "cell_type": "markdown",
      "source": [
        "**3.In the years list, which year were you the oldest?**"
      ],
      "metadata": {
        "id": "mFpsgc6dUPsV"
      }
    },
    {
      "cell_type": "code",
      "source": [
        "max(years_list)"
      ],
      "metadata": {
        "colab": {
          "base_uri": "https://localhost:8080/"
        },
        "id": "RFkVot5jUOS6",
        "outputId": "8ce17bbc-a788-4e36-e38b-5889b590563e"
      },
      "execution_count": 7,
      "outputs": [
        {
          "output_type": "execute_result",
          "data": {
            "text/plain": [
              "1994"
            ]
          },
          "metadata": {},
          "execution_count": 7
        }
      ]
    },
    {
      "cell_type": "markdown",
      "source": [
        "**4. Make a list called things with these three strings as elements: \"mozzarella\", \"cinderella\", \"salmonella\".**"
      ],
      "metadata": {
        "id": "FWPISJ83UTYQ"
      }
    },
    {
      "cell_type": "code",
      "source": [
        "lst=[\"mozzarella\", \"cinderella\", \"salmonella\"]\n",
        "lst"
      ],
      "metadata": {
        "colab": {
          "base_uri": "https://localhost:8080/"
        },
        "id": "Iwdrkv1KUZ1D",
        "outputId": "e1a8d978-d4e9-431d-a126-323e8be9a202"
      },
      "execution_count": 30,
      "outputs": [
        {
          "output_type": "execute_result",
          "data": {
            "text/plain": [
              "['mozzarella', 'cinderella', 'salmonella']"
            ]
          },
          "metadata": {},
          "execution_count": 30
        }
      ]
    },
    {
      "cell_type": "markdown",
      "source": [
        "**5. Capitalize the element in things that refers to a person and then print the list. Did it change the element in the list?**"
      ],
      "metadata": {
        "id": "QHe3UcOKUhjj"
      }
    },
    {
      "cell_type": "code",
      "source": [
        "# only cindrella is the person name\n",
        "\n",
        "def personCapitalzie(lst):\n",
        "  temp=[]\n",
        "  for name in lst:\n",
        "    if (name.lower() == \"cinderella\"):\n",
        "      temp.append(name.capitalize())\n",
        "      continue\n",
        "    temp.append(name)\n",
        "  return temp"
      ],
      "metadata": {
        "id": "iofHsO0kUij8"
      },
      "execution_count": 31,
      "outputs": []
    },
    {
      "cell_type": "code",
      "source": [
        "for elem in lst:\n",
        "  print(elem, id(elem))"
      ],
      "metadata": {
        "colab": {
          "base_uri": "https://localhost:8080/"
        },
        "id": "2dTjLrF0XpHL",
        "outputId": "55b8c50a-3143-46ca-d472-763e9cefb5e2"
      },
      "execution_count": 32,
      "outputs": [
        {
          "output_type": "stream",
          "name": "stdout",
          "text": [
            "mozzarella 140644662398576\n",
            "cinderella 140644609666992\n",
            "salmonella 140644540333296\n"
          ]
        }
      ]
    },
    {
      "cell_type": "code",
      "source": [
        "res=personCapitalzie(lst)\n",
        "res"
      ],
      "metadata": {
        "colab": {
          "base_uri": "https://localhost:8080/"
        },
        "id": "LS3CZPmfWGlV",
        "outputId": "4bd56cef-aa7c-4f6c-e87b-fe3745b16f31"
      },
      "execution_count": 35,
      "outputs": [
        {
          "output_type": "execute_result",
          "data": {
            "text/plain": [
              "['mozzarella', 'Cinderella', 'salmonella']"
            ]
          },
          "metadata": {},
          "execution_count": 35
        }
      ]
    },
    {
      "cell_type": "code",
      "source": [
        "for elem in res:\n",
        "  print(elem, id(elem))"
      ],
      "metadata": {
        "colab": {
          "base_uri": "https://localhost:8080/"
        },
        "id": "AbTZaU5SXpBV",
        "outputId": "f43fbbe1-77a4-478c-e593-0c81eb683658"
      },
      "execution_count": 36,
      "outputs": [
        {
          "output_type": "stream",
          "name": "stdout",
          "text": [
            "mozzarella 140644662398576\n",
            "Cinderella 140644540085488\n",
            "salmonella 140644540333296\n"
          ]
        }
      ]
    },
    {
      "cell_type": "markdown",
      "source": [
        "We can see from the above output that the element got changed."
      ],
      "metadata": {
        "id": "t2inzi2kX_hu"
      }
    },
    {
      "cell_type": "markdown",
      "source": [
        "**6. Make a surprise list with the elements \"Groucho,\" \"Chico,\" and \"Harpo.\"**"
      ],
      "metadata": {
        "id": "dRSrCK5KYGMG"
      }
    },
    {
      "cell_type": "code",
      "source": [
        "surprise_list = [\"Groucho\", \"Chico\", \"Harpo\"]\n",
        "surprise_list"
      ],
      "metadata": {
        "colab": {
          "base_uri": "https://localhost:8080/"
        },
        "id": "dtgblWNuYN0k",
        "outputId": "9e2133f5-b30a-4048-b982-99693056aa8a"
      },
      "execution_count": 37,
      "outputs": [
        {
          "output_type": "execute_result",
          "data": {
            "text/plain": [
              "['Groucho', 'Chico', 'Harpo']"
            ]
          },
          "metadata": {},
          "execution_count": 37
        }
      ]
    },
    {
      "cell_type": "markdown",
      "source": [
        "**7. Lowercase the last element of the surprise list, reverse it, and then capitalize it.**"
      ],
      "metadata": {
        "id": "GTdKEODVYQxF"
      }
    },
    {
      "cell_type": "code",
      "source": [
        "##1 Lowercase the last element\n",
        "surprise_list[-1] = surprise_list[-1].lower()\n",
        "surprise_list"
      ],
      "metadata": {
        "colab": {
          "base_uri": "https://localhost:8080/"
        },
        "id": "4dqIIfyKYTfL",
        "outputId": "f2c0f30f-07f5-4c99-aa59-56f9b2dc08af"
      },
      "execution_count": 39,
      "outputs": [
        {
          "output_type": "execute_result",
          "data": {
            "text/plain": [
              "['Groucho', 'Chico', 'harpo']"
            ]
          },
          "metadata": {},
          "execution_count": 39
        }
      ]
    },
    {
      "cell_type": "code",
      "source": [
        "##2 reverse the alst element\n",
        "s = surprise_list[-1]\n",
        "s=s[::-1]\n",
        "surprise_list[-1]=s\n",
        "\n",
        "surprise_list"
      ],
      "metadata": {
        "colab": {
          "base_uri": "https://localhost:8080/"
        },
        "id": "_MCSr3FKYinV",
        "outputId": "d07572b6-2617-457c-99be-d4087241b9bd"
      },
      "execution_count": 42,
      "outputs": [
        {
          "output_type": "execute_result",
          "data": {
            "text/plain": [
              "['Groucho', 'Chico', 'oprah']"
            ]
          },
          "metadata": {},
          "execution_count": 42
        }
      ]
    },
    {
      "cell_type": "code",
      "source": [
        "##3 Capitalize the last element\n",
        "surprise_list[-1] = surprise_list[-1].capitalize()\n",
        "surprise_list"
      ],
      "metadata": {
        "colab": {
          "base_uri": "https://localhost:8080/"
        },
        "id": "VTc0YkSxY90D",
        "outputId": "b54dac3b-c138-476b-ebad-f688d2e52507"
      },
      "execution_count": 43,
      "outputs": [
        {
          "output_type": "execute_result",
          "data": {
            "text/plain": [
              "['Groucho', 'Chico', 'Oprah']"
            ]
          },
          "metadata": {},
          "execution_count": 43
        }
      ]
    },
    {
      "cell_type": "markdown",
      "source": [
        "**8. Make an English-to-French dictionary called e2f and print it. Here are your starter words: dog is chien, cat is chat, and walrus is morse.**"
      ],
      "metadata": {
        "id": "ic1G_8jJZOGh"
      }
    },
    {
      "cell_type": "code",
      "source": [
        "e2f ={\"dog\":\"chien\",\"cat\":\"chat\",\"walrus\":\"morse\"}\n",
        "  \n",
        "    "
      ],
      "metadata": {
        "id": "qdWWNU-LZRy-"
      },
      "execution_count": 52,
      "outputs": []
    },
    {
      "cell_type": "code",
      "source": [
        "e2f[\"dog\"]"
      ],
      "metadata": {
        "colab": {
          "base_uri": "https://localhost:8080/",
          "height": 35
        },
        "id": "1pFvHaNLaE_D",
        "outputId": "afa975b0-a92d-482a-9c1f-07b0e3bb5d38"
      },
      "execution_count": 53,
      "outputs": [
        {
          "output_type": "execute_result",
          "data": {
            "application/vnd.google.colaboratory.intrinsic+json": {
              "type": "string"
            },
            "text/plain": [
              "'chien'"
            ]
          },
          "metadata": {},
          "execution_count": 53
        }
      ]
    },
    {
      "cell_type": "markdown",
      "source": [
        "**9. Write the French word for walrus in your three-word dictionary e2f.**"
      ],
      "metadata": {
        "id": "upLh5bbza_2A"
      }
    },
    {
      "cell_type": "code",
      "source": [
        "e2f[\"walrus\"]"
      ],
      "metadata": {
        "colab": {
          "base_uri": "https://localhost:8080/",
          "height": 35
        },
        "id": "zg9xkrshbeEw",
        "outputId": "e00b4e88-af92-499a-fcf9-c9dfe7d32f20"
      },
      "execution_count": 54,
      "outputs": [
        {
          "output_type": "execute_result",
          "data": {
            "application/vnd.google.colaboratory.intrinsic+json": {
              "type": "string"
            },
            "text/plain": [
              "'morse'"
            ]
          },
          "metadata": {},
          "execution_count": 54
        }
      ]
    },
    {
      "cell_type": "markdown",
      "source": [
        "**10. Make a French-to-English dictionary called f2e from e2f. Use the items method.**"
      ],
      "metadata": {
        "id": "tIbEcw_Ubl1f"
      }
    },
    {
      "cell_type": "code",
      "source": [
        "f2e = {val:key for key,val in e2f.items()}"
      ],
      "metadata": {
        "id": "a6jNBlKNbqhf"
      },
      "execution_count": 58,
      "outputs": []
    },
    {
      "cell_type": "code",
      "source": [
        "f2e"
      ],
      "metadata": {
        "colab": {
          "base_uri": "https://localhost:8080/"
        },
        "id": "jYK-OxYfcFOn",
        "outputId": "67409be3-69c4-4390-de0d-6a57d6d392e0"
      },
      "execution_count": 59,
      "outputs": [
        {
          "output_type": "execute_result",
          "data": {
            "text/plain": [
              "{'chat': 'cat', 'chien': 'dog', 'morse': 'walrus'}"
            ]
          },
          "metadata": {},
          "execution_count": 59
        }
      ]
    },
    {
      "cell_type": "markdown",
      "source": [
        "**11. Print the English version of the French word chien using f2e.**"
      ],
      "metadata": {
        "id": "8Vkb6x6IcUuL"
      }
    },
    {
      "cell_type": "code",
      "source": [
        "f2e[\"chien\"]"
      ],
      "metadata": {
        "colab": {
          "base_uri": "https://localhost:8080/",
          "height": 35
        },
        "id": "-QWW58UxcXih",
        "outputId": "a3526e99-6aef-49db-d64e-f7fa70e08e0d"
      },
      "execution_count": 60,
      "outputs": [
        {
          "output_type": "execute_result",
          "data": {
            "application/vnd.google.colaboratory.intrinsic+json": {
              "type": "string"
            },
            "text/plain": [
              "'dog'"
            ]
          },
          "metadata": {},
          "execution_count": 60
        }
      ]
    },
    {
      "cell_type": "markdown",
      "source": [
        "**12. Make and print a set of English words from the keys in e2f.**"
      ],
      "metadata": {
        "id": "pf6hJxFjcf_Q"
      }
    },
    {
      "cell_type": "code",
      "source": [
        "for word in e2f.values():\n",
        "  print(word)"
      ],
      "metadata": {
        "colab": {
          "base_uri": "https://localhost:8080/"
        },
        "id": "v_sJXHjgchik",
        "outputId": "b5dbd784-05f1-4d03-fcd0-48de38c6243b"
      },
      "execution_count": 62,
      "outputs": [
        {
          "output_type": "stream",
          "name": "stdout",
          "text": [
            "chien\n",
            "chat\n",
            "morse\n"
          ]
        }
      ]
    },
    {
      "cell_type": "markdown",
      "source": [
        "**13. Make a multilevel dictionary called life. Use these strings for the topmost keys: 'animals', 'plants', and 'other'. Make the 'animals' key refer to another dictionary with the keys 'cats', 'octopi', and 'emus'. Make the 'cats' key refer to a list of strings with the values 'Henri', 'Grumpy', and 'Lucy'. Make all the other keys refer to empty dictionaries.**"
      ],
      "metadata": {
        "id": "UYmszFmxcrcM"
      }
    },
    {
      "cell_type": "code",
      "source": [
        "life={\"animals\":{\"cats\":[ 'Henri', 'Grumpy','Lucy'],\"octopi\":{},\"emus\":{}},\"plants\":{},\"other\":{}}"
      ],
      "metadata": {
        "id": "JXFRGkpTcskb"
      },
      "execution_count": 63,
      "outputs": []
    },
    {
      "cell_type": "markdown",
      "source": [
        "**14. Print the top-level keys of life.**"
      ],
      "metadata": {
        "id": "D1TFo3OEdWVq"
      }
    },
    {
      "cell_type": "code",
      "source": [
        "life.keys()"
      ],
      "metadata": {
        "colab": {
          "base_uri": "https://localhost:8080/"
        },
        "id": "Xk8J4JqGdY0w",
        "outputId": "0c8ad417-3f1b-4c0f-d40d-68d4c7787a37"
      },
      "execution_count": 65,
      "outputs": [
        {
          "output_type": "execute_result",
          "data": {
            "text/plain": [
              "dict_keys(['animals', 'plants', 'other'])"
            ]
          },
          "metadata": {},
          "execution_count": 65
        }
      ]
    },
    {
      "cell_type": "markdown",
      "source": [
        "**15. Print the keys for life['animals'].**"
      ],
      "metadata": {
        "id": "VUGnWuordgtt"
      }
    },
    {
      "cell_type": "code",
      "source": [
        "life['animals'].keys()"
      ],
      "metadata": {
        "colab": {
          "base_uri": "https://localhost:8080/"
        },
        "id": "HRfTsPnGdjHo",
        "outputId": "ac78a8a5-c19f-4860-9bc0-7564e506214f"
      },
      "execution_count": 66,
      "outputs": [
        {
          "output_type": "execute_result",
          "data": {
            "text/plain": [
              "dict_keys(['cats', 'octopi', 'emus'])"
            ]
          },
          "metadata": {},
          "execution_count": 66
        }
      ]
    },
    {
      "cell_type": "markdown",
      "source": [
        "**16. Print the values for life['animals']['cats']**"
      ],
      "metadata": {
        "id": "I5Q6plsddneF"
      }
    },
    {
      "cell_type": "code",
      "source": [
        "life['animals']['cats']"
      ],
      "metadata": {
        "colab": {
          "base_uri": "https://localhost:8080/"
        },
        "id": "oyDgOXo1dpr4",
        "outputId": "0926d31d-64e6-4844-9c17-72520758d5b6"
      },
      "execution_count": 67,
      "outputs": [
        {
          "output_type": "execute_result",
          "data": {
            "text/plain": [
              "['Henri', 'Grumpy', 'Lucy']"
            ]
          },
          "metadata": {},
          "execution_count": 67
        }
      ]
    }
  ]
}