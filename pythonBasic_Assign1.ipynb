{
  "nbformat": 4,
  "nbformat_minor": 0,
  "metadata": {
    "colab": {
      "name": "pythonBasic_Assign1.ipynb",
      "provenance": [],
      "collapsed_sections": []
    },
    "kernelspec": {
      "name": "python3",
      "display_name": "Python 3"
    },
    "language_info": {
      "name": "python"
    }
  },
  "cells": [
    {
      "cell_type": "markdown",
      "source": [
        "###Name: Mohammad Asim\n",
        "###Topic : Python Basic Assignment1"
      ],
      "metadata": {
        "id": "oGrlaitK8zuA"
      }
    },
    {
      "cell_type": "markdown",
      "source": [
        "**1. In the below elements which of them are values or an expression?** \n",
        "eg:- values can be integer or string and expressions will be mathematical operators.\n",
        "* \n",
        "'hello'\n",
        "-87.8\n",
        "- \n",
        "/ \n",
        "+\t\n",
        "6 \n"
      ],
      "metadata": {
        "id": "gxL8puEO8vRv"
      }
    },
    {
      "cell_type": "code",
      "execution_count": 1,
      "metadata": {
        "colab": {
          "base_uri": "https://localhost:8080/"
        },
        "id": "MDdna0d38sGS",
        "outputId": "b063893b-f21c-4cd8-cf87-d203d0364bdb"
      },
      "outputs": [
        {
          "output_type": "execute_result",
          "data": {
            "text/plain": [
              "str"
            ]
          },
          "metadata": {},
          "execution_count": 1
        }
      ],
      "source": [
        "type('hello')"
      ]
    },
    {
      "cell_type": "markdown",
      "source": [
        "\"hello\" is a string value"
      ],
      "metadata": {
        "id": "7cGzC_O19J4B"
      }
    },
    {
      "cell_type": "code",
      "source": [
        "type(87.8)"
      ],
      "metadata": {
        "colab": {
          "base_uri": "https://localhost:8080/"
        },
        "id": "8H5Bh5459Izw",
        "outputId": "21c65326-9374-4c81-9066-729229db4231"
      },
      "execution_count": 2,
      "outputs": [
        {
          "output_type": "execute_result",
          "data": {
            "text/plain": [
              "float"
            ]
          },
          "metadata": {},
          "execution_count": 2
        }
      ]
    },
    {
      "cell_type": "markdown",
      "source": [
        "87.8 is a float value"
      ],
      "metadata": {
        "id": "0vh_fxNs9PnZ"
      }
    },
    {
      "cell_type": "code",
      "source": [
        "8/2"
      ],
      "metadata": {
        "colab": {
          "base_uri": "https://localhost:8080/"
        },
        "id": "lvcU9h079SG6",
        "outputId": "04b30419-877c-4293-fd2d-5f5a803128f2"
      },
      "execution_count": 4,
      "outputs": [
        {
          "output_type": "execute_result",
          "data": {
            "text/plain": [
              "4.0"
            ]
          },
          "metadata": {},
          "execution_count": 4
        }
      ]
    },
    {
      "cell_type": "markdown",
      "source": [
        "/ is a divide expression in python"
      ],
      "metadata": {
        "id": "ksb3fZgd9ahT"
      }
    },
    {
      "cell_type": "code",
      "source": [
        "type(6)"
      ],
      "metadata": {
        "colab": {
          "base_uri": "https://localhost:8080/"
        },
        "id": "YYuV1dO49fcY",
        "outputId": "62ba904e-0efb-4e8d-c962-51709e812fae"
      },
      "execution_count": 5,
      "outputs": [
        {
          "output_type": "execute_result",
          "data": {
            "text/plain": [
              "int"
            ]
          },
          "metadata": {},
          "execution_count": 5
        }
      ]
    },
    {
      "cell_type": "markdown",
      "source": [
        "6 is an integer value"
      ],
      "metadata": {
        "id": "vNkJg2Z69iaw"
      }
    },
    {
      "cell_type": "markdown",
      "source": [
        "**2. What is the difference between string and variable?**"
      ],
      "metadata": {
        "id": "4ZrZy-Yx9oP1"
      }
    },
    {
      "cell_type": "markdown",
      "source": [
        "A Variable is a store of information, and a String is a type of information you would store in a Variable. A String is usually words, enclosed with \"\" or '' in python.\n",
        "\n",
        "Eg.\n",
        "X = \"Welcome to Python\"\n",
        "\"Welcome to Python\" is the string value, stored in the variable X"
      ],
      "metadata": {
        "id": "4kam0J4q9psu"
      }
    },
    {
      "cell_type": "markdown",
      "source": [
        "**3. Describe three different data types.**"
      ],
      "metadata": {
        "id": "icpvwgUM-Vbw"
      }
    },
    {
      "cell_type": "markdown",
      "source": [
        "![image.png](data:image/png;base64,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)"
      ],
      "metadata": {
        "id": "iQ7w14Ei-VQx"
      }
    },
    {
      "cell_type": "markdown",
      "source": [
        "**4. What is an expression made up of? What do all expressions do?**"
      ],
      "metadata": {
        "id": "ffslaXk9-7EN"
      }
    },
    {
      "cell_type": "markdown",
      "source": [
        "An expression is a construct made up of variables, operators, and method invocations, which are constructed according to the syntax of the language, that evaluates to a single value. \n",
        "\n",
        "Eg.\n",
        "\n",
        "\n",
        "> a=5\n",
        "\n",
        "> b=10\n",
        "\n",
        "> c =a * (b+a)\n",
        "\n",
        "> d = a*b\n",
        "\n",
        "\n",
        "\n",
        "\n",
        "\n",
        "\n",
        "\n"
      ],
      "metadata": {
        "id": "4xFvIrhh_RFX"
      }
    },
    {
      "cell_type": "markdown",
      "source": [
        "**5. This assignment statements, like spam = 10. What is the difference between an expression and a statement?**"
      ],
      "metadata": {
        "id": "KlooVHKl_ZD7"
      }
    },
    {
      "cell_type": "markdown",
      "source": [
        "An expression usually refers to a piece of code that can be evaluated to a value, and is composed of variables, operators, function calls, and literals.\n",
        "\n",
        "Eg.\n",
        "a)  5>3\n",
        "\n",
        "b)  7*2+4\n",
        "\n",
        "In the example above, the first expression, \"5>3\", will yield the value True when evaluated, while the second expression, \"7*2+4\", will yield the value 18.\n",
        "\n",
        "\n",
        "A statement refers to a piece of code that executes a specific instruction or tells the computer to complete a task.  A statement can take the form of assignments, control statements, import statements, loop statements, jump statements, or method calls.\n",
        "\n",
        "Eg.\n",
        "spam =10 \n",
        "\n",
        "In the example above, the first statement performs the action of assigning the variable spam with a value of 10. "
      ],
      "metadata": {
        "id": "vN9611PEACcm"
      }
    },
    {
      "cell_type": "markdown",
      "source": [
        "**6. After running the following code, what does the variable bacon contain?**\n",
        "bacon = 22\n",
        "bacon + 1"
      ],
      "metadata": {
        "id": "FnBFuCvbCcka"
      }
    },
    {
      "cell_type": "code",
      "source": [
        "bacon=22"
      ],
      "metadata": {
        "id": "XMvzZ4r1Cs75"
      },
      "execution_count": 6,
      "outputs": []
    },
    {
      "cell_type": "code",
      "source": [
        "bacon+1"
      ],
      "metadata": {
        "colab": {
          "base_uri": "https://localhost:8080/"
        },
        "id": "Gewe_a8xCvm7",
        "outputId": "1f0b9a10-2285-48ef-ee5f-ccd25e0011cc"
      },
      "execution_count": 7,
      "outputs": [
        {
          "output_type": "execute_result",
          "data": {
            "text/plain": [
              "23"
            ]
          },
          "metadata": {},
          "execution_count": 7
        }
      ]
    },
    {
      "cell_type": "markdown",
      "source": [
        "After executing the above statement, variable 'bacon' is of value 23"
      ],
      "metadata": {
        "id": "T4bjOm86Crc9"
      }
    },
    {
      "cell_type": "markdown",
      "source": [
        "**7. What should the values of the following two terms be?**\n",
        "'spam' + 'spamspam'\n",
        "'spam' * 3\n"
      ],
      "metadata": {
        "id": "tcplOi2UDER2"
      }
    },
    {
      "cell_type": "code",
      "source": [
        "'spam' + 'spamspam'"
      ],
      "metadata": {
        "colab": {
          "base_uri": "https://localhost:8080/",
          "height": 35
        },
        "id": "SuitOuwSDGYa",
        "outputId": "e76e5e44-1dd7-4a9c-ea63-479fe0978732"
      },
      "execution_count": 8,
      "outputs": [
        {
          "output_type": "execute_result",
          "data": {
            "application/vnd.google.colaboratory.intrinsic+json": {
              "type": "string"
            },
            "text/plain": [
              "'spamspamspam'"
            ]
          },
          "metadata": {},
          "execution_count": 8
        }
      ]
    },
    {
      "cell_type": "code",
      "source": [
        " 'spam' * 3"
      ],
      "metadata": {
        "colab": {
          "base_uri": "https://localhost:8080/",
          "height": 35
        },
        "id": "NA8lfD8XDLZW",
        "outputId": "dc1aed5e-78f3-4693-ea74-485f59fe5c41"
      },
      "execution_count": 9,
      "outputs": [
        {
          "output_type": "execute_result",
          "data": {
            "application/vnd.google.colaboratory.intrinsic+json": {
              "type": "string"
            },
            "text/plain": [
              "'spamspamspam'"
            ]
          },
          "metadata": {},
          "execution_count": 9
        }
      ]
    },
    {
      "cell_type": "markdown",
      "source": [
        "Both expressions yield the same resut 'spamspamspam'"
      ],
      "metadata": {
        "id": "Rr0hx-QLDNXv"
      }
    },
    {
      "cell_type": "markdown",
      "source": [
        "**8. Why is eggs a valid variable name while 100 is invalid?**"
      ],
      "metadata": {
        "id": "gyJMzHQODU5e"
      }
    },
    {
      "cell_type": "markdown",
      "source": [
        "Rules:\n",
        "\n",
        "\n",
        "*   A variable name must start with a letter or the underscore character.\n",
        "*   A variable name cannot start with a number.\n",
        "*   A variable name can only contain alpha-numeric characters and underscores (A-z, 0-9, and _ ).\n",
        "*   Variable names are case-sensitive (name, Name and NAME are three different variables).\n",
        "*   The reserved words(keywords) cannot be used naming the variable.\n"
      ],
      "metadata": {
        "id": "25gZ1OOKDcpa"
      }
    },
    {
      "cell_type": "markdown",
      "source": [
        "'eggs' satisfy all the rules for variable creation. Hence its valid.\n",
        "'100' it starts with number.Hence its invalid."
      ],
      "metadata": {
        "id": "Oq-O9moHDu--"
      }
    },
    {
      "cell_type": "markdown",
      "source": [
        "**9. What three functions can be used to get the integer, floating-point number, or string version of a value?**"
      ],
      "metadata": {
        "id": "pZ-Vr3DKEBbF"
      }
    },
    {
      "cell_type": "code",
      "source": [
        "a=int(\"23\")\n",
        "a"
      ],
      "metadata": {
        "colab": {
          "base_uri": "https://localhost:8080/"
        },
        "id": "5FRd27RwEDfs",
        "outputId": "351a5811-331b-4ac7-f35f-ee772ad27781"
      },
      "execution_count": 12,
      "outputs": [
        {
          "output_type": "execute_result",
          "data": {
            "text/plain": [
              "23"
            ]
          },
          "metadata": {},
          "execution_count": 12
        }
      ]
    },
    {
      "cell_type": "code",
      "source": [
        "float(\"23.32\")"
      ],
      "metadata": {
        "colab": {
          "base_uri": "https://localhost:8080/"
        },
        "id": "D491vA9eEGTu",
        "outputId": "e26120a1-a3e2-4695-84f4-e383d689bbe5"
      },
      "execution_count": 11,
      "outputs": [
        {
          "output_type": "execute_result",
          "data": {
            "text/plain": [
              "23.32"
            ]
          },
          "metadata": {},
          "execution_count": 11
        }
      ]
    },
    {
      "cell_type": "code",
      "source": [
        "str(a)"
      ],
      "metadata": {
        "colab": {
          "base_uri": "https://localhost:8080/",
          "height": 35
        },
        "id": "BjaPsXtsEJJR",
        "outputId": "e801584f-cb21-4f05-da3f-18db54e35663"
      },
      "execution_count": 13,
      "outputs": [
        {
          "output_type": "execute_result",
          "data": {
            "application/vnd.google.colaboratory.intrinsic+json": {
              "type": "string"
            },
            "text/plain": [
              "'23'"
            ]
          },
          "metadata": {},
          "execution_count": 13
        }
      ]
    },
    {
      "cell_type": "markdown",
      "source": [
        "int(),float() and str() are respective functions."
      ],
      "metadata": {
        "id": "vjuy4MWAEP2W"
      }
    },
    {
      "cell_type": "markdown",
      "source": [
        "**10. Why does this expression cause an error? How can you fix it?**\n",
        "'I have eaten ' + 99 + ' burritos.'\n"
      ],
      "metadata": {
        "id": "6J1B0vLPEYfL"
      }
    },
    {
      "cell_type": "code",
      "source": [
        "'I have eaten ' + 99 + ' burritos.'"
      ],
      "metadata": {
        "colab": {
          "base_uri": "https://localhost:8080/",
          "height": 165
        },
        "id": "to1qS16uEaWA",
        "outputId": "d6776e4f-ae3a-4c9a-9738-6e9716572ba4"
      },
      "execution_count": 14,
      "outputs": [
        {
          "output_type": "error",
          "ename": "TypeError",
          "evalue": "ignored",
          "traceback": [
            "\u001b[0;31m---------------------------------------------------------------------------\u001b[0m",
            "\u001b[0;31mTypeError\u001b[0m                                 Traceback (most recent call last)",
            "\u001b[0;32m<ipython-input-14-d24137131a5c>\u001b[0m in \u001b[0;36m<module>\u001b[0;34m()\u001b[0m\n\u001b[0;32m----> 1\u001b[0;31m \u001b[0;34m'I have eaten '\u001b[0m \u001b[0;34m+\u001b[0m \u001b[0;36m99\u001b[0m \u001b[0;34m+\u001b[0m \u001b[0;34m' burritos.'\u001b[0m\u001b[0;34m\u001b[0m\u001b[0;34m\u001b[0m\u001b[0m\n\u001b[0m",
            "\u001b[0;31mTypeError\u001b[0m: can only concatenate str (not \"int\") to str"
          ]
        }
      ]
    },
    {
      "cell_type": "code",
      "source": [
        "'I have eaten ' + str(99) + ' burritos.'"
      ],
      "metadata": {
        "colab": {
          "base_uri": "https://localhost:8080/",
          "height": 35
        },
        "id": "8f9n-v1tEerL",
        "outputId": "c6cfce67-8527-4867-c7fa-8248ebafe596"
      },
      "execution_count": 15,
      "outputs": [
        {
          "output_type": "execute_result",
          "data": {
            "application/vnd.google.colaboratory.intrinsic+json": {
              "type": "string"
            },
            "text/plain": [
              "'I have eaten 99 burritos.'"
            ]
          },
          "metadata": {},
          "execution_count": 15
        }
      ]
    },
    {
      "cell_type": "markdown",
      "source": [
        "converted the integer value 99 to string to fix the issue."
      ],
      "metadata": {
        "id": "9d0w4QSkEhnU"
      }
    }
  ]
}