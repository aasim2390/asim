{
  "nbformat": 4,
  "nbformat_minor": 0,
  "metadata": {
    "colab": {
      "name": "python basic assignment_RegEx 07.ipynb",
      "provenance": []
    },
    "kernelspec": {
      "name": "python3",
      "display_name": "Python 3"
    },
    "language_info": {
      "name": "python"
    }
  },
  "cells": [
    {
      "cell_type": "markdown",
      "source": [
        "###Python Basic Assignment 07 - RegEx"
      ],
      "metadata": {
        "id": "0Ou8iwT6h1L5"
      }
    },
    {
      "cell_type": "markdown",
      "source": [
        "**1. What is the name of the feature responsible for generating Regex objects?**\n",
        "\n",
        "Answer:\n",
        "\n",
        "The re.compile() function returns Regex objects."
      ],
      "metadata": {
        "id": "SYWOlU3uh5rF"
      }
    },
    {
      "cell_type": "code",
      "execution_count": 2,
      "metadata": {
        "colab": {
          "base_uri": "https://localhost:8080/"
        },
        "id": "JCbQ5pOEhzz0",
        "outputId": "7ddae3fe-c771-43d6-d147-3cf928db0e2b"
      },
      "outputs": [
        {
          "output_type": "execute_result",
          "data": {
            "text/plain": [
              "re.Pattern"
            ]
          },
          "metadata": {},
          "execution_count": 2
        }
      ],
      "source": [
        "import re\n",
        "\n",
        "pattern = re.compile(r\"\\b\\w{5}\\b\")  #compile a regular expression pattern, returning a re.Pattern object\n",
        "type(pattern)"
      ]
    },
    {
      "cell_type": "code",
      "source": [
        "res = pattern.findall(\"kelly and Jessa\")\n",
        "res"
      ],
      "metadata": {
        "colab": {
          "base_uri": "https://localhost:8080/"
        },
        "id": "0ow9YbV-jw6B",
        "outputId": "49c63499-203e-4bb8-b99b-d368a1012d95"
      },
      "execution_count": 5,
      "outputs": [
        {
          "output_type": "execute_result",
          "data": {
            "text/plain": [
              "['kelly', 'Jessa']"
            ]
          },
          "metadata": {},
          "execution_count": 5
        }
      ]
    },
    {
      "cell_type": "markdown",
      "source": [
        "**2. Why do raw strings often appear in Regex objects?**\n",
        "\n",
        "Answer:\n",
        "Raw strings are used so that backslashes do not have to be escaped."
      ],
      "metadata": {
        "id": "AjBE2D1pkFtT"
      }
    },
    {
      "cell_type": "code",
      "source": [
        "import re\n",
        "\n",
        "pattern1 = re.compile(r\"\\b\\w{5}\\b\")\n",
        "pattern2 = re.compile(\"\\b\\w{5}\\b\") #escaped the backlashes resulting into incorrect result\n",
        "\n",
        "res1 = pattern1.findall(\"kelly and Jessa\")\n",
        "res2 = pattern2.findall(\"kelly and Jessa\")\n",
        "\n",
        "print(res1)\n",
        "print(res2)\n"
      ],
      "metadata": {
        "colab": {
          "base_uri": "https://localhost:8080/"
        },
        "id": "QJWGSFL8qLYu",
        "outputId": "cda5e2a1-63de-4c79-b9e1-47b281f4763f"
      },
      "execution_count": 6,
      "outputs": [
        {
          "output_type": "stream",
          "name": "stdout",
          "text": [
            "['kelly', 'Jessa']\n",
            "[]\n"
          ]
        }
      ]
    },
    {
      "cell_type": "markdown",
      "source": [
        "**3. What is the return value of the search() method?**\n",
        "\n",
        "Answer:\n",
        "Returns a Match object.\n",
        "\n",
        "The Match object has properties and methods used to retrieve information about the search, and the result:\n",
        "\n",
        "\n",
        "\n",
        "```\n",
        "# properties and methods are:\n",
        ".span() returns a tuple containing the start-, and end positions of the match.\n",
        ".string returns the string passed into the function\n",
        ".group() returns the part of the string where there was a match\n",
        "```\n",
        "\n",
        "\n"
      ],
      "metadata": {
        "id": "uOgebzdEqqbz"
      }
    },
    {
      "cell_type": "code",
      "source": [
        "import re\n",
        "\n",
        "txt = \"The rain in Spain\"\n",
        "x = re.search(\"ai\", txt)\n",
        "print(type(x), \" : \",x) #this will print an object\n",
        "\n",
        "print(\"span=\",x.span())\n",
        "print(\"group=\",x.group())\n",
        "print(\"input string=\",x.string)"
      ],
      "metadata": {
        "colab": {
          "base_uri": "https://localhost:8080/"
        },
        "id": "kYamIMtDqmX7",
        "outputId": "a2cf831b-4896-4a64-97b3-30bc585d0c93"
      },
      "execution_count": 13,
      "outputs": [
        {
          "output_type": "stream",
          "name": "stdout",
          "text": [
            "<class 're.Match'>  :  <re.Match object; span=(5, 7), match='ai'>\n",
            "span= (5, 7)\n",
            "group= ai\n",
            "input string= The rain in Spain\n"
          ]
        }
      ]
    },
    {
      "cell_type": "markdown",
      "source": [
        "**4. From a Match item, how do you get the actual strings that match the pattern?**\n",
        "\n",
        "Answer:\n",
        "\n",
        "The group() method returns strings of the matched text.\n",
        "\n"
      ],
      "metadata": {
        "id": "rHAOjxK2tI7p"
      }
    },
    {
      "cell_type": "code",
      "source": [
        "import re\n",
        "pattern=re.compile(r\"\\basim\")\n",
        "lst=[\"asim 1\",\"asim 2\",\"asim\",\"asim 4\",\"abc 1\",\"12 asim\"]\n",
        "\n",
        "for word in lst:\n",
        "  z=re.match(pattern,word)\n",
        "  if z:\n",
        "    print(z.group())\n"
      ],
      "metadata": {
        "colab": {
          "base_uri": "https://localhost:8080/"
        },
        "id": "Z7qb4KpLuGhm",
        "outputId": "25fc08ec-0e66-4135-a45d-aac0d6c5c83e"
      },
      "execution_count": 41,
      "outputs": [
        {
          "output_type": "stream",
          "name": "stdout",
          "text": [
            "asim\n",
            "asim\n",
            "asim\n",
            "asim\n"
          ]
        }
      ]
    },
    {
      "cell_type": "markdown",
      "source": [
        "**5. In the regex which created from the r'(\\d\\d\\d)-(\\d\\d\\d-\\d\\d\\d\\d)', what does group zero cover? Group 2? Group 1?**\n",
        "\n",
        "Answer:\n",
        "\n"
      ],
      "metadata": {
        "id": "OV7NV_CD7jDh"
      }
    },
    {
      "cell_type": "code",
      "source": [
        "import re\n",
        "\n",
        "pattern = re.compile(r'(\\d\\d\\d)-(\\d\\d\\d-\\d\\d\\d\\d)')\n",
        "txt=\"022-012-2021\"\n",
        "\n",
        "z= re.match(pattern,txt)\n",
        "print(z)\n",
        "print(z.group())\n",
        "print(z.groups())\n",
        "print(\"-\"*25)\n",
        "#######\n",
        "print(\"Group 0 :\",z.group(0))\n",
        "print(\"Group 1 :\",z.group(1))\n",
        "print(\"Group 2 :\",z.group(2))\n",
        "\n"
      ],
      "metadata": {
        "colab": {
          "base_uri": "https://localhost:8080/"
        },
        "id": "D37ljoWc7tZa",
        "outputId": "26f8a847-9a10-4aad-b459-7c23f5505904"
      },
      "execution_count": 56,
      "outputs": [
        {
          "output_type": "stream",
          "name": "stdout",
          "text": [
            "<re.Match object; span=(0, 12), match='022-012-2021'>\n",
            "022-012-2021\n",
            "('022', '012-2021')\n",
            "-------------------------\n",
            "Group 0 : 022-012-2021\n",
            "Group 1 : 022\n",
            "Group 2 : 012-2021\n"
          ]
        }
      ]
    },
    {
      "cell_type": "markdown",
      "source": [
        "**6. In standard expression syntax, parentheses and intervals have distinct meanings. How can you tell a regex that you want it to fit real parentheses and periods?**\n",
        "\n",
        "Answer:\n",
        "Periods and parentheses can be escaped with a backslash.\n"
      ],
      "metadata": {
        "id": "rgMZznMx9aDn"
      }
    },
    {
      "cell_type": "code",
      "source": [
        "import re\n",
        "pattern1 = re.compile(r'(\\d\\d\\.)')  #Escape the period with backlash (Treat as peiod in this pattern)\n",
        "pattern2 = re.compile(r'(\\d\\d.)')  #Treat a special case - will accept any character\n",
        "\n",
        "txt1 = \"12abc\"\n",
        "txt2 = \"12.\"\n",
        "txt3 = \"12123\"\n",
        "\n",
        "#####Period is not treat as special in pattern1\n",
        "print(re.match(pattern1,txt1))\n",
        "print(re.match(pattern1,txt2))\n",
        "print(re.match(pattern1,txt3))\n",
        "print(\"-\"*25)\n",
        "\n",
        "#####Period will treat as special in pattern2\n",
        "print(re.match(pattern2,txt1))\n",
        "print(re.match(pattern2,txt2))\n",
        "print(re.match(pattern2,txt3))\n"
      ],
      "metadata": {
        "colab": {
          "base_uri": "https://localhost:8080/"
        },
        "id": "DorhkdMe9xam",
        "outputId": "48ccdbb0-b9a0-4e6a-cef5-59936a341de6"
      },
      "execution_count": 61,
      "outputs": [
        {
          "output_type": "stream",
          "name": "stdout",
          "text": [
            "None\n",
            "<re.Match object; span=(0, 3), match='12.'>\n",
            "None\n",
            "-------------------------\n",
            "<re.Match object; span=(0, 3), match='12a'>\n",
            "<re.Match object; span=(0, 3), match='12.'>\n",
            "<re.Match object; span=(0, 3), match='121'>\n"
          ]
        }
      ]
    },
    {
      "cell_type": "markdown",
      "source": [
        "**7. The findall() method returns a string list or a list of string tuples. What causes it to return one of the two options?**\n",
        "\n",
        "Answer:\n",
        "\n",
        "If the regex has no groups, a list of strings is returned. If the regex has groups, a list of tuples of strings is returned."
      ],
      "metadata": {
        "id": "6GTo9G8J_Ieg"
      }
    },
    {
      "cell_type": "code",
      "source": [
        "import re\n",
        "\n",
        "pattern1 = re.compile(\"(and)|( or)\")\n",
        "pattern2 = re.compile(\"and| or\")\n",
        "\n",
        "txt = \"This is sample where and & or are used, we can compare and & or whether group form or not\"\n",
        "\n",
        "print(re.findall(pattern1,txt))\n",
        "print(re.findall(pattern2,txt))\n"
      ],
      "metadata": {
        "colab": {
          "base_uri": "https://localhost:8080/"
        },
        "id": "103BOUAX_ZTZ",
        "outputId": "3c871e65-fb5a-4144-e4a6-3977de963d78"
      },
      "execution_count": 73,
      "outputs": [
        {
          "output_type": "stream",
          "name": "stdout",
          "text": [
            "[('and', ''), ('', ' or'), ('and', ''), ('', ' or'), ('', ' or')]\n",
            "['and', ' or', 'and', ' or', ' or']\n"
          ]
        }
      ]
    },
    {
      "cell_type": "markdown",
      "source": [
        "**8. In standard expressions, what does the | character mean?**\n",
        "\n",
        "Answer:\n",
        "\n",
        "The | character signifies \"or\" between two elements.\n",
        "example: black or white\n"
      ],
      "metadata": {
        "id": "04Knd0wEBX98"
      }
    },
    {
      "cell_type": "markdown",
      "source": [
        "**9. In regular expressions, what does the character | stand for?**\n",
        "\n",
        "\n",
        "Answer:\n",
        "The | character signifies matching \"either, or\" between two groups. example: and|or\n",
        "\n"
      ],
      "metadata": {
        "id": "qdiO1K08BgVD"
      }
    },
    {
      "cell_type": "markdown",
      "source": [
        "10.In regular expressions, what is the difference between the + and * characters?\n",
        "Answer:\n",
        "\n",
        "1) The + matches one or more. \n",
        "\n",
        "2) The * matches zero or more."
      ],
      "metadata": {
        "id": "Qu_vBI9ICWz9"
      }
    },
    {
      "cell_type": "markdown",
      "source": [
        "**11. What is the difference between {4} and {4,5} in regular expression?**\n",
        "\n",
        "Answer:\n",
        "\n",
        "The {4} matches exactly four instances of the preceding group. The {4,5} matches between four and five instances."
      ],
      "metadata": {
        "id": "MCkrxUNyCjSp"
      }
    },
    {
      "cell_type": "code",
      "source": [
        "import re\n",
        "\n",
        "pattern1 = re.compile(\"a{4}\")    # matches for 4 times\n",
        "pattern2 = re.compile(\"a{2,5}\")  #matches in range of 2 to 5 times\n",
        "\n",
        "txt = \"aa abaaaa\"\n",
        "\n",
        "print(re.search(pattern1,txt))\n",
        "print(re.search(pattern2,txt))"
      ],
      "metadata": {
        "colab": {
          "base_uri": "https://localhost:8080/"
        },
        "id": "M05PM-CyC10W",
        "outputId": "87b88ef9-a1eb-4cee-e836-a0aa06547a89"
      },
      "execution_count": 78,
      "outputs": [
        {
          "output_type": "stream",
          "name": "stdout",
          "text": [
            "<re.Match object; span=(5, 9), match='aaaa'>\n",
            "<re.Match object; span=(0, 2), match='aa'>\n"
          ]
        }
      ]
    },
    {
      "cell_type": "markdown",
      "source": [
        "**12. What do you mean by the \\d, \\w, and \\s shorthand character classes signify in regular expressions?**\n",
        "\n",
        "Answer:\n",
        "\n",
        "The \\d, \\w, and \\s shorthand character classes match a single digit, word, or space character, respectively.\n"
      ],
      "metadata": {
        "id": "8lqucAI7MNTs"
      }
    },
    {
      "cell_type": "code",
      "source": [
        "import re\n",
        "digit = re.compile(r\"\\d\\d\")\n",
        "word = re.compile(r\"\\w\\w\")\n",
        "space = re.compile(r\"\\s\")\n",
        "\n",
        "txt =\"This is sample of at to 1 2 123 25 211 2234 too\"\n",
        "\n",
        "print(re.findall(digit,txt))\n",
        "print(re.findall(word,txt))\n",
        "print(re.findall(space,txt))"
      ],
      "metadata": {
        "colab": {
          "base_uri": "https://localhost:8080/"
        },
        "id": "tlfNIMMeMksW",
        "outputId": "246a9a80-6256-4e2f-b0b5-04630aec5bd7"
      },
      "execution_count": 81,
      "outputs": [
        {
          "output_type": "stream",
          "name": "stdout",
          "text": [
            "['12', '25', '21', '22', '34']\n",
            "['Th', 'is', 'is', 'sa', 'mp', 'le', 'of', 'at', 'to', '12', '25', '21', '22', '34', 'to']\n",
            "[' ', ' ', ' ', ' ', ' ', ' ', ' ', ' ', ' ', ' ', ' ', ' ']\n"
          ]
        }
      ]
    },
    {
      "cell_type": "markdown",
      "source": [
        "**13. What do means by \\D, \\W, and \\S shorthand character classes signify in regular expressions?**\n",
        "\n",
        "Answer:\n",
        "\n",
        "The \\D, \\W, and \\S shorthand character classes match a single character that is not a digit, word, or space character, respectively.\n"
      ],
      "metadata": {
        "id": "zicJ3_vTO64h"
      }
    },
    {
      "cell_type": "code",
      "source": [
        "import re\n",
        "digit = re.compile(r\"\\D\\D\")\n",
        "word = re.compile(r\"\\W\")\n",
        "space = re.compile(r\"\\S\")\n",
        "\n",
        "txt =\"This is sample of at to 1 2 123 25 211 2234 too\"\n",
        "\n",
        "print(re.findall(digit,txt))\n",
        "print(re.findall(word,txt))\n",
        "print(re.findall(space,txt))"
      ],
      "metadata": {
        "colab": {
          "base_uri": "https://localhost:8080/"
        },
        "id": "4mNZHpFxPKu2",
        "outputId": "e16caeba-6dfd-4148-e27f-d52c46e40412"
      },
      "execution_count": 83,
      "outputs": [
        {
          "output_type": "stream",
          "name": "stdout",
          "text": [
            "['Th', 'is', ' i', 's ', 'sa', 'mp', 'le', ' o', 'f ', 'at', ' t', 'o ', ' t', 'oo']\n",
            "[' ', ' ', ' ', ' ', ' ', ' ', ' ', ' ', ' ', ' ', ' ', ' ']\n",
            "['T', 'h', 'i', 's', 'i', 's', 's', 'a', 'm', 'p', 'l', 'e', 'o', 'f', 'a', 't', 't', 'o', '1', '2', '1', '2', '3', '2', '5', '2', '1', '1', '2', '2', '3', '4', 't', 'o', 'o']\n"
          ]
        }
      ]
    },
    {
      "cell_type": "markdown",
      "source": [
        "14. What is the difference between .*? and .*? \n",
        "\n",
        "Answer:\n",
        "\n",
        ".*?  and .* both will match all the possibilities, no difference observed.\n",
        "\n",
        "```\n",
        "# This is formatted as code\n",
        "\n",
        ".\tAny character (except newline character)\n",
        "?\tZero or one occurrences\n",
        "*\tZero or more occurrences\n",
        "\n",
        "\n",
        "```\n",
        "\n",
        "\n",
        "\n",
        "\n"
      ],
      "metadata": {
        "id": "o8hNyLPePdMb"
      }
    },
    {
      "cell_type": "markdown",
      "source": [
        "**15. What is the syntax for matching both numbers and lowercase letters with a character class?**\n",
        "\n",
        "Answer:\n",
        "\n",
        "A \"character class\", or a \"character set\", is a set of characters put in square brackets.\n",
        "\n"
      ],
      "metadata": {
        "id": "FX3zXj6wQsuM"
      }
    },
    {
      "cell_type": "code",
      "source": [
        "import re\n",
        "s = 'search the vowel from this text'\n",
        "result = re.findall(r'[aeiou]', s)\n",
        "print(result)"
      ],
      "metadata": {
        "colab": {
          "base_uri": "https://localhost:8080/"
        },
        "id": "Z1_AaAlJRbg-",
        "outputId": "c87e8023-f1e5-4b12-849d-87207f897c58"
      },
      "execution_count": 86,
      "outputs": [
        {
          "output_type": "stream",
          "name": "stdout",
          "text": [
            "['e', 'a', 'e', 'o', 'e', 'o', 'i', 'e']\n"
          ]
        }
      ]
    },
    {
      "cell_type": "markdown",
      "source": [
        "**16. What is the procedure for making a normal expression in regax case insensitive?**\n",
        "\n",
        "Answer:\n",
        "\n"
      ],
      "metadata": {
        "id": "cdtEwHeERwLP"
      }
    },
    {
      "cell_type": "code",
      "source": [
        "import re\n",
        "print (re.search('asim', 'Asim', re.IGNORECASE))\n",
        "print (re.search('asim', 'Asim'))\n",
        "print (re.match('asim', 'AsIm', re.IGNORECASE))\n",
        "print (re.match('asim', 'AsIm'))\n"
      ],
      "metadata": {
        "colab": {
          "base_uri": "https://localhost:8080/"
        },
        "id": "c_O_VodOR7dS",
        "outputId": "d6d50051-aa78-43fe-f605-1a4e97eefd03"
      },
      "execution_count": 89,
      "outputs": [
        {
          "output_type": "stream",
          "name": "stdout",
          "text": [
            "<re.Match object; span=(0, 4), match='Asim'>\n",
            "None\n",
            "<re.Match object; span=(0, 4), match='AsIm'>\n",
            "None\n"
          ]
        }
      ]
    },
    {
      "cell_type": "markdown",
      "source": [
        "**17. What does the . character normally match? What does it match if re.DOTALL is passed as 2nd argument in re.compile()?**\n",
        "\n",
        "Answer:\n",
        "\n",
        "The . character normally matches any character except the newline character. If re.DOTALL is passed as the second argument to re.compile(), then the dot will also match newline characters.\n"
      ],
      "metadata": {
        "id": "OIreDwxoSZOj"
      }
    },
    {
      "cell_type": "code",
      "source": [
        "import re\n",
        "\n",
        "pattern1 = re.compile(r\".+\") \n",
        "pattern2 = re.compile(r\".+\",re.DOTALL)\n",
        "\n",
        "txt=\"This is first line.\\nThis is second line.\\n\"\n",
        "\n",
        "print(re.search(pattern1,txt))\n",
        "print(re.search(pattern2,txt))"
      ],
      "metadata": {
        "colab": {
          "base_uri": "https://localhost:8080/"
        },
        "id": "0nzFf1SSTDTg",
        "outputId": "e70c0f50-2592-422f-fabd-40600757c1ac"
      },
      "execution_count": 95,
      "outputs": [
        {
          "output_type": "stream",
          "name": "stdout",
          "text": [
            "<re.Match object; span=(0, 19), match='This is first line.'>\n",
            "<re.Match object; span=(0, 41), match='This is first line.\\nThis is second line.\\n'>\n"
          ]
        }
      ]
    },
    {
      "cell_type": "markdown",
      "source": [
        "**18. If numReg = re.compile(r'\\d+'), what will numRegex.sub('X', '11 drummers, 10 pipers, five rings, 4 hen') return?**\n",
        "\n",
        "Answer:\n",
        "\n"
      ],
      "metadata": {
        "id": "8Ur7d0Z3VOTi"
      }
    },
    {
      "cell_type": "code",
      "source": [
        "import re\n",
        "\n",
        "numReg = re.compile(r'\\d+')\n",
        "\n",
        "print(numReg.sub('X','11 drummers, 10 pipers, five rings, 4 hen'))"
      ],
      "metadata": {
        "colab": {
          "base_uri": "https://localhost:8080/"
        },
        "id": "XNIH9xioVTnQ",
        "outputId": "0c920fe9-559b-4af8-837d-7d2f635dd392"
      },
      "execution_count": 96,
      "outputs": [
        {
          "output_type": "stream",
          "name": "stdout",
          "text": [
            "X drummers, X pipers, five rings, X hen\n"
          ]
        }
      ]
    },
    {
      "cell_type": "markdown",
      "source": [
        "**19. What does passing re.VERBOSE as the 2nd argument to re.compile() allow to do?**\n",
        "\n",
        "Answer:\n",
        "\n",
        "The re.VERBOSE argument allows you to add whitespace and comments to the string passed to re.compile().\n",
        "\n",
        "\n"
      ],
      "metadata": {
        "id": "VHZG_gRJVuGK"
      }
    },
    {
      "cell_type": "code",
      "source": [
        "# Without Using VERBOSE\n",
        "regex_email = re.compile(r'^([a-z0-9_\\.-]+)@([0-9a-z\\.-]+)\\.([a-z\\.]{2, 6})$',\n",
        "              re.IGNORECASE)\n",
        "   \n",
        "# Using VERBOSE\n",
        "regex_email = re.compile(r\"\"\"\n",
        "            ^([a-z0-9_\\.-]+)              # local Part\n",
        "            @                             # single @ sign\n",
        "            ([0-9a-z\\.-]+)                # Domain name\n",
        "            \\.                            # single Dot .\n",
        "            ([a-z]{2,6})$                 # Top level Domain  \n",
        "             \"\"\",re.VERBOSE | re.IGNORECASE)   "
      ],
      "metadata": {
        "id": "MEUkBiobV_bo"
      },
      "execution_count": 97,
      "outputs": []
    },
    {
      "cell_type": "markdown",
      "source": [
        "**20. How would you write a regex that match a number with comma for every three digits? It must match the given following:**\n",
        "\n",
        "\n",
        "\n",
        "```\n",
        "# This is formatted as code\n",
        "'42'\n",
        "'1,234'\n",
        "'6,368,745'\n",
        "but not the following:\n",
        "'12,34,567' (which has only two digits between the commas)\n",
        "'1234' (which lacks commas)\n",
        "\n",
        "```\n",
        "\n",
        "Answer:\n",
        "\n"
      ],
      "metadata": {
        "id": "MCIVsgaOWKmF"
      }
    },
    {
      "cell_type": "code",
      "source": [
        "import re\n",
        "\n",
        "pattern = re.compile(r\"^\\d{1,3}(,\\d\\d\\d)*$\")\n",
        "\n",
        "print(re.search(pattern,\"42\"))\n",
        "print(re.search(pattern,\"1,234\"))\n",
        "print(re.search(pattern,\"6,368,745\"))\n",
        "print(re.search(pattern,\"12,34,567\"))\n",
        "print(re.search(pattern,\"1234\"))\n",
        "\n"
      ],
      "metadata": {
        "colab": {
          "base_uri": "https://localhost:8080/"
        },
        "id": "lCQsZkhzWKIM",
        "outputId": "e37a8461-d50d-4515-aba0-e8dd5a63a9a2"
      },
      "execution_count": 112,
      "outputs": [
        {
          "output_type": "stream",
          "name": "stdout",
          "text": [
            "<re.Match object; span=(0, 2), match='42'>\n",
            "<re.Match object; span=(0, 5), match='1,234'>\n",
            "<re.Match object; span=(0, 9), match='6,368,745'>\n",
            "None\n",
            "None\n"
          ]
        }
      ]
    },
    {
      "cell_type": "markdown",
      "source": [
        "**21. How would you write a regex that matches the full name of someone whose last name is Watanabe? You can assume that the first name that comes before it will always be one word that begins with a capital letter. The regex must match the following:**\n",
        "\n",
        "\n",
        "\n",
        "```\n",
        "# This is formatted as code\n",
        "\n",
        "'Haruto Watanabe'\n",
        "'Alice Watanabe'\n",
        "'RoboCop Watanabe'\n",
        "but not the following:\n",
        "'haruto Watanabe' (where the first name is not capitalized)\n",
        "'Mr. Watanabe' (where the preceding word has a nonletter character)\n",
        "'Watanabe' (which has no first name)\n",
        "'Haruto watanabe' (where Watanabe is not capitalized)\n",
        "\n",
        "\n",
        "\n",
        "```\n",
        "\n"
      ],
      "metadata": {
        "id": "b9A2Er3HY_N9"
      }
    },
    {
      "cell_type": "code",
      "source": [
        "import re\n",
        "\n",
        "pattern = re.compile(r\"^[A-Z][A-Za-z]*\\sWatanabe$\")\n",
        "\n",
        "print(re.search(pattern,'Haruto Watanabe'))\n",
        "print(re.search(pattern,'Alice Watanabe'))\n",
        "print(re.search(pattern,'RoboCop Watanabe'))\n",
        "print(re.search(pattern,'Mr. Watanabe'))\n",
        "print(re.search(pattern,'Watanabe' ))\n",
        "print(re.search(pattern,'Haruto watanabe' ))\n"
      ],
      "metadata": {
        "colab": {
          "base_uri": "https://localhost:8080/"
        },
        "id": "fEGcbZ94ZHgF",
        "outputId": "deaa0a39-b62c-49a4-9cc6-900b36b50265"
      },
      "execution_count": 116,
      "outputs": [
        {
          "output_type": "stream",
          "name": "stdout",
          "text": [
            "<re.Match object; span=(0, 15), match='Haruto Watanabe'>\n",
            "<re.Match object; span=(0, 14), match='Alice Watanabe'>\n",
            "<re.Match object; span=(0, 16), match='RoboCop Watanabe'>\n",
            "None\n",
            "None\n",
            "None\n"
          ]
        }
      ]
    },
    {
      "cell_type": "markdown",
      "source": [
        "**22. How would you write a regex that matches a sentence where the first word is either Alice, Bob, or Carol; the second word is either eats, pets, or throws; the third word is apples, cats, or baseballs; and the sentence ends with a period? This regex should be case-insensitive. It must match the following:**\n",
        "\n",
        "\n",
        "\n",
        "```\n",
        "# This is formatted as code\n",
        "'Alice eats apples.'\n",
        "'Bob pets cats.'\n",
        "'Carol throws baseballs.'\n",
        "'Alice throws Apples.'\n",
        "'BOB EATS CATS.'\n",
        "but not the following:\n",
        "'RoboCop eats apples.'\n",
        "'ALICE THROWS FOOTBALLS.'\n",
        "'Carol eats 7 cats.'\n",
        "\n",
        "```\n",
        "\n"
      ],
      "metadata": {
        "id": "0JaR3he5aX1E"
      }
    },
    {
      "cell_type": "code",
      "source": [
        "pattern = re.compile(r\"^(Alice|Bob|Carol)\\s(eats|pets|throws)\\s(apples|cats|baseballs)\\.$\",re.IGNORECASE)\n",
        "\n",
        "print(re.search(pattern,'Alice eats apples.'))\n",
        "print(re.search(pattern,'Bob pets cats.'))\n",
        "print(re.search(pattern,'Carol throws baseballs.'))\n",
        "print(re.search(pattern,'Alice throws Apples.'))\n",
        "print(re.search(pattern,'BOB EATS CATS.'))\n",
        "print(re.search(pattern,'RoboCop eats apples.'))\n",
        "print(re.search(pattern,'ALICE THROWS FOOTBALLS.'))\n",
        "print(re.search(pattern,'Carol eats 7 cats.'))"
      ],
      "metadata": {
        "colab": {
          "base_uri": "https://localhost:8080/"
        },
        "id": "eg044mmBacbR",
        "outputId": "3572fc62-fead-4916-f282-fc916249fe17"
      },
      "execution_count": 119,
      "outputs": [
        {
          "output_type": "stream",
          "name": "stdout",
          "text": [
            "<re.Match object; span=(0, 18), match='Alice eats apples.'>\n",
            "<re.Match object; span=(0, 14), match='Bob pets cats.'>\n",
            "<re.Match object; span=(0, 23), match='Carol throws baseballs.'>\n",
            "<re.Match object; span=(0, 20), match='Alice throws Apples.'>\n",
            "<re.Match object; span=(0, 14), match='BOB EATS CATS.'>\n",
            "None\n",
            "None\n",
            "None\n"
          ]
        }
      ]
    }
  ]
}