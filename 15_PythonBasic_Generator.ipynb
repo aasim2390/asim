{
  "nbformat": 4,
  "nbformat_minor": 0,
  "metadata": {
    "colab": {
      "name": "15_PythonBasic_Generator.ipynb",
      "provenance": [],
      "collapsed_sections": []
    },
    "kernelspec": {
      "name": "python3",
      "display_name": "Python 3"
    },
    "language_info": {
      "name": "python"
    }
  },
  "cells": [
    {
      "cell_type": "markdown",
      "source": [
        "###Python Basic Assignment 15"
      ],
      "metadata": {
        "id": "BBSJ3RVSnWjN"
      }
    },
    {
      "cell_type": "markdown",
      "source": [
        "**1.How many seconds are in an hour? Use the interactive interpreter as a calculator and multiply the number of seconds in a minute (60) by the number of minutes in an hour (also 60).**"
      ],
      "metadata": {
        "id": "KzMhkfXiD5q3"
      }
    },
    {
      "cell_type": "code",
      "source": [
        "60*60 #min * hour"
      ],
      "metadata": {
        "colab": {
          "base_uri": "https://localhost:8080/"
        },
        "id": "ihvpVoLvEJIc",
        "outputId": "11c294b0-87ad-42df-dd04-7db74784bb2b"
      },
      "execution_count": 1,
      "outputs": [
        {
          "output_type": "execute_result",
          "data": {
            "text/plain": [
              "3600"
            ]
          },
          "metadata": {},
          "execution_count": 1
        }
      ]
    },
    {
      "cell_type": "markdown",
      "source": [
        "**2. Assign the result from the previous task (seconds in an hour) to a variable called seconds_per_hour.**"
      ],
      "metadata": {
        "id": "CiNLoLPiD6-K"
      }
    },
    {
      "cell_type": "code",
      "source": [
        "seconds_per_hour= 60*60"
      ],
      "metadata": {
        "id": "InEIfwOSEad7"
      },
      "execution_count": 2,
      "outputs": []
    },
    {
      "cell_type": "code",
      "source": [
        "seconds_per_hour"
      ],
      "metadata": {
        "colab": {
          "base_uri": "https://localhost:8080/"
        },
        "id": "kQPLdswbEcAu",
        "outputId": "5dff8dd5-ebec-4df6-bc89-3ec97f09dacf"
      },
      "execution_count": 3,
      "outputs": [
        {
          "output_type": "execute_result",
          "data": {
            "text/plain": [
              "3600"
            ]
          },
          "metadata": {},
          "execution_count": 3
        }
      ]
    },
    {
      "cell_type": "markdown",
      "source": [
        "**3. How many seconds do you think there are in a day? Make use of the variables seconds per hour and minutes per hour.**"
      ],
      "metadata": {
        "id": "-7f8-l0yEU7y"
      }
    },
    {
      "cell_type": "code",
      "source": [
        "#seconds in a day\n",
        "seconds_per_hour *24 #24 hours in a day total and 3600 secs in an hour"
      ],
      "metadata": {
        "colab": {
          "base_uri": "https://localhost:8080/"
        },
        "id": "4PVYSBlKEipI",
        "outputId": "48ce2e23-27c2-4256-8451-e14829bd9e8d"
      },
      "execution_count": 4,
      "outputs": [
        {
          "output_type": "execute_result",
          "data": {
            "text/plain": [
              "86400"
            ]
          },
          "metadata": {},
          "execution_count": 4
        }
      ]
    },
    {
      "cell_type": "code",
      "source": [
        "minutes_per_hour = 60\n",
        "minutes_per_hour * 24"
      ],
      "metadata": {
        "colab": {
          "base_uri": "https://localhost:8080/"
        },
        "id": "eQ6xyBgpE6cX",
        "outputId": "891265c4-08c6-452a-8997-1f5280d56070"
      },
      "execution_count": 5,
      "outputs": [
        {
          "output_type": "execute_result",
          "data": {
            "text/plain": [
              "1440"
            ]
          },
          "metadata": {},
          "execution_count": 5
        }
      ]
    },
    {
      "cell_type": "markdown",
      "source": [
        "**4. Calculate seconds per day again, but this time save the result in a variable called seconds_per_day**"
      ],
      "metadata": {
        "id": "zTm1ITE3FHgo"
      }
    },
    {
      "cell_type": "code",
      "source": [
        "seconds_per_day = seconds_per_hour*24\n",
        "seconds_per_day"
      ],
      "metadata": {
        "colab": {
          "base_uri": "https://localhost:8080/"
        },
        "id": "LGuUUKKwFLuP",
        "outputId": "4cc628ad-a85e-4a6a-ed84-ea8fed109ac5"
      },
      "execution_count": 6,
      "outputs": [
        {
          "output_type": "execute_result",
          "data": {
            "text/plain": [
              "86400"
            ]
          },
          "metadata": {},
          "execution_count": 6
        }
      ]
    },
    {
      "cell_type": "markdown",
      "source": [
        "**5. Divide seconds_per_day by seconds_per_hour. Use floating-point (/) division.**"
      ],
      "metadata": {
        "id": "jFddU4K8FTz7"
      }
    },
    {
      "cell_type": "code",
      "source": [
        "seconds_per_day/seconds_per_hour"
      ],
      "metadata": {
        "colab": {
          "base_uri": "https://localhost:8080/"
        },
        "id": "PbbPpY-GFYlh",
        "outputId": "f0ea1251-b1e3-47c7-dc9c-e3dc4bd7964e"
      },
      "execution_count": 7,
      "outputs": [
        {
          "output_type": "execute_result",
          "data": {
            "text/plain": [
              "24.0"
            ]
          },
          "metadata": {},
          "execution_count": 7
        }
      ]
    },
    {
      "cell_type": "markdown",
      "source": [
        "**6. Divide seconds_per_day by seconds_per_hour, using integer (//) division. Did this number agree with the floating-point value from the previous question, aside from the final .0?**"
      ],
      "metadata": {
        "id": "ota6yfwnFfLy"
      }
    },
    {
      "cell_type": "code",
      "source": [
        "seconds_per_day//seconds_per_hour"
      ],
      "metadata": {
        "colab": {
          "base_uri": "https://localhost:8080/"
        },
        "id": "h-LiQjfGFn0p",
        "outputId": "bb8a968f-483c-47f0-c201-2b33f1ab2bc5"
      },
      "execution_count": 8,
      "outputs": [
        {
          "output_type": "execute_result",
          "data": {
            "text/plain": [
              "24"
            ]
          },
          "metadata": {},
          "execution_count": 8
        }
      ]
    },
    {
      "cell_type": "markdown",
      "source": [
        "yes, agreed"
      ],
      "metadata": {
        "id": "xARfQYNUFrYR"
      }
    },
    {
      "cell_type": "markdown",
      "source": [
        "**7. Write a generator, genPrimes, that returns the sequence of prime numbers on successive calls to its next() method: 2, 3, 5, 7, 11, ...**"
      ],
      "metadata": {
        "id": "ZLQ3-a2BFuN_"
      }
    },
    {
      "cell_type": "code",
      "source": [
        "def genPrimes():\n",
        "  n=2\n",
        "\n",
        "  while(True):\n",
        "\n",
        "    if n==2:    #since smallest number is 2\n",
        "      yield n\n",
        "\n",
        "\n",
        "    n=n+1\n",
        "    j=2\n",
        "    ctr=0\n",
        "    \n",
        "    while(j<=n):         #looping each number from j=2 to j=n, if only one divisible found means its a prime number\n",
        "      #print(j,n)\n",
        "      if n%j ==0:\n",
        "        ctr+=1           #counting the divisibles\n",
        "      j+=1\n",
        "    #print(\"ctr=\",ctr)\n",
        "    if ctr==1:              #only one divisible found, hence yielding it as prime number\n",
        "      yield n  \n",
        "      "
      ],
      "metadata": {
        "id": "tdHAdLQGFxlU"
      },
      "execution_count": 69,
      "outputs": []
    },
    {
      "cell_type": "code",
      "source": [
        "x =genPrimes()"
      ],
      "metadata": {
        "id": "pD0STKbPGiEo"
      },
      "execution_count": 70,
      "outputs": []
    },
    {
      "cell_type": "code",
      "source": [
        "for i in range(10):\n",
        "  print(next(x),end=\" \")"
      ],
      "metadata": {
        "colab": {
          "base_uri": "https://localhost:8080/"
        },
        "id": "gjh2H3yIGnYl",
        "outputId": "7e546670-63a0-41a1-ee0a-de4bec9593d1"
      },
      "execution_count": 71,
      "outputs": [
        {
          "output_type": "stream",
          "name": "stdout",
          "text": [
            "2 3 5 7 11 13 17 19 23 29 "
          ]
        }
      ]
    }
  ]
}