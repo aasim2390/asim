{
  "nbformat": 4,
  "nbformat_minor": 0,
  "metadata": {
    "colab": {
      "name": "PythonBasicAssignment3.ipynb",
      "provenance": [],
      "collapsed_sections": []
    },
    "kernelspec": {
      "name": "python3",
      "display_name": "Python 3"
    },
    "language_info": {
      "name": "python"
    }
  },
  "cells": [
    {
      "cell_type": "markdown",
      "source": [
        "###Python Basic Assignment3"
      ],
      "metadata": {
        "id": "MFTcxsGD-iDh"
      }
    },
    {
      "cell_type": "markdown",
      "source": [
        "**1. Why are functions advantageous to have in your programs?**\n",
        "\n",
        "Answer:\n",
        "\n",
        "Reusability :  Once a function is defined, it can be used over and over and over again. Also, single function can be used in several different (and separate) programs.\n",
        "\n",
        "Abstraction : It means we don't have to understand anything about what goes on inside the function. We can use the function without knowing the internal working of that function.The only thing we need to know is how the function works.\n",
        "\n"
      ],
      "metadata": {
        "id": "sP2Mb8vl-qGG"
      }
    },
    {
      "cell_type": "markdown",
      "source": [
        "**2. When does the code in a function run: when it's specified or when it's called?**\n",
        "\n",
        "Answer:\n",
        "\n",
        "The code in a function run when it is called."
      ],
      "metadata": {
        "id": "o3iIfH_gACl2"
      }
    },
    {
      "cell_type": "code",
      "execution_count": 1,
      "metadata": {
        "colab": {
          "base_uri": "https://localhost:8080/",
          "height": 35
        },
        "id": "wlQmgqFH-hbe",
        "outputId": "6e066741-6bab-415d-f9df-393d8b4d4e7b"
      },
      "outputs": [
        {
          "output_type": "execute_result",
          "data": {
            "application/vnd.google.colaboratory.intrinsic+json": {
              "type": "string"
            },
            "text/plain": [
              "'Hello, asim'"
            ]
          },
          "metadata": {},
          "execution_count": 1
        }
      ],
      "source": [
        "def func1(name):\n",
        "  return \"Hello, \"+name\n",
        "\n",
        "msg = func1(\"asim\")  # Function func1() will run here by calling it\n",
        "msg"
      ]
    },
    {
      "cell_type": "markdown",
      "source": [
        "**3. What statement creates a function?**\n",
        "\n",
        "\n",
        "Answer:\n",
        "\n",
        "Function blocks begin with the keyword def followed by the function name and parentheses ( ( ) ).\n",
        "\n",
        "Any input parameters or arguments should be placed within these parentheses. We can also define parameters inside these parentheses.\n",
        "\n",
        "Any input parameters or arguments should be placed within these parentheses. You can also define parameters inside these parentheses.\n",
        "\n",
        "The code block within every function starts with a colon (:) and is indented.\n",
        "\n",
        "The statement return [expression] exits a function, optionally passing back an expression to the caller. A return statement with no arguments is the same as return None.\n",
        "\n"
      ],
      "metadata": {
        "id": "vMAzfzt7A2Df"
      }
    },
    {
      "cell_type": "code",
      "source": [
        "def my_function(a,b,c):\n",
        "  \"\"\"this is sample function that \n",
        "    add three variables and return the sum \"\"\"\n",
        "  sum = a+b+c\n",
        "  return sum\n",
        "\n",
        "my_function(10,66,25)"
      ],
      "metadata": {
        "colab": {
          "base_uri": "https://localhost:8080/"
        },
        "id": "opba11UFBiqU",
        "outputId": "1ca3f0d7-ddee-447c-c081-691b90bfd1d2"
      },
      "execution_count": 2,
      "outputs": [
        {
          "output_type": "execute_result",
          "data": {
            "text/plain": [
              "101"
            ]
          },
          "metadata": {},
          "execution_count": 2
        }
      ]
    },
    {
      "cell_type": "markdown",
      "source": [
        "**4. What is the difference between a function and a function call?**\n",
        "\n",
        "Answer:\n",
        "\n",
        "A ***function*** is a block of code that does a particular operation and returns a result. It usually accepts inputs as parameters and returns a result. The parameters are not mandatory.\n",
        "\n",
        "E.g:\n",
        "def sum(a,b):\n",
        "  return a+ b\n",
        "\n",
        "A ***function call*** is the code used to pass control to a function.\n",
        "\n",
        "E.g.:\n",
        "\n",
        "b = sum(5,6)\n"
      ],
      "metadata": {
        "id": "fKlwdvGYB9En"
      }
    },
    {
      "cell_type": "markdown",
      "source": [
        "**5. How many global scopes are there in a Python program? How many local scopes?**\n",
        "\n",
        "Answer:\n",
        "\n",
        "The scope of a name defines the area of a program in which you can unambiguously access that name, such as variables, functions, objects, and so on. A name will only be visible to and accessible by the code in its scope. The advantage of scope for avoiding name collisions and unpredictable behaviors. Most commonly, there are two general scopes:\n",
        "\n",
        "*Global scope:* The names that we define in this scope are available to all our code.\n",
        "\n",
        "*Local scope:* The names that we define in this scope are only available or visible to the code within the scope.\n",
        "\n",
        "\n",
        "There’s only one global Python scope per program execution. This scope remains in existence until the program terminates and all its names are forgotten. Otherwise, the next time we try to run the program, the names would remember their values from the previous run.\n",
        "\n",
        "Local scope will remain inside the function or enclosed block within a program.This would be one per instance of function called.\n",
        "\n"
      ],
      "metadata": {
        "id": "8rKxY3WWC2zB"
      }
    },
    {
      "cell_type": "markdown",
      "source": [
        "**6. What happens to variables in a local scope when the function call returns?**\n",
        "\n",
        "Answer:\n",
        "\n",
        "When the execution of the function terminates (returns), the local variables are destroyed."
      ],
      "metadata": {
        "id": "sPquGg3VFn45"
      }
    },
    {
      "cell_type": "code",
      "source": [
        "def test(a):\n",
        "  print(\"inside function : a=\",a)\n",
        "  a=a*2    #this calculation didn't change the global variable a\n",
        "  print(\"inside function after multiply by 2 : a=\",a)\n",
        "  return a\n",
        "\n",
        "a=4\n",
        "print(\"outside function before call a=\",a)\n",
        "test(a)\n",
        "print(\"outside function after call a=\",a)\n",
        "  \n"
      ],
      "metadata": {
        "colab": {
          "base_uri": "https://localhost:8080/"
        },
        "id": "AN88g5GaFwRg",
        "outputId": "46068b96-2d68-499b-cde8-12ad3a910ba1"
      },
      "execution_count": 3,
      "outputs": [
        {
          "output_type": "stream",
          "name": "stdout",
          "text": [
            "outside function before call a= 4\n",
            "inside function : a= 4\n",
            "inside function after multiply by 2 : a= 8\n",
            "outside function after call a= 4\n"
          ]
        }
      ]
    },
    {
      "cell_type": "markdown",
      "source": [
        "**7. What is the concept of a return value? Is it possible to have a return value in an expression?**\n",
        "\n",
        "Answer:\n",
        "\n",
        "A return statement is used to end the execution of the function call and \"returns\" the result (value of the expression following the return keyword) to the caller. The statements after the return statements are not executed. If the return statement is without any expression, then the special value None is returned.\n",
        "Yes, we can return the value in an expression."
      ],
      "metadata": {
        "id": "9QjHtNPxGwq2"
      }
    },
    {
      "cell_type": "code",
      "source": [
        "def test():\n",
        "  a=5\n",
        "  b=10\n",
        "  c=25\n",
        "  return (a*5)+(b*2)+(c+1)\n",
        "\n",
        "test()"
      ],
      "metadata": {
        "colab": {
          "base_uri": "https://localhost:8080/"
        },
        "id": "eyTlyOROHcVT",
        "outputId": "802fa83c-fb04-4ee8-fd16-484c42c073ce"
      },
      "execution_count": 4,
      "outputs": [
        {
          "output_type": "execute_result",
          "data": {
            "text/plain": [
              "71"
            ]
          },
          "metadata": {},
          "execution_count": 4
        }
      ]
    },
    {
      "cell_type": "markdown",
      "source": [
        "**8. If a function does not have a return statement, what is the return value of a call to that function?**\n",
        "\n",
        "Answer:\n",
        "\n",
        "None will get return from that function."
      ],
      "metadata": {
        "id": "VS0NludhHpDL"
      }
    },
    {
      "cell_type": "code",
      "source": [
        "def test():\n",
        "  pass\n",
        "\n",
        "type(test())"
      ],
      "metadata": {
        "colab": {
          "base_uri": "https://localhost:8080/"
        },
        "id": "UYR3jJR3HyiZ",
        "outputId": "edae66be-a333-428e-c80b-1038bb06bc96"
      },
      "execution_count": 5,
      "outputs": [
        {
          "output_type": "execute_result",
          "data": {
            "text/plain": [
              "NoneType"
            ]
          },
          "metadata": {},
          "execution_count": 5
        }
      ]
    },
    {
      "cell_type": "markdown",
      "source": [
        "**9. How do you make a function variable refer to the global variable?**\n",
        "\n",
        "Answer:\n",
        "\n",
        "we can use global keyword to make the local variable as global one."
      ],
      "metadata": {
        "id": "4fG7gVa8H9E0"
      }
    },
    {
      "cell_type": "code",
      "source": [
        "a=1\n",
        "\n",
        "def test(num):\n",
        "  global a   #local variable now act as global\n",
        "  a=num\n",
        "  a=a*10\n",
        "\n",
        "  return a\n",
        "\n",
        "print(\"a=\",a)\n",
        "test(5)\n",
        "print(\"a=\",a)"
      ],
      "metadata": {
        "colab": {
          "base_uri": "https://localhost:8080/"
        },
        "id": "14FytDZwP04p",
        "outputId": "4b0dd1eb-bcfd-4cef-816a-7f6ce073a0fc"
      },
      "execution_count": 7,
      "outputs": [
        {
          "output_type": "stream",
          "name": "stdout",
          "text": [
            "a= 1\n",
            "a= 50\n"
          ]
        }
      ]
    },
    {
      "cell_type": "markdown",
      "source": [
        "**10. What is the data type of None?**\n",
        "\n",
        "Answer:\n",
        "\n",
        "None Type\n",
        "\n"
      ],
      "metadata": {
        "id": "-7lMYNipQVgA"
      }
    },
    {
      "cell_type": "code",
      "source": [
        "type(None)"
      ],
      "metadata": {
        "colab": {
          "base_uri": "https://localhost:8080/"
        },
        "id": "6iwVo_I0QZYF",
        "outputId": "33c0fb4a-0849-430b-de63-7c442684d350"
      },
      "execution_count": 8,
      "outputs": [
        {
          "output_type": "execute_result",
          "data": {
            "text/plain": [
              "NoneType"
            ]
          },
          "metadata": {},
          "execution_count": 8
        }
      ]
    },
    {
      "cell_type": "markdown",
      "source": [
        "**11. What does the sentence import areallyourpetsnamederic do?**\n",
        "\n",
        "Answer:\n",
        "\n",
        "It imports a module named areallyourpetsnamederic.\n"
      ],
      "metadata": {
        "id": "1iQm0_wZQfqh"
      }
    },
    {
      "cell_type": "markdown",
      "source": [
        "**12. If you had a bacon() feature in a spam module, what would you call it after importing spam?**\n",
        "\n",
        "Answer:\n",
        "\n",
        "import spam\n",
        "\n",
        "\n",
        "spam.bacon()\n",
        "\n"
      ],
      "metadata": {
        "id": "2u-opQMbQ9BQ"
      }
    },
    {
      "cell_type": "markdown",
      "source": [
        "**13. What can you do to save a programme from crashing if it encounters an error?**\n",
        "\n",
        "Answer:\n",
        "\n",
        "We will try to implement error handling on all possible cases where we can consider the chances of program chrash using try-except block.\n"
      ],
      "metadata": {
        "id": "ZOXNxtByRGqQ"
      }
    },
    {
      "cell_type": "markdown",
      "source": [
        "**14. What is the purpose of the try clause? What is the purpose of the except clause?**\n",
        "\n",
        "Answer:\n",
        "\n",
        "The Python \"try..except\" statement runs the code under the “try” statement. If this code does not execute successfully, the program will stop at the line that caused the error and the “except” code will run.\n",
        "\n",
        "The try block allows us to test a block of code for errors. The except block enables us to handle the error with a user-defined response."
      ],
      "metadata": {
        "id": "MABJBsCfRlnX"
      }
    },
    {
      "cell_type": "code",
      "source": [
        "try:\n",
        "  print(\"This is try block\")\n",
        "  b=0\n",
        "  a=10/b  #this throws error\n",
        "except:\n",
        "  print(\"Divide by zero error found..Please enter correct value of variable b\")"
      ],
      "metadata": {
        "colab": {
          "base_uri": "https://localhost:8080/"
        },
        "id": "RykUlx0TR95Z",
        "outputId": "900ad891-cf80-40e5-d8b5-922834db5ebf"
      },
      "execution_count": 10,
      "outputs": [
        {
          "output_type": "stream",
          "name": "stdout",
          "text": [
            "This is try block\n",
            "Divide by zero error found..Please enter correct value of variable b\n"
          ]
        }
      ]
    }
  ]
}