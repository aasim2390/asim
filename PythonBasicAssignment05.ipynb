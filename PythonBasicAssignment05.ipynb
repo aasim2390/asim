{
  "nbformat": 4,
  "nbformat_minor": 0,
  "metadata": {
    "colab": {
      "name": "PythonBasicAssignment05.ipynb",
      "provenance": []
    },
    "kernelspec": {
      "name": "python3",
      "display_name": "Python 3"
    },
    "language_info": {
      "name": "python"
    }
  },
  "cells": [
    {
      "cell_type": "markdown",
      "source": [
        "###Python Basic assignment 05\n"
      ],
      "metadata": {
        "id": "oz1M_S1yoj2n"
      }
    },
    {
      "cell_type": "markdown",
      "source": [
        "**1. What does an empty dictionary's code look like?**\n",
        "\n",
        "\n",
        "Answer:\n",
        "\n"
      ],
      "metadata": {
        "id": "_26PO0T_oqHf"
      }
    },
    {
      "cell_type": "code",
      "execution_count": 28,
      "metadata": {
        "colab": {
          "base_uri": "https://localhost:8080/"
        },
        "id": "662v9ElfogfX",
        "outputId": "9d634c22-4e29-4d9a-9b1d-97d587034fab"
      },
      "outputs": [
        {
          "output_type": "execute_result",
          "data": {
            "text/plain": [
              "dict"
            ]
          },
          "metadata": {},
          "execution_count": 28
        }
      ],
      "source": [
        "d ={}\n",
        "type(d)"
      ]
    },
    {
      "cell_type": "markdown",
      "source": [
        "**2. What is the value of a dictionary value with the key 'foo' and the value 42?**\n",
        "\n",
        "Answer:\n",
        "\n"
      ],
      "metadata": {
        "id": "zyvYWCxmo1bq"
      }
    },
    {
      "cell_type": "code",
      "source": [
        "d={'foo':42}\n",
        "print(d['foo']) # or\n",
        "print(d.get('foo'))"
      ],
      "metadata": {
        "colab": {
          "base_uri": "https://localhost:8080/"
        },
        "id": "0GsIspH5o6FU",
        "outputId": "9a16ae24-ef6c-47ef-dd7f-c019db030a6f"
      },
      "execution_count": 29,
      "outputs": [
        {
          "output_type": "stream",
          "name": "stdout",
          "text": [
            "42\n",
            "42\n"
          ]
        }
      ]
    },
    {
      "cell_type": "markdown",
      "source": [
        "**3. What is the most significant distinction between a dictionary and a list?**\n",
        "\n",
        "Answer:\n",
        "\n",
        "A list is an ordered sequence of objects, whereas dictionaries are unordered sets. However, the main difference is that items in dictionaries are accessed via keys and not via their index position"
      ],
      "metadata": {
        "id": "wUwxp-hUpI8Y"
      }
    },
    {
      "cell_type": "markdown",
      "source": [
        "**4. What happens if you try to access spam['foo'] if spam is {'bar': 100}?**\n",
        "\n",
        "Answer:\n",
        "\n"
      ],
      "metadata": {
        "id": "nLcG-JTmpRFk"
      }
    },
    {
      "cell_type": "code",
      "source": [
        "spam={'bar':100}\n",
        "spam['foo']   #key \"foo\" not found in the dictionary spam"
      ],
      "metadata": {
        "colab": {
          "base_uri": "https://localhost:8080/",
          "height": 183
        },
        "id": "yZvVn9PwpBsv",
        "outputId": "fa96de97-ca8d-4603-f26f-276139ef9d36"
      },
      "execution_count": 30,
      "outputs": [
        {
          "output_type": "error",
          "ename": "KeyError",
          "evalue": "ignored",
          "traceback": [
            "\u001b[0;31m---------------------------------------------------------------------------\u001b[0m",
            "\u001b[0;31mKeyError\u001b[0m                                  Traceback (most recent call last)",
            "\u001b[0;32m<ipython-input-30-5fc784ac4dfb>\u001b[0m in \u001b[0;36m<module>\u001b[0;34m()\u001b[0m\n\u001b[1;32m      1\u001b[0m \u001b[0mspam\u001b[0m\u001b[0;34m=\u001b[0m\u001b[0;34m{\u001b[0m\u001b[0;34m'bar'\u001b[0m\u001b[0;34m:\u001b[0m\u001b[0;36m100\u001b[0m\u001b[0;34m}\u001b[0m\u001b[0;34m\u001b[0m\u001b[0;34m\u001b[0m\u001b[0m\n\u001b[0;32m----> 2\u001b[0;31m \u001b[0mspam\u001b[0m\u001b[0;34m[\u001b[0m\u001b[0;34m'foo'\u001b[0m\u001b[0;34m]\u001b[0m   \u001b[0;31m#key \"foo\" not found in the dictionary spam\u001b[0m\u001b[0;34m\u001b[0m\u001b[0;34m\u001b[0m\u001b[0m\n\u001b[0m",
            "\u001b[0;31mKeyError\u001b[0m: 'foo'"
          ]
        }
      ]
    },
    {
      "cell_type": "code",
      "source": [
        "print(spam.get('foo')) #this is another method - return None if key not found\n",
        "print(spam.get('bar'))"
      ],
      "metadata": {
        "colab": {
          "base_uri": "https://localhost:8080/"
        },
        "id": "vzcEcelIppOu",
        "outputId": "b16c5be3-6ec1-4a0d-b3e5-e2f67de0ea0e"
      },
      "execution_count": 31,
      "outputs": [
        {
          "output_type": "stream",
          "name": "stdout",
          "text": [
            "None\n",
            "100\n"
          ]
        }
      ]
    },
    {
      "cell_type": "markdown",
      "source": [
        "**5. If a dictionary is stored in spam, what is the difference between the expressions 'cat' in spam and 'cat' in spam.keys()?**\n",
        "\n",
        "Answer:\n",
        "\n"
      ],
      "metadata": {
        "id": "qfulWrnhp40j"
      }
    },
    {
      "cell_type": "code",
      "source": [
        "spam={'cat':3,\"dog\":4}"
      ],
      "metadata": {
        "id": "5kimIdB5qGx8"
      },
      "execution_count": 32,
      "outputs": []
    },
    {
      "cell_type": "code",
      "source": [
        "\"cat\" in spam"
      ],
      "metadata": {
        "colab": {
          "base_uri": "https://localhost:8080/"
        },
        "id": "LtdMLa6TqLnc",
        "outputId": "b4e01d93-8751-4018-ae1b-39303ea9bb55"
      },
      "execution_count": 33,
      "outputs": [
        {
          "output_type": "execute_result",
          "data": {
            "text/plain": [
              "True"
            ]
          },
          "metadata": {},
          "execution_count": 33
        }
      ]
    },
    {
      "cell_type": "code",
      "source": [
        "\"cat\" in spam.keys()"
      ],
      "metadata": {
        "colab": {
          "base_uri": "https://localhost:8080/"
        },
        "id": "UzeSuNRSqOBk",
        "outputId": "0678910b-53e0-45a9-9313-1a96455e1218"
      },
      "execution_count": 34,
      "outputs": [
        {
          "output_type": "execute_result",
          "data": {
            "text/plain": [
              "True"
            ]
          },
          "metadata": {},
          "execution_count": 34
        }
      ]
    },
    {
      "cell_type": "markdown",
      "source": [
        "No difference observed between the given two expressions."
      ],
      "metadata": {
        "id": "tgRH0CEXsvaP"
      }
    },
    {
      "cell_type": "markdown",
      "source": [
        "**6. If a dictionary is stored in spam, what is the difference between the expressions 'cat' in spam and 'cat' in spam.values()?**\n",
        "\n",
        "\n",
        "Answer:\n",
        "\n"
      ],
      "metadata": {
        "id": "pyL1EszFs2WA"
      }
    },
    {
      "cell_type": "code",
      "source": [
        "spam={'cat':3,\"dog\":4}"
      ],
      "metadata": {
        "id": "KmB_v8Ris-0a"
      },
      "execution_count": 35,
      "outputs": []
    },
    {
      "cell_type": "code",
      "source": [
        "\"cat\" in spam"
      ],
      "metadata": {
        "colab": {
          "base_uri": "https://localhost:8080/"
        },
        "id": "6r40yInktCnd",
        "outputId": "227cb021-39c6-4f57-b011-a53f4e26ab02"
      },
      "execution_count": 36,
      "outputs": [
        {
          "output_type": "execute_result",
          "data": {
            "text/plain": [
              "True"
            ]
          },
          "metadata": {},
          "execution_count": 36
        }
      ]
    },
    {
      "cell_type": "code",
      "source": [
        "\"cat\" in spam.values()"
      ],
      "metadata": {
        "colab": {
          "base_uri": "https://localhost:8080/"
        },
        "id": "lho-PX3HtEw7",
        "outputId": "fa92ce5b-a84e-4083-8252-98e9818297bd"
      },
      "execution_count": 37,
      "outputs": [
        {
          "output_type": "execute_result",
          "data": {
            "text/plain": [
              "False"
            ]
          },
          "metadata": {},
          "execution_count": 37
        }
      ]
    },
    {
      "cell_type": "markdown",
      "source": [
        "Based on above two questions, it seems when we use \"cat\" in spam it internally checking the value in spam.keys()\n"
      ],
      "metadata": {
        "id": "2LmknGGutJhB"
      }
    },
    {
      "cell_type": "markdown",
      "source": [
        "**7. What is a shortcut for the following code?**\n",
        "\n",
        "if 'color' not in spam:\n",
        "  spam['color'] = 'black'\n"
      ],
      "metadata": {
        "id": "WHY_oh1MtWLE"
      }
    },
    {
      "cell_type": "code",
      "source": [
        "if 'color' not in spam:\n",
        "  spam['color'] = 'black'\n"
      ],
      "metadata": {
        "id": "XLeMgLbwtnF8"
      },
      "execution_count": 38,
      "outputs": []
    },
    {
      "cell_type": "code",
      "source": [
        "spam.setdefault('color', 'black') #if key 'color' not found then add it and assign value 'black'"
      ],
      "metadata": {
        "colab": {
          "base_uri": "https://localhost:8080/",
          "height": 35
        },
        "id": "TF1BCSD4t8UG",
        "outputId": "86219337-72f5-452d-d90f-1842868183c2"
      },
      "execution_count": 40,
      "outputs": [
        {
          "output_type": "execute_result",
          "data": {
            "application/vnd.google.colaboratory.intrinsic+json": {
              "type": "string"
            },
            "text/plain": [
              "'black'"
            ]
          },
          "metadata": {},
          "execution_count": 40
        }
      ]
    },
    {
      "cell_type": "code",
      "source": [
        "spam"
      ],
      "metadata": {
        "colab": {
          "base_uri": "https://localhost:8080/"
        },
        "id": "gtu3cCeuuIRS",
        "outputId": "1fb98ebc-5d17-4eec-9614-b4fd57015713"
      },
      "execution_count": 41,
      "outputs": [
        {
          "output_type": "execute_result",
          "data": {
            "text/plain": [
              "{'cat': 3, 'color': 'black', 'dog': 4}"
            ]
          },
          "metadata": {},
          "execution_count": 41
        }
      ]
    },
    {
      "cell_type": "markdown",
      "source": [
        "**8. How do you \"pretty print\" dictionary values using which module and function?**\n",
        "\n",
        "Answer:\n",
        "\n",
        "pprint.pprint()"
      ],
      "metadata": {
        "id": "YEwqban8tiFL"
      }
    },
    {
      "cell_type": "code",
      "source": [
        "from pprint import pprint\n",
        "\n",
        "spam[1] = [1,2,3,4,56,8,[12,54,5,\"lk\",12.2]]\n",
        "pprint(spam)"
      ],
      "metadata": {
        "colab": {
          "base_uri": "https://localhost:8080/"
        },
        "id": "7IEyYvJGuzPv",
        "outputId": "d1ac265d-3290-484b-ef23-912eb90df905"
      },
      "execution_count": 42,
      "outputs": [
        {
          "output_type": "stream",
          "name": "stdout",
          "text": [
            "{1: [1, 2, 3, 4, 56, 8, [12, 54, 5, 'lk', 12.2]],\n",
            " 'cat': 3,\n",
            " 'color': 'black',\n",
            " 'dog': 4}\n"
          ]
        }
      ]
    }
  ]
}