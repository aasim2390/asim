{
  "nbformat": 4,
  "nbformat_minor": 0,
  "metadata": {
    "colab": {
      "name": "PythonBasic_Assignment4.ipynb",
      "provenance": []
    },
    "kernelspec": {
      "name": "python3",
      "display_name": "Python 3"
    },
    "language_info": {
      "name": "python"
    }
  },
  "cells": [
    {
      "cell_type": "markdown",
      "source": [
        "###Python Basic Assignment 04"
      ],
      "metadata": {
        "id": "fjIT2LptXq6Q"
      }
    },
    {
      "cell_type": "markdown",
      "source": [
        "**1. What exactly is []?**"
      ],
      "metadata": {
        "id": "ik4ljdECXwyv"
      }
    },
    {
      "cell_type": "code",
      "source": [
        "b=[]\n",
        "type(b)"
      ],
      "metadata": {
        "colab": {
          "base_uri": "https://localhost:8080/"
        },
        "id": "MfbXa08LX0i1",
        "outputId": "2db520fa-aa71-4f91-8c5f-e605a7da6245"
      },
      "execution_count": 1,
      "outputs": [
        {
          "output_type": "execute_result",
          "data": {
            "text/plain": [
              "list"
            ]
          },
          "metadata": {},
          "execution_count": 1
        }
      ]
    },
    {
      "cell_type": "markdown",
      "source": [
        "[] is a notation of list."
      ],
      "metadata": {
        "id": "aDrIo7TLX996"
      }
    },
    {
      "cell_type": "markdown",
      "source": [
        "**2. In a list of values stored in a variable called spam, how would you assign the value 'hello' as the third value?** \n",
        "(Assume [2, 4, 6, 8, 10] are in spam.)"
      ],
      "metadata": {
        "id": "Dl4BIiflYEgP"
      }
    },
    {
      "cell_type": "code",
      "source": [
        "spam=[2,4,6,8,10] #given\n",
        "\n",
        "#To assign \"hello\" at 3rd position\n",
        "spam[2] =\"hello\"  #index 2 is at 3rd position\n",
        "spam"
      ],
      "metadata": {
        "colab": {
          "base_uri": "https://localhost:8080/"
        },
        "id": "r_Oz1EIYYLbs",
        "outputId": "078dc3c3-8efe-4726-d148-107efc88a699"
      },
      "execution_count": 4,
      "outputs": [
        {
          "output_type": "execute_result",
          "data": {
            "text/plain": [
              "[2, 4, 'hello', 8, 10]"
            ]
          },
          "metadata": {},
          "execution_count": 4
        }
      ]
    },
    {
      "cell_type": "markdown",
      "source": [
        "**\"Let's pretend the spam includes the list ['a', 'b', 'c', 'd'] for the next three queries.\"**\n",
        "\n",
        "3. What is the value of spam[int(int('3' * 2) / 11)]?"
      ],
      "metadata": {
        "id": "zxEDa70jYtt_"
      }
    },
    {
      "cell_type": "code",
      "source": [
        "spam = ['a','b','c','d']"
      ],
      "metadata": {
        "id": "dzVyc05GZKl7"
      },
      "execution_count": 5,
      "outputs": []
    },
    {
      "cell_type": "code",
      "source": [
        "spam[int(int('3' * 2) / 11)]    # int(333/11) ==> int(3) ==> 3 "
      ],
      "metadata": {
        "colab": {
          "base_uri": "https://localhost:8080/",
          "height": 35
        },
        "id": "VdbAFF8BY8jT",
        "outputId": "c1ca1f2d-5136-4060-c581-6247b8ff1f3e"
      },
      "execution_count": 6,
      "outputs": [
        {
          "output_type": "execute_result",
          "data": {
            "application/vnd.google.colaboratory.intrinsic+json": {
              "type": "string"
            },
            "text/plain": [
              "'d'"
            ]
          },
          "metadata": {},
          "execution_count": 6
        }
      ]
    },
    {
      "cell_type": "markdown",
      "source": [
        "4. What is the value of spam[-1]?"
      ],
      "metadata": {
        "id": "3Fn-y67KZfox"
      }
    },
    {
      "cell_type": "code",
      "source": [
        "spam[-1]"
      ],
      "metadata": {
        "colab": {
          "base_uri": "https://localhost:8080/",
          "height": 35
        },
        "id": "J_O1DRJqZgbe",
        "outputId": "776e0f23-32b5-487e-a3ca-8fad25edddc3"
      },
      "execution_count": 7,
      "outputs": [
        {
          "output_type": "execute_result",
          "data": {
            "application/vnd.google.colaboratory.intrinsic+json": {
              "type": "string"
            },
            "text/plain": [
              "'d'"
            ]
          },
          "metadata": {},
          "execution_count": 7
        }
      ]
    },
    {
      "cell_type": "markdown",
      "source": [
        "5. What is the value of spam[:2]?"
      ],
      "metadata": {
        "id": "v1FqjICSZkXL"
      }
    },
    {
      "cell_type": "code",
      "source": [
        "spam[:2]"
      ],
      "metadata": {
        "colab": {
          "base_uri": "https://localhost:8080/"
        },
        "id": "XCpp0vVRZlFF",
        "outputId": "7bed1efe-25b4-43b2-aada-353c45571708"
      },
      "execution_count": 8,
      "outputs": [
        {
          "output_type": "execute_result",
          "data": {
            "text/plain": [
              "['a', 'b']"
            ]
          },
          "metadata": {},
          "execution_count": 8
        }
      ]
    },
    {
      "cell_type": "markdown",
      "source": [
        "**\"Let's pretend bacon has the list [3.14, 'cat,' 11, 'cat,' True] for the next three questions.\"**"
      ],
      "metadata": {
        "id": "yHFblzdtZrD8"
      }
    },
    {
      "cell_type": "code",
      "source": [
        "bacon=[3.14, 'cat', 11, 'cat', True]"
      ],
      "metadata": {
        "id": "urY7Yr4wZqbU"
      },
      "execution_count": 14,
      "outputs": []
    },
    {
      "cell_type": "markdown",
      "source": [
        "6. What is the value of bacon.index('cat')?"
      ],
      "metadata": {
        "id": "thGcQ8-cZ1vc"
      }
    },
    {
      "cell_type": "code",
      "source": [
        "bacon.index('cat') #index of first occurence of cat"
      ],
      "metadata": {
        "colab": {
          "base_uri": "https://localhost:8080/"
        },
        "id": "1xTrXdprZ7g-",
        "outputId": "99d5132f-fc5c-4b1a-e955-97da16c27b83"
      },
      "execution_count": 15,
      "outputs": [
        {
          "output_type": "execute_result",
          "data": {
            "text/plain": [
              "1"
            ]
          },
          "metadata": {},
          "execution_count": 15
        }
      ]
    },
    {
      "cell_type": "markdown",
      "source": [
        "7. How does bacon.append(99) change the look of the list value in bacon?"
      ],
      "metadata": {
        "id": "IbG7QjxtZ4Wj"
      }
    },
    {
      "cell_type": "code",
      "source": [
        "bacon.append(99) # integer value 99 will get added at the last index\n",
        "bacon"
      ],
      "metadata": {
        "colab": {
          "base_uri": "https://localhost:8080/"
        },
        "id": "CpWU9UUKaEaG",
        "outputId": "82540173-9d87-474b-b20e-5bcc05eae107"
      },
      "execution_count": 16,
      "outputs": [
        {
          "output_type": "execute_result",
          "data": {
            "text/plain": [
              "[3.14, 'cat', 11, 'cat', True, 99]"
            ]
          },
          "metadata": {},
          "execution_count": 16
        }
      ]
    },
    {
      "cell_type": "markdown",
      "source": [
        "8. How does bacon.remove('cat') change the look of the list in bacon?"
      ],
      "metadata": {
        "id": "eo8nEXk2aS81"
      }
    },
    {
      "cell_type": "code",
      "source": [
        "bacon.remove(\"cat\") #first occurence will get removed\n",
        "bacon"
      ],
      "metadata": {
        "colab": {
          "base_uri": "https://localhost:8080/"
        },
        "id": "nM-zmq4BaUQS",
        "outputId": "22861e9b-0a99-46d6-d883-53da5ce54303"
      },
      "execution_count": 17,
      "outputs": [
        {
          "output_type": "execute_result",
          "data": {
            "text/plain": [
              "[3.14, 11, 'cat', True, 99]"
            ]
          },
          "metadata": {},
          "execution_count": 17
        }
      ]
    },
    {
      "cell_type": "markdown",
      "source": [
        "**9. What are the list concatenation and list replication operators?**\n",
        "\n",
        "Answer:\n",
        "\n",
        "list concatenation operator is \"+\" as we can concatenate two or more list together.\n",
        "list replication operator is \"*\" as we can replicate the given list as many times we want based on the given positive integer value."
      ],
      "metadata": {
        "id": "ciYo4uk2ajY-"
      }
    },
    {
      "cell_type": "code",
      "source": [
        "l1=[1,2,3,\"abc\"]\n",
        "l2 = [\"a\",\"bb\",55,55,654]\n",
        "print(l1+l2)  #concatenate\n",
        "\n",
        "print(l1* 3) #replication"
      ],
      "metadata": {
        "colab": {
          "base_uri": "https://localhost:8080/"
        },
        "id": "e5SMmU0hbV61",
        "outputId": "8ec88b75-d9a1-449f-ee3f-2732c1523896"
      },
      "execution_count": 19,
      "outputs": [
        {
          "output_type": "stream",
          "name": "stdout",
          "text": [
            "[1, 2, 3, 'abc', 'a', 'bb', 55, 55, 654]\n",
            "[1, 2, 3, 'abc', 1, 2, 3, 'abc', 1, 2, 3, 'abc']\n"
          ]
        }
      ]
    },
    {
      "cell_type": "markdown",
      "source": [
        "**10. What is difference between the list methods append() and insert()?**\n",
        "\n",
        "Answer:\n",
        "\n",
        "Append method:- Append method adds a new element at the end of the list. The length of the list increases by one\n",
        "\n",
        "\n",
        "Insert method:- Insert method is the method which inserts a given element at a given index in a list. Rest of the elements at the right position moves by 1 position.\n",
        "\n",
        "Syntax:- \n",
        "list_name.insert(index, element)\n"
      ],
      "metadata": {
        "id": "QzNlvrQybuib"
      }
    },
    {
      "cell_type": "code",
      "source": [
        "l1 = [1,2,3,4,5]  \n",
        "l1.append(\"hi\") # append \"hi\" at the end of list\n",
        "l1"
      ],
      "metadata": {
        "colab": {
          "base_uri": "https://localhost:8080/"
        },
        "id": "N8pxzeTzbaUR",
        "outputId": "44602b4c-a35c-43e2-b526-c639c99e6eff"
      },
      "execution_count": 21,
      "outputs": [
        {
          "output_type": "execute_result",
          "data": {
            "text/plain": [
              "[1, 2, 3, 4, 5, 'hi']"
            ]
          },
          "metadata": {},
          "execution_count": 21
        }
      ]
    },
    {
      "cell_type": "code",
      "source": [
        "l1.insert(2,\"abc\") #insert \"abc\" at third position\n",
        "l1"
      ],
      "metadata": {
        "colab": {
          "base_uri": "https://localhost:8080/"
        },
        "id": "7qwzsKzfckSG",
        "outputId": "bfc357a6-e14a-4271-f83d-33d53582aa0d"
      },
      "execution_count": 22,
      "outputs": [
        {
          "output_type": "execute_result",
          "data": {
            "text/plain": [
              "[1, 2, 'abc', 3, 4, 5, 'hi']"
            ]
          },
          "metadata": {},
          "execution_count": 22
        }
      ]
    },
    {
      "cell_type": "markdown",
      "source": [
        "**11. What are the two methods for removing items from a list?**\n",
        "\n",
        "Answer:\n",
        "\n",
        "In Python, there are many methods available on the list data type that help us remove an element from a given list. The methods are remove(), pop() and clear()\n",
        "\n",
        "Besides the list methods, we can also use a del keyword to remove items from a list.\n",
        "\n",
        "1) remove - This method is a built-in method available with the list. It helps to remove the given very first element matching from the list.\n",
        "\n",
        "2) pop - This method removes an element from the list based on the index given.\n",
        "\n",
        "3) clear - This method will remove all the elements present in the list.\n",
        "\n",
        "4) del - To remove an element from the list, we can use the del keyword followed by a list. We have to pass the index of the element to the list. The index starts at 0."
      ],
      "metadata": {
        "id": "MaSu3QMSc93W"
      }
    },
    {
      "cell_type": "code",
      "source": [
        "l1 = [1,1,1,2,1,2,5,4,55,88,7,\"a\",\"a\",\"a\",\"aa\",\"abs\"]"
      ],
      "metadata": {
        "id": "HN-4Sfy8dwAF"
      },
      "execution_count": 26,
      "outputs": []
    },
    {
      "cell_type": "code",
      "source": [
        "l1.remove(1)#first occurence of 1 will get removed\n",
        "l1"
      ],
      "metadata": {
        "colab": {
          "base_uri": "https://localhost:8080/"
        },
        "id": "tnqas502d4Bi",
        "outputId": "26ad5688-913a-4535-ad67-22282ed67a14"
      },
      "execution_count": 27,
      "outputs": [
        {
          "output_type": "execute_result",
          "data": {
            "text/plain": [
              "[1, 1, 2, 1, 2, 5, 4, 55, 88, 7, 'a', 'a', 'a', 'aa', 'abs']"
            ]
          },
          "metadata": {},
          "execution_count": 27
        }
      ]
    },
    {
      "cell_type": "code",
      "source": [
        "l1.pop(2) #remove the value 2 at index 2\n",
        "l1"
      ],
      "metadata": {
        "colab": {
          "base_uri": "https://localhost:8080/"
        },
        "id": "QxHwjkyFd54B",
        "outputId": "7b0e10f6-2a1a-4649-de48-48950ae89125"
      },
      "execution_count": 28,
      "outputs": [
        {
          "output_type": "execute_result",
          "data": {
            "text/plain": [
              "[1, 1, 1, 2, 5, 4, 55, 88, 7, 'a', 'a', 'a', 'aa', 'abs']"
            ]
          },
          "metadata": {},
          "execution_count": 28
        }
      ]
    },
    {
      "cell_type": "code",
      "source": [
        "del l1[6] #remove value 55 at index 6\n",
        "l1"
      ],
      "metadata": {
        "colab": {
          "base_uri": "https://localhost:8080/"
        },
        "id": "u6osPVPweLy6",
        "outputId": "2866834a-b02d-47bd-e2ad-e661ce8530ba"
      },
      "execution_count": 29,
      "outputs": [
        {
          "output_type": "execute_result",
          "data": {
            "text/plain": [
              "[1, 1, 1, 2, 5, 4, 88, 7, 'a', 'a', 'a', 'aa', 'abs']"
            ]
          },
          "metadata": {},
          "execution_count": 29
        }
      ]
    },
    {
      "cell_type": "code",
      "source": [
        "l1.clear() #remove all elements from list\n",
        "l1"
      ],
      "metadata": {
        "colab": {
          "base_uri": "https://localhost:8080/"
        },
        "id": "SBQZXSfkeTHS",
        "outputId": "b9f68d23-eef8-4c46-ea96-ed935e6ddb45"
      },
      "execution_count": 30,
      "outputs": [
        {
          "output_type": "execute_result",
          "data": {
            "text/plain": [
              "[]"
            ]
          },
          "metadata": {},
          "execution_count": 30
        }
      ]
    },
    {
      "cell_type": "code",
      "source": [
        "del l1 #del also used to remove the whole list"
      ],
      "metadata": {
        "id": "SGLW6Ug9edLY"
      },
      "execution_count": 31,
      "outputs": []
    },
    {
      "cell_type": "markdown",
      "source": [
        "**12. Describe how list values and string values are identical.**\n",
        "\n",
        "Answer:\n",
        "\n",
        "The similarity between Lists and Strings in Python is that both are sequences. The differences between them are that firstly, Lists are mutable but Strings are immutable. Secondly, elements of a list can be of different types whereas a String only contains characters that are all of String type.\n"
      ],
      "metadata": {
        "id": "fmbkmIrQemz3"
      }
    },
    {
      "cell_type": "markdown",
      "source": [
        "**13. What's the difference between tuples and lists?**\n",
        "\n",
        "\n",
        "Tuples have a collection of elements which is ordered and unchangeable (immutable). \n",
        "\n",
        "While List is a collection which is ordered and changeable.\n"
      ],
      "metadata": {
        "id": "_tUMOusnfOe7"
      }
    },
    {
      "cell_type": "markdown",
      "source": [
        "**14. How do you type a tuple value that only contains the integer 42?**\n",
        "\n",
        "Answer:\n",
        "\n",
        "\n",
        "\n"
      ],
      "metadata": {
        "id": "PBuOa9YugWrm"
      }
    },
    {
      "cell_type": "code",
      "source": [
        "t=(42,)\n",
        "type(t)"
      ],
      "metadata": {
        "colab": {
          "base_uri": "https://localhost:8080/"
        },
        "id": "vPHgYjNog1V2",
        "outputId": "6458b9c5-9b7d-4da7-a733-a968ec199a7c"
      },
      "execution_count": 32,
      "outputs": [
        {
          "output_type": "execute_result",
          "data": {
            "text/plain": [
              "tuple"
            ]
          },
          "metadata": {},
          "execution_count": 32
        }
      ]
    },
    {
      "cell_type": "markdown",
      "source": [
        "**15. How do you get a list value's tuple form? How do you get a tuple value's list form?**\n",
        "\n",
        "Answer:\n",
        "\n"
      ],
      "metadata": {
        "id": "C7zJjF95g6kA"
      }
    },
    {
      "cell_type": "code",
      "source": [
        "l1=[1,1,2,3,554,45,\"aa\",\"aa\",\"abn\"]\n",
        "t1 = tuple(l1) #list to tuple\n",
        "\n",
        "print(l1)\n",
        "print(t1)"
      ],
      "metadata": {
        "colab": {
          "base_uri": "https://localhost:8080/"
        },
        "id": "c9WT4X9QiFDh",
        "outputId": "4b1f3e3e-374e-41fa-d319-fef42a459078"
      },
      "execution_count": 33,
      "outputs": [
        {
          "output_type": "stream",
          "name": "stdout",
          "text": [
            "[1, 1, 2, 3, 554, 45, 'aa', 'aa', 'abn']\n",
            "(1, 1, 2, 3, 554, 45, 'aa', 'aa', 'abn')\n"
          ]
        }
      ]
    },
    {
      "cell_type": "code",
      "source": [
        "l2 =list(t1) #tuple to list\n",
        "l2"
      ],
      "metadata": {
        "colab": {
          "base_uri": "https://localhost:8080/"
        },
        "id": "nniseN8OiUqt",
        "outputId": "7a69961d-ff1c-4821-f002-5aa630abdcaa"
      },
      "execution_count": 35,
      "outputs": [
        {
          "output_type": "execute_result",
          "data": {
            "text/plain": [
              "[1, 1, 2, 3, 554, 45, 'aa', 'aa', 'abn']"
            ]
          },
          "metadata": {},
          "execution_count": 35
        }
      ]
    },
    {
      "cell_type": "markdown",
      "source": [
        "**16. Variables that \"contain\" list values are not necessarily lists themselves. Instead, what do they contain?**\n",
        "\n",
        "Answer:\n",
        "\n",
        "List can contain int,str,float,complex, bool, tuple,set,dict or any other object apart from list itself.\n"
      ],
      "metadata": {
        "id": "ZN5ikSeTieGP"
      }
    },
    {
      "cell_type": "markdown",
      "source": [
        "**17. How do you distinguish between copy.copy() and copy.deepcopy()?**\n",
        "\n",
        "Answer:\n",
        "\n",
        "We use the copy module of Python for shallow and deep copy operations. Suppose, you need to copy the compound list say x. For example:\n",
        "\n",
        "> import copy\n",
        "\n",
        "> copy.copy(x) # Return a shallow copy of x.\n",
        "\n",
        "> copy.deepcopy(x) # Return a deep copy of x.\n",
        "\n",
        "\n",
        "A shallow copy creates a new object which stores the reference of the original elements.\n",
        "\n",
        "So, a shallow copy doesn't create a copy of nested objects, instead it just copies the reference of nested objects. This means, a copy process does not recurse or create copies of nested objects itself.\n",
        "\n",
        "\n",
        "A deep copy creates a new object and recursively adds the copies of nested objects present in the original elements.\n"
      ],
      "metadata": {
        "id": "H7Hnuumkk6md"
      }
    },
    {
      "cell_type": "code",
      "source": [
        "import copy\n",
        "\n",
        "old_list = [[1, 2, 3], [4, 5, 6], [7, 8, 9]]\n",
        "list_sc = copy.copy(old_list)\n",
        "list_dc = copy.deepcopy(old_list)\n",
        "\n",
        "old_list.append([5,5,5])\n",
        "\n",
        "old_list[0][2] =6\n",
        "\n",
        "print(\"Old list:\", old_list)\n",
        "print(\"New list_sc:\", list_sc) #nested list got changed in shallow copy\n",
        "print(\"New list_dc:\", list_dc) #nested list not got changed in deep copy\n"
      ],
      "metadata": {
        "colab": {
          "base_uri": "https://localhost:8080/"
        },
        "id": "h_2hx4HYk50m",
        "outputId": "d6d782c4-babb-47fd-a719-b1cae1ef078c"
      },
      "execution_count": 38,
      "outputs": [
        {
          "output_type": "stream",
          "name": "stdout",
          "text": [
            "Old list: [[1, 2, 6], [4, 5, 6], [7, 8, 9], [5, 5, 5]]\n",
            "New list_sc: [[1, 2, 6], [4, 5, 6], [7, 8, 9]]\n",
            "New list_dc: [[1, 2, 3], [4, 5, 6], [7, 8, 9]]\n"
          ]
        }
      ]
    }
  ]
}