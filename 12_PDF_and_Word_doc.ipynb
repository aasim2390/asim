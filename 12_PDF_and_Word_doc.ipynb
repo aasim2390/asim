{
  "nbformat": 4,
  "nbformat_minor": 0,
  "metadata": {
    "colab": {
      "name": "12_PDF and Word doc.ipynb",
      "provenance": [],
      "collapsed_sections": []
    },
    "kernelspec": {
      "name": "python3",
      "display_name": "Python 3"
    },
    "language_info": {
      "name": "python"
    }
  },
  "cells": [
    {
      "cell_type": "markdown",
      "source": [
        "###Python Basic Programming Assignment 12\n"
      ],
      "metadata": {
        "id": "BBSJ3RVSnWjN"
      }
    },
    {
      "cell_type": "markdown",
      "source": [
        "**1. In what modes should the PdfFileReader() and PdfFileWriter() File objects will be opened?**"
      ],
      "metadata": {
        "id": "y2D0eARh0RJC"
      }
    },
    {
      "cell_type": "markdown",
      "source": [
        "PdfFileReader() needs to be opened in read-binary mode by passing 'rb' as the second argument to open().\n",
        "\n",
        "PdfFileWriter() needs to be opened in write-binary mode with 'wb'."
      ],
      "metadata": {
        "id": "O3muU6hy0pxP"
      }
    },
    {
      "cell_type": "code",
      "source": [
        "!pip install PyPDF2"
      ],
      "metadata": {
        "colab": {
          "base_uri": "https://localhost:8080/"
        },
        "id": "r1_GpCIc0zfG",
        "outputId": "1c20118f-fa63-4471-b00e-7cf5c5d3493e"
      },
      "execution_count": 2,
      "outputs": [
        {
          "output_type": "stream",
          "name": "stdout",
          "text": [
            "Collecting PyPDF2\n",
            "  Downloading PyPDF2-1.26.0.tar.gz (77 kB)\n",
            "\u001b[?25l\r\u001b[K     |████▎                           | 10 kB 17.9 MB/s eta 0:00:01\r\u001b[K     |████████▌                       | 20 kB 17.3 MB/s eta 0:00:01\r\u001b[K     |████████████▊                   | 30 kB 10.7 MB/s eta 0:00:01\r\u001b[K     |█████████████████               | 40 kB 8.9 MB/s eta 0:00:01\r\u001b[K     |█████████████████████▏          | 51 kB 5.5 MB/s eta 0:00:01\r\u001b[K     |█████████████████████████▍      | 61 kB 5.6 MB/s eta 0:00:01\r\u001b[K     |█████████████████████████████▋  | 71 kB 5.6 MB/s eta 0:00:01\r\u001b[K     |████████████████████████████████| 77 kB 2.9 MB/s \n",
            "\u001b[?25hBuilding wheels for collected packages: PyPDF2\n",
            "  Building wheel for PyPDF2 (setup.py) ... \u001b[?25l\u001b[?25hdone\n",
            "  Created wheel for PyPDF2: filename=PyPDF2-1.26.0-py3-none-any.whl size=61101 sha256=0331eca30b467760f67972475975e4a0f510f8b83bc434029d5b94c72bfcf544\n",
            "  Stored in directory: /root/.cache/pip/wheels/80/1a/24/648467ade3a77ed20f35cfd2badd32134e96dd25ca811e64b3\n",
            "Successfully built PyPDF2\n",
            "Installing collected packages: PyPDF2\n",
            "Successfully installed PyPDF2-1.26.0\n"
          ]
        }
      ]
    },
    {
      "cell_type": "code",
      "source": [
        "import PyPDF2"
      ],
      "metadata": {
        "id": "DXSLI8Z6089L"
      },
      "execution_count": 12,
      "outputs": []
    },
    {
      "cell_type": "code",
      "source": [
        "pdfFile = open(\"/content/Assignment4.pdf\",\"rb\")"
      ],
      "metadata": {
        "id": "uMw3iM4j1GDq"
      },
      "execution_count": 13,
      "outputs": []
    },
    {
      "cell_type": "code",
      "source": [
        "pdfReader = PyPDF2.PdfFileReader(pdfFile)\n",
        "type(pdfReader),print(pdfReader)"
      ],
      "metadata": {
        "colab": {
          "base_uri": "https://localhost:8080/"
        },
        "id": "kXuU9sBZ1OIU",
        "outputId": "187fb3c7-8933-4bc5-aec7-5bdaede303ac"
      },
      "execution_count": 14,
      "outputs": [
        {
          "output_type": "stream",
          "name": "stdout",
          "text": [
            "<PyPDF2.pdf.PdfFileReader object at 0x7fc782225410>\n"
          ]
        },
        {
          "output_type": "execute_result",
          "data": {
            "text/plain": [
              "(PyPDF2.pdf.PdfFileReader, None)"
            ]
          },
          "metadata": {},
          "execution_count": 14
        }
      ]
    },
    {
      "cell_type": "code",
      "source": [
        "\n",
        "file = PyPDF2.PdfFileWriter()\n",
        "\n",
        "file.addBlankPage(\n",
        "    width= 200,\n",
        "    height= 200\n",
        ")\n",
        "file.addBlankPage(\n",
        "    width=100,\n",
        "    height=500\n",
        ")\n",
        "\n",
        "output = open('blankPdf.pdf', 'wb')\n",
        "file.write(output)"
      ],
      "metadata": {
        "id": "6ZEGq1KS4BSd"
      },
      "execution_count": 15,
      "outputs": []
    },
    {
      "cell_type": "code",
      "source": [
        "pdfFile.close()\n"
      ],
      "metadata": {
        "id": "XvayMnyy2XL9"
      },
      "execution_count": 17,
      "outputs": []
    },
    {
      "cell_type": "markdown",
      "source": [
        "**2. From a PdfFileReader object, how do you get a Page object for page 5?**"
      ],
      "metadata": {
        "id": "4d9Ovh3H4cUg"
      }
    },
    {
      "cell_type": "markdown",
      "source": [
        "We can get a Page object by calling the getPage() method on a PdfFileReader object and passing it the page number of the page we're interested in—in our case, 5."
      ],
      "metadata": {
        "id": "FFUkgeLp6p8C"
      }
    },
    {
      "cell_type": "code",
      "source": [
        "pdfFile = open(\"/content/automate2e_SampleCh7.pdf\",\"rb\")\n",
        "pdfReader = PyPDF2.PdfFileReader(pdfFile)\n",
        "page = pdfReader.getPage(5)  #page index start with 0\n",
        "print(page.extractText())\n",
        "pdfFile.close()"
      ],
      "metadata": {
        "colab": {
          "base_uri": "https://localhost:8080/"
        },
        "id": "Gv4sVjQI4fqi",
        "outputId": "105a468d-8463-4832-bfff-d62a5ee45001"
      },
      "execution_count": 25,
      "outputs": [
        {
          "output_type": "stream",
          "name": "stdout",
          "text": [
            "166\n",
            "   Chapter 7\n",
            "Review of Regular Expression Matching\n",
            "While there are several steps to using regular expressions in Python, each \n",
            "step is fairly simple.\n",
            "1. Import the regex module with \n",
            "import re.2.\n",
            " Create a \n",
            "Regex object with the \n",
            "re.compile() function. (Remember to use \n",
            "a raw string.)\n",
            "3.\n",
            " Pass the string you want to search into the \n",
            "Regex object™s \n",
            "search() method. This returns a \n",
            "Match object.\n",
            "4.\n",
            " Call the \n",
            "Match object™s \n",
            "group() method to return a string of the actual \n",
            "matched text.\n",
            "NOTE\n",
            " While I encourage you to enter the example code into the interactive shell, you \n",
            "should\n",
            " also make use of web-based regular expression testers, which can show you \n",
            "exactly how a regex matches a piece of text that you enter. I recommend the tester \n",
            "at\n",
            " https://pythex.org/\n",
            ".More Pattern Matching with Regular Expressions\n",
            "Now that you know the basic steps for creating and ˜nding regular expres\n",
            "-sion objects using Python, you™re ready to try some of their more powerful \n",
            "pattern-matching capabilities.\n",
            "Grouping with Parentheses\n",
            "Say you want to separate the area code from the rest of the phone number. \n",
            "Adding parentheses will create \n",
            "groups\n",
            " in the regex: \n",
            "(\\d\\d\\d)-(\\d\\d\\d-\\d\\d\\d\\d). Then you can use the \n",
            "group() match object method to grab the match\n",
            "-ing text from just one group.\n",
            "The ˜rst set of parentheses in a regex string will be group \n",
            "1. The sec\n",
            "-ond set will be group \n",
            "2. By passing the \n",
            "integer\n",
            " 1 or \n",
            "2 to the \n",
            "group() match \n",
            "object method, you can grab different parts of the matched text. Passing \n",
            "0 or nothing to the \n",
            "group() method will return the entire matched text. Enter \n",
            "the following into the interactive shell:\n",
            ">>> phoneNumRegex = re.compile(r'(\\d\\d\\d)-(\\d\\d\\d-\\d\\d\\d\\d)')>>> mo = phoneNumRegex.search('My number is 415-555-4242.')>>> mo.group(1)'415'>>> mo.group(2)'555-4242'>>> mo.group(0)'415-555-4242'>>> mo.group()'415-555-4242'If you would like to retrieve all the groups at once, use the \n",
            "groups() methodŠnote the plural form for the name.\n",
            "\n"
          ]
        }
      ]
    },
    {
      "cell_type": "markdown",
      "source": [
        "**3. What PdfFileReader variable stores the number of pages in the PDF document?**"
      ],
      "metadata": {
        "id": "Gc6c1GMk5-rc"
      }
    },
    {
      "cell_type": "markdown",
      "source": [
        "The total number of pages in the document is stored in the numPages attribute of a PdfFileReader object."
      ],
      "metadata": {
        "id": "QAUFdphg6eXU"
      }
    },
    {
      "cell_type": "code",
      "source": [
        "pdfFile = open(\"/content/automate2e_SampleCh7.pdf\",\"rb\")\n",
        "pdfReader = PyPDF2.PdfFileReader(pdfFile)\n",
        "print(pdfReader.getNumPages())\n",
        "pdfFile.close()"
      ],
      "metadata": {
        "colab": {
          "base_uri": "https://localhost:8080/"
        },
        "id": "UClWyfrL6DLc",
        "outputId": "1ef5e6f7-876f-406d-869f-8055004f4d0e"
      },
      "execution_count": 27,
      "outputs": [
        {
          "output_type": "stream",
          "name": "stdout",
          "text": [
            "26\n"
          ]
        }
      ]
    },
    {
      "cell_type": "markdown",
      "source": [
        "**4. If a PdfFileReader object’s PDF is encrypted with the password swordfish, what must you do before you can obtain Page objects from it?**"
      ],
      "metadata": {
        "id": "WvTb0q5N6zPD"
      }
    },
    {
      "cell_type": "markdown",
      "source": [
        "Decrypt method is use to decrpyt the password."
      ],
      "metadata": {
        "id": "XOfGSxfB7nse"
      }
    },
    {
      "cell_type": "code",
      "source": [
        "pdfFile = open(\"/content/automate2e_SampleCh7.pdf\",\"rb\")\n",
        "pdfReader = PyPDF2.PdfFileReader(pdfFile)\n",
        "pdfReader.isEncrypted  #PDF File is not encrypted"
      ],
      "metadata": {
        "colab": {
          "base_uri": "https://localhost:8080/"
        },
        "id": "DSc1lQfh7LOC",
        "outputId": "2221d16f-1752-4707-dbf0-78394043ae95"
      },
      "execution_count": 29,
      "outputs": [
        {
          "output_type": "execute_result",
          "data": {
            "text/plain": [
              "False"
            ]
          },
          "metadata": {},
          "execution_count": 29
        }
      ]
    },
    {
      "cell_type": "markdown",
      "source": [
        "Let create an encrypted file first with password \"swordfish\""
      ],
      "metadata": {
        "id": "y4Y97aIl7zwM"
      }
    },
    {
      "cell_type": "code",
      "source": [
        "pdfFile = open(\"/content/automate2e_SampleCh7.pdf\",\"rb\")\n",
        "pdfReader = PyPDF2.PdfFileReader(pdfFile)\n",
        "\n",
        "pdfWriter = PyPDF2.PdfFileWriter()\n",
        "print(\"No of Pages:\",pdfReader.numPages)\n",
        "for pageNum in range(pdfReader.numPages):\n",
        "  pdfWriter.addPage(pdfReader.getPage(pageNum))\n",
        "\n",
        "pdfWriter.encrypt('swordfish') #encrpyting the new pdf file\n",
        "newPdf = open('encrypted.pdf', 'wb') \n",
        "pdfWriter.write(newPdf)\n",
        "newPdf.close()"
      ],
      "metadata": {
        "colab": {
          "base_uri": "https://localhost:8080/"
        },
        "id": "SJv7598n76I9",
        "outputId": "ab8ad509-6532-4103-ce1b-53f08d23012d"
      },
      "execution_count": 30,
      "outputs": [
        {
          "output_type": "stream",
          "name": "stdout",
          "text": [
            "No of Pages: 26\n"
          ]
        }
      ]
    },
    {
      "cell_type": "markdown",
      "source": [
        "Check again, whethere new pdf generated is encrypted or not."
      ],
      "metadata": {
        "id": "I3dzfJBR89P6"
      }
    },
    {
      "cell_type": "code",
      "source": [
        "pdfFile = open(\"/content/encrypted.pdf\",\"rb\")\n",
        "pdfReader = PyPDF2.PdfFileReader(pdfFile)\n",
        "pdfReader.isEncrypted  #PDF File is not encrypted"
      ],
      "metadata": {
        "colab": {
          "base_uri": "https://localhost:8080/"
        },
        "id": "YYfhk7ws9Duk",
        "outputId": "0f6375e6-07fc-4c9a-ee37-7eae90686586"
      },
      "execution_count": 31,
      "outputs": [
        {
          "output_type": "execute_result",
          "data": {
            "text/plain": [
              "True"
            ]
          },
          "metadata": {},
          "execution_count": 31
        }
      ]
    },
    {
      "cell_type": "markdown",
      "source": [
        "Now, we will going to decrypt this file with password \"swordfish\""
      ],
      "metadata": {
        "id": "23BnAHIh9Iro"
      }
    },
    {
      "cell_type": "code",
      "source": [
        "pdfReader.decrypt('swordfish')\n",
        "pageObj = pdfReader.getPage(0)\n",
        "pageObj.extractText()"
      ],
      "metadata": {
        "colab": {
          "base_uri": "https://localhost:8080/",
          "height": 122
        },
        "id": "kVpN_zIg9Op_",
        "outputId": "f00ffa04-3fcd-4cbf-fcef-f1a3bc1314c6"
      },
      "execution_count": 33,
      "outputs": [
        {
          "output_type": "execute_result",
          "data": {
            "application/vnd.google.colaboratory.intrinsic+json": {
              "type": "string"
            },
            "text/plain": [
              "'7PATTERN MATCHING WITH \\nREGULAR EXPRESSIONS\\nYou may be familiar with searching for text \\nby pressing \\nCTRL\\n-F and entering the words \\nyou™re looking for. \\nRegular expressions\\n go one \\nstep further: they allow you to specify a \\npattern\\n of \\ntext to search for. You may not know a business™s exact \\nphone number, but if you live in the United States or\\nCanada, you know it will be three digits, followed by a hyphen, and then \\nfour more digits (and optionally, a three-digit area code at the start). This \\nis how you, as a human, know a phone number when you see it: 415-555-\\n1234 is a phone number, but 4,155,551,234 is not. \\nWe also recognize all sorts of other text patterns every day: email \\naddresses have @ symbols in the middle, US social security numbers have \\nnine digits and two hyphens, website URLs often have periods and forward \\nslashes, news headlines use title case, social media hashtags begin with # \\nand contain no spaces, and more.\\n'"
            ]
          },
          "metadata": {},
          "execution_count": 33
        }
      ]
    },
    {
      "cell_type": "markdown",
      "source": [
        "**5. What methods do you use to rotate a page?**"
      ],
      "metadata": {
        "id": "RQ22_nCR96QK"
      }
    },
    {
      "cell_type": "markdown",
      "source": [
        "The pages of a PDF can also be rotated in 90-degree increments with the rotateClockwise() and rotateCounterClockwise() methods. Pass one of the integers 90, 180, or 270 to these methods."
      ],
      "metadata": {
        "id": "SFyJPG-D-mLN"
      }
    },
    {
      "cell_type": "code",
      "source": [
        "pdfFile = open(\"/content/automate2e_SampleCh7.pdf\",\"rb\")\n",
        "pdfReader = PyPDF2.PdfFileReader(pdfFile)\n",
        "page = pdfReader.getPage(0)\n",
        "page.rotateClockwise(90).extractText()"
      ],
      "metadata": {
        "colab": {
          "base_uri": "https://localhost:8080/",
          "height": 122
        },
        "id": "AQk5mhmv9-LF",
        "outputId": "b38424b7-9a01-48bb-b185-a5cdc54e2dd4"
      },
      "execution_count": 35,
      "outputs": [
        {
          "output_type": "execute_result",
          "data": {
            "application/vnd.google.colaboratory.intrinsic+json": {
              "type": "string"
            },
            "text/plain": [
              "'7PATTERN MATCHING WITH \\nREGULAR EXPRESSIONS\\nYou may be familiar with searching for text \\nby pressing \\nCTRL\\n-F and entering the words \\nyou™re looking for. \\nRegular expressions\\n go one \\nstep further: they allow you to specify a \\npattern\\n of \\ntext to search for. You may not know a business™s exact \\nphone number, but if you live in the United States or\\nCanada, you know it will be three digits, followed by a hyphen, and then \\nfour more digits (and optionally, a three-digit area code at the start). This \\nis how you, as a human, know a phone number when you see it: 415-555-\\n1234 is a phone number, but 4,155,551,234 is not. \\nWe also recognize all sorts of other text patterns every day: email \\naddresses have @ symbols in the middle, US social security numbers have \\nnine digits and two hyphens, website URLs often have periods and forward \\nslashes, news headlines use title case, social media hashtags begin with # \\nand contain no spaces, and more.\\n'"
            ]
          },
          "metadata": {},
          "execution_count": 35
        }
      ]
    },
    {
      "cell_type": "markdown",
      "source": [
        "**6. What is the difference between a Run object and a Paragraph object?**"
      ],
      "metadata": {
        "id": "erHNrkR4-rV0"
      }
    },
    {
      "cell_type": "markdown",
      "source": [
        "Compared to plaintext, .docx files have a lot of structure. This structure is represented by three different data types in Python-Docx. At the highest level, a Document object represents the entire document. The Document object contains a list of Paragraph objects for the paragraphs in the document. (A new paragraph begins whenever the user presses ENTER or RETURN while typing in a Word document.) Each of these Paragraph objects contains a list of one or more Run objects. The single-sentence paragraph in Figure has four runs.\n",
        "\n"
      ],
      "metadata": {
        "id": "yA8pxgS7_y8y"
      }
    },
    {
      "cell_type": "markdown",
      "source": [
        "![image.png](data:image/png;base64,iVBORw0KGgoAAAANSUhEUgAAAskAAACJCAYAAADe8qWoAAAgAElEQVR4nOy9Z3Bc53U+/mzvDVhgURa9EI0AUVjALoqiRFGWJVqRXOWx4zKJnU/xJJPxpIxn/CEz+ZBknGQylqXYYymqtCKJlCmKYhMJgKRAtCXRe1uUxTZsL78P+J9XZy9B27Hs+efDnhkOyd27977llOeU91xZOuVJI0tZylKWspSlLGUpS1nKkiD5/98DyFKWspSlLGUpS1nKUpb+r1EWJGcpS1nKUpaylKUsZSlLEsqC5CxlKUtZylKWspSlLGVJQlmQnKUsZSlLWcpSlrKUpSxJKAuSs5SlLGUpS1nKUpaylCUJZUFylrKUpSxlKUtZylKWsiShLEjOUpaylKUsZSlLWcpSliSUBclZylKWspSlLGUpS1nKkoSyIDlLWcpSlrKUpSxlKUtZklAWJGcpS1nKUpaylKUsZSlLEsqC5CxlKUtZylKWspSlLGVJQlmQnKUsZSlLWcpSlrKUpSxJKAuSs5SlLGUpS1nKUpaylCUJKX/vX8psiMfjkMlkUCqVSKfTAIB4PI50Og2FQgGlcuv2P/3pT5Gfn48jR45ALpfDaDQiEAhAqVRCq9UiHo9DrVZDJpP9bo+WyRCJRJBIJKDRaKBUKsVvU6kUEokEVCqV+CydTiOVSiEcDkOr1YrxxuNxzM3NweVyYWxsDKurqzCZTPje974Hk8mEVCoFAFCpVOLZqVQKqVRKzFEmk0EmkyGVSiGZTEKpVCIQCCCdTkOj0SCZTOL69evweDxobm7Gjh07kEwmxfhoHJFIBEqlEhqNBgqFAslkEslkUsxXoVAAAJLJJBKJBNRqtbiO9kGlUkEulyOdTiOdTouxxWIxJJNJyOVyqFQqxONxAIBcLhf3pWvpudutH58zn28sFhP3ksu3/K5YLCbGTZ8BQCQSEb+jfePPob2Vy+VQKpWQy+ViHeRy+X33SqfTkMvl4h70G84LNGbiUZozrWcqlRI8QfuRSCRgMBgy5iKXyxEMBmEymaBQKAQvEJ8olUqxPzqd7j5+IXmgdab1TKVS4v7JZBLRaBRKpTJj7ZLJZMbap1IpKBQKMV7afwAIh8MYHR3FyMgIhoeH0d/fjx/+8Ieor6+HTqcTe6dSqTL4TKPRiGfROkl5ifaJfkfyz9ec9iqdTov152vBeUtKiUQC6+vrGBgYwPT0NB566CFUV1dvOw6+DjQnAFCr1QCAmZkZTE5OYmpqClNTUwCAZ599Fjt27BDzo/tJ11UmkyGRSCCVSon7SfVdNBrNWEOtVotIJAK1Wi3mT+uSSCTEuEl+ideTyST0en3G+tF8UqmU0AnEv8RD8Xhc6FudTpexNkTxeFzIDZ8flyPa0+1kgq7j60/Xct4kHlYoFIjFYg/URXQ9rYHX68XGxgZWVlYwOzuLyclJ9Pb24plnnsEzzzwjZIfkg9+T1oHGt938ab25jqDf0b1pLul0GgsLC5ifn8fq6iqmpqbQ19eHAwcO4OTJkygsLBTrSfcgmfb5fFCr1dDpdEgkEvD5fJifn8fQ0BDu3buHQCCAzs5OHD9+HDk5ORnP5eNKpVLCFiiVSqRSKUSjUQCAVqvNkEmu+2hvaZ2242fOV7RXUl3O14WPjXSiTCaDRqNBOBxGOp2GSqWCQqFAMBhEf38/hoaGcOfOHaTTabzwwgv38RjZIbrv72rzpffh68XljP87HA6LdSO+5TaO9B3NP51OC1knSiaTCIfD0Ov1GTIkl8uFbuP2hO5He/ugMdO9gPv1LD03FotBo9Hcx/MAEI1GkUgkoFQqhe4Ih8OQy+ViXgCwubmJUCgk5M1qtWbIE5cjsvM0JvpMKmvS6+l+NI9IJCJskdvtxieffIJkMomRkRFYrVbs2bMHra2tGffZ2NjA1NQUKioqYDKZxO8JtxHOk+rASCSCeDwOjUYDtWrzPl75Q9DvD5KB+4wfAeNYLCYMzL1799Dd3Q2z2QybzYbOzk7IZDJotVqh9DgI/U2UTqeFAlapVEKoOTCnMXCjSUJJDJdMJrG5uYmlpSVcu3YNV65cwcjICFKpFNrb2wEgg0GkG8MFkhieA1kCSJubm3C5XPi3f/s3uN1unDp1Cs8++yyqq6sRi8WEEVIqldDpdPeBQG50+Pzo2STsBHgAiP9zgSejSEaEgzXO+JzZSQHQeLhAcWGi+/P15mtE1xNx8McVBf1erVaLcfNn03358znfcKVLRpueJ1XI0vFLgQztSTweh1KpFEAolUpBr9cLY8QdCwJ+2ykfDiBJidM1/F58zKSk6LlcsUajUcTjcWi1WiEHAISzNTAwgI8++gg9PT2YnJxENBrFzMwMHA4HcnNzoVKp7jOynN9pTFLep7WjP9z4cuOXSCQQi8WgUCgQj8fvA2ZcZlKpFOLxuABVqVQKIyMj+Pu//3tEIhFEo1E8+uijKC4uFnLFid+b1isYDMLv96O/vx8XL15ET08P/H4/qqqqcPLkyfvGzR2USCQiwIhUPjj/kPwRmCEDQQCQriXncTswIAUMHOhJ+Yh0ANc1NG9uXLnR2s7IcceOdKJ0HMSfnP/ot2SouINE+obLKTeg9Dtgy7jTuq2uruLChQu4fv06xsbG4PP5EIvFEAgE8PDDD4s14QCOPuOONJfBRCKBRCIBAMIRoXvQ+pB+oc+JB2/evIl3330XfX19SCQSCAaD2NjYQH5+Pg4cOICioqL7gCTpCL1ej2Qyienpady8eROXLl3C5OQk1tbWEI/HYbfbUVRUhM3NTVit1vvAMY2Nxkffc9Ajl8uFPHE9zvmT2yb6Df8/BzM0dynI3I5XedCC1hbY0pkLCwv44IMPcPXqVbGPDQ0NwhZxu7WdUyB1yhOJRIbupbHSv2kenMf5Z0Tbrc9215HM0tylNoMH8LgTwnUj8TnxHpdN4klaQwricV1Bc6c1pmul8kvjIL2/nSPKxzE7O4v33nsPAwMDeOihh/DEE0/AZrNlBGTIieB7vd26bUdcfxKRvvP5fFhcXMTKygouXLiAsbEx7N27F83NzcLpUqlUmJ6exvnz5/Hee+/h8OHD+MIXvoDq6mpxH41Gg3g8fl/wjvb493G0/jf0mUAyjySQMPDPEokEuru7MTAwALlcjrKyMhw6dChDaXJg9duIGJEiOpwReXRUCoqkxg2AUGxFRUWQy+VYXV1FNBpFfX39fYZrO8+aKxMuYAT0KMq7traG0dFRLCwsoK6uDh6PJ8MI0Zi3Y0xuELmA8H+TMHGHhdaU34sDOg7AuJDy6wiwcVDEPWRuwKVOA18TAhFSnpEqbxon3yNppEQK2kjQpRFE/j1dw71n/izOH3xPeISXAxByIKSAhQAeGR5aZyLOL5xXgU+VOc1PKvg8Ws2dMZqDlBdsNhsKCgqQTCYxNjYGjUYDn8+X4QTwedMzpOvO90W6V9uBa+k9ucHh9yDQQ2tMIBnYAoNutxs9PT0wmUxYXl5GIBAQ8+egm3iWIrpkaBQKBTQaDWw2mwBjs7OzMJlMCIVCGaCLGzIedeNrKuVzTlw+pDLC14OvlRSQyGQywRPSvaeIlXTNHzQe7lBJ9R4FGbiTyp0iACIzxYMXUhnYTm44H/IoFNcD9BvaO4psqVQqrKys4N69e2JOm5ubGbwqnSvJG41VmhGTXisdOxE9Q6FQwGw2Iz8/H/F4HD09PWLN/H5/hp7kayqTyTL2R6vVIjc3F7m5uejq6sLY2Bji8TiKi4uxuroqbBcH778tsioFQZwPpFF8uofUmeXzJx6U3pOviZSk9paimAqFAlqtFkVFRTCbzdjY2MDc3BwcDodwZLa7t1SnPOhzvkfS9eCySfMj3ucgczv7LZVraTSYnkM6jDtaZFMexHvb4YLtgDX/Lck5j05LM6B0HYBt95p0B81ZoVAgEAhgdHQUvb29aGpqQiwWyxirNBgDZNqj7dZDqp/omQRk6TOVSgWbzYbCwkIMDg5iYmICbW1tsNvtGfeIRCJwu90YGxtDSUkJQqFQxvN51pYHBDnf/zGB8mcCyUDmQnIjIZPJEAqFMDAwgMXFRYTDYQwMDMDv94tIjfT3v41oQaSKmgsRV1hSpuFRJ61Wi4KCAuTk5GBkZAT37t3D4uJiBrNww8HHsF1EkJiDlAcZGYpCLC8vo66uDiaTSTAQzZ+DEy649Cw+D64g6NlSAZQqFX5vDhh56k2qMKSMJ40Uc6XCDSiPDG+3v9J58BQhT2PTGj0ITHPDR3PY7nvih+3WWDp2Mry0PrRHXNnRGhFfcNBD85fKAX3GlR6PZD8IYD3IiKlUqoxoGL9OrVajoaEBFosF09PT+OijjzLmQ4CMolP82VJHgtaE/s15jRt5qQ7gUbDtHLLtHB7+f6vVimPHjsFkMqG2thZWqzXDqaY9JTkLBAIiHUproNVq0dzcjKWlJbhcLszNzd2X+eJ8T39TVEXqAEgNBFfOfOwEHHh5hPRvLju0vrFYTKw35wVytrnDQXPgY6QxSUHDdutL2Tbp9bSf8XhcXMMjVZwnuc7hgIPvP+kLmo9cLodarRaOrcViwf79+6FQKOD3+zE2NiaAwnYlVnwcarVaRKNo3enZHNzzfZMCMD4HhUKBXbt2IT8/H+l0Gj09PRk8LI3Y8d9TJlMulyM/Px82mw3l5eWYnZ2F2+3G8vIygsHgfWUfBPJpnWmM20V3ebRVChg5WJBmnaSOsZQnpLzK10cKhuh+nCfJxj322GNIp9MYHR3F1NSUmK9Go8ngM6nccTmiz4k3+eecx/g+boc/aA35ddsF4zig5iUP0vvRd9K1k9o9hUIhdCwP3kiBtDT4xe0DL2PjPLtdhkgqW1y/kb4wGo1obGyEwWDAzp07RWkGtwlzc3PweDwwm80oKCjIsP18vbazoVKQTTgIAEwmE9RqNaLRqCiZKC4uRnFxcYbTlZOTg127dsHj8WDnzp2w2Wz38QjJO9fdnDf/T4JkqeIn5cdrQH0+HzweD1KpFHw+H8bGxuByudDc3Hyf8vldiBaLg1dKQxJzxmIxUXtMJR3A1kJKa5CSySR0Oh2sVit0Oh3i8TgCgQCi0WhGVInGRwqHGJuUAAEWmWyrjIQYxmQyoaOjA0VFRYhEIrDZbBn1aLR+HKgQk9HaRKNRUSay3dpzQSaB52mp7QAYGWSqCQe2vDmKMhkMhm2ZkBsdKdCkOfMokRRgSMEjz0BwpcC93QeVhhDx2mY+nlQqJXiDO2VkmGj+dH/iWyplUCgUMBqNALZSxFTmYzAYxBw4YKM90mg0Yp7b8YtWq80AqKQQeSRzO6BDv+FRbGlEiQCGTqeD0+mEw+EQUVNK4dI+5+XlZeyv1KkioELzkZ41SKc/TSNyI80BCDmMfA0tFst9aUS1Wi3mqdPpcODAAfziF79AMBiEw+GA0WgU+6vVajMcsWg0Cp/Pd1+ZlUajgdlshtPpRFFRkbi3TqcTJQYk5zx1ydedG1kCONyA8No/4juSPe4wSZ2L7aKiGo0GwWBQOB28lIN4jK9VNBoVskbGWFpGQ7WsfG7E09tlnGgcNC8CgLT3vFRKqq/oMzpfQvej8XPAEI/Hsbm5CZvNBpvNhoqKCjidTgCfZllo3Wku9CziQQLclLYmmeVywfeBO/60lzwqSjxTWlqKysrKDHDHARS/F+dfYMvRoflXVFSITAbxhcFgEHvBAwqcpI4q2TZe8kV7QzzPI3+JREJkVugeNCbOg8BWDas0ECHNnnFdH4/HEYvFYDQaRXkJ6TilUomCggJh/2h/eH0+6WQp+OVyJo0WcsDI95+XjHDARnpeGiwj3SC1RxzsSh0psk88MkrP4+tO+67X6zMcR77+dM6EyippbrFYTJzpIf6g6ykjzW0IB6F8vaTYhsjpdOKb3/wm9Hp9xtpQFDwWi+HNN9/EwMAADh48iGeffVbYOml0nTuF9Hsu61x30NpGo1Gsra0hFouhoqIC5eXl0Gg0Qn8BQHFxMU6dOoWDBw+KzBKXfZoXj+hL5fyPSZ85ksyRPR1wkslkWF1dxfXr19HW1oaNjQ3cuXMHCwsLOHfuHBobG/8gk+PAl5idQAiNg9eo0efcewyFQsKYaDQaGI3GDHDNGUXqNUnBKxE3vmq1GkVFRRnCKAWHXFh5HV0qlRIgln7DlTWPWm1HHLDwcXLASAcACOzTs6lmWloyIPV0SZlJ67+I6H6RSOQ+5QbgPiUql8thNpsz1ovuw8ch9XRTqcwDL5Ryp7ESSE2n0xlODT2XPtPpdNBqtULACazwui3aO14/Td+RwjQYDBn8kk6nBf9tR5wnAWQYfZobHV4gQxiNRqHT6YQyJQdJqkR5dIlAEieSEQ6CpXvPyxNovgRS+B7xdPLm5ibUarUYNz2LeIAMPT2HMgharRZqtRq5ubkZNac0XxqD2+3GlStXkEql0NHRgZKSkgwQJJNtHeyIRCJiTem8BHcQSenT/OigKx2k5QCQ5JrvN/EDP/hIc+PZBs7nMpks4/CTSqXKqIXmRHtLThzfg+0iTVzu6bdkkIFPHTquE2gN+N7SvvOsHy914yCdDtDQs7jjoVKphHNKa2G1Wu+bJz2XAzW6hsZLwIxklkCQQqHISFcTv0n1I+k80t8kw7R2BOTo0BdFZ3n0j0hqyKVzoXHyZ0v39UE1lSTz/HAWjYXWg67jTirJJLetZP/C4bA4wEWAhuYrjZTT/YifCJgQOOZOB42JR/XpGZw/eb0urRH9jmSP86lUB9H8pUCWalt56QKBTRq3tCSU7+mDaLt9lQb1SB4IINN6cltO4Jrfj3QEB5bAp4fRiX+5LBDQ56CZruH7SxFt4FOnmGw66S6SW7fbjV//+teYnJxEXV2dCEjwfeP8td2+cH3HPwMg6pE3Nzdx/Phx1NTUiPFwW0X6nu5BGIu+9/v9UCqVwpHg60+y/MeizwySuTfIQdDy8jIGBgbwta99DSqVCl6vFy6XC1evXsU3vvENoaAoCvC/6W7BFRrvZEGKhUL7BHZ5DQvvrkCAmk6Pk5KhKAwxOFdIHExIo7scPPHokUqlQiwWQzAYhEwmEyUXtHbk2XHFw6MWFIWTy+XCsJPB4vWcXGmRUuAHyoh4XaKU4UkJ8OgTn/d2Sp2MAf2hzhA8/UfjoPny7hdkUMi7JCNO1/E5c+DH05Tcq+VRGq4ISclwY83BAs8g0NilB+PopHM8HkcwGBQZAz4/ruAelCbloIbGSXOktdBoNOL56XRa1GmqVCoBPGmdaD4POgRL96V18fl8MJvN9/FcIpEQDg0HLNJsAkXpCVAT//v9fqhUKhiNxvsACIElbqjo/lLjz8EHPZ93hAkGgxgaGsJ///d/Y+fOndi5c6dYd5J74hee9qe1J0DIa01pHdRqtZgfGTcydHydePaE1oAOG1LJBwchtFfhcBgmk0k4Y5wPeTkUySXpRs73pKfo/lweOFjgeobLRzQazZBzaWSGHAvSD6TbeKScO/pqtTpDHmmNyLhL5YJ0EM1FrVZnHHAisKRUbnULSiQS0Ov1oosH1wP0TJoTd8qATw0u8RJlR0imEokEzGaz4BGSTa5zpE473Yv0MK0717V8XUjH01jo/jyYQ/8n+8WdUAoA0LWxWEx8r1AoRPSRbBkHmoFAABaLRfAM8T2t3XYROdo/7hxLwRkH0FJ7sZ3zQLzA9UgymUQoFBLZS+Ixcga5g0bf87Hz7AbZPB44I+IOqjRaz+u6ab2pLpZkmJdRcptC+IWixPwe9Duak9SB5baabA399kGOFwfptB58/8h+UsCC9iGdTiMcDkOpVAqdFovFsLCwAI/HA4fDAbvdnrHnfN85hUIhxGIxWK3WjM+5fqXxra+v4+rVq0gmk6iqqkJBQYEIbsrlcoRCITF3jUaTUcdO+pLWlgJXNC/idWAL02gyjyT9wej3BslcEZBAkaHZ2NjA6uoqUqkUysvLsWfPHty6dQv9/f2YnJxEf38/zGYz7Hb7tsrnQcSB6ObmJhYWFjA7OwuDwYCKigoolUosLy9jbGwMwWAQFosFdrsd+fn5cDgcGSkH2nx+gIiiTDQv7hlubGxgYWEBwWBQfO/1ekWk2Ol0wmKxZDBwJBKB1+tFIBCA1+vF5uYm7HY7du7cKZg7FAphdXUVbrcbSqVSpJfT6TQ8Hg9GRkZECxe9Xo/i4mKUlZUJgMOVLhciDpLJ6NEBqJGREchkMhQVFaGwsFDUA3q9XvGcqqoqWCwWAXbo3qSQNzc34fF44PF44PV6M7y+RCKBiooKFBcXQ6/XZ4BrKtJfWFiATCZDaWkpDAYDotEo3G43hoeHIZPJUF5ejtLSUrGmc3Nz8Pl8CIVCCIfDogsBGb28vDxUVVXdF+1WqVQIhULwer0ZexGLxUQNVl5eHuLxODweD2ZmZhCNRlFYWCj2aWlpCXNzcwiHwygpKUFubi5WV1cxNzcHr9crDq6Ul5fDYrEgkUhgcXER8/PzIiKVTqfh8/lESpcOunBlS/wyNzeHdDqNkpISGI1G+P1+uN1uzMzMIBKJwGQywel0wul0Ijc3V4AlHmHh9ZoKhQJ6vR4+nw/hcFh0frDb7aIsoaCgAGVlZQA+beNIMk1E65pIJOD3+7G+vo6NjQ3Reoj4o6CgQESSFAoFFhcXoVKphLyTYSQ+CAaDsNvtKCwsFA5IIBAQpVr5+fkoLi4W3QtmZmbQ29uLCxcu4ObNm7DZbFhbW8Py8jIUCoVYE2ktOYEK6myzuLiI9fV1yOVyWCwWOBwOFBUVITc3N6MEhDtzUiL9EQ6HMT8/j42NDUQiERHpNBqNiMViqK6uhtVqzSgbUKlUiEQiWFlZwcLCApLJrc4cNJ7c3FyYTCZYLBZhZOl5sVgMPp8P6+vrYt7l5eXQ6/XisDDtIdUC7tixA2q1Guvr61hdXRU8qtVqxQGboqIi5OTkZDhUPHOVTCbh9XqxsrKC9fV1AUpkMhkMBgNKSkpgsVgEvxBQkIILAtBEdF0qlRJdTFZWVkQ7NipXczqdKCgoEM/gDjHX7aFQCCsrK1heXsb6+rpo0VZSUoK8vDwUFBSIAIg0OsyJHCrKGEijmMFgULQPlcvl4tCs0+kUGR4C2fwZPApN9yKe4DwXCASwtLSE1dVVAXw2NzcRDoehVqtRW1uL4uLijDZntF+BQADr6+sYHx9HfX09CgsLkUwmsbi4KHhfJpMhJycHhYWFcDgcohxKWopD445Go5iensbc3Jxw2q1WK2pqajKcQe4Ac6ywnSNBtiEUCgne3NzchEajEcEUq9WK0tJSEcnm99rc3EQ0GsXS0hIWFhaE4yCTbUV48/Ly4HA4MkouyFYFAgEsLy8L5z4/P18cdJ6dncXi4qII0pSVlaGsrAxWqxWRSARzc3NCBxLQz8/PR2lpKXJycjL4XQqKvV4vfD4fNjY24Pf7EY/HkZOTA71eD4vFgpycHBEF5nvBnWXiXdpvHiz0+/1Ct1itVjidTvE9Zc/dbjeuX7+OtbU1dHR0wGAwYGVlRUR0uaPOy9pWVlYQCARQVlYGmUwmWtWZzWYhu8Srq6urGBsbQ25uLioqKsS6pNNprK2tYXNzU6w9jzLzgBrNNRwOY2NjAx6PBz6fD4WFhSgsLIRWq0UgEIAmd/uM+melz1STzA1zLBYTPVjdbjd8Ph/q6uqE8ibQ5ff7cfnyZTQ0NMBut2dEOH4XSqVSWF9fx+joKG7evIk7d+4gNzcXR44cQV5eHrxeL2ZmZuB2u0WU1eFwiGhTTk6O8Eo4uKR0LqVAqe0ICcutW7cy2s/F43HMzMxgaWkJhYWFOHDgAI4cOSI8z2QyiZWVFfT19WF4eBhLS0uQy+XYs2cPmpqaBBMtLi7ik08+QV9fH2QyGXbt2oWysjIB+AcGBrC5uSkYKjc3F8eOHcOePXuQl5eXETXgilgapV1bW8P4+DgWFxdx9epVyOVytLS0oL29HV6vFyMjI1hdXYXf70csFoPT6URtbS3q6upQUlICk8kEYAtALS0t4e7duxgfH4dOp0MgEBCgn4xGbW0tDh8+LA4NkBFcWlrC7du30d3djXQ6jUOHDqGoqAiJRAJzc3OiG0prayuefPJJtLa2Ynp6Gh9//LGIlKRSKYRCIQGeI5EIduzYgS9/+cv3ebfJZFIczPR4PMKxoCiw0WhEbm6uiD5cvXoVs7OzaGpqQm1tLXw+Hz766CN0dXVBLpfj2WefFYBsenoa09PTGB8fR1tbG5555hkAwPj4OG7evIl0Oi0iSZFIBDMzM1heXkZZWRkOHz6Mzs5O4UQEAgEsLCzA5XLhypUrUKvV6OzshN1ux+rqKgKBgDBsiUQCFosF1dXV2Lt3L0pLS2E0GjMMsjTNn0gkMDk5KSJOw8PDSCQS8Hq90Ol0aGlpwZNPPomcnJyMunriJR49jMViCIVCGBkZQVdXF8bHx6FWq+FwONDa2gqTyYR4PA6dTodYLIbe3l4YDAbs27cPGo0GiUQCm5ubGB0dFe0XOzs70dnZCaPRiPn5edy7dw/T09NQq9U4dOgQ7Ha7iCLdu3cP77zzDj744AP4fD6srKxgeHgYfr8fRqMR7e3tGbW8vHZ1fX1d9E2en5/HwsIC1tbWkEgkUFRUhIMHD+LgwYPCCZUCHJ6VoLWNxWKYnZ3FpUuXIJdv1RYmElstxCgiazQaRSqTeM3j8WBiYkLIntVqRTAYhEKhEGlFnU6HhoYGFBcXi89SqRRWV1cxPj6OwcFB3Lt3D3q9HkePHoXD4cDS0pJoY0aOVW1tLT7/+c8jPz8fS0tL8Hg8mJubwyeffAK/3w8AqK2txf79+7Fv3z7RJ56DQr/fj7m5OczMzGBlZSUj27axsYF0Oo26ujpxgp3WjyJtHCDx6DuvbQe2wK7X60VPTw8uXLggHA+z2Yza2lrs3bsXbW1tsFqtQp6BrVIpqoEcHx9Hb28vxsfHReSLHKji4mLs3r0blZWVyM3NzWgtuF30jJd4EACMx+NYWFjA7du3cfPmTQwPD1Ha7vwAACAASURBVAPYqq9sbGzE8ePHEQ6HM+paeY0pB/ecZDKZAGVutxt3797F4OAg0uk0rFarcFBpjq2trTh69CiamppgNBpFlmBtbQ0ulws9PT0YHR3FiRMn0NTUBLlcjunpabjdboyPj2N1dRVKpRJlZWXo7OzErl27BJDhAD4ajWJlZQUjIyO4ffs2lpaWRPcCh8OBeDyO5eVlhMNhMT9pAIxHbzlYJeC7uLgIl8slAl8GgwHr6+tYWVmBVqvF5z//eVRUVGTwZCQSwcjICObm5uB2uxEMBkUGjtbYZDKhqakJlZWVGc5ENBrF5OQkurq6MDMzA71ej127dqGgoEDoyIGBAchkMiwsLKC2thaHDh3Czp07sbm5if7+fkQiEaytrWF6ehqrq6vIz8/H0aNHsXv3bhQVFQlnm/RIJBLB8vIy7t69C4/HI5wvqiMPBoMoKChAa2srqqurM2qNSe8QXuFRaZIxmUwGj8eDoaEhxONx3Lp1C8XFxThx4gQcDgdkMhmCwaDgj/fffx8ejwf5+flQq9VYW1sTvZQ5/y8uLmJwcFDIG+EKckLz8/PR3NyMqqoqISPUAi4YDKKhoQFOp1MEAKPRKPr6+gAAk5OTiEQiMBgMItLMM+npdBrz8/NYWloSDsXY2BgsFgt27dqFqqqq/08H/HFAsuIf/v6v/+H3+WEqpRaAkrwJlUqFcDiMkZEReL1e7N+/X/RHXl5exr1797CwsAC/34+DBw+KGkIuSDwSK/0M2FKg58+fx8svv4y3334b/f39cLvdItpQWFiIY8eO4amnnkI8HkdXVxfOnz+PgYEBWK1WFBQUCNBGacrR0VFxn+LiYpw+fVp4k319ffjlL3+Jf/zHf8QjjzyCp556CgcPHkRzczM6Ojpw+fJlvP7665iYmEB7e7vwWCORCMbGxnDu3Dm8+uqruHz5Mubn5+F0OvHQQw8hlUrB6/Wiv78f586dw5tvvolbt24Jr5iind/97nfR1NSEYDCIGzdu4OzZs5idnUVFRYV4FqUleZqE17sFAgHMzMygu7sbP/3pT3Hz5k0sLS2JiH8sFsORI0dw8uRJNDQ0YGlpCT/+8Y8xNzcnIg15eXmQy+XY2NjAxYsX8eKLL+LSpUv47ne/i8OHD+PgwYOora1FKBTCT3/6U3R1dSGVSqG4uBhFRUWIx+PY2NhAf38/3nvvPbz66qu4deuWSN17vV5EIhEcPnwYb731FiYmJmA2m2G1WvGTn/wE586dQ2FhIR599FE89thj2LdvH2w2G7q7u3Hu3Dm4XC6UlZXB6XRmpAg9Hg/+67/+C+fOnUMsFsNDDz2EZ599Fs3NzZiensYrr7yCl156CW63GyUlJZiamsLw8DCi0SgOHDgg1uyDDz5ALBZDcXEx+vv7BVDd3NzEyy+/DL/fj9bWVqytreGf/umf8O///u947rnn8MQTT2D//v1obm5GW1sb3nvvPbzxxhtYW1tDS0uLaDm1uLiI3t5enDt3Dj//+c/R19eHQCCA2dlZrK2t4dSpUzh16hTa2toQCoVw/vx5vPLKK/D7/cjPz0deXl5GFEqpVOLOnTu4ePEiEokEKisrsbi4CABob2/HF7/4RaTTW6f4L1++jPHxcVitVpSXl0On091XL8lToXQodnx8HJcuXcLFixcxMzMDq9WKgwcPoqWlRURNl5aW8NJLL2Fubg41NTUiSkEKub+/H7du3UJ5eTnKysrg8/lw4cIF/Ou//it6enqQSCTQ1taGvXv3iojt1NQU7t69i8nJSRHBUalUos1ddXU1dDqdqLkbHx/H2NiYOKhE0fjjx4+js7MTwWAQ165dw8WLF+H3+1FfXw+r1Zpx5kCasSEgIJPJsLS0hBs3buD9999HY2MjHnnkERw+fBgqlQqvvfaa6GxTVFQk6o6j0SiuXbuGl156CV1dXdi/fz9Onz6NgwcPorGxEclkEh988AHeeust4Rzn5eUJUDk0NITLly/jnXfewdtvv42RkRGRprbb7XjmmWfQ2NiI9fV1dHV14caNG5ifn8fa2hrW1taQm5uLzs5OnDhxQtQNdnd3w+v1oqSkBEVFRRmlWolEAp988gl+8YtfoKenBzqdDidOnMCJEydQUVEBj8eDq1ev4t1334XFYoHT6RRlZUQ8mkYGMB6Pw+/34969e7h06ZLQnQAwMjKCt99+G6OjoxgbG8PAwAAGBgawtLSE3Nxc5OfnQ6/XZ6T65+bmcO7cObzwwgt4+eWXsbS0hIaGBjz88MPQaDT4+c9/jg8//BDj4+OQyWSiG8WWTdvaz7t37+Ls2bNi7vv378eBAwfgcDhElHp9fR1nzpzBX/7lX+KTTz7B+Pg4ZmZm4HK5cOfOHQSDQfT19WFlZQXxeBxGoxF79uxBW1sbLBZLRukM2TX6N5X7vffee3jppZdw+/Zt7N+/Xxxuamtrg81mwy9+8Qt89NFHSCQS4oAqAbquri688soreOGFFzA6Oira7FFk8atf/SqampoQiURw/fp1vPvuuwiFQigpKRGBJAKTwWAQbrcbr776Kv7mb/4GQ0NDaG1txde//nU8/fTTcDgc6Ovrw9WrV9Hb2wuPx4Pi4mJ8+9vfzgC0NDfg04O8lGUMhUK4desW7ty5g1QqhYcffhidnZ0oLS3F4OAg3nnnHdTX12cEBCKRCKampvDmm2/itddeg0ajwZ/+6Z/i2LFj6OjogNVqxejoKM6fPw+XyyWyRPQCM4/Hg2vXruG1117D2bNn4XK5kE6nxffNzc04ffo09Ho9zpw5g48++gizs7NIJpNYXV0FABw4cABtbW1QKBS4cuUKzp49i4WFBVgsFgHKKUBEev69997D2bNnkU6nhdy3t7cjEAgITKPRaJCfny9kiPQP6WTKflO2jwJVkUgE4+PjuHz5MhYXF3HmzBmMjIyITkFUfrO+vo6hoSG88cYbUKlU+NznPofGxkYYjUaRtSMe3djYQHd3N9599124XC6UlpZiz549WFhYwM9+9jO89dZbIlhYV1cn5GZychKXL19Gb28vjh49iiNHjojWpKurq3jjjTfg9Xpx8eJFfPDBB7DZbKipqREv5KEgZzwex2uvvYYPPvgAoVAIzc3NmJmZwYcffohQKITq6mo4nU7IEPl9oOxvpc8EkvmpWrVaDY/HA41Gg5GREbjdbhw8eFDUGqXTW29VuXHjBvx+P+rq6kSJAk/VbweSt573aR1hSUkJysvLEY/Hce3aNfj9fhw6dAiPPfYYdu/eDbPZLCJbpaWliEajeP/99zE0NITGxkbRFJ7GTdEAj8eDmpoaPPnkk+IE5sDAAF555RWoVCo8//zzqK+vBwBxyndmZkaknsxmM9rb24Xg5+XloaamBslkEhMTE1AoFGhpacGhQ4cAQKTpc3Jy4PF4MDg4iFAohNbWVjz66KNoaWmBRqMR5SQajQaffPIJJiYmUFpaivLycpHCppKI7VLCKpVKpDucTidu3ryJ6elp5OXl4YknnsCJEydgt9tFqqe8vBwNDQ24dOkSbt68Cblcjr1794po0K9+9StcunQJJSUl+PrXvw6r1SoipgqFQrQ9UigUKCkpQWNjI+RyOXQ6HQoLC2EymeDxeOByuRAOh7F79248+uij2L17t0jX7tq1C7t374ZOp8OPf/xjBINBnDp1CocPHxZ1rnq9HsFgUKSN9Xo92tvbRbP0tbU1vPnmm3jjjTeQk5ODU6dO4ejRoyLrUVJSgkAggI8//hiBQADPPfccTp8+jdOnT+Phhx9GWVkZKioqkE6nhZPndrtx7NgxHDhwAC0tLdixYwdKS0tx6NAhtLW1YXh4GK+//josFgu+853voKysTPCuwWDA5OQk5ubmEI1GkZOTg/b2dgSDQZjNZlRVVcHhcMDlcmF9fR2BQACtra345je/iZqaGpHSrqmpQVlZmYi6JxIJOBwOOJ3OjHKhrq4unDt3TpTWnDhxAseOHUNpaSmUSiVycnJgsViwsrKCnp4eTE9Pi2bzUidVGlVWKpXC4GxsbIgemMeOHUNFRYWIXvf09ODcuXNYWVlBfn4+mpqaRCQiLy8PGo0GV65cwd/+7d+ipaVFpNNjsRimpqZgNBrR0dGB9vZ2YRycTieCwSBcLhf8fj8eeeQRfOUrX8HJkyfR3NwsIowymQyzs7Po6enBrVu3EI/H8cQTT+D48eNobGxEXl4ejEYjKisrsba2hlu3bmFjYwN2ux3l5eUCPPE14DXsFAkbGxvD+fPn0d3dje9+97siE6TX61FZWYnBwUHs379f8EIgEEBPTw/++Z//GePj4zh48CC++c1viiiLQqGA3W5HdXU1BgcHcfHiRXi9XjidThQXF0Mu32o1VldXB5VKhV//+teIRqOoqKhAZ2cn9u7dK+rkGxsbsba2hq6uLkxOTiKRSODRRx9Fe3u72D+Hw4FoNIrFxUUsLy9Do9Fg7969GRm+9fV1/N3f/R2uXr2K9vZ2fOlLX0JlZaWIlOXn5yMcDgsHcM+ePSgsLMyIvJNup6wTRWd9Ph9cLhe6urrEOZWKigo8/vjj+Ku/+it86UtfQkFBgSh5I34tLS0VQQ+yES+99BJeffVVDAwMICcnB3/913+N06dPY9euXSgtLYXdbsf58+fFm/XUajV2796dUdfZ39+PM2fOiHtSliMnJwcAsLGxgf/8z//ECy+8IGxeR0cHfvCDH+Af/uEfcPLkSfT19YkMQSwWg16vFyDZbDaLVDmXKyKZTAa/348zZ87gxo0bKCsrw5/92Z+JckE6lDY1NYWRkREoFApUVFSgoaFBlNeUl5cjPz9fyEk4HMa+fftw8uRJNDY2igPKpFe6u7sxNDSEsrIylJeXIzc3V4xlY2MDL774Il555RVoNBr86Ec/wpNPPinsKGW1NjY2MD4+jpWVFRQXF+Nb3/qWWENpHTBfb5lsq3b7Zz/7Ga5fv476+no89thjor6War4bGxtFGUssFoPL5cIPf/hDXLlyBceOHcMXv/hF8RKKRCIBo9EIh8OBWCyG//iP/8Dw8DAqKipEaaZSqURNTQ0UCgWWl5cxPj4u7EBbWxscDgfUarXIeE9OTmJgYAAbGxs4deoUdu/eLexZfn4+ampqcPHiRSwsLKC0tFRkCskhJGf03/7t32AymfDUU09hz5494gyFw+FAIBDA0NAQ+vr64HQ6UVFRITJ7/PwErSE5VJQt6+3tRV9fH44fP47i4mLcvn0bi4uLKCwsxPHjx0UJSjq91a7vwoULOH78OJ5++mm0tLTAbrcLR1WpVOLevXt46aWX8JOf/AQdHR346le/ioMHD8Jms0GtVuNf/uVfMD8/j0ceeQRf+9rXhCwCwI0bN3DmzBmsrKzgL/7iL7Bz504YDAbhyLa1taG2tlZkDg0GA44cOSLKoJRKJdbW1vCjH/0I3d3d6OzsxPPPPw+z2Yzbt28jFouhtbUVLS0tW4Ehxaedcf6Q9HuXWxCT83pIo9GI2dlZhEIh5OXlic2niGJLS4uogXW5XCJVzMPqwP29X4HM8gGTyQS73S4OW8hkMsH8ZrNZeEBmsxk7duzAzp07YbVaMTExga6uLpSVlWHHjh1CcVMKlKI8dGJSr9ejvr4ezz//PEwmkzBKdD3Vemq1WqytreHu3bsCAFAaKS8vDzk5ORmnSumQgUKhEHOh2ttkMika0ufk5Ajv0WazIS8vD2q1GqFQCH6/X3Tl4IcqtiOFQgGdTidqz8g7o9pjSsPQ+lLE9o033kB3dze6u7tx+fJlHD58WLToys3NRXV1NWw2m/A65fKtzhTUSH5+fh5utztjHEajUYAzAo8ajQY5OTnCCB0/flwouXg8ju9973twOBzCcFMxPz9gR3WmlOKkqPfLL7+MyclJtLe3o7q6WtSIkhNTWVmJgoICrKyswOPxQKfTwW63I5VKiYgpgSmqO62srERpaSk0Gg30ej2efvppyGQy5ObmoqqqCl/72tfgdDpRWloqFBpFJQ0GAzQaDTweD0ZHR8W6ED/l5uYKY2g0GuF0OgUYIfnQaDRoaGjAqVOn8OKLL+Ljjz9GXV0dWlpaMlqkkSwBgF6vR0FBgUirpdNpmEwmMTeqX+N1l0TSFDTJq81mQ1VVFaqqqnDp0iUsLS2JMhgClaOjo3C73QiFQrhz545wQCnqkUptveWSnDQAsNvtsNls25Y7yOVymEwmGI1GEVXR6/UZ2Q4+bhov7WdeXh4KCwvF/el5dGYhEAjA5/NltCKT3o/uSTKXTG69utbtduPs2bOQy+Wora0Vad6nnnoKBQUFYk28Xi/ee+89uFwu7NixA+3t7SJiRPOlOuLOzk588skn+Pjjj4Xe0ul0gkdyc3PFuIxGo9A3JMtGo1HUnlP9tc1mE3XOqVQKdrsddrtdHLD2eDwZa04g2+VyiShvMBjE/Py80J9UK+v3+zEyMoKJiQlUVlYKfcwDKuRccP3LD7ZRPX5HRwdaW1tFJHZtbQ2Li4vY2NhAIBDAxYsXBaALhUK4e/curly5guHhYUQiEVRWVuLw4cMoKSkRsrx3717k5eVhcXERExMTuHnzJnp7e7Fr1y5hnHmWgAAXzRsArl27hq6uLpGZ0el0+PKXv4zHH38cxcXFCIVCUCqVGBwcxNTUlNj3UCh032Eqzkf03EAgAK1Wi8cff1zYNIpik/2gl+UQoA4EAmK8xB+5ubmidpv0KUXOqUyG7IrBYBCZhnA4nFEiMDQ0JCLE7e3tOHbsmNDVlLWyWCyoqKiA0WjMOAjH91yaVaDSIbo2GAxicnISt27dwtDQkHhFcWNjI8xmM4qLiwFsBaiWlpaEbdLpdKitrUVNTc19kXmHwyH0/sTEBK5fvw6n04kdO3ZAoVDAarUKnUtjsVgsAgTSvei8SSQSEa0p7Xa7KI2hLJxKpRLnKQKBgOjikkqlMDQ0hHfffRezs7Noa2sDACwvL2N5eVnI2+bmJgKBAFZWVjA6Ooo9e/aIg6gcINOayeWfdjQiOcvJyUFRURFu3bolzmaVlpYKOSX5pTr3hoYGFBYWigw7Zdzm5+dx4cIFXLlyBYWFhThx4gQaGxthtVpFJiAcDqO4uFiU01IDAgBYWFjAzMwMnE4n6uvrodFoEAqFhI2or6/H2NgYVlZWoFarUVVVlTHX5eVlvPvuu/joo4+wb98+tLa2Ij8/X7yFlUoXpS1r/9D0mUAykHnCV6fT4ebNm5ifn0dJSYmoi6MDZIlEAlarFYFAAL29vThw4AB2796dcSJfenCCnsE9T566IcVBUQJeR6VUKmE2m0VEcGFhATdu3EB7ezt27NghGIsYTdoZgDbOYrFkKKVkcuu11sFgEAsLC/B6vRnpI2kNI23gdieJaW4k1FqtFgaDQaS8uQLlp2Splkl68OS3ES9FMJvNKCkpue/kLdVxV1ZWisOWH3/8MTo7O2EwGNDR0YHm5mbYbDZxaCcajYr6rKWlJQSDQXEIizxgbiBJsAloUkQqHo8Lg0Dz/PKXvyyUFjfIlDYKBoOIxWLCceCF/n19fYjFYrDZbLBarYIvKE1lMBhgMpkwOzuL5eVl+Hw+cXCLiDpMkGHJzc2FwWAQfF1WVib2gl5+Qc8jALC5uQmfzyfKjTi/8FO6PFJLBxOodIAf1KTI+GuvvYapqSm4XC643W4R+eZ8SPtpNpszTv0TP/HaUDKOUpLWEhIvFRYWoqqqCjKZDGNjY1heXkYoFIJarRaHOwHA6/VicHAQY2NjqKurg1arxcLCApaWlvDwww+LcwI8UvuHJJVKlXEghjvlMplMAAvqpCCVY07SyLrRaBT1xL/61a/g8/lE7aLdbsf+/ftFvWgoFMLs7CyuXbsGj8eDqqoqtLS0CJ7lwF6r1aKzsxOvvPIKBgcH0dPTI+oy+aEzkmcCRXRYl3iWdEowGITVahUlCqRXqMMP1TZSlwii5eVlfPjhh1hdXYXNZkMkEsHo6KiIOJlMJiQSCXg8HuzatUvUUXJHg/fHJSJdTfOl+l2lUonS0lKRelWpVKivr0dzczO6u7uxvr6OVCqF7u5uHD16VKSqz58/j3v37sHv90Ov14tDdNTNglLYBQUFWFtbQyAQwN27d/HRRx+hqanpvk5AxI9Uh08lepcuXcLIyAgSiYQAaPv27ROlU3q9XpQKDA8PizZhxFdEPLJK/6c/BOgbGxtFdJjkk8rn6KB1OBwWtcBSW0B8YDAYYDabMw6vE49T7Tuw1UaMWl/S911dXZiYmIBer0dNTQ0KCgoy9AABYAqMEdjk3WC2kyfO79FoFBaLBTKZDDdv3sSLL76ItrY2tLe3w+l0YufOncKpSyaTmJqawvXr1+H1elFZWYmioqKMdme0jjqdDgUFBaitrcXg4CBu3LiB+vp61NbWZsg/gX2TySTKt/g6WSwWITc6nQ4OhyOjFSQFQChDQvaJum/5fD4MDg7i1q1bSCQSyMvLw+rqqrBdtOeBQAAOhwM2m004mMSHfH+3czaTySTsdruofe/t7cXa2hp27dqF5ubmjBa9y8vLmJiYgFarxa5duzIOVZM8Xr9+HRcuXIDX68Xzzz+PlpYW0Z6Vzh5RWUplZSVksq3OLDqdDl6vFwsLC4hGo9i3bx/y8vJEaahGo0FVVRXsdjveffddjI+Pw2Qyoa2tTYw9FApheHgY77zzDgKBAHbv3o0dO3YIXb5z505UVFSI6/+Y9JlawJGhoMWlN+xtbm7CaDTi2rVrwnO22WwIBAIoKirC5OQkXC4X+vv7cfz4cVRUVIh7Psgj4IoLyKzhSiQSsNlsIl1Jio3KEHJyckT9c39/P2ZnZ8W9pN0gpKdEKS1PzcBjsRhWV1cxPT2N9fV1zM7OIhAIAPj0bV3SMUsj4tJ5EfNTRJFeeCBNrVC7JACiFcp2ivFBRCCPFJdOp0NeXp4w0NJSF6fTCavVKtIhJIw8DZ1KpUQUkuo/p6amxNpRalCr1WaUAlBERKvVQq/XC0NGte1UZ6jRaOB0OoXCjcViWFtbw8TEBCKRCBYWFkTbGDIi3PEwm83weDxiTgQ2aSzxeFz0I6UuIrTWZLBpPEqlUjhitCcEmOi5OTk5wtMmEOF2u0Vt8fz8PILBoOj+IOU3csIAiIgfBxJkAOgNSjqdTkT1ZmZmhCxxJarRaOBwODJKn0iGKE1HRpycWh5RexBoVSgUoqTIYrGIbjMbGxswGo1YXFyEwWBAbW2tUKpXrlxBWVkZtFotlpaWsLy8jOeffz5jbA8Cp78vEb8ZDAbRrYUbbjKQlKUgncXXkBOPAKbTaeTm5qK2thaFhYUYHh7GwsIC7t69i6NHj6KjowN1dXXCuHi9XoyOjmJ6ehqxWAyFhYWiPEXKU3K5XLylk4DRvXv3UFBQIDIpvIyBDLl0/cj51mq14i1YNHaZTCZ4kUAy9Wql+6ysrIiyturqatHBJRQKIRgMCv3pcDjwjW98A4lEAjU1NQKQpdNphEIhATJIXvhcae70uc1mg91uF5/rdDrxtq6hoSGkUilRB0zRKQLyyWQSarUaFovlvmwERQ+VSiU2NzcxOzuLGzdu4Pvf//62wQ2uE+kgN71FlnRoa2srzGaziISTXSosLITZbEYgEMhoVcZtANfdtA4U/aWX31Dtqc/ng9/vx/LyMgYHB7G0tCQ6b1BWkfiT8yiV/tA7APg8Of+TDpVGgillX1ZWhtLSUvE7adRd2npPGiXn68nHSTqvrq4OtbW16Orqws9//nNcu3YNjz76KB5++GE0NjYiJydHBFPm5+dx+/ZtAEBlZaU4bMjnRLrearWiqqoKd+7cQX9/v8jgSXWESqUSASpp5oM+I31KZys47/LMOb0khO69sLCAiYkJrK2tQafToby8HDLZVikLf+tiSUkJ8vPzYTAYUFdXh5ycnIyzIdIsIXcI0uk07HY7rFYrfD4furq6EAqFUFlZierqakQiEeGsLywsYGRkBAaDAU1NTeIMCbCVqVxcXMSFCxfgcrnQ2NiIkydPisw9ZcNu3ryJaDSK+vp6lJeXA/j0LbSjo6OYmZkRB6m1Wq1Y05ycHDQ0NIjDeysrK2htbRXRfQBYXFwUjRl27tyJpqYm5OfnC4eVXmlPukcmk0Hxh4+tAPiMIJlavtBLM0ZHR2E0GlFWVoa6ujosLy+LAyAkgPn5+RgaGsLq6iqGh4dx+/ZtscBkzKSCJCUy7vwEO4/sEOAk0KRSqUS7LeoUAEB4eWQYqIcy3Y+iB9TzlDpadHd3o6enBwUFBSguLkZFRYWIonHQQ+OheXBlvZ0zkE6nRXRPCny3iyRz0Pm7EN2DFBsZJHpRBYEwiqjn5+fDYrFgZGQEMzMzImJM/TZpfYaHh3Hp0iVMTU1Bo9GgrKwMbrdbZA949JqEmkcx+FsLqTOCdL3I8VlcXMS1a9dw9epVFBQUYGlpSSgxvV4PvV4vxm82m/HUU0/hzJkzcLvdWF9fR21tLQAI8L6xsYGVlRWh+KxWqzAkFG2msVMqixwU3lMzFArBZDKJ1yNrtVrEYjFMTk7ixo0bGBwchMPhQFVVlWgtROUNvHSJjDHJFoFXOhRLvMGjuXK5HF6vF/Pz82KtuNxQ1oAMDPEo8GmUnOSBOxrcqHG+5bxpNBpRXl6O1tZWXL9+HXNzcyKN19vbi6amJlED+Otf/xrnz5/HF77wBVitVtHKigwv8TU3+H8oItnimRzeo52uodo/aT9bGh//Qx0zbDYbDh06hD//8z/HT37yE7jdbtGerrm5GY8//jj+5E/+BMXFxfD5fJiYmBDOGGWwpMApnU6Ll6fQHoXDYYyNjWHPnj2Cz3kHCa5nCSQQKJUe/OFz4iCZSgt426mNjQ0MDg4CAOrq6vD4449j//79GVE0WiuFYqs9J2XC6HvpXiQSCVFbSuPSaDQIh8NCt5GuIB1FhtFgMCAQCCASiWBpaQkrKysAAJfLJXqtq1QqEeHmPXd5HD8opAAAIABJREFUXblCoUAwGMTU1FQG2CMep6AI6f9IJILV1VXR25X2ivcbp3tTeQbX/w8Ci3QdyT3PqlApD5Wv8fp00jX0h8sqAXZaP/72O7pGGsWn+VDPWrpmcXERkUhElCFsF4wAIIINPEIudQo4kUNKTv/JkyexubmJubk5jI+PY2hoCENDQzh//jyeeeYZnDp1Cg0NDSIwMDs7Kzpz0BtzeTaYuq+o1WrRCWp9fV0ETaR7QzzI9yeVSon7UHkBOWGU+STbwPUifUbrSN03VCoVrFYrDh8+LM4uUOaF5Hc7IqfnQRiCZM9gMMDv92NgYAB37twRpSV6vV70fvZ6vZiYmMDMzAwKCgrEC5qITyKRCK5du4bBwUGYzWYcPnwYO3fuzFhT6j4Tj8dRX1+PsrIyUb4DQGSg7XY79uzZI+RJpVJBr9fDYDCgt7cXo6OjMBgMopSCdPHdu3dx8eJFhMNhPP3003A6nUJvUOtBso0UDP0/CZK5YoxEIjh//jx27NghDuCQcadrU6kUSktLcfDgQVy/fh0TExO4ffs2Tp8+/RuZ40H0u4JDnkbgwiG9v/R+tGHJZBKzs7P45S9/idXVVezYsQPf+c53YDKZ8M4778Dv94sUM1eEfJ34ODgwos8pWvCbImlc+fDI9/8mPb3dmm0X/QYy31BGzgLN0ePx4Pbt23j11VdRVVWFuro6PPzww1AqlXjzzTdFT2aecuVRne1ACF8vKi0Ih8MwGAyi3nB+fh7FxcX4wQ9+AIPBgOvXr2NjY0MAT0pxEaD9whe+gK6uLiwsLGBychK7du0Shy6p/7FKpcLx48fR0tKSESXnAITWIBKJiP2lPSDAQmAzGo1ifn4eP/vZzxCJRNDU1IRvfetbMBgMeP3110W5BS/jIOKRafo3lXVwIo+axrldKpsMJ4FOAgL8fvw6vh/cyePGdjseysvLw+c+9zn09/fD5XJhcnISBoMBLpcL3/72t6HX6zE8PIzz58/jzp07GB0dFQ4IvY6Y7/12PVo/K3Fwz8EEBy3cQf5tcsi7yqjVapSVleGrX/0qysvL8f7776O3txeLi4vo6+vD6uoq7HY7HnvssYwsEckHB+qcpI4JBSOkoJpHlOj/tKd0fwIkDyLOBzzVLt3rzc3NjLpDafRfJvv07WPk7BLo2k5P/SZdzHUdyYSUP/jvyeGQRjB5La90rFIQ97/NZFAwJZ1OC+eayy3X7bQe9Dv+bgHaA3JqyCmIRqO4e/cuXn31VchkWy1Cjx07JqKpFMGmOmKyuTxyLXV0iS+4zuA6Z7v94fqBHDwpb5COpCCW1A5yItxAc6dyi+eeew47d+7EW2+9hbNnz4p+9K+99hqCwSC+//3vw+l0imdIHartotW0tpwPHjQ3vq/8e+nYpX/T87mjxOdO+x+LxbC5uQm5XJ5xroLuQ9iAfsN1L3fwaZ2l/5fLtw6sUyeIvXv3ilIVk8kEuVyO8fFxzM/Pw2azobOzU/AtjSMajeLs2bNwu904cuQIHnnkEaTTafEG1Wg0iqmpKQwODmLv3r3iVdPU61+v14ta45aWFtTX14uOFcTjkUgEZ86cwfz8PJqbm7F//35hk6LRKFwuF27duiUOERsMBvHOAa1Wm5ERJyf7j0Wf6c6k2Km1CYXG6QURRFzxKBQKHDx4UPRBHR4exvT0dEaza2kEiys12khev8brGLmSouup8X46nRZtVWgsQObBNx45BCBevPDCCy+I2pjdu3ejtrYWKpUqo75RGgGVCt9viiRzJcWN9nbKaDsg/rsQHw8vV+EHVvjYqEm60WhEaWmpUDL37t3D1atXcf36dXg8Hjz66KNobW1FQUEB/H6/SGdTNIMbVCLe55GvF3+VKGUDent78frrr2N0dBTV1dVoa2tDaWmpSI/RehGQoL3T6XRoa2vDt7/9bfT29orezK2trYhGowK07d27F6dPnxYeN18jAjIUfaV0Gxkz7oHLZFtvGLp58yZeeuklxONxHDp0CO3t7aitrRUAgu5L89yOJ+gailiSt8z3kCLayWRSnOSW8gmtNTfaUr7h95TyG3nrxOMc6JACt1gsoiXfyMgI+vr64HA4kEgkYDKZYLPZUFFRgbKyMgwPD+PKlSvisEZ9fX1GFohHVv6QRFFbDgyk6e//rdOtUChEWlUmk4n2kwUFBejo6MDt27fx8ccfY3Z2FhcvXkRFRQUaGxtRVVUlynnC4TBCoVDGWGgvyCBRdFuj0aCysjLj1dxEHAzSHCmTw+/L5/+g+UpBo8FgQFlZGRYXF+F2u+HxeEQWi4NS6Zh4yRuXS34t7QlF9QGIzBJ3JChrSDWcSqUSRqMRBQUFyM3NRSAQEHWn9HpeAiPcrpDTR/rWZDJltCLlupf4ncANRbJ5Wj2RSIje5RzUE5gkPqFXrfM1kKbRac9oDRYWFnDt2jW8//778Pv9ePLJJ9HR0YHS0lJsbGyI7B8vveP8zrOGUh3AswrSeUuDLw6HA2NjY+JcBX+5FI2dyzBfZ6lt5velZ1InhUgkAp1Oh46ODpjNZjQ0NMDlcqG7uxt3797Fhx9+iCeeeAK5ubmw2WwoLS3FyMiIeGmTFCgRPqFSFZlMJrKFtEYPAsoihc8yBFIiwCf9P19zWgN6Lun79fV1wcfSl+1w/STFQvQZl2NyGuVyOfx+P4aHh/Hxxx/DYDCI9y7QG3/NZjOWl5extrYGi8WCo0ePQqfTYXZ2FgqFQnSpcblcSKVSqKmpQW1tbYbzRe+o2NzcFOcu6B0LOTk5ovwvmUyisLBQrPf09DT0ej3sdrtoUxgOh7Fjxw40NTWJDI3H48Hy8jKSySSqq6vhcDhEKSvpiqWlJdGm849dk/x7B6hpYxWKrR599KY0OhhCxIEfTXL37t3Izc1FLBYTL4oIBAICjPDrpSQFyeRRhkKhjBPIdA+ql52bm4NarUZLSwtKSkq2Js9SQvQbYnoScurDSG299u3bh4aGBlFjwz1HAjP8lDaPSnEFIp0fv4Z7jNLveQ3Ub0plPYi4QCUSCdFfkXurNAe3241oNIri4mK0t7eL7/r7+/H222/j9u3borG/0+kUrWpo7qRsAYg01XZ7yZ0HaXcFn8+Hl19+Gf/zP/+DWCyG5uZmccgmnd6qddzc3EQymcwo2yAHym63o6amBoWFhUilUqKLhd/vh0ajQXt7O77yla/g6NGjyM/PF6CQ1oiPjcAwLx8hoaV5TExM4MyZM3jrrbdQVFSEzs5O1NbWCmAtLd8APk1T0prwlC2lj4FMpUkv86BXHFNLQCkvcT7iKWI+L+kcpcBR6rxJHT+tViv6HFOT/bGxMVRWVgolVlFRgY6ODshkMly5cgXd3d1CCUudN2nU/A9BdG+pQ0xONjf6UmO1nYzxNVtcXMTQ0BDW19eRm5uLffv24amnnsJzzz2HEydOQKVSYWJiAsvLyzCZTKKGT6fTiUgZlw3u4M/MzCAcDgtHtb6+PuO120Scb2meZODpz3ZOEH8m1z/8utzcXFFXSNkXAh3b3YcOlNE4ODDifMbHSvoCgCiBo8gRyQq9RIMyIbW1taiqqhIH0o4cOSJqU+mFGrwulPSa3+8X2San0yl6cEszKgRwCPDQ+Zaqqirk5ORAJpOJSK/f7xe6j0qGPB6PAG9qtVocivx/7H1pcFTXmfbTu3rT0mrtC1pBEkhmXw0GE9vxCo4dT9nEM3Ym5cxMKjU/pr5JTWWmUlOJa6rmm1Qlqc812SbjLNhxjO042I4xmM2OEAaxCoRBaEOotXa31Pv+/RDv4e1DS8YYbEDnqVIhWn3vPfcs775w3imvB5/7Y8eO4dVXX8X+/fvR2NiINWvWiKo6BoMhrc6wfGb4OmZy08tnXBZkeezrokWLRFWqCxcupCWA0TWk8JE1mUITeJMYvv78WcBU2BjVMyfh7tFHH8XTTz+Ne++9F/n5+Th37hzGx8dFP4SlS5fCYrGgt7dXdOek96G9BUCEZlBJxNra2rTv8fFkMkhxZUL+G1dK+T6XjV5lZWWCR8bjcRw9ehTDw8NXeEUoPIgs/bJiz881Vzbo78PDwzhx4gR6enrQ2Ngo6Gt3d7fIh6HQDwpzoJBJKk1K3TSdTifKy8thtVpFrhD1jjh06BAMBgPKyspgNpvR19eHjo4OaLVadHR0wOVyiXKyqVQKvb296O7uFpVpTp06hZ6eHlEly2w24+OPP8b4+DjGx8cRCoWQl5eHhQsXpoWcaTRTHQM7OjowNjYm6PpMXrLPis8kJNMmHxoawqFDh7BgwQJBPAjyodBqtZg3b56IhRkaGhJdX0KhUJpLCrhMNLhGSgSPH3xqjkGgA+J2u0Uymc1mw/r160WWJCcadC9OVOLxOM6fP4/t27eL2Jvq6mpRbSAcDotQC41GI+KiotGoEJS5xVS29KQtxKV3owSxTMyME6/p7jMTuIUklbrcQUt2tVE3qb6+PsTjcTQ0NGDdunVibs6dO4fjx4+LhhuUuUrxjJQAR8+Jx+PweDyCqHMhkTMh/v7AlKA7NjaG3//+9+ju7kZNTQ0WLlwIm80mrGQ+nw9+v18wNEog5dakgwcPIpVKYeXKlbjzzjtF3PSzzz6Lf/mXf8FXvvIVUeWD5od7GXisJ42XW8+4UkS1JzUaDVpaWgRTo7mh1tA6nU4k5UxMTAhmTs9Mpabqinu93rQscVrH0dFRvP322wgEAqivr8fChQtFiaRMYRNcAOQxzfwM0b6SBRq6D7d68c+02qnMbqqzSZ3gVq1aJeIrq6ursWbNGmRnZ+PkyZP4+OOPkUgkUFhYKNaNnknC3vUCCUfyZ/xHFpJnUkKJcZJ1xeVy4cCBA+js7EQ4HIbBYEB5eTnWrFmDxx57DDk5OcJFmJWVhcrKStxzzz0oLi5Gf3+/iPfl9wemlKeDBw/C6/Wirq5OVEzgNIrGS9+nMyb/nfYztybyeeB7WqY/RUVFWL9+vSjD9vHHH4vSZty7QB47qjBBwhutp7zX6DP+znTOxsbGMDIyAo1mKqZ0cnIS/f39cLlc0OmmSm+uXr0adXV1onrDfffdh7lz58JisYiSfENDQyIRkQRn6saak5OD5uZmbNy4UdBSstrz8ZEyRc9dt26dqK8bDodx/PhxnD59GiMjI5icnBQdSfv6+hAIBABcDsGiyj+cf2YyhkSjURw9ehTt7e0wmUzYuHEjysrKhOGHaAkAUYY0kZiqusQFU043uFAnh+wQaO051q9fj8bGRkQiEWG55fSKC2hkqAqFQvD7/cI4wveZLIxSbDWVdKN75+bmYtGiRdiwYQNaWlqEYpNMJkVTroqKCgwPD4t5JZpEz6HEaRK+qREY37eZZIxMhgI+n5xe0b/kOeB7hu5XUlKCefPmoaKiArFYDDt37kyjFyQAUmL6wMCACB3MRIu4tZ/T7KGhIdFNde3atSgqKkJ/fz+OHj0q5Kvu7m4MDw/DZrOhtLRUGBFprw4PDyOVSqG8vBxOp1OcCTICtbe3o6enR5QVpb09NjYGq9WKzs5OeL1elJSUoK6uDqFQCAcOHBCx4JT05/P5cMcdd6Cmpgajo6Mi0ZD2Z25urkjmo3Wl6kAXLlyAz+dLM0beKFyzkEwxZsFgEF1dXdi/fz+amppEZi5wObaUW2qoBnBZWRkcDgcmJibQ2tqKiYkJhMNhYU3myKTFccJMmfOUwEHXpFIpDA8P4+OPP8bQ0BDy8vKwbt06Uf4lEomkxWvSjxycPzg4iGQyKQRiYOpQDAwMCOJIFgqy/vE4Vj7mTK4BbpXMZNmi58lC8qe1ItOa0IF2u93o7+8XcYt08CcmJrBt2zYcPnwYGo1GNIkg5jw0NASXy4VIJCKSkHQ6ndjAxIRIEE6lUqJMHreE8wRF7m7kv5PgqtNNdVujg8zL7FAyAQCR/T02NgaPx4MTJ07g/fffRzAYxLx580TtVSrjlkpNlbOhMfAwFCJ2JODE43FhJeNWcr6uHo8HfX19AKYSJKg0E8W1nzp1Cm63G5FIBD6fTwgWcrJaPB7H6OioIP4ABLNPJBLo6+vD1q1bEQwGsWrVKixfvlyUcZKFW9ovmfZeJguTDFnplWMAgSnmSq1+qU30okWLRIme4uJitLS0oL6+XoQY0HU8pIWY6/UEvSMXDoF0pZO+JzOjmc4Y1VVPJBLweDw4c+YMPB6PUNCys7Mxf/58pFIpzJ07V8RfWywWPPPMM6ivr0dPTw+OHj2aZgmkMfh8PuzduxcejwfLly/Hl7/8ZeFBIUWcxp9KpUS3TppP+py/H1mquCDIlXkSpDjKy8uxadMmFBcXIxaL4cSJE2htbcXIyIgQaEipO3LkCN58801RvYOPgSvjtB48YYyqcESjUZw9e1a0ek4kEmhtbUVraytcLpcox3nfffehoaEBwFRo1apVq7B06VJRio1Cn4aHh0VXz87OTgwNDQGAaKW7atUq8c68ZCUpwEajMS18kJrWcM/hz372M7zxxhvo6OjAvn378L3vfQ+jo6MibnZkZATt7e04fPgwuru703I2+HkCINYmHo+LxEZqcU7x7IODg+jr64PP5xOJfYFAAL29vcJSztdd5qGywEU0lmLm+R5YuXIlWlpahKv98OHD4vzSfjUYDOjv70coFBJ8k7y7sleVX8c9cWfPnsWxY8dEbX2qNkNNeXJzc1FUVCSaUq1ZswZLlixBPB7HuXPnROIyzR2diQsXLqC7u1t0PWxoaEibby5o8nAG4nc8npwEZnovLhhT6BWFspDHh/bn8uXL8eijj8JkMmHv3r04ePAgBgcH06zJVqsVXV1d+MMf/oD29naxT2TaTGvO1zMWi2FkZAQDAwPQ6XRYtGgRTCYTuru7MTIyghUrVqCwsBCDg4MIBoOorKyE3W7HmTNnRA1tMnhQJSCz2SwSe2OxGE6fPo3+/n6hTK9ZswYDAwOIRCJoaWkRxkKtViv6MkxMTKC9vR1WqxWFhYXwer2iGcidd94pktk7OjpQXFws6quTx4jmOR6Pi3NEba5pjqle9Y3ANXfc02jMaG9vxyuvvIJXX30Vvb29CAQCQqigyb38fQ0CgQDOnj2Lt99+G21tbbh48SL8fj8ikQhcLheGh4eh1WpFKSPgyuB1rm2dOXMGR44cQSQSQX19PXw+H86fPy/qs27btg0vv/wyzp8/j1WrVuHv//7vsWTJElE02+/348CBA3jvvfdw4sQJeL1e6HQ60fKUXIfJZBJ9fX04c+YMenp6cPbsWRw6dAihUAjNzc3Q6XTo6+vD+fPncfDgQYyOjgpif/jwYbzxxhvo6upCKpUS80LuK4of+vDDD0VHLLJYUPOQ4eFhMc5jx47B7XYLopadnY3CwsK02EPuKgQua50UO04xobm5uXA6nWLDjo2N4aOPPsLWrVvx29/+FgsXLsTXvvY1PPjggyIUgVqyjo+Po7e3F0NDQ4Jwnjt3DqlUCvX19XC73bh48SLOnTsn+tTbbDaMjo6KWE2yRlFlipycnCsyu/1+PyYmJtDX14fe3l7x89FHH2FwcFCUvBkeHsaZM2eEBcdisYj6xVu3bsVHH32E3bt34/e//z1+8Ytf4De/+Q3effdd7NmzB+3t7ULgoE5UyeRUg5KOjg689dZbaGtrEy5Vh8ORtsfJChAIBOD1eoWyQATl9OnTOHr0KKLRKJYsWYJoNCoI9/Hjx+FyuVBQUACn04mxsTH86U9/wsjICAoKCqDRTLX3nJychNfrxalTp/DHP/4Rr7/+OmKxGJ544gk89thjmD9/vsik7urqwo4dO7Br1y4MDAwIIq/VapGbmyua1Bw7dgxvv/02PvzwQ4yPj4tzkUwmRf1o4LKlhSCHI9D51uv12LdvHwwGAx555BGsWLFCfJ/HTh4+fBjr16/Hl770JZSWliKVSgmB48KFC9izZw9eeeUVEd9Olm+HwwGLxSKEL2rtTK2px8fHceTIERw4cAAGg0Hca/fu3RgZGRGJb1lZWaJL5Pj4OPbt24f33nsPHR0dosYulWKkkmncjcoTlLxeL06fPi1CTBKJhGAyZ8+exU9+8hPk5ORg06ZNWLhwISwWC+LxOLKyslBTUwOr1QqXy4Xu7m5oNBpRMqytrU14UNauXYtNmzZhwYIFYi3GxsZEm/rTp0+L+G8S6JxOJwYHB7F7927s2rULnZ2doskF1cy12+0Ih8PYv38/3nrrLRw/fhyBQEDEhFPpMNrn1Ga3v78fH330EU6dOiWEUYod7e7uxurVq9HY2CgShbRarXDR8/A0+nG5XDh06BCOHTuGpUuXYt26dfD5fGhtbcVHH32EF198EX/4wx/Q09ODiooKPPTQQ3juueewfPlyYZQhekhhP1arFaOjo6IrZXd3N/bs2YMXX3wROTk5+PKXv4wtW7bg3nvvhcPhQCAQwIEDB/DWW2/h3XffRXd3t1BAfD4fRkdHodVqhfu5rKxMdNCMxWIYGxvD0aNHsXfvXvT29or24oFAAENDQ9BoNKJMqcPhQFFREXJycsQckKGCG0uGhoaER+/YsWO4cOECjh8/jo8//hjJZBJ33XUXurq6cOHCBZw7dw5HjhzB0NAQ5s+fj5GREbzzzjt46623MDk5KfiCXq8X9Yw9Hg9OnTqFHTt2YM+ePWlGraysLOTk5Aj6RqX/zp49i6NHj8Lj8YgwhsOHD6Onp0coehMTE8J66Xa7YbFY0mK5KX6aktiysrIQCASwc+dOHDx4EC6XS8Teu91u7NmzB21tbdi8eTPWrVuHvLw8sY+bm5uRn58vKjCRYKbVanHkyBH86U9/wuHDh7Fs2TI899xzWLp0qWh4Mj4+joMHD2LXrl04cuQIRkdHkUpNhY/ZbDbY7XaEQiEcOnQIf/zjH3HkyBER+kQW4JycHESjUZw8eRKvvfYaPvzwQwQCAeF5sNlsou5ydnY2iouLYbPZMDIygs7OTnz88ceYnJyEwWBAZ2cn3nzzTbhcLjQ3N2PevHniXeXQLx7vzUObhoaGcO7cOVy8eBEVFRXo7++H0+nEhg0bRIlcSiqm9R4eHhZecqo80dPTg76+PmRnZ6OmpgZerxc7d+4UgilZcu12OwKBAKqrq9Hc3CxCkA4cOJDWXr6pqQkLFy5EYWGhUOZ6enpQVVWFoaEhjI6O4pFHHhH5AX6/H5OTk+jq6hKNW0iQzs3NxYIFC0RVGaLLWs31r4oEfIbEPSL0JSUlWLx4MebNm4fS0lLY7fY0q42c0KDRTBXfX7lyJWpra0V5Hor3kmsN8xALinXSarVC4yXrWmNjI5qampBIJITLKxqNoqGhAWvWrMGiRYvQ2NiI7OxswazJXbFgwQLk5OQgFAqJw0xFsefOnYstW7YgLy8P4+PjqKqqQmlpKSwWiwgbIWGVSt5RzJrVakVxcTHuuusu0bykoqICZrNZNAMxGo3CdURZovX19TAYDOIgkvA2d+5cbN68GW63Gw6HA1VVVWllimRXE82b/ENMvqCgAMuWLcP4+Lgo/j0+Pg6LxYInn3xSZMZSm2CyGKxduxYWiwWHDx/G6OgoCgsLRcxVZWWlqMVYV1eHQCAgOoU5nU4EAgHk5uZixYoVqK+vR3Z2Nurr68VaEohBOZ1OPP7448jNzRUxneSydjqdKC4uRmlpKUwmk+grX1tbi/LycpjNZlitVixevBjvv/8+Tp8+Ldy3VDWD6ocePXpUdLFbtmwZbDabsLjNmTMHDz/8sLDsUDtWbkkGpiwfTU1NeOqpp1BWVibqypaVlcFut2Pu3LmiTWpBQQG8Xi/mzJmDmpoa0Upbq9WKmEOyvjY0NCAajWJwcBBjY2OIxWJYsGABHnjgASxduhS1tbWwWq1ifNTwZMWKFSgqKkIwGERZWRny8vKEC5L2fmlpKdavX4877rgDVqsVtbW1sNlsYp/I7tdMXh36vLy8XNCCFStWiHsQIcvLy8Ndd92FI0eOiLbFdC3Rh1RqKrn23nvvFYXnSTAh4ZzKPj3yyCMwGo3o6elBJBLBxMSEsDJRq/eSkhJs2LABa9asgc1mE12dKFGMBNOWlhaYzWYEg0HMmTMHZWVl4uzRXMlxm8CUNZmsmV6vF0VFRRgbG8PFixfh8XjQ3NyM1atXY/HixXA4HOJcUrttq9UqGlO4XC5MTk4ilZqKOZ8/fz6WLl2KqqoqEQ4EQHh9srKy0NTUhGeffRaxWAxz5sxBYWFhWnhJTk4OFi9ejPz8fAQCARQWFqKkpEQkHcbjUw0x7rjjDlH/uKioCAUFBcKKQ9bUVatWwel0YuHChTh79iwikQiGhobEnqWazwsXLhTl13iIGe0D2d1eWFiItWvXIpFIYPny5SgvLxcd8bxeL/Ly8tDS0oKcnBzMnTtXNIOi2q5kNdXr9SKUpbKyEkuXLhWKuN/vh8lkwqZNm1BUVISGhgY0NDSgtLRUXEtd6lasWIG6ujpBS7OysjBnzhwh9JPQuHnzZhQVFaGvr094P6xWKyorK7FhwwakUlM1tGmvFxQUoLi4WHTRkz0x3JOh0WiwaNEiPPnkk2hoaIDb7UZpaSnKyspE6dHS0lI888wzOHr0KMLhMEpLS7FgwQLY7XZEo1FxRnw+HwwGA6qrq4X3jMIFo9Eoampq8PTTTyMajYpubbxxRyqVQllZGR5++GE4HA50dHQgkUiI6hpGoxGlpaWYN28eHA4Hampq4PF4RMfJ4uLitFwR8iRQPhGFLd1zzz0oLy9HXl5emhctNzcXW7ZsweLFi0XtbKJN9fX12Lx5M2pqaoRwTiFqbrcbOTk52LhxI+bNm4e6ujpRypXOYVZWlnDpT0xMCEEWuOy5o4TZBx54AOFwGA6HQ8TikgU5kZiqE/7Vr34VgUAA+fn5KC4uTqOder0eFRUVePLJJ9HS0iLCkgYHB3HixAmRiJqbm4u6ujoRxsjDQSmJlQwH3Bim1WpRW1uLBx98EFarVfCV2tpaEYoHAEuXLhUx+owQAAAgAElEQVRzTg13aH+TFfyJJ55AV1cXzGYzOjs7hZxSW1sryrSeOHECubm5KCwsFD0V4vE45s2bh0ceeUTkaBQXF+OOO+5Afn4+tFotCgsL8eCDDwIAKisrUVZWhoKCAjQ1NQnvMjU/OXPmjMhzMRqNqKioQHZ2tqh1zvnPjYImlXRfU+V+f2Cqbuvk5CQmJycRjUbTNDAqXM6F5Gg0Ktq+UskaYj5+vx9Wq1U0Y6AyQvTytEmodJbL5cLLL7+M73znO6Ls2OrVq4XFjVxdtAl47COPISVXHA+N0Gqnitnn5eWJ+phdXV2YnJwUGja1gNXr9RgfH8fg4CD8fj+cTqewwul0OmFdJMGESrFQcwFKUAkEAqL+n8ViEZ1/yM1BfyeXqtFoFPchbZWIOq8dyGPSgsEg2tvb8a1vfQunT5/GU089hf/+7//GxMQEBgcHMTo6ilgshtzcXFGgndwYlEhAh9Pv92NwcBBnzpxBSUkJCgsL09qgUpwTBeAXFhYiOztbrA0xLSorZzQaRXMTbqkjC21/f7/IqrfZbCIpLCsrC8FgEBcvXsTo6CgKCgqQnZ0tknl8Ph9effVVtLe3ixAR2pcU8jA+Po6hoSHk5ubia1/7Gp588knMnz8fPp8PXq8Xk5OTAKYSikjIN5vNYq/TviIrCdUs9vv9sNlsYo2oVifF0IVCIRH24XA4YDKZcPLkSfzjP/4jjh8/jvXr1+PrX/861q1bJ5qRUBmewsJCzJkzRwi0BAoVokYPVA2ALBm84QRp68FgULi27HY77Ha7sB5mKk0mg8emkkWqublZZErL++bPf/4zFixYIJgWAHEuJycn4fF40kIC6Mw5HA6YzeY0hdnj8eCjjz6CTqcTVvLc3FwUFBRgbGwMo6OjQuEFkHa2dLrLLc29Xi98Ph9SqZRQnMiKmqlJAlkuySJG7k+qdnDx4kUAwMKFCwU9oYS0WCwmhH6/3y+e7fV64fV6odFMNaUpLy9HYWEhdDqdONN6vR6RSAR+vx+BQADBYFB0yCPlymw2C4GXaAu1RCa6QVZncotTuBvdh96fn1GijaRQk9vWbreLigN2u110tiSjCN9DPAacK/QejwculwtVVVXCWzA8PIy+vj5hYc3JyUFRUZGop0ouZuIx/DkUXjE6OoqxsTF4vV6hBJK1nSx8pPS43W5Bq2nc9B56vV547cgwEYlERKt6v98vrJs5OTkoLS1FMpkUiW5kgSOPqBwnTnPLDUvhcBhut1t4WUtLS+F0OtO6v5FCRgae4uJiWCwWQbdIGCZDS05OjujKSLyY1p2aMtlsNuTk5MBut4t9T2Omboujo6PC40QJXiaTCV6vV1hSjUajyB+h9yS6Tj8UNmez2TAxMSHyWQKBAAYGBqDRaFBaWoqamhrhXSYDF99bFHtMddrj8anuviUlJSguLkZeXp7wptLcB4NBTE5OpsVO6/V6Qf8o7IToJD8fdIZMJpNQ0KPRqKClFLpCtaUpL4WU0lRqKpnt/PnzGB8fh9lsFjHAVqtVdMkkGYn2RTgcFqE/RBNI6Ser8vDwME6dOoXa2lrk5uYKWYzG1dPTg4GBASSTSZFATEInJZcaDAYEg0EMDg5ifHwcNpsNdXV1wvvU19eHU6dOoa6uTrT2JpmGvJnDw8MwGo2orq6G0+kUc6/VauHz+XDy5EmYTCYhn5GsQzSO2tAbDAa43W4UFRWJ5HTeOZKggfcTedW14JqFZLcnJdoJkyBGDANIj4Hkgi4P3Kcf+j//u+ziBSA2TDKZxPnz57F161Z8//vfh9VqxRtvvIF169aJAxSNRkX9Wm6N5qEb9Dweh0hxTER0ScOna6nvuN1uTxNAgcsuP7oP15jp+aT98dg8HgfLrWpk6aIfHqDP55O0PyA9PEUupRUMBnHkyBH8wz/8A86cOYO//uu/xi9/+UvxXEr64c0V+LtkWg8S2mSXNF9bHlNFz6B1IUWBDhAdZrqGJ9ARoaBKFjNpj7QHJiYm8M477whiSUJFTk6OEL5PnDiB/fv34+TJk7jzzjvx3HPP4Stf+UoaoyeQoENtdongURkjHisej091JaM4LxIKuGWAJ9HFYjEcPXoU//zP/4yjR49izZo1+OY3v4lHH31U7EtaH15mjwgLjS1TUXpSPPiaklUsUxwyfTdTHLMMWmOdToexsTHo9XrRDYkEDkrITCanKoxQq3d6hpxYN139aDlmOJlMigotfK9QbgEVr+fWSx4PK68ZzQ/tMyA9SZYLeXyf870OXA5xon1K54vOtBxDR88nhV2j0aRltnPPEK0lj6Hk4+ZVLvj60jNIyKe9nWkP0Hd4fgDteZ7NTx33qMQZ7QO6nu7P55/uS/uVnk1l7ji94PRSTiqVXdA07kz7k9cy5tdxOswFd/LyAZfrxSeTyTRaR+tNLeazsrKuoLlcueH7jqzvdH+idXRmeAUDTl94iTFaYy68EY0lowbtM5nv8PBF/kPrQ3NC54nPO6fFwGUrOK+9TO/M54/mlNNuKs/Gy6MRyChF88TPAF9b+ozOxsTEhKC5nE6SV4v2u0w7OW0hIx6tQSZ6RDIBrQUpXPR3rhTIc0xrSrHNFN5Fc01zyGuSkxCenZ0tBFryKPE9Q3PgcDjSFDEyrul0OrFnZUOITAfI20Ax1jT+cDiM8fFx4XmnvcvPLtVUp66x9C60Xyh3g5f9pEZEcrUWr9craDmdF25lBwCtZgI3AtccbiG3Jo7H46IeJjC9+VsW8jjB5ISCM0X6LoE0SG6FApBGRAhkMUylUmldoDhjp3cgAkA94Pn1ZHkiRk/PoDg/sjZxizS9B89Q5QIxPVd2GdI8ZBJQuKBD9yMNkjNpOsB0Df1L9+elZmjN+Lg4Y6FsU5oPYn4UZsKvISsAKSik/VKIjGyZJKFAp5tqyU0Hl4iA3+8XFgsiZvQ3TlDkNY9Go+jv78fPf/5zvPvuu/j6178uqi+EQiFYLBYkEgk0NzdjzZo12LhxI771rW+Jjkw0v7ICBVxuWsBBggHtWdqLsvITDAaFxY/PG8FkMiEnJ+eK9qgAhAWB9gsJeTxTnTNpzujkfSeDziJ9N5PgfDXIyckRhItcekD6uS8qKhJWQM5EuPDFLT60vsREuZAajUaFNZ+/M3dB8vvR/qe14XPP54LPA783uWrl5CZK5gmFQqIFNO1T2vPyviHBi55B1jdeD5uYuOy25WPlQrNcDoz2JL0PgLT3598j0Hj4M2nPkZWJmC0//xRjysMSZD5Aa0aKKo2VJ1UGg0FRCYTGLdNtoqnyM7g3jc4HMfhEIiEYPp8LeYx8HxK9JSFKVqi4RZP2JzeG0GdkqZQFZL5GxAepehIlJFPOBlfcuEGCzj99RntA5gecVvK1pZwFErK54s7nhtaNDES0drQHQ6GQUHzD4bAQ5jg/4x3tiLfk5+eLdSevF8XNk2VTo9Gk8RHiw1Rbl/akXq8X9yPQu5AXisANfDIdmC4RjJ8n2kecDhB9kM8XV4SIP2m1WuFx5koy7ScO2jP8vpyekJWf+CPNMyncNIZYLCY8RHq9Pq1pjbwvgSl+IvMU2sNFRUVpShFPsDOZTKLnAK0rt/6SsYc8fDRG3vqaG8qo1jI9Q56fRCIB7Q3qJ3LNt9VoNMLFRJYgOpiyUCFrexyZGPJMFkKu+dHzQqEQ7rnnnmmv4Zm+ZCWg53CBVgYxWzow3DpLY6SDRxtlOsFKtnpw5ihbuIArk6X4/YF0pkJMj+5BP3Rg6V6cYJLgS+sIXCautPG5wkNjlMfMx0f3oAYrRIx5xQ5i/HSQuCWPiAMn5DTfnHGRxV4eBwn2ZEGJRCL405/+hAULFqC+vl6UXLPZbGkKCyUNUkKbXOeaa6zyXqU1kAVQGhffO6SoyWvOBRydbqqKBzEGrjTKlghuMSbrEcUcEjIJu1yQ5POn0+nSSgvNdA5lkGWGhBdi8qRcEiONxWLCIiELN8BlIkhMkCd8cWZCwgtvpy4LAHz/ElHllgd5PuW5kL8DTK0zvRvNIe1vEoy51YgLrPJ8yvSS9h3fC7QOJFATU+FW7ExeO35eCZwey5ZTbl3k4+UCBHlN+Fpx2qfRaETMJ727RqNJaw9Me8tqtQolSTZu0BmJRqMIh8NiXmlsskWZe/DoHXhZLW7BnYnG8rnhn/OzIO9ZPha+V7jSByCtGx+NiSzAfKyZzjd/5nT0l66hsyPfi88NHz/3FExnkAIuV/6hkAcKK9BqtcI4RnQVgFCi5PXi88ONQ6QUceGHDD/8PND96F2IvnLrNrdgA+lKA5VrpfeQFUV+Drggz+efvsvpJP8uV0gI3FgiK2l83KS4c6s3WZtJ2aPreFgi0UuaKx6qQWMmoZXGRueE9hrxT+4B4x4nOs/0rnzu6Ht0xvn80L1krxfxBeI55KkhcAMmjZl4O+1v8lDcyOoW1ywk//nPf0YsFsPcuXNFoplMSKY7yDJTkwUdQiYmKgsXma7j4ISBDiXfxNONmRM0WizOFHh2KQlu/J4zCRhckOUHUn42F+bl+8rMj/+N3pMYED+4/NncpS4TdW6ppev4PMvP5G4nOuj0HUoC4e9C78AJMx0GbqGhfSXPaSYBWbayazQakfhBlRH4IaW1o4YzFAdG1lAiRLybFV8reX/K4+F7gmvFfL8AEBZXYiYkbMqKEH8WfZfPKxFKec9wEDGiGOTpxv5pBOVMwiU/K/T+3AND4+QWXy6wyWcp03zT/uHPynRv/vt0dIL+xv8u/5+ewYk9vy8JDPKaEc2hazjz4kqQPBf8nWheSXDgyq9s8eVuXpmJy2Objg7LYQuZ9oF8DQ8PACBiGqn8VnNzs4hzjUQi+PDDDxGLxdDQ0CAaPBDNo71PFlraG/y5fL/QvMqGAII8R9yyx5V0+f25UMtpx3SGn0zzJLvdk8kkLl68iI6ODiSTSaxZswYOh0PMGdWZLSsrQ0VFRZoBhNNbElTonjR38h6fbo35mGUhVgb31pLAJvNQovvcc8nvmen88vHyvQqkd8Qk+iaDzw3neXQ/Pgfccyx7quRzz/mZrATJdEZ+J37O+XvxcfCQKPk95XN66tQpuFwuOJ1OrFy5Uqy3y+VCb28v4vE4WlpahJJC78kVab4+NA7OM7gso9FohIIhnyO+LjSPfPxEA/n7kgchEz3mihB/f74v5PAxGg+V/dPr9WhoaECB88aYkq/5rj/72c9gMpnwxBNPYN68eWkWVlljlpGJYGeK+aO/0TV8wShp4tOAH0b5wHEBiz8z0/UyIeFjpg0ng29YvgnkeeCCLF2TyVKWiUnIRIcOAVn6qQ41XU9xz+Q65oSBj0sWqmeag0zzRS4mOry0hny8smJAf89ENGYiKES8U6kpq+3KlSsRDofh8XiEq4kOHc3fxMQE9u3bJ6oc1NXVpQmg/P6Z4iNlxpVp3LISxOeIvksCOVn5SYCnKg/8+3yf0BxzZYS+K++d6dYsE/P/tOBnWGaCdF9SejjT5WPjShKd00zj5oyKW9f4+wKXY3SJwPJnyetBazCdICGPQRYKZchzSr9zZYHvfb635fvQc2iPcaFRFkb4/MlCJJ9zPn90nRy3KocXZHqnTDGXwFRTgiNHjuDdd98VSYjkqvd4PPjd736HSCSCp556ClVVVWJf0LuSpYvPA9+ffAyZPIKcXgFXCiv8nnxPZFqjTPNM78uZ+HTg46Cs/a1btyIej4uEKK12qq3w22+/jd7eXqxdu1YkGNLz+brJgjcJr3z8md5XHpfMP66GtsshP3zOOR0kyHubzzsJdPx68jLy+Gh5f2dSUDgtBq4UvMnzxHM0MvFU7lGTaSo/X/xzvnfkOcskYMtzypV97n1rbW1FW1sbGhsbsWTJEmH17enpwVtvvQWPxwOr1YrGxkZRl5u8MbJnkNNIHqrJaSg9dzqaxGktjw+meeDx9zJ9nm7f8bwFupbGQPMnz+2hQ4fQ1taG3NxcWK1WFDircSNwzULym2++CZvNJtoaZrJm0CYn0IRzRsgtTNMxCA6NZqrI/uDgYFrzkJnAD6N8aAiZEnnocMhCHf9M1jZJoKGFpM0uV4fgn2cSGLiQQWMjBkJWR074uHZPoPslEgnRsYqy7g0Gg8jMpqoUPBGAa4Pc+kj35c+nz2SBUCaeXDil62XFKJOGz5mDbDmTiSRn+Pn5+fjbv/1bvPTSSzh79iwqKipQXl6eRhg0Go2or9vU1IQvfelLaGxsRDKZFG5iLnjzzGouqBKzpH0vu9RkoZaP22QyIRQKwev1YnBwUAj4lOE/MDCAkpKStFAUeke6F58fmm9+xmgMXLDjjIkzgkyWtasBP1t87/LzR8SUj4nAiTIvdSRD3vdc8KZn0/gjkYiIA6eKAPJ9eHImnweZefJnUhiA7KaWFclUKpXmpgSuDM0h8DOeKaSAJ8Lxs0HvTfSFrzFdxy30mWJOiTHyxD+5rCTtC7onWZt4fDY/Dz6fD52dndixYwfmz5+PBx54ANXV1dBqtXC73di+fTvC4TCWLFmC+++/XzB/fsZlQYMrJfL+5nSJM1ruxaHQBjlXQN5XxOw5087koSBFlnvj5HOZKW61t7cXf/7znxEOh/Gtb31LWIwDgQD27t2Ljo4OWCwWLFq0SDSh4Z4pineX54jGJM8jfy/5Gno3HiLB/07rSXNFRg/+uaw40DxxPsoFXb4vSXAloY4bBfhezLTmnFZxhYroNMUq831D3+fnTQ77o3vz+eQ0U35f+hvPSZIVAFoP2n9kFKFGUnRuuRyUSCRw5MgRvP3223C73Wl7bXBwUNTlXrt2rejGGYlE0pI4af742nK+K+8Pmjd6d5ItMu01eV8RneCe0FTqclIpp7NkvKC1kRVVCv2g8E15jk+cOIFdu3ahtLQUd955J4CbTEgGLgfa04YDIKyWFCeWaXK5EEgvTbGk3MrBBSR+2Hfv3o23334bf/nLX0SG9Eyg+1H8Cj2HDiXfuAT+XX4froUBENn7xAgpXobigWlDc6GT/3s1JbZkIkvgTJBbfPjBBaaKu587dw4ffPABXnrpJfT29iIWi6GtrQ3f+c53MH/+fDz33HOorKxMS3jh7y0rBdOBtEu5woLFYkkr68XvSdBqr0wcyPS9TPNA78qF0ZycHNx3330oKCjA8ePH8fvf/x7BYBAVFRVIpVKifFwoFML999+Puro6UceaujFSQw0q78UTlTgTJsVC3ueZ9gv3ZNCadXd34+DBg9i7dy9aW1vTBJaRkRHceeedaGhogNPpFEwlEomkEXeaf84cp2N6mQTXTHN6NYIyV4r5taSMZBJ2MynE/MzxGDPOGOnaTNaJTB4cSlIh+sLHS+Mjwm4wGK7Yf5lA3800N5xWcWsfkF7VQb6GrpP/Rn+X6RN/50yuVb7+PMGKC5DcCEDP4Bn6dC+izxTHSePMlKRNzI1qLFMyI8VJErOje/FEJS6E8HACOUSOz0sm2sjvwwV9iiXnisR0kIVLmic5jpKSpGSBejpFiMYETFVv4IIcvTeP96U5IiFHfn8CvQ89mxun6LvTneVMY+XKF+09+mw6mkF7UN7DfD04+N4kBZB/xueK5pUr+1wp5etC8c2UN8Cfx995uiIDdBbofbliKiPTXpD/zgVIfv4zeSNJWaU1J9rl9/sRi8WEJwa4XFKXBO1EIiHKVpLRhvgwp0ncmEHj4TRRDlPiZ4F7TbRarSinSmeUck64XEJGPTI68dBCblyikouyIZArnvy8x2Ix0XGX+PSNwGcSkjlR4EKvTNCnYybAZYIra6WcicvXrFixAtXV1Xj66acRCoXw5S9/+arGycdFCy9bigg8mYLfRyasPMyEf3e6RK6rETo+DeR4Jq7t0/NsNhvmzZuHgoICrFixQrSupbq4VMOXiIH8jjR//FnTgdYzk+suUxITn9NrnRt57vn/9Xo95s+fj/LyctHrnZKfuDuKmr+QxisfVKoXKzOmTBYU/i7yXNI95HeurKxEdnY2lixZgi1btoj5slqtyMvLg8PhEDVH6XpeXozWKNNcysIuH+tMzPNqkUl4of9nSj4CMrumeQKX/H1OrKcTFDK9Bz2bnxH+O1dWPs08TPddeV/LQnwmweyTnns1f59u/013L664yePOtFac+WcSKrhVm+i5Tne5WQQ3GnCGLHsFiFHSc/m/M/ER+TN5rxAvyTRXMjLRP3mu+JjkPSuPlyucctIgt4KTIElNUsj4Q4YnvV4vqgHxJFH+LG7Rlufn0+xvvnc5LZtOcZ6O9vB3lT+j75K3he4/XbKrTG/pM1l24LRnOr57NfMiz8FM38s0X7IFfqb9K8sOdB64IpBIJBAIBESNdZPJJBK1uTLADUWy91xeI/ob3y+yoYdDNu7Iij3dj5TeTOuRaQ25t57TaT4Omgs6N1RPOpFIwOfzZVyb64FrFpK5MEWDpw3LF0VeQIL8mUxQMoE+LyoqQlFR0VWPVXaRyM+f7pn0/UxasGxtke853WfTvdtnwUxzR8oBFZGvrp7eJcHn6ZPWYab34gdtpgOXyd1zvZFKpWCz2dLK+l3NNUQ4uIUamD6h6ZPeRb6PPD80xvLycrS0tMw4Pnk/f9J6zISZ1vnTItO9rmYv8e8SZvJYXM05k5FpHDLD/yQvyafBTPTlRtGEz3KWMp1XDs54Z3ouMTee2EzWMX49VyJ4DCj3rMkM+1r2ufxe/Mx8muuv5v5XM1YeEsT3H7eUUd1Z/kMCD0+Knu49rub3TwP5uk86JzM9R76Wrwv/fbpnTLdu/P8yffws4+Xf+bR7bTrMJE8A6ePmgr+sdHNruOxl+KRnXu0euRq6zUHrKCsVmfb6dPecbq55eG4mHnij8JlKwGXa4MD1OZjXMp7p8HmNQUFBQWG2QrZIcWMJj0/MxEQBXGHlul3oNn9XbkTiuTyc6XNLeiaL6/VUbBVuXsjeD61We0X4iRz+wI0BV2N4vBVBygPv2TBTeNNnxTXfmVsG5GScVOpyDNInaTjXA7fTBlBQUFC41SHH/fJkMjlRlDM57lomt+3tAO5J4vNC/JEsy8nk5eYLvAIDz/OQXdEKtxdoH8jWcZ4ACUzFJFOTGlkg5mdNjjO+VcE9MNwjy+XNG4FrFpJtNltay8RkcqpFaaaWggoKCgoKsw/EvCkmGUiPxyUBkDr5UZv7TK3VbwfIJe2oq6mcHEWWQBKK5SZWCrcvqI03KZo8OZt3vtVoNKK7J+0Lsi5nKkZwq4Nbz6mCmKxw3whc8wxSjWJejoXaPvNasgoKCgoKtz84o6bKIalUeldEbvnhSd5c+OOVHW4HZPK4TpfbQL+TEsFr5/Jr5OoVCrcPqGpEpuRCnjBHZRi5IEzCMe0VXsb0dgBXHPnPjZQ1P1O4hdVqRSKRgN/vF5n3ANKyMj+pGoKCgoKCwu0F3qkyNzdXGFBIQCRLKTXRoLJxvPrL7cg3UqkUQqEQ4vE47HY7fD5fmvJACXpUFcTv9yMUCk0rNCncfuAhSn6/P2NpSPLKUKtqKrVIJQDlChG3y36hmH2v1yvoi9FoTCvNer3xmdQLnU6H3t5evPfee2k1MOUs5ttlgRQUFBQUpge3FA8MDKC7u1tk4ct8gJh4V1cXduzYIcpZ3e48g1pPZxJ8SEjWarW4ePEiDhw4gKGhITE3CrMDPD59eHhYxOLyjpQUihGPx3Hy5EloNBoUFRWJUATgyqIKtzpoXiYmJtDT0yNqYVMC443AZxKSJycn8cc//hHvvPMOJiYmRD1HXj7rkxp9KCgoKCjcXqA6qfF4HEajEfn5+SIEj5h7MpmE2+3Gb37zG/zud78TIXy3I0jwNxqNMJvNogsq/Y0jlUohHA5j//79aGtrQzQaFc2MFGYPdDodnE4nJicnEQqFxL4wm80iTjkajWJgYAC/+tWv0hI9eYWUG53Y9nmCKnxkZ2eLRmAFBQU4deoUVq6Yd0Oeec1CstFoRCwWg9/vF9oKdV8BoARkBQUFhVkEin3kzUOAKUadm5sr/sY/12g0onWuRqOBxWJBLBZLa+97q4M6OYbDYUSjUUSjUeFCJ+GZuk0CEM0iqEMp7xxHsaVKYL59QXuCmmTEYjEYjUYRVkGhNzycgoRo3nkRuL0qf/Ea7OPj44I+WCwWVFZW3rjnppLua5rFV7ftSitTQgSSJxTcLkROQUFBQWFmEOOW67Lq9XoUFBSgpaVFxA4Gg0Hs2rVLVHeg68nCLJfAupVBJbh4rWiedLRhwwbk5uaKeOUTJ05gZGREVDDgPHW6pkYKtw94OTeK49dqtSgsLMSKFStE3P6FCxfQ2dkJj8eTdi1P8rydao7zMCz+fvn5+WhubkZR4Y0pF3nNQnIKudd7LAoKCgoKCgoKCgqfChp4b8h9b586OwoKCgoKCgoKCgrXCUpIVlBQUFBQUFBQUJCghGQFBQUFBQUFBQUFCUpIVlBQUFBQUFBQUJCghGQFBQUFBQUFBQUFCUpIVlBQUFBQUFBQUJCghGQFBQUFBQUFBQUFCUpIVlBQUFBQUFBQUJBwzW2pFRRuN0QiEej1eni9XrhcLtjtdmi1Wmi1WlitVuTmTjXQicfjovNVIpGAwWBAKpUSXYB0Ot0V96YuYslkEnq9HqlUSlzLuyJRZyTeWYs6LykozCbQeUgmk6KFNT8jGo0GIyMj8Hq9MBgMouNrdnY2srOzYTAYAEB0ruPXU4tb+iwej4szRucxFouJ80nj4Nfw7yqkI5lMIhqNwmg04uLFiwgEArBYLGL+8vLyYLFYxNzzbr2cPhL9pXXjLZd5W2Z6JrUzN5lMot25yWT6/CfgJgfNk9E41aXu3LlzmJycRFZWFqxWK0pKSsTfEokE4vG4mEe+Thx8jTKdDzqHtGa8MyBfx5sNSkhWmPUg4koHu7OzE9u2bYPNZoNer4fRaITD4UBVVRWamprgdDqRlZWVJhhzcGJB/6fnTNdulzNwziAUFGY7iNHyM0IK5sjICNra2mS7EYYAACAASURBVNDT0wOz2YxIJAKHw4HS0lJUVFRg5cqVn3jPTJ/T7yQYE0jAln9XuIxEIpEmyH744Yc4fPgwLBaLoKfFxcWoq6tDXV0dnE4ngOlbJ8ttzmldZIWH/kZIJpPi/9QSnJSt2Qb5nZPJJGKxGFKpFMbGxrBjxw50dXVBr9fDZDKhrKwMxcXFmD9/PmprawFA8CSuJH7Sc6ZTJjmvu9nXQwnJCrMeqVQK0WgUFosFANDR0YH/+Z//QXFxMbKzs4XG7HQ68dhjj+Hhhx+G2WxO05p5X3lgSmsmCzN9jxNo+j8REU5MkskkIpEItFotjEbjFRq7gsJsgHymOMibMzk5iUOHDuH1119HfX09otEotFotTCYTampqUFVVhcLCwoxniJTcVCoFvV5/hYBsNBoRiUSE90en0wlrGH1H4UqQ5dFisSCRSGDv3r3Ytm0bCgoKkJ2dLYSspqYmPProo3jooYfS1prTU64Y0RqSxT+RSKRZ93U6nbA80/+JnpJASJ/PNsgeGJqjUCiE06dP45133kFPTw/y8vIQCAQQjUaRl5eHxx9/HE899RScTiei0ShMJpOw9MsKJIGEafoOPY/mnfO8mc74zQJlqlKY9dBqtbDZbNBoNAgGgwiHw6ipqcGPf/xjvPfee/j1r3+Nr33ta9BoNPjNb36DgYEBxGIxAOkHPhqNXvE5txwTsYjH44jFYkIYJqZCBMVgMMBgMCCZTAqLjILCbIVsRSTBKRqNYmJiAjqdDvfccw+2bduGPXv24Cc/+QmWLVuGw4cP480338TIyMgVlq94PI54PI5oNIpIJCLuSYIXIRKJIBAIIBwOA8AVwrTClTAajSKUwufzIR6PY926dfjlL3+JDz/8EC+88ALuvfdeDA0N4a233oLf7xdzzukm0cZEIiFCJwharRYGg0EYEWhNkskkQqEQEolEmqBNdHU2eucopCUajSIajQqlz2KxCEXG6/Vi06ZN2L17N3bu3In/+I//QHFxMbZv345f/OIXmJiYENZ44HI4DXlHiYfFYjEx//QZKSuJRALhcFgYgHQ6nbj+ZoYyUSnMenACm5WVBbPZDJ1Oh7y8POj1elRWVuL++++HTqfDd7/7XYyMjKC8vBw2mw1ZWVlXxBSTFQq4bO1IJBLQ6/XCOkzPNZlMaS5Bir80Go1C21dQmI2gc0NngpitVqsV4U50RgwGA3JycmCxWNDY2Ii1a9fi7Nmz+OCDD7BhwwaUlZWlWSW58kqxy1yQpt8prIPiMW8F9/DNAFI4rFYrjEYjTCaTsCI3NjZCr9cjFArh4MGD8Hq9ad8loZZb+cnrRsIvPUP2EGi1WhH7TN9JpVJpNHc2glty+RxotVpkZ2cjKytL8B2Hw4G77roLiUQCr7zyCjo6OpCTk5NmhaffyaOj1WrFWtAZlc8KWfoJPHzjZsbsU6sUFKYBD4kgC248HofRaERpaSmqqqrg8/mu0KhJyyYLMBH5QCCAVColkoqIIBABiUajCAQCaS4pAMIaTcxBQWG2Q45LJaFZr9eL80UudbvdjoqKClRVVWFychKRSASxWAyxWAyJRAI+nw8AxLVarRaxWEyEVtD5j0QiMJlMMJlM4rpoNKoE5asEWXu5UhKLxWCxWFBVVQWn0yloJDAlXMViMfj9fgBTFmkSrFKpFCYnJ9M8d8lkEuFwWChToVBI0FN6PtFZuj+Pl54toHfmoQ3cS8nj/MnKnJeXh6qqKlitVkxMTCAej4vryCLNBWY5AZYEZ66skNeG7kVJmMqSrKBwk4MTaX7YY7GYICqhUAh+vz/NMmIwGBAIBNDe3o7m5mbk5ubCYDAgkUggEAjg7NmzqKioQFFREWKxGMbHx+F2u5FKpRCJRDAxMQGfz4fS0lKUlZUhNzcXer1euIJJsJ4uSUJB4XYGjzMlyKFLciJRKpVCOByG1+uF3+9HUVGRcOtGo1F4vV54PB7U1tbCaDSKs9jb2wudTofCwkLY7XYEg0F0d3cLdzSdXafTiaKiIhQVFcFqtX4h83Kzg9aChCiKCSarYzKZhN/vF3kgZKnX6XRwuVy4ePEiFixYgKysLGi1WkSjUYyPj+P8+fNYtGgRzGYzEokEJicn0dvbi5ycHITDYXg8HoRCIRQUFKCkpAR5eXlpcbAzJZzd7pC9JFwwJYGZJ9PF43EMDw9Do9GgpKQkLaRiaGgI4XAYTU1N4nwGAgGMj48jFAqhtrYWOp1OnDV6xoULFxAKhZCTk4OKigqUlpaKPXEzG4OUkKygAKQlIZDFw+12Y2JiAn6/H2fOnMHhw4dRV1cHu90uiPrY2Bhee+01ZGVlYf78+cjOzkY4HEZvby927NiBjRs3wul0wu/34/jx42htbYVer0c0GoXL5YLf70dZWRnWr1+PJUuWiCQjipMkwq4sVwqzDZlKfBET5wJYNBqFz+eD3+9HLBZDf38/WltbcerUKXzjG98Qyuf4+DiOHDmCsbExFBQUwGw2I5lMYnJyEnv37oXD4cCSJUtgs9kwOTmJN954AzabDbFYDC6XCy6XC8XFxZg7dy42btyIpqamL2pqbmrIycikuHg8HkxOTiIYDOLgwYMYGBjAnDlzkJWVJQTirq4u7Nu3Dw6HAxUVFSI588yZM3jvvfdQU1Mjqph0d3fjlVdeQUVFBYLBIIaGhuDz+VBcXIyVK1di2bJlKCoqEqEWAGal0YG8LgT5/YnPhMNhuN1uJBIJeDwe7N+/H4lEAqtWrYLRaEQ8HofX68XBgwcxPj4uhGQAcLlcaG9vx+joKEpKSmAwGNDd3Y22tjaR8Nfe3g6Px4Pi4mIsWrQImzZtQlZWVtr63IxQQrKCAi7H0JGWHQqFcODAAbS3t6O/vx/Hjx+H3+/H3/3d36G0tFS4d10uF7Zv344lS5agoqICZrMZHo8Hx44dwyuvvIKCggLMmzcPIyMj2Lt3L1588UVUV1ejsrJSuAE//PBDUd+1sLBQaOfcPXizExIFhRsNXq+YWwjD4TD6+/vxq1/9CtFoFN3d3ejt7UV+fj42b96MgoIC6HQ6uN1uHDlyBC6XC6tWrUJubq5g/Pv27cOcOXNQWVmJ6upq+Hw+/PjHP4bD4cDChQtRVFQErVaLDz74ALt27UJ2djYaGxuV8joNuDtfo9FgdHQUu3btwv79+9HZ2Yn29naUl5fjG9/4BiwWCzQaDSKRCM6ePYv3338fa9asQUFBATQaDTweD06fPo3XX38dTz/9NPLz8zE+Po729nb89Kc/xfLly+F0OmEwGBCJRNDV1YWxsTHk5+ejoKAgLW55NibuyXuU153m3+no6MBPf/pTDA4OwuVyob+/H6tWrcLChQtFmdSJiQkcOnQIfX19+OY3vwmDwYB4PI7BwUEcPHgQ/f392Lx5M+x2O86ePYutW7eir68Pa9euFd7ZM2fO4NChQ3A6nbjzzjtht9s/7yn5VFBCsoICkFbeyWAwIBwOY8eOHfD7/SgvL8fGjRuxdu1aLFu2DE6nM00zHxsbE5Zfg8EAq9WK4uJihEIhaDQaWCwWmEwmweCXL1+OzZs3w+FwIJFI4Ec/+hE8Hg8GBwfTGhgAs5OoKygAEBn5ZGWcDtFoFH19fXjxxRdhNpuxePFiPPPMM1i6dCny8/NF5RiyOA8PD4scAopLHhsbQ15enoiXpGfX1dVh8+bNWL58OQKBAI4dO4Zf/epXuHDhAgYGBlBRUfF5TcctA17FR6fTwWAwYGhoCG+//TYCgQAaGhrw7LPPYvXq1WhubhbJyzqdDtFoFB6PR7jhKRRDo9FgcHBQ3JNyRyKRCBYvXoz77rsP5eXlGBwcxMsvv4zh4WFcuHABDQ0NyM/PB4ArKl7MFlA8Pu117qEEIBJgz507B7fbjUAggGXLluHb3/42li1bhurqahgMBhG2FAwGEQqFRAMYivUn/kYhh5FIBKlUCgUFBXjmmWdQUlKCcDiMtrY2/PKXv8Tg4KCoGnMzQ3FghVkPIho8xtFut2P9+vWwWCzw+XxwOBxYs2YNCgsLYTQaBeGhhASqH8kJcCKREEyCrMPl5eVoaWnBwoUL0dDQgIaGBtTX14syPES4yPpxsyc1KCjcKGg0moz1i6nSAYUhZWVlobS0FGvXrhXlp2pra3HHHXek1TIHIAQx3qwnFovBZrOJJD6iBWazGUuWLMEdd9yB2tpaNDU1YePGjbBarfD7/QgEAl/IvNzs4HVxaT5LS0uxePFiQedqa2uxePFiOBwOaLVahMNhocwkk0lYLBZxPf0bDofFegKXO7gtX74cS5YsQUNDA5qamrBs2TKMjIwIBYtibHnC9WxCpth++pzHIdfV1WHJkiVwu93QarVobGxEQ0ODCDmiOSTBOBQKIRaLiQRafp5obfLz87Fq1Sq0tLSgqakJCxYsQGNjIxwOB8bHx5WQrKBwK4FXtrBarbj//vvx0EMPwWw2o6enBy6XS2jLvHsej/miz6nFNWnfVBuypKQEhYWFIvkEAPLy8kQNSSI0lODCSx4pKMwm6HQ6mEymNObOy4PR+TObzZg3bx6++c1voqGhAV6vF319faIWOZ1DskzSdSQkkPeGqikQtFotKisr4XA4hMBeVlYmqirMtioJnxY0l/F4HGVlZXjggQfw4IMPwufzobe3F+Pj42lhbiTA8hq6nN6S5TIajaa1OK6pqUFOTg6AqYoYFRUV8Hg8Ym/MdpCQTPwtkzU9kUigubkZX/3qV9HQ0IChoSFcuHBBlOejNeCNSHgVEfqcEs/p/larFfX19bBarcLTarPZYLfb4fP5RCWnmxlKSFaY9ZCzesmiAQBPPvkk5s6di+PHj+PNN98Umdq8diol2vHyUFTLVafTiYYEFEvJmbxGoxGlcbh1i5gHoEIuFGYnuIBEjJoLU7xursPhwKJFi3DvvffC7/dj586d6O7uFu5lbn3kibDE2MfGxsSZp2cGAoG0M6jX66HX6xEOh5WQPAM4PeWu+KKiInz729+G3W7Hnj178Je//EVUTDCbzcIaqdVqEQwGxVrF43GEw2FkZWUhHo8LWmq1WtPoLK1zLBYTZcoyNRWZbUYHsvwSuJEHuByzbLVa0dzcjC1btuDChQt47733cOLECcTjcZFcaTQaBe+z2+0i+ZXClIxGo2jwkkgkEAwGEQwG07yqcsnFmx2K+yrMevCSROFwGEajEQUFBZicnITT6cSmTZtQWVmJN954A8eOHRPCLDHvaDQKm80mithTkXsSuE0mE3JzcwFAEAau2RORIaEZSBcQFBRmI8gDEwgEEAqFRIcvsjTyH/ruN77xDWzYsAGdnZ340Y9+hMnJSXG+3W43gsEg7Ha7sCgDEC55CsWIRCJprY/D4TCCwWBa1zcSBhSuRCwWQyAQQDweF/NttVoRjUZRUVGBZ599FoFAAO+++y66urqEsYHTwby8vLTPyRqaTCZhs9mQnZ0tBDHgcgdFatBkMpmE8EyVim4Voex6w2AwwGw2C14TCAQwMTGBYDAo5osa6hQUFODxxx/H2rVrcerUKRw6dEiEudCaykI3eWBIqaFGMYlEAiaTKc3zQmsci8VuGePPrTFKBYUbCIo/JGJCDUKoFurSpUtx9913w2Kx4Ac/+AHOnDmDSCQCg8GA7OxsVFZWoqOjA319faJByMGDB5GdnS1K5xCBojhmjkyuXh7PNxvj6BQUKMTBaDQKKxY/I8Ss/X4/PB6PcOXeddddWLhwIfbv34/f/va3GB4ehtlsRmlpKcrLy3Ho0CEMDAwIz4/X68XZs2dFDWRKsgUAk8kEs9mcJkjQs8l6ppAOvV4vLMM2m03ErjqdTpjNZtx9991Ys2YNXC4XfvrTn2J0dFRU8HE4HLDZbPjggw8wNjaGRCKB0dFRdHV1obKyUiTxkUWZwGPUyVJJz9Xr9cjJyUkTFGcTON/RaDQwm82w2+2idThv8EFztWnTJuTn52Pfvn3Ytm2bmNeioiIUFhbC5/Nh586dCAaD8Pv96Ovrw8WLF0VXxaysLNFIhs4weQkMBoNIxr0VrPqquoWCAiAIK2/gYTAYEIvFkJ+fjzVr1uDixYv43//9X7S2tsJut6OyshJ5eXl45JFHcPjwYQSDQcyZMwfj4+P44IMP0NzcjMrKSqFJGwwGUe6GsrcDgYAQ0o1GY1rXI7nlqoLCbAJPAOMZ+XL7d6vVmiYwz5s3Dxs2bEBXVxf27t2LhQsXIjs7G6WlpViyZAnMZjO2b9+OkydPIpFIoK+vDzabDfX19aIEI4HHX1JreaINypKcGbRO1LGQPqPQs7KyMtx3330YGxvD4cOH0draiuXLlyM/Px81NTVobm7GG2+8gYmJCWRnZ+P8+fM4f/487r33XuTn5yMajWJiYgLhcBgOh0OExVC1CzJ2kLcvlUqJcdwKMbDXGzyOGECalzMSiYhcGFI+UqkUli1bhpMnT2LXrl3YvXs31q5di8rKSuTk5KCurg6tra144YUXcPr0aUSjUZw8eRIajQYbN268IuGSDFD0zFAodEvV/ldcWEEBl+MbdTod8vPz0djYCKvVKg5zbW0tHnzwQXR2diIYDMLn8yEej8PhcOCJJ57ACy+8gN7eXpw/fx6BQABOpxNf+tKXUFNTI2KxqqurkUqlRH1WShJ0Op2oqKiAw+EAcDlmTCZuCgqzCXQOSEgm4ZifjezsbFRVVQnhJx6PIzc3F8uXL8f4+DjOnj2LUCiEcDiM/Px8NDc34+GHH8bg4CD6+/tFW+THH38czc3NsNvtomzjsmXLRHMfUl51Oh2amppQWVmJrKysL3iGbl5QLLHRaBTCVVZWlii9t3jxYoyOjiKZTMLlcqVVJbn33ntx/vx5dHR0wO/3I5VKoba2Fvfddx8cDocIjSktLRWNLvieKCgoQE1NjaicwRWc2UhLyehDoUr0O1mXHQ4HGhoaUFpaKpQKp9OJDRs2IBKJYHh4GL29vaisrITRaERLSwvWrVuH999/H/v27UM0GhVrevfdd4sQi/z8fMybNw/FxcWi5XgsFoPJZEJVVRXKy8tviTOkSSXd1+TLTSH3eo9FQeELBdXgPH36NDo6OvDggw/CYrGkCbQ9PT3w+/2oqKhAYWGh6D9/+vRp9Pb24sKFC0ilUnjooYdgt9ths9lgMpkQDocxODiI4eFhVFdXw263IxwOIy8vD52dnThz5gyKi4uxevXqtLahctcxBYXZArJ0GQwGEepAJajI7X769Gn09PTAarXizjvvhF6vh9/vF2e5u7sb2dnZcDqdsFqtCIfDGBkZQVdXF/r6+hAKhVBeXo4HH3wwLZzC5/Phgw8+QGNjI0pKSkQLa2oootVqUVVVhbKysi9qem5qkNFBr9djz549SCQSWL16NSwWi/Cq+Xw+DAwMIBAIoKmpCTabDcDU3Hd2duLChQvo7+9HWVkZVq9eLdqGk6A7MTGBPXv24J577hFWfbPZjFgshv/8z//Exo0bsWLFCsTjcfj9ftjt9pu6/fGNAvETWg+qYZ1MJoWFnRrkLFu2TNQUD4VCIpTJ6/Vi+fLloiqT2+1GZ2cnjh8/jmQyieLiYjQ2NqKlpQXAVO7NyMgIhoeHodVqRZlTo9Eo6o3n5uaivr5eVCb5rNDAe13uc8V9r1VIVlBQUFBQUFBQULhdoUxUCgoKCgoKCgoKChKUkKygoKCgoKCgoKAgQQnJCgoKCgoKCgoKChKUkKygoKCgoKCgoKAgQQnJCgoKCgoKCgoKChKUkKygoKCgoKCgoKAgQQnJCgoKCgoKCgoKChKUkKygoKCgoKCgoKAgQQnJCgoKCgoKCgoKChKUkKygoKCgoKCgoKAgQQnJCgoKCgoKCgoKChKUkKygoKCgoKCgoKAgQQnJCgoKCgoKCgoKChKUkKygoKCgoKCgoKAgQQnJCgoKCgoKCgoKChKUkKygoKCgoKCgoKAgQX9NV2nyrv2JKc+1X6ugoKCgoKCgoKDwOeDTCcmfRTie7h5KaFZQUFBQUFBQULjJcPXhFtdDQJ7uvjfq3goKCgoKCgoKCgrXgKuzJH8eQiw9Y7Zalq92jmfr/CgoKCgoKCgofI7QpJLuVOa/fMHW3ZtFGPyi5yETbpa5UVBQUFBQUFC4TZHZknwzCIbXOoaU59quzSR43gzzoKCgoKCgoKCg8LnjypjkW10wvF7Jhbf6PHxKDL38N9BoHdBoHXjs5ZEvejifK/i7a75/6IsezueIEbz0V5feW/s3eGngix7PJQxsw2M3ZD1u0vdV+MIwe8++goLC1UDVSZZx2wjHXCCY+eexl0dQ/OSvker/Ob6Ch/HY2sIvevCfK4qf/DVSyR34AYAf3LPsix7O54hCPPWKG63/DuCrD+Pu8i96PADafghN5XY81u9GqvW7wPf248B1u/lN+L4KXyhm79lXUFC4GighmXArWY+vZqwD+/Haq99Fa9KNVNItGAG++nO4xGdutP77ZaF46IPteH2WCg9DL/8//Cu+i7tXzvQtUjxuoBWybdtnvjdZx67OIzCCng7gK5vXofizPXZaHHh5G4auanyH8Pzq5/GVrf8XT5UDWPlPcG09gdXX1btxNe97CM9rHdBof3gdBXSFmxW309lXUFC4vrgyce9WERQV0iHHVLdtw0vlj08JG8CUC7vyOWDrGbz25GVL8YGXt6H6ycdRjBG89FcN2LJgB1L/NtssKjfLux/C89r9uDv5T1j1eT3y0r5Y3OrGd2cUEq4RbT+EZue6q5rXoZf/BiVbWtB6I9//Rr+vwi2GWXz2FRQUPhHKkny7YiUTkHHJSpwhlGLVk49PWdQG9uO1V2+Qy7Hth1eEeDzfdv0fc824ke9+1RjBS391H/7139d9rkxyal98khXtGjGwDY+tfv7q5nVgG761ZTtwg9//hr7vdUemkKlZFkvd9sMba9GfxWdfQUHhk6GE5FmBEez+4/YZ4zBl4eHA9y8x5b9Kd5UDSE+suoqEl6GeE2lhHq3/Dvzr6s/JlS0J6Bnd9gN9l96d3Oyyqz1dWMkk4Iv5mlaQkQQeNmdT1zZgy6sAvncfm3N2zV9twxBGcKBthrCDtHXJPL98nM+3XdoXMnOebn2nuf+Ve+XSPFY+h9cB/OvqS/Oe6Xpan0vfFe//ie8iC5Cf4X2n+T7tlUyf8Xe5WoVPThKbuu9M56APPa8CP2i9HB7l2gpsqZw9YSBTtGMOqq/l4lv67CsoKNwMUELybMAla8n0cZhceJgi6LvvuZQ49ep27GZE/8D3HZcTq5KUXPX/ZrRu9XRtT3v2qnu+e/3ebVpcYkyrT2ArjbX/58CWhisY3YGdzwNfPYH/0u7H3Ze+9xU8j/8STHUq4cu19WFAtkJeEpZWY8clQeYMtn51O7b8L1Mc2n4IjbYBr20+c/k7HZfnbNW/Xb53a9KN1CtT1v0D32/AFlxSLn4IfEvbgN2YIamy/HG8ljyDrV/FtILv5XG6cffOKebMrWgzrm/543jtkpIz815Zhu+KcUw977UnCzOPb+U/XRL+pPef6V2umM8d+EHael39+8pY9W+X3oV5XVb9mzs9qbXth9D8E/DCpfH9685PqoowNU9ToSSXhN26/fivjgzvlrZmfTiCh1HNFNvi6hYAJ9AzS6zJPV3bgQVzPmW8/K1/9hUUFG4OKCF5FmDKSgwsrp5OwLpksbpnGQ58//8AP5yK1zyw83kALYJJD738N1j9vYextf/XIpRjqOdE2neuxFSiFH92unVoiqGlMS/uYh3Yhse0f4OXBril55Otdwe+34Atr6aPFeXr8NgVQs0h7P4eADyMFyge8NL3Xu/qS3uPK62Qh/B85XN4/d95POPUXH6lbs7ld1n9PH7Q6hax4EMv/x9seZXP2SdbOFH+OF7Y+t0Z5vkSMrmPL8Xhpo8TqK5LZ/xXt75T8/VJe2VaN3bGz8nTIVkMp3uX1c////bOn7WNJAzjj819ghQhAWOjLsVVgQOf4VwYTCpBkGOOnAkmBNxcGuNLZYdgbFUXkSqNIBzhkF3YEgFVwZDCAVlgcBFSpDAIGYGNi9w3iK6Y2Z0/O7O7smxLlp4fbGHNenZmdmbn2XfedxY53be+1cQRtD6Wsr4+hHAyV13CoFbsYm5vWoiZ4OUzuNdOpM8rijjV/E3vZIBK0jJ/q4mKNbYi98O2+huWSjG25rbPY7Y6c7l0+C2pZnq3+R8iP7qIrZbPWiueHZuzE4nWXJ2BG/uEkJ5BkTzwyIdwnDio72MNq8g0FvFpNphY5AQSPLylz2i484Dx25MYa9g+yjuaNaxewN2FKjaXdV/obFQIGIKpioXxB0BNc9eIs97VC5h6BbOsAIJJLFr3LEqFBAuOQ7AdbDzAGlZRexn97a/HtxHs1oD1j0aQmNh2Sg/QUS8pOr8+LSK3s4Q/pVXrzuMVqz5Roj6359haWUJlvohTKzCpcVzt/P6m6SuAtoydVD5Vf3ulI64ub8PgU/Xbs8kO6utF1MUsixhDuYfAuxXgrczX5+dv1Hf7hRBszv6VjX3pOWt8McsbjJ2a7Dv1AkZkEKKyZDpE+4cXuHv8PLSo5sKVn0PkR2XQWujOkdXGXlJ6l/nLl5vyyj00llX62hvpciDH3NqUSh+WsU8I6Q8okgcd+YCP9cPcywPIo4y/1QO9vo81qIf3wT9LmiCQlh85Qeu7ZUSv30QFVSyMS0uQXAINr+OwlhlLrK0mKhB+mWl3IxD1CSYrsyxHMEWEy2oIh4UwIthau3itC0Pp/zj1VbMYWm3oRU7WEcE09gjl2ioqjmViNw6rVP1f4WKwbAkBWf5O72+avhKeF/El9VjNZP1NsemvSyBghfVSirBgmTplfb24yiL7Q2WhiZlwOTzZzx84xDv7xcNon/jtFhvHVeGnGlhgp4Daj2AcnGPrjbCoq3EhBJdatRF/V5CNvDAAcusz62VCH3tJ6d3mHzwb7i97xvYwj31CSF9AkTzoBBONHs1+NAAABUZJREFU92EtrYCGdU5NNjNyQm58BRCKXWXZSZq8jKC9kyJyznRdTKnlfP3/n2nWRLEE66uPLKsj2McUgupaPgumPtFGrJCyXUMR82ZC1FHzKRRL4xdb3g+ZXBHWtTSBji6L117eaj8gtLaGk3Pa+5umr6jzIj7wHheMOLGinyvaE6gs3MPI6C1lvXzZaX39eF0tAGXB1coXu9+yU/xDWTtj92qW/VwL2jMskHIFxshbWvlntBfQI1gvDGOPUP7xHn+MBdZxvQz62EtK7zZ/19g28Y19v3vLgI19QkjPoUgeaIS1KdnVwl5ydCyfA8YOFauaVWUrxsppWI7GpjE3X0X587mRrk9UYmN/JWbsdGG9SmF5sYN9pDDB+nNl1XOKGGH9MwRRMKE6JudQxGgTZPDxjMZx1V22ekGzDDsmayMduPNbFjnk8SnBmuxyTxDi1+Rg4wXKQHRyTrq/afuKRxy6XS3ixUq032ZVMFYojs+xtX3YeX0j+F0t7GXzVK4WTn99uQyf9GVLhxuSmW6vwMixrgtEj8uLwLY622MvKb3b/F1Beaaw9o39xC+C3uSxTwjpKyiSBxm59JzoamGLh0AMPQXyG4cAbmPmYRbYWcI7TaidbS9iZLyJjNdaYlt+RD6VD/vhFme6qBEfk6hCCQsxiRgBh/V9rMUGCsqy6jtuyGAvWIFcwlKl1b21i7nRBzgylrDhnlAnp7EJKP9JiPLmR2/hNcSkJ3bxyGNKC2Q6217EyN605aog8j7YENbis8YXM99WM4UVVAt+qxfkdle3kfkZwE4TDXnWwcYtfJp9jvs7ED62Hdxff18BNmeDvqKfdxj+5i6fp20954qXBWv3gNYu5kbvoZH5pYP6epB1uZ8Btn4PAkfjAg2zyHwuJOxbrL3ctHYxN7oPBJ/FbsV8Yc3hhmQwNoFcuMuFDA7cgSEQIz7NBhPIzANHDdG20bGXlN5t/tEVoWA3l7fSp3cYxz4hpM9o//jeNg5y87Dv4UmxnQPasI5c6Zt17rd2aT76+2kpK/9ntV2zzo3Pzz4+tjeRbZdO7LKp39S10MZ8sX16Umznguta54bnzxfbp7HX/d6uretltcrgrZP7vNo63NesrVptrLeXo36uNtPy2KzJ65WCdkgqv93W8vz1j96+IK4RnNvJ/U3fV1Tb6/m7y+duW09dHO0Z+d/U9Y0eKm+tvWurjv9T5YsfA1abyrKG7WPVLVKWhH6u9/Fc6Zv4nzBP9/3y9l977DnSa0aZus1fu8fefjt8Y58HDx79dfCz1IOA/UlqcokcIi8tTLEBiuQCCAto+SHbtv+55HtVL8hAxH7+DDPHPiHDTtTdgoLrZsH7dbXIYKhItDzpntY+yjCDAEmfUC+YX3+r/4uFNP7AKenqS3rXBcc+IUOP2ye5/Z86hgG9vsNWd2KhPpAQBFmZgTzk4lhtO17FXNIetaQ3TD5BCUu4O6pv3fg+cZ/utESD8voBjn1CiEnU3SLVf12zS4ZPsF5WOboVxL1yUaGQvwK0IChkL1UYEBFIN/UKEJ/hpQAh/QTHPiHEpP9FcidC8KLl6rVI1q+fNi8KZEIIIYSQK+OnXhfAy3WJwF6KzYtcm+KYEEIIIeTK6c99km+aQKZwJYQQQggZKPrHknzdQvOyr0fBTQghhBAyMPReJN90cUwIIYQQQgaOiwXuEUIIIYQQMsD0p08yIYQQQgghPYQimRBCCCGEEAuKZEIIIYQQQiwokgkhhBBCCLGgSCaEEEIIIcSCIpkQQgghhBALimRCCCGEEEIsKJIJIYQQQgix+B/YprutO1FtBAAAAABJRU5ErkJggg==)"
      ],
      "metadata": {
        "id": "PlLAs4qi_2tL"
      }
    },
    {
      "cell_type": "markdown",
      "source": [
        "The text in a Word document is more than just a string. It has font, size, color, and other styling information associated with it. A style in Word is a collection of these attributes. A Run object is a contiguous run of text with the same style. A new Run object is needed whenever the text style changes."
      ],
      "metadata": {
        "id": "BEse4MTj_1o7"
      }
    },
    {
      "cell_type": "markdown",
      "source": [
        "But, we can manipulate these word documents in python using the python-docx module. Pip command to install this module is:\n",
        "\n",
        "\n",
        "```\n",
        "# This is formatted as code\n",
        "pip install python-docx\n",
        "```\n",
        "\n",
        "Python docx module allows user to manipulate docs by either manipulating the existing one or creating a new empty document and manipulating it. It is a powerful tool as it helps you to manipulate the document to a very large extend.\n",
        "\n"
      ],
      "metadata": {
        "id": "lIzJZ4Yl-4P_"
      }
    },
    {
      "cell_type": "markdown",
      "source": [
        "**7. How do you obtain a list of Paragraph objects for a Document object that’s stored in a variable named doc?**"
      ],
      "metadata": {
        "id": "b3D0TBL2AaK6"
      }
    },
    {
      "cell_type": "code",
      "source": [
        "!pip install python-docx"
      ],
      "metadata": {
        "colab": {
          "base_uri": "https://localhost:8080/"
        },
        "id": "cpEmtoMtA7-m",
        "outputId": "92279a7f-84c3-4736-bc68-a0163285abb5"
      },
      "execution_count": 37,
      "outputs": [
        {
          "output_type": "stream",
          "name": "stdout",
          "text": [
            "Collecting python-docx\n",
            "  Downloading python-docx-0.8.11.tar.gz (5.6 MB)\n",
            "\u001b[K     |████████████████████████████████| 5.6 MB 5.3 MB/s \n",
            "\u001b[?25hRequirement already satisfied: lxml>=2.3.2 in /usr/local/lib/python3.7/dist-packages (from python-docx) (4.2.6)\n",
            "Building wheels for collected packages: python-docx\n",
            "  Building wheel for python-docx (setup.py) ... \u001b[?25l\u001b[?25hdone\n",
            "  Created wheel for python-docx: filename=python_docx-0.8.11-py3-none-any.whl size=184508 sha256=8d18f5887f3653b4b909aecf92128ca33288ee031c544ca0f9281638837866f4\n",
            "  Stored in directory: /root/.cache/pip/wheels/f6/6f/b9/d798122a8b55b74ad30b5f52b01482169b445fbb84a11797a6\n",
            "Successfully built python-docx\n",
            "Installing collected packages: python-docx\n",
            "Successfully installed python-docx-0.8.11\n"
          ]
        }
      ]
    },
    {
      "cell_type": "code",
      "source": [
        "import docx\n",
        "doc=docx.Document(\"/content/Assignment_12.docx\")\n",
        "len(doc.paragraphs)"
      ],
      "metadata": {
        "colab": {
          "base_uri": "https://localhost:8080/"
        },
        "id": "BteV_VVgAhM2",
        "outputId": "054f1219-5ce6-443c-e037-516e45b60b20"
      },
      "execution_count": 39,
      "outputs": [
        {
          "output_type": "execute_result",
          "data": {
            "text/plain": [
              "13"
            ]
          },
          "metadata": {},
          "execution_count": 39
        }
      ]
    },
    {
      "cell_type": "markdown",
      "source": [
        "**8. What type of object has bold, underline, italic, strike, and outline variables?**"
      ],
      "metadata": {
        "id": "seGaEqgFBWwi"
      }
    },
    {
      "cell_type": "code",
      "source": [
        "import docx\n",
        "doc=docx.Document(\"/content/Assignment_12.docx\")\n",
        "len(doc.paragraphs)"
      ],
      "metadata": {
        "colab": {
          "base_uri": "https://localhost:8080/"
        },
        "id": "IhyqrfXYBYBV",
        "outputId": "7fed866e-b2f2-4abb-9161-14a08cfd8c53"
      },
      "execution_count": 83,
      "outputs": [
        {
          "output_type": "execute_result",
          "data": {
            "text/plain": [
              "13"
            ]
          },
          "metadata": {},
          "execution_count": 83
        }
      ]
    },
    {
      "cell_type": "code",
      "source": [
        "for i in range(13):\n",
        "  print(f\"para[{i}] : {doc.paragraphs[i].text}\")"
      ],
      "metadata": {
        "colab": {
          "base_uri": "https://localhost:8080/"
        },
        "id": "VPZtNWuiZbOV",
        "outputId": "fbe609be-c1f4-4d72-ce5c-45f1e800d72d"
      },
      "execution_count": 84,
      "outputs": [
        {
          "output_type": "stream",
          "name": "stdout",
          "text": [
            "para[0] : 1. In what modes should the PdfFileReader() and PdfFileWriter() File objects will be opened?\n",
            "para[1] : 2. From a PdfFileReader object, how do you get a Page object for page 5?\n",
            "para[2] : 3. What PdfFileReader variable stores the number of pages in the PDF document?\n",
            "para[3] : 4. If a PdfFileReader object’s PDF is encrypted with the password swordfish, what must you do before you can obtain Page objects from it?\n",
            "para[4] : 5. What methods do you use to rotate a page?\n",
            "para[5] : 6. What is the difference between a Run object and a Paragraph object?\n",
            "para[6] : 7. How do you obtain a list of Paragraph objects for a Document object that’s stored in a variable named doc?\n",
            "para[7] : 8. What type of object has bold, underline, italic, strike, and outline variables?\n",
            "para[8] : 9. What is the difference between False, True, and None for the bold variable?\n",
            "para[9] : 10. How do you create a Document object for a new Word document?\n",
            "para[10] : 11. How do you add a paragraph with the text 'Hello, there!' to a Document object stored in a variable named doc?\n",
            "para[11] : 12. What integers represent the levels of headings available in Word documents?\n",
            "para[12] : \n"
          ]
        }
      ]
    },
    {
      "cell_type": "code",
      "source": [
        "doc.paragraphs[7].text"
      ],
      "metadata": {
        "colab": {
          "base_uri": "https://localhost:8080/",
          "height": 35
        },
        "id": "9Xp1BW9pZ1MP",
        "outputId": "6ab81c7c-765f-4b0d-dc39-a3778e744c4a"
      },
      "execution_count": 85,
      "outputs": [
        {
          "output_type": "execute_result",
          "data": {
            "application/vnd.google.colaboratory.intrinsic+json": {
              "type": "string"
            },
            "text/plain": [
              "'8. What type of object has bold, underline, italic, strike, and outline variables?'"
            ]
          },
          "metadata": {},
          "execution_count": 85
        }
      ]
    },
    {
      "cell_type": "code",
      "source": [
        "len(doc.paragraphs[7].runs)"
      ],
      "metadata": {
        "colab": {
          "base_uri": "https://localhost:8080/"
        },
        "id": "9oh55VU4Z4yg",
        "outputId": "5ef419ed-f8d6-45db-a0e2-98aa0ddad97d"
      },
      "execution_count": 86,
      "outputs": [
        {
          "output_type": "execute_result",
          "data": {
            "text/plain": [
              "11"
            ]
          },
          "metadata": {},
          "execution_count": 86
        }
      ]
    },
    {
      "cell_type": "code",
      "source": [
        "###Checking bold, underline and italic for each run\n",
        "for i in range(10):\n",
        "  print(f\"run[{i}] : {doc.paragraphs[7].runs[i].text} \\nBold : {doc.paragraphs[7].runs[i].bold} Italic : {doc.paragraphs[7].runs[i].italic} underline : {doc.paragraphs[7].runs[i].underline}\\n\")"
      ],
      "metadata": {
        "colab": {
          "base_uri": "https://localhost:8080/"
        },
        "id": "3HFvrxbmaNXr",
        "outputId": "638f1809-9bd7-4925-a0fa-421101ad56bb"
      },
      "execution_count": 87,
      "outputs": [
        {
          "output_type": "stream",
          "name": "stdout",
          "text": [
            "run[0] : 8. What type of object has  \n",
            "Bold : None Italic : None underline : None\n",
            "\n",
            "run[1] : bo \n",
            "Bold : True Italic : None underline : None\n",
            "\n",
            "run[2] : ld \n",
            "Bold : None Italic : None underline : None\n",
            "\n",
            "run[3] : ,  \n",
            "Bold : None Italic : None underline : None\n",
            "\n",
            "run[4] : underline \n",
            "Bold : None Italic : None underline : True\n",
            "\n",
            "run[5] : ,  \n",
            "Bold : None Italic : None underline : None\n",
            "\n",
            "run[6] : italic \n",
            "Bold : None Italic : True underline : None\n",
            "\n",
            "run[7] : ,  \n",
            "Bold : None Italic : None underline : None\n",
            "\n",
            "run[8] : strike \n",
            "Bold : None Italic : None underline : None\n",
            "\n",
            "run[9] : , and outli \n",
            "Bold : None Italic : None underline : None\n",
            "\n"
          ]
        }
      ]
    },
    {
      "cell_type": "code",
      "source": [
        "####To get the strike\n",
        "doc.paragraphs[7].runs[7].font.strike"
      ],
      "metadata": {
        "id": "TFPvDO5FdCtr"
      },
      "execution_count": 88,
      "outputs": []
    },
    {
      "cell_type": "code",
      "source": [
        "####To get the outline\n",
        "doc.paragraphs[7].runs[7].font.outline"
      ],
      "metadata": {
        "id": "RnzWoZrRhNVy"
      },
      "execution_count": 94,
      "outputs": []
    },
    {
      "cell_type": "markdown",
      "source": [
        "**9. What is the difference between False, True, and None for the bold variable?**"
      ],
      "metadata": {
        "id": "svSvCI1KeIpa"
      }
    },
    {
      "cell_type": "markdown",
      "source": [
        "To set the text to bold we have to set it True.\n",
        "\n",
        "False and None is to set text other than bold.\n",
        "By default, if text is not bold then it returns None.\n",
        "\n"
      ],
      "metadata": {
        "id": "0-mNFoKiftO6"
      }
    },
    {
      "cell_type": "code",
      "source": [
        "import docx\n",
        "\n",
        "# Create an instance of a word document\n",
        "doc = docx.Document()\n",
        "\n",
        "# Add a Title to the document\n",
        "doc.add_heading('Heading', 0)\n",
        "\n",
        "# Creating paragraph with some content\n",
        "para = doc.add_paragraph(\n",
        "\t'''It is a paragraph.''')\n",
        "\n",
        "# Adding more content to paragraph and Setting bold to true\n",
        "para.add_run(\n",
        "\t''' It contains well written, well thought and well-explained ''').bold = True ###set the bold to True\n",
        "\n",
        "# Adding more content to paragraph\n",
        "para.add_run('''computer science and programming articles, quizzes etc.''').bold=False\n",
        "\n",
        "# Adding more content to paragraph\n",
        "para.add_run(''' This is the last line.''').bold=None\n",
        "\n",
        "# Now save the document to a location\n",
        "doc.save('test.docx')\n"
      ],
      "metadata": {
        "id": "bpTQ0BezeNJV"
      },
      "execution_count": 97,
      "outputs": []
    },
    {
      "cell_type": "markdown",
      "source": [
        "output:\n",
        "\n",
        "![image.png](data:image/png;base64,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)"
      ],
      "metadata": {
        "id": "Kzz8IhNviwdl"
      }
    },
    {
      "cell_type": "code",
      "source": [
        "for i in range(4):\n",
        "  print(doc.paragraphs[1].runs[i].bold)"
      ],
      "metadata": {
        "colab": {
          "base_uri": "https://localhost:8080/"
        },
        "id": "w6EvaNtEmBqu",
        "outputId": "5c976aa7-8e5e-4253-9bee-f5fd6f5ac851"
      },
      "execution_count": 105,
      "outputs": [
        {
          "output_type": "stream",
          "name": "stdout",
          "text": [
            "None\n",
            "True\n",
            "False\n",
            "None\n"
          ]
        }
      ]
    },
    {
      "cell_type": "markdown",
      "source": [
        "**10. How do you create a Document object for a new Word document?**"
      ],
      "metadata": {
        "id": "4ypGATjXl8Ph"
      }
    },
    {
      "cell_type": "markdown",
      "source": [
        "by creating instance of Document"
      ],
      "metadata": {
        "id": "Qqzvrq8pnpg3"
      }
    },
    {
      "cell_type": "code",
      "source": [
        "import docx\n",
        "\n",
        "# Create an instance of a word document\n",
        "doc = docx.Document()\n",
        "\n",
        "# Add a Title to the document\n",
        "doc.add_heading('Heading', 0)\n",
        "\n",
        "# Creating paragraph with some content\n",
        "para = doc.add_paragraph('''It is a paragraph.''')\n",
        "\n",
        "# Now save the document to a location\n",
        "doc.save('test.docx')"
      ],
      "metadata": {
        "id": "qVaav3bnnmHD"
      },
      "execution_count": 106,
      "outputs": []
    },
    {
      "cell_type": "markdown",
      "source": [
        "**11. How do you add a paragraph with the text 'Hello, there!' to a Document object stored in a variable named doc?**"
      ],
      "metadata": {
        "id": "XqLL8tUvnzjQ"
      }
    },
    {
      "cell_type": "code",
      "source": [
        "import docx\n",
        "\n",
        "# Create an instance of a word document\n",
        "doc = docx.Document()\n",
        "\n",
        "# Add a Title to the document\n",
        "doc.add_heading('Heading', 0)\n",
        "\n",
        "# Creating paragraph with some content\n",
        "para = doc.add_paragraph('''It is a paragraph.''')\n",
        "\n",
        "para = doc.add_paragraph('''Hello, there!''')  ###Added the paragraph as per the question\n",
        "\n",
        "# Now save the document to a location\n",
        "doc.save('test.docx')"
      ],
      "metadata": {
        "id": "i9X_134Rn3A7"
      },
      "execution_count": 107,
      "outputs": []
    },
    {
      "cell_type": "markdown",
      "source": [
        "**12. What integers represent the levels of headings available in Word documents?**"
      ],
      "metadata": {
        "id": "p3nrgSBqoH_R"
      }
    },
    {
      "cell_type": "code",
      "source": [
        "import docx\n",
        "\n",
        "# Create an instance of a word document\n",
        "doc = docx.Document()\n",
        "\n",
        "help(doc.add_heading)"
      ],
      "metadata": {
        "colab": {
          "base_uri": "https://localhost:8080/"
        },
        "id": "G3gIHhXioJrS",
        "outputId": "1d4eb9b4-1971-4363-8ce4-959e187a33a6"
      },
      "execution_count": 108,
      "outputs": [
        {
          "output_type": "stream",
          "name": "stdout",
          "text": [
            "Help on method add_heading in module docx.document:\n",
            "\n",
            "add_heading(text='', level=1) method of docx.document.Document instance\n",
            "    Return a heading paragraph newly added to the end of the document.\n",
            "    \n",
            "    The heading paragraph will contain *text* and have its paragraph style\n",
            "    determined by *level*. If *level* is 0, the style is set to `Title`. If *level*\n",
            "    is 1 (or omitted), `Heading 1` is used. Otherwise the style is set to `Heading\n",
            "    {level}`. Raises |ValueError| if *level* is outside the range 0-9.\n",
            "\n"
          ]
        }
      ]
    },
    {
      "cell_type": "markdown",
      "source": [
        "When the level is set to 0, the string is printed as the title of the document. For all other values it prints a heading. The size of heading decreases as the level increases. If no level is set, by default its value is always 1.\n",
        "Level should be in range of 0-9 else it will throw error."
      ],
      "metadata": {
        "id": "lgNLu2UfsuIi"
      }
    },
    {
      "cell_type": "code",
      "source": [
        "import docx\n",
        "  \n",
        "# Create an instance of a word document\n",
        "doc = docx.Document()\n",
        "  \n",
        "# Add a heading of level 0 (Also called Title)\n",
        "doc.add_heading('Title for the document', 0)\n",
        "  \n",
        "# Add a heading of level 1\n",
        "doc.add_heading('Heading level 1', 1)\n",
        "  \n",
        "# Add a heading of level 2\n",
        "doc.add_heading('Heading level 2', 2)\n",
        "  \n",
        "# Add a heading of level 3\n",
        "doc.add_heading('Heading level 3', 3)\n",
        "  \n",
        "# Add a heading of level 4\n",
        "doc.add_heading('Heading level 4', 4)\n",
        "  \n",
        "# Add a heading of level 5\n",
        "doc.add_heading('Heading level 5', 5)\n",
        "  \n",
        "# Add a heading of level 6\n",
        "doc.add_heading('Heading level 6', 6)\n",
        "  \n",
        "# Add a heading of level 7\n",
        "doc.add_heading('Heading level 7', 7)\n",
        "  \n",
        "# Add a heading of level 8\n",
        "doc.add_heading('Heading level 8', 8)\n",
        "  \n",
        "# Add a heading of level 9\n",
        "doc.add_heading('Heading level 9', 9)\n",
        "\n",
        "# Now save the document to a location\n",
        "doc.save('test1.docx')\n"
      ],
      "metadata": {
        "id": "feGuJz8ds30b"
      },
      "execution_count": 111,
      "outputs": []
    },
    {
      "cell_type": "markdown",
      "source": [
        "Output:"
      ],
      "metadata": {
        "id": "e1lOTl7ntugZ"
      }
    },
    {
      "cell_type": "markdown",
      "source": [
        "![image.png](data:image/png;base64,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)"
      ],
      "metadata": {
        "id": "89Q2Q6X-thVN"
      }
    }
  ]
}