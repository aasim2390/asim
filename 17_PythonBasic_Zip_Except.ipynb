{
  "nbformat": 4,
  "nbformat_minor": 0,
  "metadata": {
    "colab": {
      "name": "17_PythonBasic_Zip_Except.ipynb",
      "provenance": [],
      "collapsed_sections": []
    },
    "kernelspec": {
      "name": "python3",
      "display_name": "Python 3"
    },
    "language_info": {
      "name": "python"
    }
  },
  "cells": [
    {
      "cell_type": "markdown",
      "source": [
        "###Python Basic Assignment 17"
      ],
      "metadata": {
        "id": "1Io9jTFIeJds"
      }
    },
    {
      "cell_type": "markdown",
      "source": [
        "**1. Assign the value 7 to the variable guess_me. Then, write the conditional tests (if, else, and elif) to print the string 'too low' if guess_me is less than 7, 'too high' if greater than 7, and 'just right' if equal to 7.**"
      ],
      "metadata": {
        "id": "yPGAvybPV4Ww"
      }
    },
    {
      "cell_type": "code",
      "source": [
        "guess_me=7"
      ],
      "metadata": {
        "id": "AvrGRY_-V7JW"
      },
      "execution_count": 3,
      "outputs": []
    },
    {
      "cell_type": "code",
      "source": [
        "if guess_me<7:\n",
        "  print(\"too low\")\n",
        "elif guess_me >7:\n",
        "  print(\"too high\")\n",
        "else:\n",
        "  print(\"just right\")"
      ],
      "metadata": {
        "colab": {
          "base_uri": "https://localhost:8080/"
        },
        "id": "L4dwMkowWAgI",
        "outputId": "62862870-792e-47e6-d143-8ab418463a35"
      },
      "execution_count": 2,
      "outputs": [
        {
          "output_type": "stream",
          "name": "stdout",
          "text": [
            "just right\n"
          ]
        }
      ]
    },
    {
      "cell_type": "markdown",
      "source": [
        "**2. Assign the value 7 to the variable guess_me and the value 1 to the variable start. Write a while loop that compares start with guess_me. Print too low if start is less than guess me. If start equals guess_me, print 'found it!' and exit the loop. If start is greater than guess_me, print 'oops' and exit the loop. Increment start at the end of the loop.**"
      ],
      "metadata": {
        "id": "Z2PZyrvEWTsl"
      }
    },
    {
      "cell_type": "code",
      "source": [
        "guess_me=7\n",
        "start=1"
      ],
      "metadata": {
        "id": "jIAZtLGIWWY0"
      },
      "execution_count": 7,
      "outputs": []
    },
    {
      "cell_type": "code",
      "source": [
        "while(start<=guess_me):\n",
        "  if start<guess_me:\n",
        "    print(\"too low\")\n",
        "  elif start==guess_me:\n",
        "    print(\"found it!\")\n",
        "    break\n",
        "  if start>guess_me:\n",
        "    print(\"oops\")\n",
        "    break\n",
        "  start+=1\n"
      ],
      "metadata": {
        "colab": {
          "base_uri": "https://localhost:8080/"
        },
        "id": "_2ewB-BvWboD",
        "outputId": "8fe3db09-a909-4739-cca2-f1f709559f0b"
      },
      "execution_count": 8,
      "outputs": [
        {
          "output_type": "stream",
          "name": "stdout",
          "text": [
            "too low\n",
            "too low\n",
            "too low\n",
            "too low\n",
            "too low\n",
            "too low\n",
            "found it!\n"
          ]
        }
      ]
    },
    {
      "cell_type": "markdown",
      "source": [
        "**3. Print the following values of the list [3, 2, 1, 0] using a for loop.**"
      ],
      "metadata": {
        "id": "thqdk3zmXbvW"
      }
    },
    {
      "cell_type": "code",
      "source": [
        "l1 =  [3, 2, 1, 0]\n",
        "\n",
        "for elem in l1:\n",
        "  print(elem)"
      ],
      "metadata": {
        "colab": {
          "base_uri": "https://localhost:8080/"
        },
        "id": "eppI68zxXbFX",
        "outputId": "daa0469a-5503-4672-b89d-aa03034906b5"
      },
      "execution_count": 9,
      "outputs": [
        {
          "output_type": "stream",
          "name": "stdout",
          "text": [
            "3\n",
            "2\n",
            "1\n",
            "0\n"
          ]
        }
      ]
    },
    {
      "cell_type": "markdown",
      "source": [
        "**4. Use a list comprehension to make a list of the even numbers in range(10)**"
      ],
      "metadata": {
        "id": "vLqiXbYoXoRa"
      }
    },
    {
      "cell_type": "code",
      "source": [
        "[x for x in range(10) if x%2==0]"
      ],
      "metadata": {
        "colab": {
          "base_uri": "https://localhost:8080/"
        },
        "id": "bnLWBvrwXrVU",
        "outputId": "e413a90a-fbce-4e4d-efc8-fed388297eee"
      },
      "execution_count": 10,
      "outputs": [
        {
          "output_type": "execute_result",
          "data": {
            "text/plain": [
              "[0, 2, 4, 6, 8]"
            ]
          },
          "metadata": {},
          "execution_count": 10
        }
      ]
    },
    {
      "cell_type": "markdown",
      "source": [
        "**5. Use a dictionary comprehension to create the dictionary squares. Use range(10) to return the keys, and use the square of each key as its value.**"
      ],
      "metadata": {
        "id": "r3uROn7FXylq"
      }
    },
    {
      "cell_type": "code",
      "source": [
        "{key:key**2 for key in range(1,10)}"
      ],
      "metadata": {
        "colab": {
          "base_uri": "https://localhost:8080/"
        },
        "id": "dRhrhy5zX1PZ",
        "outputId": "c930e59b-1d2b-45d5-cb84-be262f6a4dd6"
      },
      "execution_count": 12,
      "outputs": [
        {
          "output_type": "execute_result",
          "data": {
            "text/plain": [
              "{1: 1, 2: 4, 3: 9, 4: 16, 5: 25, 6: 36, 7: 49, 8: 64, 9: 81}"
            ]
          },
          "metadata": {},
          "execution_count": 12
        }
      ]
    },
    {
      "cell_type": "markdown",
      "source": [
        "**6. Construct the set odd from the odd numbers in the range using a set comprehension (10).**"
      ],
      "metadata": {
        "id": "O33Wm40hYPgw"
      }
    },
    {
      "cell_type": "code",
      "source": [
        "odd = {x  for x in range(1,10) if x%3==0}\n",
        "odd"
      ],
      "metadata": {
        "colab": {
          "base_uri": "https://localhost:8080/"
        },
        "id": "3A-11VjJYSJt",
        "outputId": "f4606e22-2376-4c2a-a02c-d17f7d6925cd"
      },
      "execution_count": 13,
      "outputs": [
        {
          "output_type": "execute_result",
          "data": {
            "text/plain": [
              "{3, 6, 9}"
            ]
          },
          "metadata": {},
          "execution_count": 13
        }
      ]
    },
    {
      "cell_type": "code",
      "source": [
        "type(odd)"
      ],
      "metadata": {
        "colab": {
          "base_uri": "https://localhost:8080/"
        },
        "id": "eOBO7bWKYfpq",
        "outputId": "b8be65d3-a3a3-4210-e967-de45fe4c50da"
      },
      "execution_count": 14,
      "outputs": [
        {
          "output_type": "execute_result",
          "data": {
            "text/plain": [
              "set"
            ]
          },
          "metadata": {},
          "execution_count": 14
        }
      ]
    },
    {
      "cell_type": "markdown",
      "source": [
        "**7. Use a generator comprehension to return the string 'Got ' and a number for the numbers in range(10). Iterate through this by using a for loop.**"
      ],
      "metadata": {
        "id": "Px4K2eiiYhUR"
      }
    },
    {
      "cell_type": "code",
      "source": [
        "g = ( \"Got\"+str(x) for x in range(10))  #it is generator comprehension"
      ],
      "metadata": {
        "id": "ZtMaJ1PlYkaN"
      },
      "execution_count": 19,
      "outputs": []
    },
    {
      "cell_type": "code",
      "source": [
        "type(g)"
      ],
      "metadata": {
        "colab": {
          "base_uri": "https://localhost:8080/"
        },
        "id": "zkbNDZB9aGPE",
        "outputId": "4f0f7ff4-e362-488e-cf20-e6983e4ade04"
      },
      "execution_count": 20,
      "outputs": [
        {
          "output_type": "execute_result",
          "data": {
            "text/plain": [
              "generator"
            ]
          },
          "metadata": {},
          "execution_count": 20
        }
      ]
    },
    {
      "cell_type": "code",
      "source": [
        "for j in range(10):\n",
        "  print(next(g))"
      ],
      "metadata": {
        "colab": {
          "base_uri": "https://localhost:8080/"
        },
        "id": "uymX_-RnaIet",
        "outputId": "dea3fca7-acbe-4a78-c411-0191c21523a3"
      },
      "execution_count": 21,
      "outputs": [
        {
          "output_type": "stream",
          "name": "stdout",
          "text": [
            "Got0\n",
            "Got1\n",
            "Got2\n",
            "Got3\n",
            "Got4\n",
            "Got5\n",
            "Got6\n",
            "Got7\n",
            "Got8\n",
            "Got9\n"
          ]
        }
      ]
    },
    {
      "cell_type": "markdown",
      "source": [
        "**8. Define a function called good that returns the list ['Harry', 'Ron', 'Hermione'].**"
      ],
      "metadata": {
        "id": "QbrJ4LOlalzN"
      }
    },
    {
      "cell_type": "code",
      "source": [
        "def good():\n",
        "  return ['Harry', 'Ron', 'Hermione']"
      ],
      "metadata": {
        "id": "Bg9gUu0QaobG"
      },
      "execution_count": 29,
      "outputs": []
    },
    {
      "cell_type": "code",
      "source": [
        "good()"
      ],
      "metadata": {
        "colab": {
          "base_uri": "https://localhost:8080/"
        },
        "id": "GX3jL1hBaxUi",
        "outputId": "f1a05e2e-0e62-4ff9-889e-a65740b303a7"
      },
      "execution_count": 30,
      "outputs": [
        {
          "output_type": "execute_result",
          "data": {
            "text/plain": [
              "['Harry', 'Ron', 'Hermione']"
            ]
          },
          "metadata": {},
          "execution_count": 30
        }
      ]
    },
    {
      "cell_type": "markdown",
      "source": [
        "**9. Define a generator function called get_odds that returns the odd numbers from range(10). Use a for loop to find and print the third value returned.**"
      ],
      "metadata": {
        "id": "39m2Yy1Wa9AV"
      }
    },
    {
      "cell_type": "code",
      "source": [
        "def get_odds(size):\n",
        "\n",
        "  flag = True \n",
        "  n=1\n",
        "  while(flag or n<size):\n",
        "    if n%2!=0:\n",
        "      yield n\n",
        "      flag=False\n",
        "    n+=1\n"
      ],
      "metadata": {
        "id": "QIH_wzQZa_6D"
      },
      "execution_count": 59,
      "outputs": []
    },
    {
      "cell_type": "code",
      "source": [
        "x =get_odds(10)"
      ],
      "metadata": {
        "id": "7Nq1GucqcFvY"
      },
      "execution_count": 61,
      "outputs": []
    },
    {
      "cell_type": "code",
      "source": [
        "for j in range(3):\n",
        "  print(next(x))"
      ],
      "metadata": {
        "colab": {
          "base_uri": "https://localhost:8080/"
        },
        "id": "Td3iZ8RdcJfT",
        "outputId": "c9ef159d-512b-4bce-f002-34ab83c3c90b"
      },
      "execution_count": 62,
      "outputs": [
        {
          "output_type": "stream",
          "name": "stdout",
          "text": [
            "1\n",
            "3\n",
            "5\n"
          ]
        }
      ]
    },
    {
      "cell_type": "markdown",
      "source": [
        "**10. Define an exception called OopsException. Raise this exception to see what happens. Then write the code to catch this exception and print 'Caught an oops'.**"
      ],
      "metadata": {
        "id": "YQUzDNMGc3xx"
      }
    },
    {
      "cell_type": "code",
      "source": [
        "class OopsException(Exception):\n",
        "    pass\n",
        "\n",
        "\n",
        "def my_exception(a):\n",
        "    if a == 0:\n",
        "        raise OopsException(a)\n",
        "\n",
        "\n",
        "try:\n",
        "    my_exception(0)\n",
        "except OopsException as err:\n",
        "    print('Caught an oops',err)\n",
        "\n",
        "try:\n",
        "    my_exception(1)\n",
        "    print(\"Not an exception\")\n",
        "except OopsException as err:\n",
        "    print('Caught an oops')"
      ],
      "metadata": {
        "colab": {
          "base_uri": "https://localhost:8080/"
        },
        "id": "cPaLGPP0c6tT",
        "outputId": "111badf3-74ea-41fb-f394-0910b246b19b"
      },
      "execution_count": 66,
      "outputs": [
        {
          "output_type": "stream",
          "name": "stdout",
          "text": [
            "Caught an oops 0\n",
            "Not an exception\n"
          ]
        }
      ]
    },
    {
      "cell_type": "markdown",
      "source": [
        "**11. Use zip() to make a dictionary called movies that pairs these lists: titles = ['Creature of Habit', 'Crewel Fate'] and plots = ['A nun turns into a monster', 'A haunted yarn shop'].**"
      ],
      "metadata": {
        "id": "6ZAen1OAdwTf"
      }
    },
    {
      "cell_type": "code",
      "source": [
        "titles = ['Creature of Habit', 'Crewel Fate']\n",
        "plots = ['A nun turns into a monster', 'A haunted yarn shop']"
      ],
      "metadata": {
        "id": "44onsEErdzMM"
      },
      "execution_count": 67,
      "outputs": []
    },
    {
      "cell_type": "code",
      "source": [
        "list(zip(titles,plots))"
      ],
      "metadata": {
        "colab": {
          "base_uri": "https://localhost:8080/"
        },
        "id": "_3r6_eI-d-n-",
        "outputId": "6a7c1232-7d41-459a-80db-3ebfe90c2ac4"
      },
      "execution_count": 68,
      "outputs": [
        {
          "output_type": "execute_result",
          "data": {
            "text/plain": [
              "[('Creature of Habit', 'A nun turns into a monster'),\n",
              " ('Crewel Fate', 'A haunted yarn shop')]"
            ]
          },
          "metadata": {},
          "execution_count": 68
        }
      ]
    },
    {
      "cell_type": "code",
      "source": [
        "d = dict(zip(titles,plots))"
      ],
      "metadata": {
        "id": "nV7Jj8MXeGPn"
      },
      "execution_count": 69,
      "outputs": []
    },
    {
      "cell_type": "code",
      "source": [
        "d"
      ],
      "metadata": {
        "colab": {
          "base_uri": "https://localhost:8080/"
        },
        "id": "gYf5DJrheKZN",
        "outputId": "64e85811-7b8b-4017-d10c-f60d03952662"
      },
      "execution_count": 70,
      "outputs": [
        {
          "output_type": "execute_result",
          "data": {
            "text/plain": [
              "{'Creature of Habit': 'A nun turns into a monster',\n",
              " 'Crewel Fate': 'A haunted yarn shop'}"
            ]
          },
          "metadata": {},
          "execution_count": 70
        }
      ]
    }
  ]
}