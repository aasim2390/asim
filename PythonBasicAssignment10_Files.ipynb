{
  "nbformat": 4,
  "nbformat_minor": 0,
  "metadata": {
    "colab": {
      "name": "PythonBasicAssignment10-Files.ipynb",
      "provenance": []
    },
    "kernelspec": {
      "name": "python3",
      "display_name": "Python 3"
    },
    "language_info": {
      "name": "python"
    }
  },
  "cells": [
    {
      "cell_type": "markdown",
      "source": [
        "###Python Basic Assignment 10"
      ],
      "metadata": {
        "id": "U75VdylmFMGz"
      }
    },
    {
      "cell_type": "markdown",
      "source": [
        "**1. How do you distinguish between shutil.copy() and shutil.copytree()?**"
      ],
      "metadata": {
        "id": "KoTbLFWuHbPf"
      }
    },
    {
      "cell_type": "markdown",
      "source": [
        "While shutil.copy() will copy a single file, shutil.copytree() will copy an entire folder and every folder and file contained in it."
      ],
      "metadata": {
        "id": "22k-1GppHwep"
      }
    },
    {
      "cell_type": "code",
      "source": [
        "import shutil"
      ],
      "metadata": {
        "id": "xB_rjrlfH1aG"
      },
      "execution_count": 1,
      "outputs": []
    },
    {
      "cell_type": "code",
      "source": [
        "help(shutil.copy)"
      ],
      "metadata": {
        "colab": {
          "base_uri": "https://localhost:8080/"
        },
        "id": "UPVc-i2bH5Hg",
        "outputId": "c7948e1b-4a5d-4ea7-b3ec-49fb190efea2"
      },
      "execution_count": 2,
      "outputs": [
        {
          "output_type": "stream",
          "name": "stdout",
          "text": [
            "Help on function copy in module shutil:\n",
            "\n",
            "copy(src, dst, *, follow_symlinks=True)\n",
            "    Copy data and mode bits (\"cp src dst\"). Return the file's destination.\n",
            "    \n",
            "    The destination may be a directory.\n",
            "    \n",
            "    If follow_symlinks is false, symlinks won't be followed. This\n",
            "    resembles GNU's \"cp -P src dst\".\n",
            "    \n",
            "    If source and destination are the same file, a SameFileError will be\n",
            "    raised.\n",
            "\n"
          ]
        }
      ]
    },
    {
      "cell_type": "code",
      "source": [
        "help(shutil.copytree)"
      ],
      "metadata": {
        "colab": {
          "base_uri": "https://localhost:8080/"
        },
        "id": "guUJL16FIAbL",
        "outputId": "3105f287-c360-43f9-9e39-9afe50b55052"
      },
      "execution_count": 3,
      "outputs": [
        {
          "output_type": "stream",
          "name": "stdout",
          "text": [
            "Help on function copytree in module shutil:\n",
            "\n",
            "copytree(src, dst, symlinks=False, ignore=None, copy_function=<function copy2 at 0x7f623ad205f0>, ignore_dangling_symlinks=False)\n",
            "    Recursively copy a directory tree.\n",
            "    \n",
            "    The destination directory must not already exist.\n",
            "    If exception(s) occur, an Error is raised with a list of reasons.\n",
            "    \n",
            "    If the optional symlinks flag is true, symbolic links in the\n",
            "    source tree result in symbolic links in the destination tree; if\n",
            "    it is false, the contents of the files pointed to by symbolic\n",
            "    links are copied. If the file pointed by the symlink doesn't\n",
            "    exist, an exception will be added in the list of errors raised in\n",
            "    an Error exception at the end of the copy process.\n",
            "    \n",
            "    You can set the optional ignore_dangling_symlinks flag to true if you\n",
            "    want to silence this exception. Notice that this has no effect on\n",
            "    platforms that don't support os.symlink.\n",
            "    \n",
            "    The optional ignore argument is a callable. If given, it\n",
            "    is called with the `src` parameter, which is the directory\n",
            "    being visited by copytree(), and `names` which is the list of\n",
            "    `src` contents, as returned by os.listdir():\n",
            "    \n",
            "        callable(src, names) -> ignored_names\n",
            "    \n",
            "    Since copytree() is called recursively, the callable will be\n",
            "    called once for each directory that is copied. It returns a\n",
            "    list of names relative to the `src` directory that should\n",
            "    not be copied.\n",
            "    \n",
            "    The optional copy_function argument is a callable that will be used\n",
            "    to copy each file. It will be called with the source path and the\n",
            "    destination path as arguments. By default, copy2() is used, but any\n",
            "    function that supports the same signature (like copy()) can be used.\n",
            "\n"
          ]
        }
      ]
    },
    {
      "cell_type": "markdown",
      "source": [
        "**2. What function is used to rename files??**"
      ],
      "metadata": {
        "id": "uAcX-k59ITSv"
      }
    },
    {
      "cell_type": "markdown",
      "source": [
        "os.rename() method in Python is used to rename a file or directory."
      ],
      "metadata": {
        "id": "4NvJ2SX4Ifwf"
      }
    },
    {
      "cell_type": "code",
      "source": [
        "import os\n",
        "\n",
        "help(os.rename)"
      ],
      "metadata": {
        "colab": {
          "base_uri": "https://localhost:8080/"
        },
        "id": "sxBIqiwhISpU",
        "outputId": "67a7a847-fa80-4dd6-b46a-52625d49118e"
      },
      "execution_count": 4,
      "outputs": [
        {
          "output_type": "stream",
          "name": "stdout",
          "text": [
            "Help on built-in function rename in module posix:\n",
            "\n",
            "rename(src, dst, *, src_dir_fd=None, dst_dir_fd=None)\n",
            "    Rename a file or directory.\n",
            "    \n",
            "    If either src_dir_fd or dst_dir_fd is not None, it should be a file\n",
            "      descriptor open to a directory, and the respective path string (src or dst)\n",
            "      should be relative; the path will then be relative to that directory.\n",
            "    src_dir_fd and dst_dir_fd, may not be implemented on your platform.\n",
            "      If they are unavailable, using them will raise a NotImplementedError.\n",
            "\n"
          ]
        }
      ]
    },
    {
      "cell_type": "markdown",
      "source": [
        "**3. What is the difference between the delete functions in the send2trash and shutil modules?**"
      ],
      "metadata": {
        "id": "hvGnNFRRImIV"
      }
    },
    {
      "cell_type": "markdown",
      "source": [
        "The send2trash functions will move a file or folder to the recycle bin, while shutil functions will permanently delete files and folders."
      ],
      "metadata": {
        "id": "Di0Jhn5jIuXN"
      }
    },
    {
      "cell_type": "markdown",
      "source": [
        "**4.ZipFile objects have a close() method just like File objects’ close() method. What ZipFile method is equivalent to File objects’ open() method?**"
      ],
      "metadata": {
        "id": "TH8iZFNuIwTe"
      }
    },
    {
      "cell_type": "code",
      "source": [
        "from zipfile import ZipFile"
      ],
      "metadata": {
        "id": "o92Up4EGI9Md"
      },
      "execution_count": 6,
      "outputs": []
    },
    {
      "cell_type": "code",
      "source": [
        "help(ZipFile.close)"
      ],
      "metadata": {
        "colab": {
          "base_uri": "https://localhost:8080/"
        },
        "id": "Oja2-VPJJIOm",
        "outputId": "b229f59f-4c92-4726-82cd-69523f654d7b"
      },
      "execution_count": 9,
      "outputs": [
        {
          "output_type": "stream",
          "name": "stdout",
          "text": [
            "Help on function close in module zipfile:\n",
            "\n",
            "close(self)\n",
            "    Close the file, and for mode 'w', 'x' and 'a' write the ending\n",
            "    records.\n",
            "\n"
          ]
        }
      ]
    },
    {
      "cell_type": "code",
      "source": [
        "f=open(\"/content/test.txt\",\"r\")\n",
        "help(f.close)\n",
        "f.close()"
      ],
      "metadata": {
        "colab": {
          "base_uri": "https://localhost:8080/"
        },
        "id": "2U6eFjc8JRse",
        "outputId": "3fbd2a75-a2d3-4d72-f5e5-301856ec19da"
      },
      "execution_count": 14,
      "outputs": [
        {
          "output_type": "stream",
          "name": "stdout",
          "text": [
            "Help on built-in function close:\n",
            "\n",
            "close() method of _io.TextIOWrapper instance\n",
            "    Flush and close the IO object.\n",
            "    \n",
            "    This method has no effect if the file is already closed.\n",
            "\n"
          ]
        }
      ]
    },
    {
      "cell_type": "markdown",
      "source": [
        "**5. Create a programme that searches a folder tree for files with a certain file extension (such as .pdf or .jpg). Copy these files from whatever location they are in to a new folder.**"
      ],
      "metadata": {
        "id": "4dM4tDThK-oN"
      }
    },
    {
      "cell_type": "code",
      "source": [
        "import os\n",
        "import shutil\n",
        "\n",
        "src = \"D:\\\\Asim Course\\\\iNeuron\\\\Python\\\\python basic assignment\"\n",
        "des = \"D:\\\\Asim Course\\\\iNeuron\\\\dummy\\\\test\"\n",
        "\n",
        "\n",
        "for root, dirs, files in os.walk(src):\n",
        "    for file in files:\n",
        "        if file.endswith(\".docx\"):  #checking the docx file extension\n",
        "             print(os.path.join(root, file))\n",
        "             shutil.copy(os.path.join(root, file),des)"
      ],
      "metadata": {
        "id": "cuYq9DNoN_5I"
      },
      "execution_count": null,
      "outputs": []
    }
  ]
}